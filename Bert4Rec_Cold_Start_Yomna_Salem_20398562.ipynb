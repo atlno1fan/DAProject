{
 "cells": [
  {
   "cell_type": "code",
   "execution_count": 1,
   "metadata": {
    "colab": {
     "base_uri": "https://localhost:8080/"
    },
    "id": "rKipDGZ-eKyR",
    "outputId": "64fee031-0d6b-4cca-81ce-bbe699c3168c"
   },
   "outputs": [],
   "source": [
    "# from google.colab import drive\n",
    "# drive.mount('/content/drive')"
   ]
  },
  {
   "cell_type": "code",
   "execution_count": 2,
   "metadata": {
    "id": "lRnP1LFi1QVf"
   },
   "outputs": [],
   "source": [
    "#Import the required libraries\n",
    "import pandas as pd\n",
    "from sklearn.preprocessing import LabelEncoder\n",
    "import numpy as np\n",
    "from tqdm import tqdm\n",
    "from sklearn.model_selection import train_test_split\n",
    "import torch\n",
    "import torch.utils.data as data_utils\n",
    "import torch.optim as optim\n",
    "from torch.utils.data import DistributedSampler, DataLoader\n",
    "import torch.nn as nn\n",
    "import time\n",
    "from copy import deepcopy\n",
    "from torch.utils.tensorboard import SummaryWriter\n",
    "import torch.nn.functional as F\n",
    "import math\n",
    "\n",
    "from sklearn.metrics import accuracy_score, confusion_matrix\n",
    "import matplotlib.pyplot as plt\n",
    "\n",
    "\n",
    "pd.set_option('display.max_columns', None)\n",
    "\n",
    "from IPython.core.interactiveshell import InteractiveShell\n",
    "InteractiveShell.ast_node_interactivity = \"all\""
   ]
  },
  {
   "cell_type": "code",
   "execution_count": 3,
   "metadata": {
    "id": "P_XC44kHyimR"
   },
   "outputs": [],
   "source": [
    "# #Data of users from a video platform to be used as the source/training data\n",
    "# video_data_path = '/content/drive/MyDrive/sbr_data_1M.csv'\n",
    "# #Similar data but collected from articels to be used as the target/testing data\n",
    "# #Zero percent cold data\n",
    "# article_data_0_path = '/content/drive/MyDrive/cold_data.csv'\n",
    "# #Thirty percent cold data\n",
    "# article_data_03_path = '/content/drive/MyDrive/cold_data_0.3.csv'\n",
    "# #Seventy percent cold data\n",
    "# article_data_07_path = '/content/drive/MyDrive/cold_data_0.7.csv'\n",
    "# #Hundered percent cold data\n",
    "# article_data_1_path = '/content/drive/MyDrive/cold_data_1.csv'"
   ]
  },
  {
   "cell_type": "code",
   "execution_count": 4,
   "metadata": {},
   "outputs": [],
   "source": [
    "#Data of users from a video platform to be used as the source/training data\n",
    "video_data_path = 'sbr_data_1M.csv'\n",
    "#Similar data but collected from articels to be used as the target/testing data\n",
    "#Zero percent cold data\n",
    "article_data_0_path = 'cold_data.csv'\n",
    "#Thirty percent cold data\n",
    "article_data_03_path = 'cold_data_0.3.csv'\n",
    "#Seventy percent cold data\n",
    "article_data_07_path = 'cold_data_0.7.csv'\n",
    "#Hundered percent cold data\n",
    "article_data_1_path = 'cold_data_1.csv'"
   ]
  },
  {
   "cell_type": "code",
   "execution_count": 5,
   "metadata": {
    "id": "4NoZHqUzMje0"
   },
   "outputs": [
    {
     "name": "stderr",
     "output_type": "stream",
     "text": [
      "C:\\Users\\HP\\AppData\\Local\\Temp\\ipykernel_6852\\2301756399.py:2: DtypeWarning: Columns (6) have mixed types. Specify dtype option on import or set low_memory=False.\n",
      "  video_data = pd.read_csv(video_data_path)\n"
     ]
    }
   ],
   "source": [
    "#Read the data from the csv files\n",
    "video_data = pd.read_csv(video_data_path)\n",
    "article_data_0 = pd.read_csv(article_data_0_path)\n",
    "article_data_03 = pd.read_csv(article_data_03_path)\n",
    "article_data_07 = pd.read_csv(article_data_07_path)\n",
    "article_data_1 = pd.read_csv(article_data_1_path)"
   ]
  },
  {
   "cell_type": "markdown",
   "metadata": {
    "id": "stB159Sbz_n2"
   },
   "source": [
    "The preprocessing done to the data will be minimal as the goal here is to try to follow a similar dlow to the paper referenced which is\n",
    "\"Yuan, G., Yuan, F., Li, Y., Kong, B., Li, S., Chen, L., ... & Qie, X. (2022, December). Tenrec: A Large-scale Multipurpose Benchmark Dataset for Recommender Systems. In Advances in Neural Information Processing Systems (pp. 11480-11493). Curran Associates, Inc.\" and then find the  age and gender biases in the models and analyse the results."
   ]
  },
  {
   "cell_type": "code",
   "execution_count": 6,
   "metadata": {
    "id": "t2xvZSOhzzNy"
   },
   "outputs": [
    {
     "name": "stdout",
     "output_type": "stream",
     "text": [
      "Video data shape:  (38300254, 10)\n",
      "Video data total dublicates: \n"
     ]
    },
    {
     "data": {
      "text/plain": [
       "26455"
      ]
     },
     "execution_count": 6,
     "metadata": {},
     "output_type": "execute_result"
    },
    {
     "name": "stdout",
     "output_type": "stream",
     "text": [
      "Video data total nulls: \n"
     ]
    },
    {
     "data": {
      "text/plain": [
       "user_id           0\n",
       "item_id           0\n",
       "click             0\n",
       "follow            0\n",
       "like              0\n",
       "share             0\n",
       "video_category    0\n",
       "watching_times    0\n",
       "gender            0\n",
       "age               0\n",
       "dtype: int64"
      ]
     },
     "execution_count": 6,
     "metadata": {},
     "output_type": "execute_result"
    },
    {
     "name": "stdout",
     "output_type": "stream",
     "text": [
      "article_data_0 shape:  (343305, 20)\n",
      "article_data_0 total dublicates: \n"
     ]
    },
    {
     "data": {
      "text/plain": [
       "3757"
      ]
     },
     "execution_count": 6,
     "metadata": {},
     "output_type": "execute_result"
    },
    {
     "name": "stdout",
     "output_type": "stream",
     "text": [
      "article_data_0 total nulls: \n"
     ]
    },
    {
     "data": {
      "text/plain": [
       "user_id            0\n",
       "item_id            0\n",
       "click              0\n",
       "gender             0\n",
       "age                0\n",
       "click_count        0\n",
       "like_count         0\n",
       "comment_count      0\n",
       "read_percentage    0\n",
       "item_score1        0\n",
       "item_score2        0\n",
       "category_second    0\n",
       "category_first     0\n",
       "item_score3        0\n",
       "read               0\n",
       "read_time          0\n",
       "share              0\n",
       "like               0\n",
       "follow             0\n",
       "favorite           0\n",
       "dtype: int64"
      ]
     },
     "execution_count": 6,
     "metadata": {},
     "output_type": "execute_result"
    },
    {
     "name": "stdout",
     "output_type": "stream",
     "text": [
      "article_data_03 shape:  (2706527, 20)\n",
      "article_data_03 total dublicates: \n"
     ]
    },
    {
     "data": {
      "text/plain": [
       "113154"
      ]
     },
     "execution_count": 6,
     "metadata": {},
     "output_type": "execute_result"
    },
    {
     "name": "stdout",
     "output_type": "stream",
     "text": [
      "article_data_03 total nulls: \n"
     ]
    },
    {
     "data": {
      "text/plain": [
       "user_id            0\n",
       "item_id            0\n",
       "click              0\n",
       "gender             0\n",
       "age                0\n",
       "click_count        0\n",
       "like_count         0\n",
       "comment_count      0\n",
       "read_percentage    0\n",
       "item_score1        0\n",
       "item_score2        0\n",
       "category_second    0\n",
       "category_first     0\n",
       "item_score3        0\n",
       "read               0\n",
       "read_time          0\n",
       "share              0\n",
       "like               0\n",
       "follow             0\n",
       "favorite           0\n",
       "dtype: int64"
      ]
     },
     "execution_count": 6,
     "metadata": {},
     "output_type": "execute_result"
    },
    {
     "name": "stdout",
     "output_type": "stream",
     "text": [
      "article_data_07 shape:  (1263750, 20)\n",
      "article_data_07 total dublicates: \n"
     ]
    },
    {
     "data": {
      "text/plain": [
       "49128"
      ]
     },
     "execution_count": 6,
     "metadata": {},
     "output_type": "execute_result"
    },
    {
     "name": "stdout",
     "output_type": "stream",
     "text": [
      "article_data_07 total nulls: \n"
     ]
    },
    {
     "data": {
      "text/plain": [
       "user_id            0\n",
       "item_id            0\n",
       "click              0\n",
       "gender             0\n",
       "age                0\n",
       "click_count        0\n",
       "like_count         0\n",
       "comment_count      0\n",
       "read_percentage    0\n",
       "item_score1        0\n",
       "item_score2        0\n",
       "category_second    0\n",
       "category_first     0\n",
       "item_score3        0\n",
       "read               0\n",
       "read_time          0\n",
       "share              0\n",
       "like               0\n",
       "follow             0\n",
       "favorite           0\n",
       "dtype: int64"
      ]
     },
     "execution_count": 6,
     "metadata": {},
     "output_type": "execute_result"
    },
    {
     "name": "stdout",
     "output_type": "stream",
     "text": [
      "article_data_1 shape:  (206629, 20)\n",
      "article_data_1 total dublicates: \n"
     ]
    },
    {
     "data": {
      "text/plain": [
       "1633"
      ]
     },
     "execution_count": 6,
     "metadata": {},
     "output_type": "execute_result"
    },
    {
     "name": "stdout",
     "output_type": "stream",
     "text": [
      "article_data_1 total nulls: \n"
     ]
    },
    {
     "data": {
      "text/plain": [
       "user_id            0\n",
       "item_id            0\n",
       "click              0\n",
       "gender             0\n",
       "age                0\n",
       "click_count        0\n",
       "like_count         0\n",
       "comment_count      0\n",
       "read_percentage    0\n",
       "item_score1        0\n",
       "item_score2        0\n",
       "category_second    0\n",
       "category_first     0\n",
       "item_score3        0\n",
       "read               0\n",
       "read_time          0\n",
       "share              0\n",
       "like               0\n",
       "follow             0\n",
       "favorite           0\n",
       "dtype: int64"
      ]
     },
     "execution_count": 6,
     "metadata": {},
     "output_type": "execute_result"
    }
   ],
   "source": [
    "#Check if any of the data contains duplicates or nulls\n",
    "print(\"Video data shape: \", video_data.shape)\n",
    "print(\"Video data total dublicates: \")\n",
    "video_data.duplicated().sum()\n",
    "print(\"Video data total nulls: \")\n",
    "video_data.isna().sum()\n",
    "\n",
    "print(\"article_data_0 shape: \", article_data_0.shape)\n",
    "print(\"article_data_0 total dublicates: \")\n",
    "article_data_0.duplicated().sum()\n",
    "print(\"article_data_0 total nulls: \")\n",
    "article_data_0.isna().sum()\n",
    "\n",
    "print(\"article_data_03 shape: \", article_data_03.shape)\n",
    "print(\"article_data_03 total dublicates: \")\n",
    "article_data_03.duplicated().sum()\n",
    "print(\"article_data_03 total nulls: \")\n",
    "article_data_03.isna().sum()\n",
    "\n",
    "print(\"article_data_07 shape: \", article_data_07.shape)\n",
    "print(\"article_data_07 total dublicates: \")\n",
    "article_data_07.duplicated().sum()\n",
    "print(\"article_data_07 total nulls: \")\n",
    "article_data_07.isna().sum()\n",
    "\n",
    "print(\"article_data_1 shape: \", article_data_1.shape)\n",
    "print(\"article_data_1 total dublicates: \")\n",
    "article_data_1.duplicated().sum()\n",
    "print(\"article_data_1 total nulls: \")\n",
    "article_data_1.isna().sum()"
   ]
  },
  {
   "cell_type": "code",
   "execution_count": 7,
   "metadata": {},
   "outputs": [],
   "source": [
    "#As there are duplicates found in all dataframes they will all be dropped\n",
    "video_data.drop_duplicates(inplace = True)\n",
    "article_data_0.drop_duplicates(inplace = True)\n",
    "article_data_03.drop_duplicates(inplace = True)\n",
    "article_data_07.drop_duplicates(inplace = True)\n",
    "article_data_1.drop_duplicates(inplace = True)"
   ]
  },
  {
   "cell_type": "code",
   "execution_count": 8,
   "metadata": {},
   "outputs": [
    {
     "name": "stdout",
     "output_type": "stream",
     "text": [
      "<class 'pandas.core.frame.DataFrame'>\n",
      "Int64Index: 38273799 entries, 0 to 38300253\n",
      "Data columns (total 10 columns):\n",
      " #   Column          Dtype \n",
      "---  ------          ----- \n",
      " 0   user_id         int64 \n",
      " 1   item_id         int64 \n",
      " 2   click           int64 \n",
      " 3   follow          int64 \n",
      " 4   like            int64 \n",
      " 5   share           int64 \n",
      " 6   video_category  object\n",
      " 7   watching_times  int64 \n",
      " 8   gender          int64 \n",
      " 9   age             int64 \n",
      "dtypes: int64(9), object(1)\n",
      "memory usage: 3.1+ GB\n",
      "<class 'pandas.core.frame.DataFrame'>\n",
      "Int64Index: 339548 entries, 0 to 343304\n",
      "Data columns (total 20 columns):\n",
      " #   Column           Non-Null Count   Dtype  \n",
      "---  ------           --------------   -----  \n",
      " 0   user_id          339548 non-null  int64  \n",
      " 1   item_id          339548 non-null  int64  \n",
      " 2   click            339548 non-null  float64\n",
      " 3   gender           339548 non-null  int64  \n",
      " 4   age              339548 non-null  int64  \n",
      " 5   click_count      339548 non-null  int64  \n",
      " 6   like_count       339548 non-null  int64  \n",
      " 7   comment_count    339548 non-null  int64  \n",
      " 8   read_percentage  339548 non-null  float64\n",
      " 9   item_score1      339548 non-null  int64  \n",
      " 10  item_score2      339548 non-null  float64\n",
      " 11  category_second  339548 non-null  int64  \n",
      " 12  category_first   339548 non-null  int64  \n",
      " 13  item_score3      339548 non-null  float64\n",
      " 14  read             339548 non-null  bool   \n",
      " 15  read_time        339548 non-null  float64\n",
      " 16  share            339548 non-null  bool   \n",
      " 17  like             339548 non-null  bool   \n",
      " 18  follow           339548 non-null  bool   \n",
      " 19  favorite         339548 non-null  bool   \n",
      "dtypes: bool(5), float64(5), int64(10)\n",
      "memory usage: 43.1 MB\n",
      "<class 'pandas.core.frame.DataFrame'>\n",
      "Int64Index: 2593373 entries, 0 to 2706526\n",
      "Data columns (total 20 columns):\n",
      " #   Column           Dtype  \n",
      "---  ------           -----  \n",
      " 0   user_id          int64  \n",
      " 1   item_id          int64  \n",
      " 2   click            float64\n",
      " 3   gender           int64  \n",
      " 4   age              int64  \n",
      " 5   click_count      int64  \n",
      " 6   like_count       int64  \n",
      " 7   comment_count    int64  \n",
      " 8   read_percentage  float64\n",
      " 9   item_score1      int64  \n",
      " 10  item_score2      float64\n",
      " 11  category_second  int64  \n",
      " 12  category_first   int64  \n",
      " 13  item_score3      float64\n",
      " 14  read             bool   \n",
      " 15  read_time        float64\n",
      " 16  share            bool   \n",
      " 17  like             bool   \n",
      " 18  follow           bool   \n",
      " 19  favorite         bool   \n",
      "dtypes: bool(5), float64(5), int64(10)\n",
      "memory usage: 328.9 MB\n",
      "<class 'pandas.core.frame.DataFrame'>\n",
      "Int64Index: 1214622 entries, 0 to 1263749\n",
      "Data columns (total 20 columns):\n",
      " #   Column           Non-Null Count    Dtype  \n",
      "---  ------           --------------    -----  \n",
      " 0   user_id          1214622 non-null  int64  \n",
      " 1   item_id          1214622 non-null  int64  \n",
      " 2   click            1214622 non-null  float64\n",
      " 3   gender           1214622 non-null  int64  \n",
      " 4   age              1214622 non-null  int64  \n",
      " 5   click_count      1214622 non-null  int64  \n",
      " 6   like_count       1214622 non-null  int64  \n",
      " 7   comment_count    1214622 non-null  int64  \n",
      " 8   read_percentage  1214622 non-null  float64\n",
      " 9   item_score1      1214622 non-null  int64  \n",
      " 10  item_score2      1214622 non-null  float64\n",
      " 11  category_second  1214622 non-null  int64  \n",
      " 12  category_first   1214622 non-null  int64  \n",
      " 13  item_score3      1214622 non-null  float64\n",
      " 14  read             1214622 non-null  bool   \n",
      " 15  read_time        1214622 non-null  float64\n",
      " 16  share            1214622 non-null  bool   \n",
      " 17  like             1214622 non-null  bool   \n",
      " 18  follow           1214622 non-null  bool   \n",
      " 19  favorite         1214622 non-null  bool   \n",
      "dtypes: bool(5), float64(5), int64(10)\n",
      "memory usage: 154.1 MB\n",
      "<class 'pandas.core.frame.DataFrame'>\n",
      "Int64Index: 204996 entries, 0 to 206628\n",
      "Data columns (total 20 columns):\n",
      " #   Column           Non-Null Count   Dtype  \n",
      "---  ------           --------------   -----  \n",
      " 0   user_id          204996 non-null  int64  \n",
      " 1   item_id          204996 non-null  int64  \n",
      " 2   click            204996 non-null  float64\n",
      " 3   gender           204996 non-null  int64  \n",
      " 4   age              204996 non-null  int64  \n",
      " 5   click_count      204996 non-null  int64  \n",
      " 6   like_count       204996 non-null  int64  \n",
      " 7   comment_count    204996 non-null  int64  \n",
      " 8   read_percentage  204996 non-null  float64\n",
      " 9   item_score1      204996 non-null  int64  \n",
      " 10  item_score2      204996 non-null  float64\n",
      " 11  category_second  204996 non-null  int64  \n",
      " 12  category_first   204996 non-null  int64  \n",
      " 13  item_score3      204996 non-null  float64\n",
      " 14  read             204996 non-null  bool   \n",
      " 15  read_time        204996 non-null  float64\n",
      " 16  share            204996 non-null  bool   \n",
      " 17  like             204996 non-null  bool   \n",
      " 18  follow           204996 non-null  bool   \n",
      " 19  favorite         204996 non-null  bool   \n",
      "dtypes: bool(5), float64(5), int64(10)\n",
      "memory usage: 26.0 MB\n"
     ]
    }
   ],
   "source": [
    "#Display the dataframe information\n",
    "video_data.info()\n",
    "article_data_0.info()\n",
    "article_data_03.info()\n",
    "article_data_07.info()\n",
    "article_data_1.info()"
   ]
  },
  {
   "cell_type": "markdown",
   "metadata": {},
   "source": [
    "### As some of the actual columns are supposed to be categorical, in order to display the correct description for them those columns will be converted. One thing to be noted as the model requires all the values to be in their current format or else it will throw an error, the change will only be temporary to display the accurate data description."
   ]
  },
  {
   "cell_type": "code",
   "execution_count": 9,
   "metadata": {},
   "outputs": [
    {
     "data": {
      "text/html": [
       "<div>\n",
       "<style scoped>\n",
       "    .dataframe tbody tr th:only-of-type {\n",
       "        vertical-align: middle;\n",
       "    }\n",
       "\n",
       "    .dataframe tbody tr th {\n",
       "        vertical-align: top;\n",
       "    }\n",
       "\n",
       "    .dataframe thead th {\n",
       "        text-align: right;\n",
       "    }\n",
       "</style>\n",
       "<table border=\"1\" class=\"dataframe\">\n",
       "  <thead>\n",
       "    <tr style=\"text-align: right;\">\n",
       "      <th></th>\n",
       "      <th>user_id</th>\n",
       "      <th>item_id</th>\n",
       "      <th>click</th>\n",
       "      <th>follow</th>\n",
       "      <th>like</th>\n",
       "      <th>share</th>\n",
       "      <th>video_category</th>\n",
       "      <th>watching_times</th>\n",
       "      <th>gender</th>\n",
       "      <th>age</th>\n",
       "    </tr>\n",
       "  </thead>\n",
       "  <tbody>\n",
       "    <tr>\n",
       "      <th>count</th>\n",
       "      <td>38273799.0</td>\n",
       "      <td>38273799.0</td>\n",
       "      <td>38273799.0</td>\n",
       "      <td>38273799.0</td>\n",
       "      <td>38273799.0</td>\n",
       "      <td>38273799.0</td>\n",
       "      <td>38273799</td>\n",
       "      <td>3.827380e+07</td>\n",
       "      <td>38273799.0</td>\n",
       "      <td>38273799.0</td>\n",
       "    </tr>\n",
       "    <tr>\n",
       "      <th>unique</th>\n",
       "      <td>1000000.0</td>\n",
       "      <td>1197009.0</td>\n",
       "      <td>1.0</td>\n",
       "      <td>2.0</td>\n",
       "      <td>2.0</td>\n",
       "      <td>2.0</td>\n",
       "      <td>5</td>\n",
       "      <td>NaN</td>\n",
       "      <td>3.0</td>\n",
       "      <td>8.0</td>\n",
       "    </tr>\n",
       "    <tr>\n",
       "      <th>top</th>\n",
       "      <td>327480.0</td>\n",
       "      <td>779.0</td>\n",
       "      <td>1.0</td>\n",
       "      <td>0.0</td>\n",
       "      <td>0.0</td>\n",
       "      <td>0.0</td>\n",
       "      <td>0</td>\n",
       "      <td>NaN</td>\n",
       "      <td>1.0</td>\n",
       "      <td>2.0</td>\n",
       "    </tr>\n",
       "    <tr>\n",
       "      <th>freq</th>\n",
       "      <td>846.0</td>\n",
       "      <td>65262.0</td>\n",
       "      <td>38273799.0</td>\n",
       "      <td>38140363.0</td>\n",
       "      <td>36748472.0</td>\n",
       "      <td>38119630.0</td>\n",
       "      <td>20123789</td>\n",
       "      <td>NaN</td>\n",
       "      <td>22550091.0</td>\n",
       "      <td>18214195.0</td>\n",
       "    </tr>\n",
       "    <tr>\n",
       "      <th>mean</th>\n",
       "      <td>NaN</td>\n",
       "      <td>NaN</td>\n",
       "      <td>NaN</td>\n",
       "      <td>NaN</td>\n",
       "      <td>NaN</td>\n",
       "      <td>NaN</td>\n",
       "      <td>NaN</td>\n",
       "      <td>1.490815e+00</td>\n",
       "      <td>NaN</td>\n",
       "      <td>NaN</td>\n",
       "    </tr>\n",
       "    <tr>\n",
       "      <th>std</th>\n",
       "      <td>NaN</td>\n",
       "      <td>NaN</td>\n",
       "      <td>NaN</td>\n",
       "      <td>NaN</td>\n",
       "      <td>NaN</td>\n",
       "      <td>NaN</td>\n",
       "      <td>NaN</td>\n",
       "      <td>2.067165e+00</td>\n",
       "      <td>NaN</td>\n",
       "      <td>NaN</td>\n",
       "    </tr>\n",
       "    <tr>\n",
       "      <th>min</th>\n",
       "      <td>NaN</td>\n",
       "      <td>NaN</td>\n",
       "      <td>NaN</td>\n",
       "      <td>NaN</td>\n",
       "      <td>NaN</td>\n",
       "      <td>NaN</td>\n",
       "      <td>NaN</td>\n",
       "      <td>1.000000e+00</td>\n",
       "      <td>NaN</td>\n",
       "      <td>NaN</td>\n",
       "    </tr>\n",
       "    <tr>\n",
       "      <th>25%</th>\n",
       "      <td>NaN</td>\n",
       "      <td>NaN</td>\n",
       "      <td>NaN</td>\n",
       "      <td>NaN</td>\n",
       "      <td>NaN</td>\n",
       "      <td>NaN</td>\n",
       "      <td>NaN</td>\n",
       "      <td>1.000000e+00</td>\n",
       "      <td>NaN</td>\n",
       "      <td>NaN</td>\n",
       "    </tr>\n",
       "    <tr>\n",
       "      <th>50%</th>\n",
       "      <td>NaN</td>\n",
       "      <td>NaN</td>\n",
       "      <td>NaN</td>\n",
       "      <td>NaN</td>\n",
       "      <td>NaN</td>\n",
       "      <td>NaN</td>\n",
       "      <td>NaN</td>\n",
       "      <td>1.000000e+00</td>\n",
       "      <td>NaN</td>\n",
       "      <td>NaN</td>\n",
       "    </tr>\n",
       "    <tr>\n",
       "      <th>75%</th>\n",
       "      <td>NaN</td>\n",
       "      <td>NaN</td>\n",
       "      <td>NaN</td>\n",
       "      <td>NaN</td>\n",
       "      <td>NaN</td>\n",
       "      <td>NaN</td>\n",
       "      <td>NaN</td>\n",
       "      <td>2.000000e+00</td>\n",
       "      <td>NaN</td>\n",
       "      <td>NaN</td>\n",
       "    </tr>\n",
       "    <tr>\n",
       "      <th>max</th>\n",
       "      <td>NaN</td>\n",
       "      <td>NaN</td>\n",
       "      <td>NaN</td>\n",
       "      <td>NaN</td>\n",
       "      <td>NaN</td>\n",
       "      <td>NaN</td>\n",
       "      <td>NaN</td>\n",
       "      <td>1.975000e+03</td>\n",
       "      <td>NaN</td>\n",
       "      <td>NaN</td>\n",
       "    </tr>\n",
       "  </tbody>\n",
       "</table>\n",
       "</div>"
      ],
      "text/plain": [
       "           user_id     item_id       click      follow        like  \\\n",
       "count   38273799.0  38273799.0  38273799.0  38273799.0  38273799.0   \n",
       "unique   1000000.0   1197009.0         1.0         2.0         2.0   \n",
       "top       327480.0       779.0         1.0         0.0         0.0   \n",
       "freq         846.0     65262.0  38273799.0  38140363.0  36748472.0   \n",
       "mean           NaN         NaN         NaN         NaN         NaN   \n",
       "std            NaN         NaN         NaN         NaN         NaN   \n",
       "min            NaN         NaN         NaN         NaN         NaN   \n",
       "25%            NaN         NaN         NaN         NaN         NaN   \n",
       "50%            NaN         NaN         NaN         NaN         NaN   \n",
       "75%            NaN         NaN         NaN         NaN         NaN   \n",
       "max            NaN         NaN         NaN         NaN         NaN   \n",
       "\n",
       "             share video_category  watching_times      gender         age  \n",
       "count   38273799.0       38273799    3.827380e+07  38273799.0  38273799.0  \n",
       "unique         2.0              5             NaN         3.0         8.0  \n",
       "top            0.0              0             NaN         1.0         2.0  \n",
       "freq    38119630.0       20123789             NaN  22550091.0  18214195.0  \n",
       "mean           NaN            NaN    1.490815e+00         NaN         NaN  \n",
       "std            NaN            NaN    2.067165e+00         NaN         NaN  \n",
       "min            NaN            NaN    1.000000e+00         NaN         NaN  \n",
       "25%            NaN            NaN    1.000000e+00         NaN         NaN  \n",
       "50%            NaN            NaN    1.000000e+00         NaN         NaN  \n",
       "75%            NaN            NaN    2.000000e+00         NaN         NaN  \n",
       "max            NaN            NaN    1.975000e+03         NaN         NaN  "
      ]
     },
     "execution_count": 9,
     "metadata": {},
     "output_type": "execute_result"
    }
   ],
   "source": [
    "# For the source data\n",
    "video_data_for_info_only = video_data.copy()\n",
    "video_data_for_info_only['video_category'] = video_data_for_info_only['video_category'].astype('category')\n",
    "\n",
    "video_data_for_info_only['like'] = video_data_for_info_only['like'].astype('category')\n",
    "video_data_for_info_only['follow'] = video_data_for_info_only['follow'].astype('category')\n",
    "\n",
    "video_data_for_info_only['gender'] = video_data_for_info_only['gender'].astype('category')\n",
    "video_data_for_info_only['age'] = video_data_for_info_only['age'].astype('category')\n",
    "video_data_for_info_only['click'] = video_data_for_info_only['click'].astype('category')\n",
    "\n",
    "video_data_for_info_only['user_id'] = video_data_for_info_only['user_id'].astype('category')\n",
    "video_data_for_info_only['item_id'] = video_data_for_info_only['item_id'].astype('category')\n",
    "video_data_for_info_only['share'] = video_data_for_info_only['share'].astype('category')\n",
    "\n",
    "video_data_for_info_only.describe(include='all')"
   ]
  },
  {
   "cell_type": "code",
   "execution_count": 10,
   "metadata": {},
   "outputs": [
    {
     "data": {
      "text/html": [
       "<div>\n",
       "<style scoped>\n",
       "    .dataframe tbody tr th:only-of-type {\n",
       "        vertical-align: middle;\n",
       "    }\n",
       "\n",
       "    .dataframe tbody tr th {\n",
       "        vertical-align: top;\n",
       "    }\n",
       "\n",
       "    .dataframe thead th {\n",
       "        text-align: right;\n",
       "    }\n",
       "</style>\n",
       "<table border=\"1\" class=\"dataframe\">\n",
       "  <thead>\n",
       "    <tr style=\"text-align: right;\">\n",
       "      <th></th>\n",
       "      <th>user_id</th>\n",
       "      <th>item_id</th>\n",
       "      <th>click</th>\n",
       "      <th>gender</th>\n",
       "      <th>age</th>\n",
       "      <th>click_count</th>\n",
       "      <th>like_count</th>\n",
       "      <th>comment_count</th>\n",
       "      <th>read_percentage</th>\n",
       "      <th>item_score1</th>\n",
       "      <th>item_score2</th>\n",
       "      <th>category_second</th>\n",
       "      <th>category_first</th>\n",
       "      <th>item_score3</th>\n",
       "      <th>read</th>\n",
       "      <th>read_time</th>\n",
       "      <th>share</th>\n",
       "      <th>like</th>\n",
       "      <th>follow</th>\n",
       "      <th>favorite</th>\n",
       "    </tr>\n",
       "  </thead>\n",
       "  <tbody>\n",
       "    <tr>\n",
       "      <th>count</th>\n",
       "      <td>339548.0</td>\n",
       "      <td>339548.0</td>\n",
       "      <td>339548.0</td>\n",
       "      <td>339548.0</td>\n",
       "      <td>339548.0</td>\n",
       "      <td>3.395480e+05</td>\n",
       "      <td>339548.000000</td>\n",
       "      <td>339548.000000</td>\n",
       "      <td>339548.000000</td>\n",
       "      <td>339548.000000</td>\n",
       "      <td>339548.000000</td>\n",
       "      <td>339548.000000</td>\n",
       "      <td>339548.000000</td>\n",
       "      <td>339548.000000</td>\n",
       "      <td>339548</td>\n",
       "      <td>339548.000000</td>\n",
       "      <td>339548</td>\n",
       "      <td>339548</td>\n",
       "      <td>339548</td>\n",
       "      <td>339548</td>\n",
       "    </tr>\n",
       "    <tr>\n",
       "      <th>unique</th>\n",
       "      <td>68661.0</td>\n",
       "      <td>55746.0</td>\n",
       "      <td>1.0</td>\n",
       "      <td>3.0</td>\n",
       "      <td>8.0</td>\n",
       "      <td>NaN</td>\n",
       "      <td>NaN</td>\n",
       "      <td>NaN</td>\n",
       "      <td>NaN</td>\n",
       "      <td>NaN</td>\n",
       "      <td>NaN</td>\n",
       "      <td>NaN</td>\n",
       "      <td>NaN</td>\n",
       "      <td>NaN</td>\n",
       "      <td>2</td>\n",
       "      <td>NaN</td>\n",
       "      <td>2</td>\n",
       "      <td>2</td>\n",
       "      <td>2</td>\n",
       "      <td>2</td>\n",
       "    </tr>\n",
       "    <tr>\n",
       "      <th>top</th>\n",
       "      <td>11.0</td>\n",
       "      <td>145430.0</td>\n",
       "      <td>1.0</td>\n",
       "      <td>1.0</td>\n",
       "      <td>2.0</td>\n",
       "      <td>NaN</td>\n",
       "      <td>NaN</td>\n",
       "      <td>NaN</td>\n",
       "      <td>NaN</td>\n",
       "      <td>NaN</td>\n",
       "      <td>NaN</td>\n",
       "      <td>NaN</td>\n",
       "      <td>NaN</td>\n",
       "      <td>NaN</td>\n",
       "      <td>True</td>\n",
       "      <td>NaN</td>\n",
       "      <td>False</td>\n",
       "      <td>False</td>\n",
       "      <td>False</td>\n",
       "      <td>False</td>\n",
       "    </tr>\n",
       "    <tr>\n",
       "      <th>freq</th>\n",
       "      <td>5.0</td>\n",
       "      <td>644.0</td>\n",
       "      <td>339548.0</td>\n",
       "      <td>227755.0</td>\n",
       "      <td>162004.0</td>\n",
       "      <td>NaN</td>\n",
       "      <td>NaN</td>\n",
       "      <td>NaN</td>\n",
       "      <td>NaN</td>\n",
       "      <td>NaN</td>\n",
       "      <td>NaN</td>\n",
       "      <td>NaN</td>\n",
       "      <td>NaN</td>\n",
       "      <td>NaN</td>\n",
       "      <td>327160</td>\n",
       "      <td>NaN</td>\n",
       "      <td>335523</td>\n",
       "      <td>334784</td>\n",
       "      <td>339141</td>\n",
       "      <td>337401</td>\n",
       "    </tr>\n",
       "    <tr>\n",
       "      <th>mean</th>\n",
       "      <td>NaN</td>\n",
       "      <td>NaN</td>\n",
       "      <td>NaN</td>\n",
       "      <td>NaN</td>\n",
       "      <td>NaN</td>\n",
       "      <td>1.559108e+05</td>\n",
       "      <td>2255.536425</td>\n",
       "      <td>876.482324</td>\n",
       "      <td>50.989901</td>\n",
       "      <td>3.009142</td>\n",
       "      <td>3.080551</td>\n",
       "      <td>11408.989271</td>\n",
       "      <td>114.370708</td>\n",
       "      <td>4.569813</td>\n",
       "      <td>NaN</td>\n",
       "      <td>58.726474</td>\n",
       "      <td>NaN</td>\n",
       "      <td>NaN</td>\n",
       "      <td>NaN</td>\n",
       "      <td>NaN</td>\n",
       "    </tr>\n",
       "    <tr>\n",
       "      <th>std</th>\n",
       "      <td>NaN</td>\n",
       "      <td>NaN</td>\n",
       "      <td>NaN</td>\n",
       "      <td>NaN</td>\n",
       "      <td>NaN</td>\n",
       "      <td>3.335730e+05</td>\n",
       "      <td>6815.996462</td>\n",
       "      <td>1696.164028</td>\n",
       "      <td>29.227272</td>\n",
       "      <td>0.761926</td>\n",
       "      <td>0.641084</td>\n",
       "      <td>1459.757237</td>\n",
       "      <td>13.597574</td>\n",
       "      <td>3.035094</td>\n",
       "      <td>NaN</td>\n",
       "      <td>80.625338</td>\n",
       "      <td>NaN</td>\n",
       "      <td>NaN</td>\n",
       "      <td>NaN</td>\n",
       "      <td>NaN</td>\n",
       "    </tr>\n",
       "    <tr>\n",
       "      <th>min</th>\n",
       "      <td>NaN</td>\n",
       "      <td>NaN</td>\n",
       "      <td>NaN</td>\n",
       "      <td>NaN</td>\n",
       "      <td>NaN</td>\n",
       "      <td>0.000000e+00</td>\n",
       "      <td>0.000000</td>\n",
       "      <td>0.000000</td>\n",
       "      <td>0.000000</td>\n",
       "      <td>0.000000</td>\n",
       "      <td>0.000000</td>\n",
       "      <td>0.000000</td>\n",
       "      <td>0.000000</td>\n",
       "      <td>0.000000</td>\n",
       "      <td>NaN</td>\n",
       "      <td>0.000000</td>\n",
       "      <td>NaN</td>\n",
       "      <td>NaN</td>\n",
       "      <td>NaN</td>\n",
       "      <td>NaN</td>\n",
       "    </tr>\n",
       "    <tr>\n",
       "      <th>25%</th>\n",
       "      <td>NaN</td>\n",
       "      <td>NaN</td>\n",
       "      <td>NaN</td>\n",
       "      <td>NaN</td>\n",
       "      <td>NaN</td>\n",
       "      <td>1.763500e+04</td>\n",
       "      <td>97.000000</td>\n",
       "      <td>78.000000</td>\n",
       "      <td>29.000000</td>\n",
       "      <td>3.000000</td>\n",
       "      <td>3.000000</td>\n",
       "      <td>10802.000000</td>\n",
       "      <td>108.000000</td>\n",
       "      <td>3.000000</td>\n",
       "      <td>NaN</td>\n",
       "      <td>9.000000</td>\n",
       "      <td>NaN</td>\n",
       "      <td>NaN</td>\n",
       "      <td>NaN</td>\n",
       "      <td>NaN</td>\n",
       "    </tr>\n",
       "    <tr>\n",
       "      <th>50%</th>\n",
       "      <td>NaN</td>\n",
       "      <td>NaN</td>\n",
       "      <td>NaN</td>\n",
       "      <td>NaN</td>\n",
       "      <td>NaN</td>\n",
       "      <td>5.794000e+04</td>\n",
       "      <td>364.000000</td>\n",
       "      <td>322.000000</td>\n",
       "      <td>48.000000</td>\n",
       "      <td>3.000000</td>\n",
       "      <td>3.000000</td>\n",
       "      <td>11201.000000</td>\n",
       "      <td>112.000000</td>\n",
       "      <td>5.000000</td>\n",
       "      <td>NaN</td>\n",
       "      <td>31.000000</td>\n",
       "      <td>NaN</td>\n",
       "      <td>NaN</td>\n",
       "      <td>NaN</td>\n",
       "      <td>NaN</td>\n",
       "    </tr>\n",
       "    <tr>\n",
       "      <th>75%</th>\n",
       "      <td>NaN</td>\n",
       "      <td>NaN</td>\n",
       "      <td>NaN</td>\n",
       "      <td>NaN</td>\n",
       "      <td>NaN</td>\n",
       "      <td>1.580970e+05</td>\n",
       "      <td>1370.000000</td>\n",
       "      <td>985.000000</td>\n",
       "      <td>68.000000</td>\n",
       "      <td>4.000000</td>\n",
       "      <td>3.000000</td>\n",
       "      <td>12107.000000</td>\n",
       "      <td>121.000000</td>\n",
       "      <td>6.000000</td>\n",
       "      <td>NaN</td>\n",
       "      <td>78.229633</td>\n",
       "      <td>NaN</td>\n",
       "      <td>NaN</td>\n",
       "      <td>NaN</td>\n",
       "      <td>NaN</td>\n",
       "    </tr>\n",
       "    <tr>\n",
       "      <th>max</th>\n",
       "      <td>NaN</td>\n",
       "      <td>NaN</td>\n",
       "      <td>NaN</td>\n",
       "      <td>NaN</td>\n",
       "      <td>NaN</td>\n",
       "      <td>6.824316e+06</td>\n",
       "      <td>151656.000000</td>\n",
       "      <td>45677.000000</td>\n",
       "      <td>549.000000</td>\n",
       "      <td>4.000000</td>\n",
       "      <td>9.000000</td>\n",
       "      <td>14102.000000</td>\n",
       "      <td>141.000000</td>\n",
       "      <td>255.000000</td>\n",
       "      <td>NaN</td>\n",
       "      <td>1886.000000</td>\n",
       "      <td>NaN</td>\n",
       "      <td>NaN</td>\n",
       "      <td>NaN</td>\n",
       "      <td>NaN</td>\n",
       "    </tr>\n",
       "  </tbody>\n",
       "</table>\n",
       "</div>"
      ],
      "text/plain": [
       "         user_id   item_id     click    gender       age   click_count  \\\n",
       "count   339548.0  339548.0  339548.0  339548.0  339548.0  3.395480e+05   \n",
       "unique   68661.0   55746.0       1.0       3.0       8.0           NaN   \n",
       "top         11.0  145430.0       1.0       1.0       2.0           NaN   \n",
       "freq         5.0     644.0  339548.0  227755.0  162004.0           NaN   \n",
       "mean         NaN       NaN       NaN       NaN       NaN  1.559108e+05   \n",
       "std          NaN       NaN       NaN       NaN       NaN  3.335730e+05   \n",
       "min          NaN       NaN       NaN       NaN       NaN  0.000000e+00   \n",
       "25%          NaN       NaN       NaN       NaN       NaN  1.763500e+04   \n",
       "50%          NaN       NaN       NaN       NaN       NaN  5.794000e+04   \n",
       "75%          NaN       NaN       NaN       NaN       NaN  1.580970e+05   \n",
       "max          NaN       NaN       NaN       NaN       NaN  6.824316e+06   \n",
       "\n",
       "           like_count  comment_count  read_percentage    item_score1  \\\n",
       "count   339548.000000  339548.000000    339548.000000  339548.000000   \n",
       "unique            NaN            NaN              NaN            NaN   \n",
       "top               NaN            NaN              NaN            NaN   \n",
       "freq              NaN            NaN              NaN            NaN   \n",
       "mean      2255.536425     876.482324        50.989901       3.009142   \n",
       "std       6815.996462    1696.164028        29.227272       0.761926   \n",
       "min          0.000000       0.000000         0.000000       0.000000   \n",
       "25%         97.000000      78.000000        29.000000       3.000000   \n",
       "50%        364.000000     322.000000        48.000000       3.000000   \n",
       "75%       1370.000000     985.000000        68.000000       4.000000   \n",
       "max     151656.000000   45677.000000       549.000000       4.000000   \n",
       "\n",
       "          item_score2  category_second  category_first    item_score3    read  \\\n",
       "count   339548.000000    339548.000000   339548.000000  339548.000000  339548   \n",
       "unique            NaN              NaN             NaN            NaN       2   \n",
       "top               NaN              NaN             NaN            NaN    True   \n",
       "freq              NaN              NaN             NaN            NaN  327160   \n",
       "mean         3.080551     11408.989271      114.370708       4.569813     NaN   \n",
       "std          0.641084      1459.757237       13.597574       3.035094     NaN   \n",
       "min          0.000000         0.000000        0.000000       0.000000     NaN   \n",
       "25%          3.000000     10802.000000      108.000000       3.000000     NaN   \n",
       "50%          3.000000     11201.000000      112.000000       5.000000     NaN   \n",
       "75%          3.000000     12107.000000      121.000000       6.000000     NaN   \n",
       "max          9.000000     14102.000000      141.000000     255.000000     NaN   \n",
       "\n",
       "            read_time   share    like  follow favorite  \n",
       "count   339548.000000  339548  339548  339548   339548  \n",
       "unique            NaN       2       2       2        2  \n",
       "top               NaN   False   False   False    False  \n",
       "freq              NaN  335523  334784  339141   337401  \n",
       "mean        58.726474     NaN     NaN     NaN      NaN  \n",
       "std         80.625338     NaN     NaN     NaN      NaN  \n",
       "min          0.000000     NaN     NaN     NaN      NaN  \n",
       "25%          9.000000     NaN     NaN     NaN      NaN  \n",
       "50%         31.000000     NaN     NaN     NaN      NaN  \n",
       "75%         78.229633     NaN     NaN     NaN      NaN  \n",
       "max       1886.000000     NaN     NaN     NaN      NaN  "
      ]
     },
     "execution_count": 10,
     "metadata": {},
     "output_type": "execute_result"
    }
   ],
   "source": [
    "#For the target data with zero percent cold data\n",
    "article_data_0_for_info_only = article_data_0.copy()\n",
    "\n",
    "article_data_0_for_info_only['read'] = article_data_0_for_info_only['read'].astype('category')\n",
    "article_data_0_for_info_only['share'] = article_data_0_for_info_only['share'].astype('category')\n",
    "article_data_0_for_info_only['like'] = article_data_0_for_info_only['like'].astype('category')\n",
    "article_data_0_for_info_only['follow'] = article_data_0_for_info_only['follow'].astype('category')\n",
    "article_data_0_for_info_only['favorite'] = article_data_0_for_info_only['favorite'].astype('category')\n",
    "\n",
    "article_data_0_for_info_only['gender'] = article_data_0_for_info_only['gender'].astype('category')\n",
    "article_data_0_for_info_only['age'] = article_data_0_for_info_only['age'].astype('category')\n",
    "article_data_0_for_info_only['click'] = article_data_0_for_info_only['click'].astype('category')\n",
    "\n",
    "article_data_0_for_info_only['user_id'] = article_data_0_for_info_only['user_id'].astype('category')\n",
    "article_data_0_for_info_only['item_id'] = article_data_0_for_info_only['item_id'].astype('category')\n",
    "\n",
    "article_data_0_for_info_only.describe(include='all')"
   ]
  },
  {
   "cell_type": "code",
   "execution_count": 11,
   "metadata": {},
   "outputs": [
    {
     "data": {
      "text/html": [
       "<div>\n",
       "<style scoped>\n",
       "    .dataframe tbody tr th:only-of-type {\n",
       "        vertical-align: middle;\n",
       "    }\n",
       "\n",
       "    .dataframe tbody tr th {\n",
       "        vertical-align: top;\n",
       "    }\n",
       "\n",
       "    .dataframe thead th {\n",
       "        text-align: right;\n",
       "    }\n",
       "</style>\n",
       "<table border=\"1\" class=\"dataframe\">\n",
       "  <thead>\n",
       "    <tr style=\"text-align: right;\">\n",
       "      <th></th>\n",
       "      <th>user_id</th>\n",
       "      <th>item_id</th>\n",
       "      <th>click</th>\n",
       "      <th>gender</th>\n",
       "      <th>age</th>\n",
       "      <th>click_count</th>\n",
       "      <th>like_count</th>\n",
       "      <th>comment_count</th>\n",
       "      <th>read_percentage</th>\n",
       "      <th>item_score1</th>\n",
       "      <th>item_score2</th>\n",
       "      <th>category_second</th>\n",
       "      <th>category_first</th>\n",
       "      <th>item_score3</th>\n",
       "      <th>read</th>\n",
       "      <th>read_time</th>\n",
       "      <th>share</th>\n",
       "      <th>like</th>\n",
       "      <th>follow</th>\n",
       "      <th>favorite</th>\n",
       "    </tr>\n",
       "  </thead>\n",
       "  <tbody>\n",
       "    <tr>\n",
       "      <th>count</th>\n",
       "      <td>2593373.0</td>\n",
       "      <td>2593373.0</td>\n",
       "      <td>2593373.0</td>\n",
       "      <td>2593373.0</td>\n",
       "      <td>2593373.0</td>\n",
       "      <td>2.593373e+06</td>\n",
       "      <td>2.593373e+06</td>\n",
       "      <td>2.593373e+06</td>\n",
       "      <td>2.593373e+06</td>\n",
       "      <td>2.593373e+06</td>\n",
       "      <td>2.593373e+06</td>\n",
       "      <td>2.593373e+06</td>\n",
       "      <td>2.593373e+06</td>\n",
       "      <td>2.593373e+06</td>\n",
       "      <td>2593373</td>\n",
       "      <td>2.593373e+06</td>\n",
       "      <td>2593373</td>\n",
       "      <td>2593373</td>\n",
       "      <td>2593373</td>\n",
       "      <td>2593373</td>\n",
       "    </tr>\n",
       "    <tr>\n",
       "      <th>unique</th>\n",
       "      <td>68661.0</td>\n",
       "      <td>121905.0</td>\n",
       "      <td>1.0</td>\n",
       "      <td>3.0</td>\n",
       "      <td>8.0</td>\n",
       "      <td>NaN</td>\n",
       "      <td>NaN</td>\n",
       "      <td>NaN</td>\n",
       "      <td>NaN</td>\n",
       "      <td>NaN</td>\n",
       "      <td>NaN</td>\n",
       "      <td>NaN</td>\n",
       "      <td>NaN</td>\n",
       "      <td>NaN</td>\n",
       "      <td>2</td>\n",
       "      <td>NaN</td>\n",
       "      <td>2</td>\n",
       "      <td>2</td>\n",
       "      <td>2</td>\n",
       "      <td>2</td>\n",
       "    </tr>\n",
       "    <tr>\n",
       "      <th>top</th>\n",
       "      <td>916632.0</td>\n",
       "      <td>178939.0</td>\n",
       "      <td>1.0</td>\n",
       "      <td>1.0</td>\n",
       "      <td>2.0</td>\n",
       "      <td>NaN</td>\n",
       "      <td>NaN</td>\n",
       "      <td>NaN</td>\n",
       "      <td>NaN</td>\n",
       "      <td>NaN</td>\n",
       "      <td>NaN</td>\n",
       "      <td>NaN</td>\n",
       "      <td>NaN</td>\n",
       "      <td>NaN</td>\n",
       "      <td>True</td>\n",
       "      <td>NaN</td>\n",
       "      <td>False</td>\n",
       "      <td>False</td>\n",
       "      <td>False</td>\n",
       "      <td>False</td>\n",
       "    </tr>\n",
       "    <tr>\n",
       "      <th>freq</th>\n",
       "      <td>1386.0</td>\n",
       "      <td>4414.0</td>\n",
       "      <td>2593373.0</td>\n",
       "      <td>1778977.0</td>\n",
       "      <td>1234671.0</td>\n",
       "      <td>NaN</td>\n",
       "      <td>NaN</td>\n",
       "      <td>NaN</td>\n",
       "      <td>NaN</td>\n",
       "      <td>NaN</td>\n",
       "      <td>NaN</td>\n",
       "      <td>NaN</td>\n",
       "      <td>NaN</td>\n",
       "      <td>NaN</td>\n",
       "      <td>2509530</td>\n",
       "      <td>NaN</td>\n",
       "      <td>2563339</td>\n",
       "      <td>2557270</td>\n",
       "      <td>2590839</td>\n",
       "      <td>2578671</td>\n",
       "    </tr>\n",
       "    <tr>\n",
       "      <th>mean</th>\n",
       "      <td>NaN</td>\n",
       "      <td>NaN</td>\n",
       "      <td>NaN</td>\n",
       "      <td>NaN</td>\n",
       "      <td>NaN</td>\n",
       "      <td>1.360437e+05</td>\n",
       "      <td>1.794327e+03</td>\n",
       "      <td>7.715973e+02</td>\n",
       "      <td>5.017448e+01</td>\n",
       "      <td>3.027339e+00</td>\n",
       "      <td>3.086401e+00</td>\n",
       "      <td>1.142124e+04</td>\n",
       "      <td>1.144743e+02</td>\n",
       "      <td>4.581211e+00</td>\n",
       "      <td>NaN</td>\n",
       "      <td>5.374436e+01</td>\n",
       "      <td>NaN</td>\n",
       "      <td>NaN</td>\n",
       "      <td>NaN</td>\n",
       "      <td>NaN</td>\n",
       "    </tr>\n",
       "    <tr>\n",
       "      <th>std</th>\n",
       "      <td>NaN</td>\n",
       "      <td>NaN</td>\n",
       "      <td>NaN</td>\n",
       "      <td>NaN</td>\n",
       "      <td>NaN</td>\n",
       "      <td>3.236523e+05</td>\n",
       "      <td>5.750824e+03</td>\n",
       "      <td>1.634068e+03</td>\n",
       "      <td>2.872574e+01</td>\n",
       "      <td>7.470438e-01</td>\n",
       "      <td>6.324736e-01</td>\n",
       "      <td>1.370147e+03</td>\n",
       "      <td>1.269437e+01</td>\n",
       "      <td>4.266172e+00</td>\n",
       "      <td>NaN</td>\n",
       "      <td>7.974374e+01</td>\n",
       "      <td>NaN</td>\n",
       "      <td>NaN</td>\n",
       "      <td>NaN</td>\n",
       "      <td>NaN</td>\n",
       "    </tr>\n",
       "    <tr>\n",
       "      <th>min</th>\n",
       "      <td>NaN</td>\n",
       "      <td>NaN</td>\n",
       "      <td>NaN</td>\n",
       "      <td>NaN</td>\n",
       "      <td>NaN</td>\n",
       "      <td>0.000000e+00</td>\n",
       "      <td>0.000000e+00</td>\n",
       "      <td>0.000000e+00</td>\n",
       "      <td>0.000000e+00</td>\n",
       "      <td>0.000000e+00</td>\n",
       "      <td>0.000000e+00</td>\n",
       "      <td>0.000000e+00</td>\n",
       "      <td>0.000000e+00</td>\n",
       "      <td>0.000000e+00</td>\n",
       "      <td>NaN</td>\n",
       "      <td>0.000000e+00</td>\n",
       "      <td>NaN</td>\n",
       "      <td>NaN</td>\n",
       "      <td>NaN</td>\n",
       "      <td>NaN</td>\n",
       "    </tr>\n",
       "    <tr>\n",
       "      <th>25%</th>\n",
       "      <td>NaN</td>\n",
       "      <td>NaN</td>\n",
       "      <td>NaN</td>\n",
       "      <td>NaN</td>\n",
       "      <td>NaN</td>\n",
       "      <td>1.302600e+04</td>\n",
       "      <td>7.200000e+01</td>\n",
       "      <td>5.700000e+01</td>\n",
       "      <td>2.800000e+01</td>\n",
       "      <td>3.000000e+00</td>\n",
       "      <td>3.000000e+00</td>\n",
       "      <td>1.080200e+04</td>\n",
       "      <td>1.080000e+02</td>\n",
       "      <td>3.000000e+00</td>\n",
       "      <td>NaN</td>\n",
       "      <td>7.000000e+00</td>\n",
       "      <td>NaN</td>\n",
       "      <td>NaN</td>\n",
       "      <td>NaN</td>\n",
       "      <td>NaN</td>\n",
       "    </tr>\n",
       "    <tr>\n",
       "      <th>50%</th>\n",
       "      <td>NaN</td>\n",
       "      <td>NaN</td>\n",
       "      <td>NaN</td>\n",
       "      <td>NaN</td>\n",
       "      <td>NaN</td>\n",
       "      <td>4.563500e+04</td>\n",
       "      <td>2.860000e+02</td>\n",
       "      <td>2.540000e+02</td>\n",
       "      <td>4.700000e+01</td>\n",
       "      <td>3.000000e+00</td>\n",
       "      <td>3.000000e+00</td>\n",
       "      <td>1.120100e+04</td>\n",
       "      <td>1.120000e+02</td>\n",
       "      <td>5.000000e+00</td>\n",
       "      <td>NaN</td>\n",
       "      <td>2.700000e+01</td>\n",
       "      <td>NaN</td>\n",
       "      <td>NaN</td>\n",
       "      <td>NaN</td>\n",
       "      <td>NaN</td>\n",
       "    </tr>\n",
       "    <tr>\n",
       "      <th>75%</th>\n",
       "      <td>NaN</td>\n",
       "      <td>NaN</td>\n",
       "      <td>NaN</td>\n",
       "      <td>NaN</td>\n",
       "      <td>NaN</td>\n",
       "      <td>1.319790e+05</td>\n",
       "      <td>9.880000e+02</td>\n",
       "      <td>8.250000e+02</td>\n",
       "      <td>6.700000e+01</td>\n",
       "      <td>4.000000e+00</td>\n",
       "      <td>3.000000e+00</td>\n",
       "      <td>1.210300e+04</td>\n",
       "      <td>1.210000e+02</td>\n",
       "      <td>6.000000e+00</td>\n",
       "      <td>NaN</td>\n",
       "      <td>7.100000e+01</td>\n",
       "      <td>NaN</td>\n",
       "      <td>NaN</td>\n",
       "      <td>NaN</td>\n",
       "      <td>NaN</td>\n",
       "    </tr>\n",
       "    <tr>\n",
       "      <th>max</th>\n",
       "      <td>NaN</td>\n",
       "      <td>NaN</td>\n",
       "      <td>NaN</td>\n",
       "      <td>NaN</td>\n",
       "      <td>NaN</td>\n",
       "      <td>6.824316e+06</td>\n",
       "      <td>1.516560e+05</td>\n",
       "      <td>4.567700e+04</td>\n",
       "      <td>5.780000e+02</td>\n",
       "      <td>5.000000e+00</td>\n",
       "      <td>9.000000e+00</td>\n",
       "      <td>1.410200e+04</td>\n",
       "      <td>1.410000e+02</td>\n",
       "      <td>2.550000e+02</td>\n",
       "      <td>NaN</td>\n",
       "      <td>3.562600e+04</td>\n",
       "      <td>NaN</td>\n",
       "      <td>NaN</td>\n",
       "      <td>NaN</td>\n",
       "      <td>NaN</td>\n",
       "    </tr>\n",
       "  </tbody>\n",
       "</table>\n",
       "</div>"
      ],
      "text/plain": [
       "          user_id    item_id      click     gender        age   click_count  \\\n",
       "count   2593373.0  2593373.0  2593373.0  2593373.0  2593373.0  2.593373e+06   \n",
       "unique    68661.0   121905.0        1.0        3.0        8.0           NaN   \n",
       "top      916632.0   178939.0        1.0        1.0        2.0           NaN   \n",
       "freq       1386.0     4414.0  2593373.0  1778977.0  1234671.0           NaN   \n",
       "mean          NaN        NaN        NaN        NaN        NaN  1.360437e+05   \n",
       "std           NaN        NaN        NaN        NaN        NaN  3.236523e+05   \n",
       "min           NaN        NaN        NaN        NaN        NaN  0.000000e+00   \n",
       "25%           NaN        NaN        NaN        NaN        NaN  1.302600e+04   \n",
       "50%           NaN        NaN        NaN        NaN        NaN  4.563500e+04   \n",
       "75%           NaN        NaN        NaN        NaN        NaN  1.319790e+05   \n",
       "max           NaN        NaN        NaN        NaN        NaN  6.824316e+06   \n",
       "\n",
       "          like_count  comment_count  read_percentage   item_score1  \\\n",
       "count   2.593373e+06   2.593373e+06     2.593373e+06  2.593373e+06   \n",
       "unique           NaN            NaN              NaN           NaN   \n",
       "top              NaN            NaN              NaN           NaN   \n",
       "freq             NaN            NaN              NaN           NaN   \n",
       "mean    1.794327e+03   7.715973e+02     5.017448e+01  3.027339e+00   \n",
       "std     5.750824e+03   1.634068e+03     2.872574e+01  7.470438e-01   \n",
       "min     0.000000e+00   0.000000e+00     0.000000e+00  0.000000e+00   \n",
       "25%     7.200000e+01   5.700000e+01     2.800000e+01  3.000000e+00   \n",
       "50%     2.860000e+02   2.540000e+02     4.700000e+01  3.000000e+00   \n",
       "75%     9.880000e+02   8.250000e+02     6.700000e+01  4.000000e+00   \n",
       "max     1.516560e+05   4.567700e+04     5.780000e+02  5.000000e+00   \n",
       "\n",
       "         item_score2  category_second  category_first   item_score3     read  \\\n",
       "count   2.593373e+06     2.593373e+06    2.593373e+06  2.593373e+06  2593373   \n",
       "unique           NaN              NaN             NaN           NaN        2   \n",
       "top              NaN              NaN             NaN           NaN     True   \n",
       "freq             NaN              NaN             NaN           NaN  2509530   \n",
       "mean    3.086401e+00     1.142124e+04    1.144743e+02  4.581211e+00      NaN   \n",
       "std     6.324736e-01     1.370147e+03    1.269437e+01  4.266172e+00      NaN   \n",
       "min     0.000000e+00     0.000000e+00    0.000000e+00  0.000000e+00      NaN   \n",
       "25%     3.000000e+00     1.080200e+04    1.080000e+02  3.000000e+00      NaN   \n",
       "50%     3.000000e+00     1.120100e+04    1.120000e+02  5.000000e+00      NaN   \n",
       "75%     3.000000e+00     1.210300e+04    1.210000e+02  6.000000e+00      NaN   \n",
       "max     9.000000e+00     1.410200e+04    1.410000e+02  2.550000e+02      NaN   \n",
       "\n",
       "           read_time    share     like   follow favorite  \n",
       "count   2.593373e+06  2593373  2593373  2593373  2593373  \n",
       "unique           NaN        2        2        2        2  \n",
       "top              NaN    False    False    False    False  \n",
       "freq             NaN  2563339  2557270  2590839  2578671  \n",
       "mean    5.374436e+01      NaN      NaN      NaN      NaN  \n",
       "std     7.974374e+01      NaN      NaN      NaN      NaN  \n",
       "min     0.000000e+00      NaN      NaN      NaN      NaN  \n",
       "25%     7.000000e+00      NaN      NaN      NaN      NaN  \n",
       "50%     2.700000e+01      NaN      NaN      NaN      NaN  \n",
       "75%     7.100000e+01      NaN      NaN      NaN      NaN  \n",
       "max     3.562600e+04      NaN      NaN      NaN      NaN  "
      ]
     },
     "execution_count": 11,
     "metadata": {},
     "output_type": "execute_result"
    }
   ],
   "source": [
    "#For the target data with thirty percent cold data\n",
    "article_data_03_for_info_only = article_data_03.copy()\n",
    "\n",
    "article_data_03_for_info_only['read'] = article_data_03_for_info_only['read'].astype('category')\n",
    "article_data_03_for_info_only['share'] = article_data_03_for_info_only['share'].astype('category')\n",
    "article_data_03_for_info_only['like'] = article_data_03_for_info_only['like'].astype('category')\n",
    "article_data_03_for_info_only['follow'] = article_data_03_for_info_only['follow'].astype('category')\n",
    "article_data_03_for_info_only['favorite'] = article_data_03_for_info_only['favorite'].astype('category')\n",
    "\n",
    "article_data_03_for_info_only['gender'] = article_data_03_for_info_only['gender'].astype('category')\n",
    "article_data_03_for_info_only['age'] = article_data_03_for_info_only['age'].astype('category')\n",
    "article_data_03_for_info_only['click'] = article_data_03_for_info_only['click'].astype('category')\n",
    "\n",
    "article_data_03_for_info_only['user_id'] = article_data_03_for_info_only['user_id'].astype('category')\n",
    "article_data_03_for_info_only['item_id'] = article_data_03_for_info_only['item_id'].astype('category')\n",
    "\n",
    "article_data_03_for_info_only.describe(include='all')"
   ]
  },
  {
   "cell_type": "code",
   "execution_count": 12,
   "metadata": {},
   "outputs": [
    {
     "data": {
      "text/html": [
       "<div>\n",
       "<style scoped>\n",
       "    .dataframe tbody tr th:only-of-type {\n",
       "        vertical-align: middle;\n",
       "    }\n",
       "\n",
       "    .dataframe tbody tr th {\n",
       "        vertical-align: top;\n",
       "    }\n",
       "\n",
       "    .dataframe thead th {\n",
       "        text-align: right;\n",
       "    }\n",
       "</style>\n",
       "<table border=\"1\" class=\"dataframe\">\n",
       "  <thead>\n",
       "    <tr style=\"text-align: right;\">\n",
       "      <th></th>\n",
       "      <th>user_id</th>\n",
       "      <th>item_id</th>\n",
       "      <th>click</th>\n",
       "      <th>gender</th>\n",
       "      <th>age</th>\n",
       "      <th>click_count</th>\n",
       "      <th>like_count</th>\n",
       "      <th>comment_count</th>\n",
       "      <th>read_percentage</th>\n",
       "      <th>item_score1</th>\n",
       "      <th>item_score2</th>\n",
       "      <th>category_second</th>\n",
       "      <th>category_first</th>\n",
       "      <th>item_score3</th>\n",
       "      <th>read</th>\n",
       "      <th>read_time</th>\n",
       "      <th>share</th>\n",
       "      <th>like</th>\n",
       "      <th>follow</th>\n",
       "      <th>favorite</th>\n",
       "    </tr>\n",
       "  </thead>\n",
       "  <tbody>\n",
       "    <tr>\n",
       "      <th>count</th>\n",
       "      <td>1214622.0</td>\n",
       "      <td>1214622.0</td>\n",
       "      <td>1214622.0</td>\n",
       "      <td>1214622.0</td>\n",
       "      <td>1214622.0</td>\n",
       "      <td>1.214622e+06</td>\n",
       "      <td>1.214622e+06</td>\n",
       "      <td>1.214622e+06</td>\n",
       "      <td>1.214622e+06</td>\n",
       "      <td>1.214622e+06</td>\n",
       "      <td>1.214622e+06</td>\n",
       "      <td>1.214622e+06</td>\n",
       "      <td>1.214622e+06</td>\n",
       "      <td>1.214622e+06</td>\n",
       "      <td>1214622</td>\n",
       "      <td>1.214622e+06</td>\n",
       "      <td>1214622</td>\n",
       "      <td>1214622</td>\n",
       "      <td>1214622</td>\n",
       "      <td>1214622</td>\n",
       "    </tr>\n",
       "    <tr>\n",
       "      <th>unique</th>\n",
       "      <td>68661.0</td>\n",
       "      <td>95933.0</td>\n",
       "      <td>1.0</td>\n",
       "      <td>3.0</td>\n",
       "      <td>8.0</td>\n",
       "      <td>NaN</td>\n",
       "      <td>NaN</td>\n",
       "      <td>NaN</td>\n",
       "      <td>NaN</td>\n",
       "      <td>NaN</td>\n",
       "      <td>NaN</td>\n",
       "      <td>NaN</td>\n",
       "      <td>NaN</td>\n",
       "      <td>NaN</td>\n",
       "      <td>2</td>\n",
       "      <td>NaN</td>\n",
       "      <td>2</td>\n",
       "      <td>2</td>\n",
       "      <td>2</td>\n",
       "      <td>2</td>\n",
       "    </tr>\n",
       "    <tr>\n",
       "      <th>top</th>\n",
       "      <td>819433.0</td>\n",
       "      <td>178939.0</td>\n",
       "      <td>1.0</td>\n",
       "      <td>1.0</td>\n",
       "      <td>2.0</td>\n",
       "      <td>NaN</td>\n",
       "      <td>NaN</td>\n",
       "      <td>NaN</td>\n",
       "      <td>NaN</td>\n",
       "      <td>NaN</td>\n",
       "      <td>NaN</td>\n",
       "      <td>NaN</td>\n",
       "      <td>NaN</td>\n",
       "      <td>NaN</td>\n",
       "      <td>True</td>\n",
       "      <td>NaN</td>\n",
       "      <td>False</td>\n",
       "      <td>False</td>\n",
       "      <td>False</td>\n",
       "      <td>False</td>\n",
       "    </tr>\n",
       "    <tr>\n",
       "      <th>freq</th>\n",
       "      <td>976.0</td>\n",
       "      <td>2138.0</td>\n",
       "      <td>1214622.0</td>\n",
       "      <td>828779.0</td>\n",
       "      <td>581598.0</td>\n",
       "      <td>NaN</td>\n",
       "      <td>NaN</td>\n",
       "      <td>NaN</td>\n",
       "      <td>NaN</td>\n",
       "      <td>NaN</td>\n",
       "      <td>NaN</td>\n",
       "      <td>NaN</td>\n",
       "      <td>NaN</td>\n",
       "      <td>NaN</td>\n",
       "      <td>1173993</td>\n",
       "      <td>NaN</td>\n",
       "      <td>1200537</td>\n",
       "      <td>1197878</td>\n",
       "      <td>1213570</td>\n",
       "      <td>1207596</td>\n",
       "    </tr>\n",
       "    <tr>\n",
       "      <th>mean</th>\n",
       "      <td>NaN</td>\n",
       "      <td>NaN</td>\n",
       "      <td>NaN</td>\n",
       "      <td>NaN</td>\n",
       "      <td>NaN</td>\n",
       "      <td>1.385008e+05</td>\n",
       "      <td>1.844415e+03</td>\n",
       "      <td>7.819126e+02</td>\n",
       "      <td>5.035153e+01</td>\n",
       "      <td>3.028539e+00</td>\n",
       "      <td>3.085788e+00</td>\n",
       "      <td>1.141439e+04</td>\n",
       "      <td>1.144051e+02</td>\n",
       "      <td>4.575986e+00</td>\n",
       "      <td>NaN</td>\n",
       "      <td>5.457993e+01</td>\n",
       "      <td>NaN</td>\n",
       "      <td>NaN</td>\n",
       "      <td>NaN</td>\n",
       "      <td>NaN</td>\n",
       "    </tr>\n",
       "    <tr>\n",
       "      <th>std</th>\n",
       "      <td>NaN</td>\n",
       "      <td>NaN</td>\n",
       "      <td>NaN</td>\n",
       "      <td>NaN</td>\n",
       "      <td>NaN</td>\n",
       "      <td>3.262731e+05</td>\n",
       "      <td>5.854209e+03</td>\n",
       "      <td>1.625526e+03</td>\n",
       "      <td>2.885661e+01</td>\n",
       "      <td>7.473533e-01</td>\n",
       "      <td>6.358638e-01</td>\n",
       "      <td>1.383343e+03</td>\n",
       "      <td>1.284034e+01</td>\n",
       "      <td>4.207978e+00</td>\n",
       "      <td>NaN</td>\n",
       "      <td>7.784686e+01</td>\n",
       "      <td>NaN</td>\n",
       "      <td>NaN</td>\n",
       "      <td>NaN</td>\n",
       "      <td>NaN</td>\n",
       "    </tr>\n",
       "    <tr>\n",
       "      <th>min</th>\n",
       "      <td>NaN</td>\n",
       "      <td>NaN</td>\n",
       "      <td>NaN</td>\n",
       "      <td>NaN</td>\n",
       "      <td>NaN</td>\n",
       "      <td>0.000000e+00</td>\n",
       "      <td>0.000000e+00</td>\n",
       "      <td>0.000000e+00</td>\n",
       "      <td>0.000000e+00</td>\n",
       "      <td>0.000000e+00</td>\n",
       "      <td>0.000000e+00</td>\n",
       "      <td>0.000000e+00</td>\n",
       "      <td>0.000000e+00</td>\n",
       "      <td>0.000000e+00</td>\n",
       "      <td>NaN</td>\n",
       "      <td>0.000000e+00</td>\n",
       "      <td>NaN</td>\n",
       "      <td>NaN</td>\n",
       "      <td>NaN</td>\n",
       "      <td>NaN</td>\n",
       "    </tr>\n",
       "    <tr>\n",
       "      <th>25%</th>\n",
       "      <td>NaN</td>\n",
       "      <td>NaN</td>\n",
       "      <td>NaN</td>\n",
       "      <td>NaN</td>\n",
       "      <td>NaN</td>\n",
       "      <td>1.345825e+04</td>\n",
       "      <td>7.300000e+01</td>\n",
       "      <td>5.900000e+01</td>\n",
       "      <td>2.900000e+01</td>\n",
       "      <td>3.000000e+00</td>\n",
       "      <td>3.000000e+00</td>\n",
       "      <td>1.080200e+04</td>\n",
       "      <td>1.080000e+02</td>\n",
       "      <td>3.000000e+00</td>\n",
       "      <td>NaN</td>\n",
       "      <td>7.000000e+00</td>\n",
       "      <td>NaN</td>\n",
       "      <td>NaN</td>\n",
       "      <td>NaN</td>\n",
       "      <td>NaN</td>\n",
       "    </tr>\n",
       "    <tr>\n",
       "      <th>50%</th>\n",
       "      <td>NaN</td>\n",
       "      <td>NaN</td>\n",
       "      <td>NaN</td>\n",
       "      <td>NaN</td>\n",
       "      <td>NaN</td>\n",
       "      <td>4.707500e+04</td>\n",
       "      <td>2.930000e+02</td>\n",
       "      <td>2.620000e+02</td>\n",
       "      <td>4.700000e+01</td>\n",
       "      <td>3.000000e+00</td>\n",
       "      <td>3.000000e+00</td>\n",
       "      <td>1.120100e+04</td>\n",
       "      <td>1.120000e+02</td>\n",
       "      <td>5.000000e+00</td>\n",
       "      <td>NaN</td>\n",
       "      <td>2.740491e+01</td>\n",
       "      <td>NaN</td>\n",
       "      <td>NaN</td>\n",
       "      <td>NaN</td>\n",
       "      <td>NaN</td>\n",
       "    </tr>\n",
       "    <tr>\n",
       "      <th>75%</th>\n",
       "      <td>NaN</td>\n",
       "      <td>NaN</td>\n",
       "      <td>NaN</td>\n",
       "      <td>NaN</td>\n",
       "      <td>NaN</td>\n",
       "      <td>1.346530e+05</td>\n",
       "      <td>1.019000e+03</td>\n",
       "      <td>8.410000e+02</td>\n",
       "      <td>6.700000e+01</td>\n",
       "      <td>4.000000e+00</td>\n",
       "      <td>3.000000e+00</td>\n",
       "      <td>1.210300e+04</td>\n",
       "      <td>1.210000e+02</td>\n",
       "      <td>6.000000e+00</td>\n",
       "      <td>NaN</td>\n",
       "      <td>7.236723e+01</td>\n",
       "      <td>NaN</td>\n",
       "      <td>NaN</td>\n",
       "      <td>NaN</td>\n",
       "      <td>NaN</td>\n",
       "    </tr>\n",
       "    <tr>\n",
       "      <th>max</th>\n",
       "      <td>NaN</td>\n",
       "      <td>NaN</td>\n",
       "      <td>NaN</td>\n",
       "      <td>NaN</td>\n",
       "      <td>NaN</td>\n",
       "      <td>6.824316e+06</td>\n",
       "      <td>1.516560e+05</td>\n",
       "      <td>4.567700e+04</td>\n",
       "      <td>6.000000e+02</td>\n",
       "      <td>5.000000e+00</td>\n",
       "      <td>9.000000e+00</td>\n",
       "      <td>1.410200e+04</td>\n",
       "      <td>1.410000e+02</td>\n",
       "      <td>2.550000e+02</td>\n",
       "      <td>NaN</td>\n",
       "      <td>4.446000e+03</td>\n",
       "      <td>NaN</td>\n",
       "      <td>NaN</td>\n",
       "      <td>NaN</td>\n",
       "      <td>NaN</td>\n",
       "    </tr>\n",
       "  </tbody>\n",
       "</table>\n",
       "</div>"
      ],
      "text/plain": [
       "          user_id    item_id      click     gender        age   click_count  \\\n",
       "count   1214622.0  1214622.0  1214622.0  1214622.0  1214622.0  1.214622e+06   \n",
       "unique    68661.0    95933.0        1.0        3.0        8.0           NaN   \n",
       "top      819433.0   178939.0        1.0        1.0        2.0           NaN   \n",
       "freq        976.0     2138.0  1214622.0   828779.0   581598.0           NaN   \n",
       "mean          NaN        NaN        NaN        NaN        NaN  1.385008e+05   \n",
       "std           NaN        NaN        NaN        NaN        NaN  3.262731e+05   \n",
       "min           NaN        NaN        NaN        NaN        NaN  0.000000e+00   \n",
       "25%           NaN        NaN        NaN        NaN        NaN  1.345825e+04   \n",
       "50%           NaN        NaN        NaN        NaN        NaN  4.707500e+04   \n",
       "75%           NaN        NaN        NaN        NaN        NaN  1.346530e+05   \n",
       "max           NaN        NaN        NaN        NaN        NaN  6.824316e+06   \n",
       "\n",
       "          like_count  comment_count  read_percentage   item_score1  \\\n",
       "count   1.214622e+06   1.214622e+06     1.214622e+06  1.214622e+06   \n",
       "unique           NaN            NaN              NaN           NaN   \n",
       "top              NaN            NaN              NaN           NaN   \n",
       "freq             NaN            NaN              NaN           NaN   \n",
       "mean    1.844415e+03   7.819126e+02     5.035153e+01  3.028539e+00   \n",
       "std     5.854209e+03   1.625526e+03     2.885661e+01  7.473533e-01   \n",
       "min     0.000000e+00   0.000000e+00     0.000000e+00  0.000000e+00   \n",
       "25%     7.300000e+01   5.900000e+01     2.900000e+01  3.000000e+00   \n",
       "50%     2.930000e+02   2.620000e+02     4.700000e+01  3.000000e+00   \n",
       "75%     1.019000e+03   8.410000e+02     6.700000e+01  4.000000e+00   \n",
       "max     1.516560e+05   4.567700e+04     6.000000e+02  5.000000e+00   \n",
       "\n",
       "         item_score2  category_second  category_first   item_score3     read  \\\n",
       "count   1.214622e+06     1.214622e+06    1.214622e+06  1.214622e+06  1214622   \n",
       "unique           NaN              NaN             NaN           NaN        2   \n",
       "top              NaN              NaN             NaN           NaN     True   \n",
       "freq             NaN              NaN             NaN           NaN  1173993   \n",
       "mean    3.085788e+00     1.141439e+04    1.144051e+02  4.575986e+00      NaN   \n",
       "std     6.358638e-01     1.383343e+03    1.284034e+01  4.207978e+00      NaN   \n",
       "min     0.000000e+00     0.000000e+00    0.000000e+00  0.000000e+00      NaN   \n",
       "25%     3.000000e+00     1.080200e+04    1.080000e+02  3.000000e+00      NaN   \n",
       "50%     3.000000e+00     1.120100e+04    1.120000e+02  5.000000e+00      NaN   \n",
       "75%     3.000000e+00     1.210300e+04    1.210000e+02  6.000000e+00      NaN   \n",
       "max     9.000000e+00     1.410200e+04    1.410000e+02  2.550000e+02      NaN   \n",
       "\n",
       "           read_time    share     like   follow favorite  \n",
       "count   1.214622e+06  1214622  1214622  1214622  1214622  \n",
       "unique           NaN        2        2        2        2  \n",
       "top              NaN    False    False    False    False  \n",
       "freq             NaN  1200537  1197878  1213570  1207596  \n",
       "mean    5.457993e+01      NaN      NaN      NaN      NaN  \n",
       "std     7.784686e+01      NaN      NaN      NaN      NaN  \n",
       "min     0.000000e+00      NaN      NaN      NaN      NaN  \n",
       "25%     7.000000e+00      NaN      NaN      NaN      NaN  \n",
       "50%     2.740491e+01      NaN      NaN      NaN      NaN  \n",
       "75%     7.236723e+01      NaN      NaN      NaN      NaN  \n",
       "max     4.446000e+03      NaN      NaN      NaN      NaN  "
      ]
     },
     "execution_count": 12,
     "metadata": {},
     "output_type": "execute_result"
    }
   ],
   "source": [
    "#For the target data with seventy percent cold data\n",
    "article_data_07_for_info_only = article_data_07.copy()\n",
    "\n",
    "article_data_07_for_info_only['read'] = article_data_07_for_info_only['read'].astype('category')\n",
    "article_data_07_for_info_only['share'] = article_data_07_for_info_only['share'].astype('category')\n",
    "article_data_07_for_info_only['like'] = article_data_07_for_info_only['like'].astype('category')\n",
    "article_data_07_for_info_only['follow'] = article_data_07_for_info_only['follow'].astype('category')\n",
    "article_data_07_for_info_only['favorite'] = article_data_07_for_info_only['favorite'].astype('category')\n",
    "\n",
    "article_data_07_for_info_only['gender'] = article_data_07_for_info_only['gender'].astype('category')\n",
    "article_data_07_for_info_only['age'] = article_data_07_for_info_only['age'].astype('category')\n",
    "article_data_07_for_info_only['click'] = article_data_07_for_info_only['click'].astype('category')\n",
    "\n",
    "article_data_07_for_info_only['user_id'] = article_data_07_for_info_only['user_id'].astype('category')\n",
    "article_data_07_for_info_only['item_id'] = article_data_07_for_info_only['item_id'].astype('category')\n",
    "\n",
    "article_data_07_for_info_only.describe(include='all')"
   ]
  },
  {
   "cell_type": "code",
   "execution_count": 13,
   "metadata": {},
   "outputs": [
    {
     "data": {
      "text/html": [
       "<div>\n",
       "<style scoped>\n",
       "    .dataframe tbody tr th:only-of-type {\n",
       "        vertical-align: middle;\n",
       "    }\n",
       "\n",
       "    .dataframe tbody tr th {\n",
       "        vertical-align: top;\n",
       "    }\n",
       "\n",
       "    .dataframe thead th {\n",
       "        text-align: right;\n",
       "    }\n",
       "</style>\n",
       "<table border=\"1\" class=\"dataframe\">\n",
       "  <thead>\n",
       "    <tr style=\"text-align: right;\">\n",
       "      <th></th>\n",
       "      <th>user_id</th>\n",
       "      <th>item_id</th>\n",
       "      <th>click</th>\n",
       "      <th>gender</th>\n",
       "      <th>age</th>\n",
       "      <th>click_count</th>\n",
       "      <th>like_count</th>\n",
       "      <th>comment_count</th>\n",
       "      <th>read_percentage</th>\n",
       "      <th>item_score1</th>\n",
       "      <th>item_score2</th>\n",
       "      <th>category_second</th>\n",
       "      <th>category_first</th>\n",
       "      <th>item_score3</th>\n",
       "      <th>read</th>\n",
       "      <th>read_time</th>\n",
       "      <th>share</th>\n",
       "      <th>like</th>\n",
       "      <th>follow</th>\n",
       "      <th>favorite</th>\n",
       "    </tr>\n",
       "  </thead>\n",
       "  <tbody>\n",
       "    <tr>\n",
       "      <th>count</th>\n",
       "      <td>204996.0</td>\n",
       "      <td>204996.0</td>\n",
       "      <td>204996.0</td>\n",
       "      <td>204996.0</td>\n",
       "      <td>204996.0</td>\n",
       "      <td>2.049960e+05</td>\n",
       "      <td>204996.000000</td>\n",
       "      <td>204996.000000</td>\n",
       "      <td>204996.000000</td>\n",
       "      <td>204996.000000</td>\n",
       "      <td>204996.000000</td>\n",
       "      <td>204996.000000</td>\n",
       "      <td>204996.000000</td>\n",
       "      <td>204996.000000</td>\n",
       "      <td>204996</td>\n",
       "      <td>204996.000000</td>\n",
       "      <td>204996</td>\n",
       "      <td>204996</td>\n",
       "      <td>204996</td>\n",
       "      <td>204996</td>\n",
       "    </tr>\n",
       "    <tr>\n",
       "      <th>unique</th>\n",
       "      <td>68661.0</td>\n",
       "      <td>44331.0</td>\n",
       "      <td>1.0</td>\n",
       "      <td>3.0</td>\n",
       "      <td>8.0</td>\n",
       "      <td>NaN</td>\n",
       "      <td>NaN</td>\n",
       "      <td>NaN</td>\n",
       "      <td>NaN</td>\n",
       "      <td>NaN</td>\n",
       "      <td>NaN</td>\n",
       "      <td>NaN</td>\n",
       "      <td>NaN</td>\n",
       "      <td>NaN</td>\n",
       "      <td>2</td>\n",
       "      <td>NaN</td>\n",
       "      <td>2</td>\n",
       "      <td>2</td>\n",
       "      <td>2</td>\n",
       "      <td>2</td>\n",
       "    </tr>\n",
       "    <tr>\n",
       "      <th>top</th>\n",
       "      <td>197042.0</td>\n",
       "      <td>8535.0</td>\n",
       "      <td>1.0</td>\n",
       "      <td>1.0</td>\n",
       "      <td>2.0</td>\n",
       "      <td>NaN</td>\n",
       "      <td>NaN</td>\n",
       "      <td>NaN</td>\n",
       "      <td>NaN</td>\n",
       "      <td>NaN</td>\n",
       "      <td>NaN</td>\n",
       "      <td>NaN</td>\n",
       "      <td>NaN</td>\n",
       "      <td>NaN</td>\n",
       "      <td>True</td>\n",
       "      <td>NaN</td>\n",
       "      <td>False</td>\n",
       "      <td>False</td>\n",
       "      <td>False</td>\n",
       "      <td>False</td>\n",
       "    </tr>\n",
       "    <tr>\n",
       "      <th>freq</th>\n",
       "      <td>5.0</td>\n",
       "      <td>490.0</td>\n",
       "      <td>204996.0</td>\n",
       "      <td>137667.0</td>\n",
       "      <td>97971.0</td>\n",
       "      <td>NaN</td>\n",
       "      <td>NaN</td>\n",
       "      <td>NaN</td>\n",
       "      <td>NaN</td>\n",
       "      <td>NaN</td>\n",
       "      <td>NaN</td>\n",
       "      <td>NaN</td>\n",
       "      <td>NaN</td>\n",
       "      <td>NaN</td>\n",
       "      <td>197325</td>\n",
       "      <td>NaN</td>\n",
       "      <td>202580</td>\n",
       "      <td>202098</td>\n",
       "      <td>204737</td>\n",
       "      <td>203679</td>\n",
       "    </tr>\n",
       "    <tr>\n",
       "      <th>mean</th>\n",
       "      <td>NaN</td>\n",
       "      <td>NaN</td>\n",
       "      <td>NaN</td>\n",
       "      <td>NaN</td>\n",
       "      <td>NaN</td>\n",
       "      <td>1.575963e+05</td>\n",
       "      <td>2252.227707</td>\n",
       "      <td>880.663330</td>\n",
       "      <td>51.116973</td>\n",
       "      <td>3.008332</td>\n",
       "      <td>3.076182</td>\n",
       "      <td>11397.214799</td>\n",
       "      <td>114.233644</td>\n",
       "      <td>4.568045</td>\n",
       "      <td>NaN</td>\n",
       "      <td>59.076157</td>\n",
       "      <td>NaN</td>\n",
       "      <td>NaN</td>\n",
       "      <td>NaN</td>\n",
       "      <td>NaN</td>\n",
       "    </tr>\n",
       "    <tr>\n",
       "      <th>std</th>\n",
       "      <td>NaN</td>\n",
       "      <td>NaN</td>\n",
       "      <td>NaN</td>\n",
       "      <td>NaN</td>\n",
       "      <td>NaN</td>\n",
       "      <td>3.384879e+05</td>\n",
       "      <td>6867.510276</td>\n",
       "      <td>1702.661842</td>\n",
       "      <td>29.249662</td>\n",
       "      <td>0.765834</td>\n",
       "      <td>0.639364</td>\n",
       "      <td>1484.554490</td>\n",
       "      <td>13.928722</td>\n",
       "      <td>3.002089</td>\n",
       "      <td>NaN</td>\n",
       "      <td>80.976038</td>\n",
       "      <td>NaN</td>\n",
       "      <td>NaN</td>\n",
       "      <td>NaN</td>\n",
       "      <td>NaN</td>\n",
       "    </tr>\n",
       "    <tr>\n",
       "      <th>min</th>\n",
       "      <td>NaN</td>\n",
       "      <td>NaN</td>\n",
       "      <td>NaN</td>\n",
       "      <td>NaN</td>\n",
       "      <td>NaN</td>\n",
       "      <td>0.000000e+00</td>\n",
       "      <td>0.000000</td>\n",
       "      <td>0.000000</td>\n",
       "      <td>0.000000</td>\n",
       "      <td>0.000000</td>\n",
       "      <td>0.000000</td>\n",
       "      <td>0.000000</td>\n",
       "      <td>0.000000</td>\n",
       "      <td>0.000000</td>\n",
       "      <td>NaN</td>\n",
       "      <td>0.000000</td>\n",
       "      <td>NaN</td>\n",
       "      <td>NaN</td>\n",
       "      <td>NaN</td>\n",
       "      <td>NaN</td>\n",
       "    </tr>\n",
       "    <tr>\n",
       "      <th>25%</th>\n",
       "      <td>NaN</td>\n",
       "      <td>NaN</td>\n",
       "      <td>NaN</td>\n",
       "      <td>NaN</td>\n",
       "      <td>NaN</td>\n",
       "      <td>1.772200e+04</td>\n",
       "      <td>97.000000</td>\n",
       "      <td>79.000000</td>\n",
       "      <td>29.000000</td>\n",
       "      <td>3.000000</td>\n",
       "      <td>3.000000</td>\n",
       "      <td>10802.000000</td>\n",
       "      <td>108.000000</td>\n",
       "      <td>3.000000</td>\n",
       "      <td>NaN</td>\n",
       "      <td>9.000000</td>\n",
       "      <td>NaN</td>\n",
       "      <td>NaN</td>\n",
       "      <td>NaN</td>\n",
       "      <td>NaN</td>\n",
       "    </tr>\n",
       "    <tr>\n",
       "      <th>50%</th>\n",
       "      <td>NaN</td>\n",
       "      <td>NaN</td>\n",
       "      <td>NaN</td>\n",
       "      <td>NaN</td>\n",
       "      <td>NaN</td>\n",
       "      <td>5.822700e+04</td>\n",
       "      <td>364.000000</td>\n",
       "      <td>323.000000</td>\n",
       "      <td>48.000000</td>\n",
       "      <td>3.000000</td>\n",
       "      <td>3.000000</td>\n",
       "      <td>11201.000000</td>\n",
       "      <td>112.000000</td>\n",
       "      <td>5.000000</td>\n",
       "      <td>NaN</td>\n",
       "      <td>31.000000</td>\n",
       "      <td>NaN</td>\n",
       "      <td>NaN</td>\n",
       "      <td>NaN</td>\n",
       "      <td>NaN</td>\n",
       "    </tr>\n",
       "    <tr>\n",
       "      <th>75%</th>\n",
       "      <td>NaN</td>\n",
       "      <td>NaN</td>\n",
       "      <td>NaN</td>\n",
       "      <td>NaN</td>\n",
       "      <td>NaN</td>\n",
       "      <td>1.590800e+05</td>\n",
       "      <td>1357.000000</td>\n",
       "      <td>990.000000</td>\n",
       "      <td>68.000000</td>\n",
       "      <td>4.000000</td>\n",
       "      <td>3.000000</td>\n",
       "      <td>12105.000000</td>\n",
       "      <td>121.000000</td>\n",
       "      <td>6.000000</td>\n",
       "      <td>NaN</td>\n",
       "      <td>79.000000</td>\n",
       "      <td>NaN</td>\n",
       "      <td>NaN</td>\n",
       "      <td>NaN</td>\n",
       "      <td>NaN</td>\n",
       "    </tr>\n",
       "    <tr>\n",
       "      <th>max</th>\n",
       "      <td>NaN</td>\n",
       "      <td>NaN</td>\n",
       "      <td>NaN</td>\n",
       "      <td>NaN</td>\n",
       "      <td>NaN</td>\n",
       "      <td>6.824316e+06</td>\n",
       "      <td>151656.000000</td>\n",
       "      <td>45677.000000</td>\n",
       "      <td>549.000000</td>\n",
       "      <td>4.000000</td>\n",
       "      <td>9.000000</td>\n",
       "      <td>14102.000000</td>\n",
       "      <td>141.000000</td>\n",
       "      <td>255.000000</td>\n",
       "      <td>NaN</td>\n",
       "      <td>1886.000000</td>\n",
       "      <td>NaN</td>\n",
       "      <td>NaN</td>\n",
       "      <td>NaN</td>\n",
       "      <td>NaN</td>\n",
       "    </tr>\n",
       "  </tbody>\n",
       "</table>\n",
       "</div>"
      ],
      "text/plain": [
       "         user_id   item_id     click    gender       age   click_count  \\\n",
       "count   204996.0  204996.0  204996.0  204996.0  204996.0  2.049960e+05   \n",
       "unique   68661.0   44331.0       1.0       3.0       8.0           NaN   \n",
       "top     197042.0    8535.0       1.0       1.0       2.0           NaN   \n",
       "freq         5.0     490.0  204996.0  137667.0   97971.0           NaN   \n",
       "mean         NaN       NaN       NaN       NaN       NaN  1.575963e+05   \n",
       "std          NaN       NaN       NaN       NaN       NaN  3.384879e+05   \n",
       "min          NaN       NaN       NaN       NaN       NaN  0.000000e+00   \n",
       "25%          NaN       NaN       NaN       NaN       NaN  1.772200e+04   \n",
       "50%          NaN       NaN       NaN       NaN       NaN  5.822700e+04   \n",
       "75%          NaN       NaN       NaN       NaN       NaN  1.590800e+05   \n",
       "max          NaN       NaN       NaN       NaN       NaN  6.824316e+06   \n",
       "\n",
       "           like_count  comment_count  read_percentage    item_score1  \\\n",
       "count   204996.000000  204996.000000    204996.000000  204996.000000   \n",
       "unique            NaN            NaN              NaN            NaN   \n",
       "top               NaN            NaN              NaN            NaN   \n",
       "freq              NaN            NaN              NaN            NaN   \n",
       "mean      2252.227707     880.663330        51.116973       3.008332   \n",
       "std       6867.510276    1702.661842        29.249662       0.765834   \n",
       "min          0.000000       0.000000         0.000000       0.000000   \n",
       "25%         97.000000      79.000000        29.000000       3.000000   \n",
       "50%        364.000000     323.000000        48.000000       3.000000   \n",
       "75%       1357.000000     990.000000        68.000000       4.000000   \n",
       "max     151656.000000   45677.000000       549.000000       4.000000   \n",
       "\n",
       "          item_score2  category_second  category_first    item_score3    read  \\\n",
       "count   204996.000000    204996.000000   204996.000000  204996.000000  204996   \n",
       "unique            NaN              NaN             NaN            NaN       2   \n",
       "top               NaN              NaN             NaN            NaN    True   \n",
       "freq              NaN              NaN             NaN            NaN  197325   \n",
       "mean         3.076182     11397.214799      114.233644       4.568045     NaN   \n",
       "std          0.639364      1484.554490       13.928722       3.002089     NaN   \n",
       "min          0.000000         0.000000        0.000000       0.000000     NaN   \n",
       "25%          3.000000     10802.000000      108.000000       3.000000     NaN   \n",
       "50%          3.000000     11201.000000      112.000000       5.000000     NaN   \n",
       "75%          3.000000     12105.000000      121.000000       6.000000     NaN   \n",
       "max          9.000000     14102.000000      141.000000     255.000000     NaN   \n",
       "\n",
       "            read_time   share    like  follow favorite  \n",
       "count   204996.000000  204996  204996  204996   204996  \n",
       "unique            NaN       2       2       2        2  \n",
       "top               NaN   False   False   False    False  \n",
       "freq              NaN  202580  202098  204737   203679  \n",
       "mean        59.076157     NaN     NaN     NaN      NaN  \n",
       "std         80.976038     NaN     NaN     NaN      NaN  \n",
       "min          0.000000     NaN     NaN     NaN      NaN  \n",
       "25%          9.000000     NaN     NaN     NaN      NaN  \n",
       "50%         31.000000     NaN     NaN     NaN      NaN  \n",
       "75%         79.000000     NaN     NaN     NaN      NaN  \n",
       "max       1886.000000     NaN     NaN     NaN      NaN  "
      ]
     },
     "execution_count": 13,
     "metadata": {},
     "output_type": "execute_result"
    }
   ],
   "source": [
    "#For the target data with hundred percent cold data\n",
    "article_data_1_for_info_only = article_data_1.copy()\n",
    "\n",
    "article_data_1_for_info_only['read'] = article_data_1_for_info_only['read'].astype('category')\n",
    "article_data_1_for_info_only['share'] = article_data_1_for_info_only['share'].astype('category')\n",
    "article_data_1_for_info_only['like'] = article_data_1_for_info_only['like'].astype('category')\n",
    "article_data_1_for_info_only['follow'] = article_data_1_for_info_only['follow'].astype('category')\n",
    "article_data_1_for_info_only['favorite'] = article_data_1_for_info_only['favorite'].astype('category')\n",
    "\n",
    "article_data_1_for_info_only['gender'] = article_data_1_for_info_only['gender'].astype('category')\n",
    "article_data_1_for_info_only['age'] = article_data_1_for_info_only['age'].astype('category')\n",
    "article_data_1_for_info_only['click'] = article_data_1_for_info_only['click'].astype('category')\n",
    "\n",
    "article_data_1_for_info_only['user_id'] = article_data_1_for_info_only['user_id'].astype('category')\n",
    "article_data_1_for_info_only['item_id'] = article_data_1_for_info_only['item_id'].astype('category')\n",
    "\n",
    "article_data_1_for_info_only.describe(include='all')"
   ]
  },
  {
   "cell_type": "markdown",
   "metadata": {
    "id": "XNuWTP-z19t5"
   },
   "source": [
    "### In order to be able to predict whether the data itself is biased, the distribution of the different age categories and genders needs to be compared."
   ]
  },
  {
   "cell_type": "code",
   "execution_count": 14,
   "metadata": {
    "id": "DSVBD38mMmp0"
   },
   "outputs": [],
   "source": [
    "# Calculate demographic distributions for each dataset\n",
    "age_distribution_video_data = video_data['age'].value_counts()\n",
    "age_distribution_article_data_0 = article_data_0['age'].value_counts()\n",
    "age_distribution_article_data_03 = article_data_03['age'].value_counts()\n",
    "age_distribution_article_data_07 = article_data_07['age'].value_counts()\n",
    "age_distribution_article_data_1 = article_data_1['age'].value_counts()\n",
    "\n",
    "gender_distribution_video_data = video_data['gender'].value_counts()\n",
    "gender_distribution_article_data_0 = article_data_0['gender'].value_counts()\n",
    "gender_distribution_article_data_03 = article_data_03['gender'].value_counts()\n",
    "gender_distribution_article_data_07 = article_data_07['gender'].value_counts()\n",
    "gender_distribution_article_data_1 = article_data_1['gender'].value_counts()"
   ]
  },
  {
   "cell_type": "code",
   "execution_count": 15,
   "metadata": {},
   "outputs": [
    {
     "data": {
      "text/plain": [
       "<Figure size 2000x800 with 0 Axes>"
      ]
     },
     "execution_count": 15,
     "metadata": {},
     "output_type": "execute_result"
    },
    {
     "data": {
      "text/plain": [
       "<AxesSubplot: >"
      ]
     },
     "execution_count": 15,
     "metadata": {},
     "output_type": "execute_result"
    },
    {
     "data": {
      "text/plain": [
       "<BarContainer object of 8 artists>"
      ]
     },
     "execution_count": 15,
     "metadata": {},
     "output_type": "execute_result"
    },
    {
     "data": {
      "text/plain": [
       "Text(0.5, 0, 'Age Group')"
      ]
     },
     "execution_count": 15,
     "metadata": {},
     "output_type": "execute_result"
    },
    {
     "data": {
      "text/plain": [
       "Text(0, 0.5, 'Count')"
      ]
     },
     "execution_count": 15,
     "metadata": {},
     "output_type": "execute_result"
    },
    {
     "data": {
      "text/plain": [
       "Text(0.5, 1.0, 'Age Distribution video_data')"
      ]
     },
     "execution_count": 15,
     "metadata": {},
     "output_type": "execute_result"
    },
    {
     "name": "stderr",
     "output_type": "stream",
     "text": [
      "No artists with labels found to put in legend.  Note that artists whose label start with an underscore are ignored when legend() is called with no argument.\n"
     ]
    },
    {
     "data": {
      "text/plain": [
       "<matplotlib.legend.Legend at 0x1ff664a7610>"
      ]
     },
     "execution_count": 15,
     "metadata": {},
     "output_type": "execute_result"
    },
    {
     "data": {
      "text/plain": [
       "<AxesSubplot: >"
      ]
     },
     "execution_count": 15,
     "metadata": {},
     "output_type": "execute_result"
    },
    {
     "data": {
      "text/plain": [
       "([<matplotlib.patches.Wedge at 0x1ff694927d0>,\n",
       "  <matplotlib.patches.Wedge at 0x1ff69492e60>,\n",
       "  <matplotlib.patches.Wedge at 0x1ff69493400>],\n",
       " [Text(-0.3041622364014568, 1.0571117887656274, '1'),\n",
       "  Text(-0.3527294885571226, -1.0419126200897229, '2'),\n",
       "  Text(0.90375550808538, -0.6270773330342415, '0')],\n",
       " [Text(-0.1659066744007946, 0.5766064302357967, '58.9%'),\n",
       "  Text(-0.19239790284933958, -0.5683159745943942, '21.8%'),\n",
       "  Text(0.4929575498647526, -0.3420421816550408, '19.3%')])"
      ]
     },
     "execution_count": 15,
     "metadata": {},
     "output_type": "execute_result"
    },
    {
     "data": {
      "text/plain": [
       "Text(0.5, 1.0, 'Gender Distribution video_data')"
      ]
     },
     "execution_count": 15,
     "metadata": {},
     "output_type": "execute_result"
    },
    {
     "data": {
      "text/plain": [
       "<matplotlib.legend.Legend at 0x1ff69440a00>"
      ]
     },
     "execution_count": 15,
     "metadata": {},
     "output_type": "execute_result"
    },
    {
     "data": {
      "image/png": "[encoded data removed]",
      "text/plain": [
       "<Figure size 2000x800 with 2 Axes>"
      ]
     },
     "metadata": {},
     "output_type": "display_data"
    }
   ],
   "source": [
    "plt.figure(figsize=(20, 8))\n",
    "\n",
    "plt.subplot(1, 2, 1)\n",
    "plt.bar(age_distribution_video_data.index, age_distribution_video_data.values)\n",
    "plt.xlabel('Age Group')\n",
    "plt.ylabel('Count')\n",
    "plt.title('Age Distribution video_data')\n",
    "plt.legend()\n",
    "\n",
    "plt.subplot(1, 2, 2)\n",
    "plt.pie(gender_distribution_video_data.values, labels=gender_distribution_video_data.index, autopct='%1.1f%%')\n",
    "plt.title('Gender Distribution video_data')\n",
    "plt.legend()\n",
    "\n",
    "plt.tight_layout()\n",
    "plt.show()"
   ]
  },
  {
   "cell_type": "code",
   "execution_count": 16,
   "metadata": {},
   "outputs": [
    {
     "data": {
      "text/plain": [
       "<Figure size 2000x800 with 0 Axes>"
      ]
     },
     "execution_count": 16,
     "metadata": {},
     "output_type": "execute_result"
    },
    {
     "data": {
      "text/plain": [
       "<AxesSubplot: >"
      ]
     },
     "execution_count": 16,
     "metadata": {},
     "output_type": "execute_result"
    },
    {
     "data": {
      "text/plain": [
       "<BarContainer object of 8 artists>"
      ]
     },
     "execution_count": 16,
     "metadata": {},
     "output_type": "execute_result"
    },
    {
     "data": {
      "text/plain": [
       "Text(0.5, 0, 'Age Group')"
      ]
     },
     "execution_count": 16,
     "metadata": {},
     "output_type": "execute_result"
    },
    {
     "data": {
      "text/plain": [
       "Text(0, 0.5, 'Count')"
      ]
     },
     "execution_count": 16,
     "metadata": {},
     "output_type": "execute_result"
    },
    {
     "data": {
      "text/plain": [
       "Text(0.5, 1.0, 'Age Distribution article_data_0')"
      ]
     },
     "execution_count": 16,
     "metadata": {},
     "output_type": "execute_result"
    },
    {
     "name": "stderr",
     "output_type": "stream",
     "text": [
      "No artists with labels found to put in legend.  Note that artists whose label start with an underscore are ignored when legend() is called with no argument.\n"
     ]
    },
    {
     "data": {
      "text/plain": [
       "<matplotlib.legend.Legend at 0x1ff6643a350>"
      ]
     },
     "execution_count": 16,
     "metadata": {},
     "output_type": "execute_result"
    },
    {
     "data": {
      "text/plain": [
       "<AxesSubplot: >"
      ]
     },
     "execution_count": 16,
     "metadata": {},
     "output_type": "execute_result"
    },
    {
     "data": {
      "text/plain": [
       "([<matplotlib.patches.Wedge at 0x2000d2fe7a0>,\n",
       "  <matplotlib.patches.Wedge at 0x2000d2fed70>,\n",
       "  <matplotlib.patches.Wedge at 0x2000d2ff400>],\n",
       " [Text(-0.5622027454416268, 0.9454776956744656, '1'),\n",
       "  Text(0.5575158068371356, -0.9482489784475056, '2'),\n",
       "  Text(1.0999865239959428, -0.005444908385217072, '0')],\n",
       " [Text(-0.30665604296816007, 0.5157151067315267, '67.1%'),\n",
       "  Text(0.304099531002074, -0.5172267155168211, '32.8%'),\n",
       "  Text(0.5999926494523323, -0.0029699500283002205, '0.2%')])"
      ]
     },
     "execution_count": 16,
     "metadata": {},
     "output_type": "execute_result"
    },
    {
     "data": {
      "text/plain": [
       "Text(0.5, 1.0, 'Gender Distribution article_data_0')"
      ]
     },
     "execution_count": 16,
     "metadata": {},
     "output_type": "execute_result"
    },
    {
     "data": {
      "text/plain": [
       "<matplotlib.legend.Legend at 0x2000d2bc880>"
      ]
     },
     "execution_count": 16,
     "metadata": {},
     "output_type": "execute_result"
    },
    {
     "data": {
      "image/png": "[encoded data removed]",
      "text/plain": [
       "<Figure size 2000x800 with 2 Axes>"
      ]
     },
     "metadata": {},
     "output_type": "display_data"
    }
   ],
   "source": [
    "plt.figure(figsize=(20, 8))\n",
    "\n",
    "plt.subplot(1, 2, 1)\n",
    "plt.bar(age_distribution_article_data_0.index, age_distribution_article_data_0.values)\n",
    "plt.xlabel('Age Group')\n",
    "plt.ylabel('Count')\n",
    "plt.title('Age Distribution article_data_0')\n",
    "plt.legend()\n",
    "\n",
    "plt.subplot(1, 2, 2)\n",
    "plt.pie(gender_distribution_article_data_0.values, labels=gender_distribution_article_data_0.index, autopct='%1.1f%%')\n",
    "plt.title('Gender Distribution article_data_0')\n",
    "plt.legend()\n",
    "\n",
    "plt.tight_layout()\n",
    "plt.show()"
   ]
  },
  {
   "cell_type": "code",
   "execution_count": 17,
   "metadata": {},
   "outputs": [
    {
     "data": {
      "text/plain": [
       "<Figure size 2000x800 with 0 Axes>"
      ]
     },
     "execution_count": 17,
     "metadata": {},
     "output_type": "execute_result"
    },
    {
     "data": {
      "text/plain": [
       "<AxesSubplot: >"
      ]
     },
     "execution_count": 17,
     "metadata": {},
     "output_type": "execute_result"
    },
    {
     "data": {
      "text/plain": [
       "<BarContainer object of 8 artists>"
      ]
     },
     "execution_count": 17,
     "metadata": {},
     "output_type": "execute_result"
    },
    {
     "data": {
      "text/plain": [
       "Text(0.5, 0, 'Age Group')"
      ]
     },
     "execution_count": 17,
     "metadata": {},
     "output_type": "execute_result"
    },
    {
     "data": {
      "text/plain": [
       "Text(0, 0.5, 'Count')"
      ]
     },
     "execution_count": 17,
     "metadata": {},
     "output_type": "execute_result"
    },
    {
     "data": {
      "text/plain": [
       "Text(0.5, 1.0, 'Age Distribution article_data_03')"
      ]
     },
     "execution_count": 17,
     "metadata": {},
     "output_type": "execute_result"
    },
    {
     "name": "stderr",
     "output_type": "stream",
     "text": [
      "No artists with labels found to put in legend.  Note that artists whose label start with an underscore are ignored when legend() is called with no argument.\n"
     ]
    },
    {
     "data": {
      "text/plain": [
       "<matplotlib.legend.Legend at 0x1ff69493cd0>"
      ]
     },
     "execution_count": 17,
     "metadata": {},
     "output_type": "execute_result"
    },
    {
     "data": {
      "text/plain": [
       "<AxesSubplot: >"
      ]
     },
     "execution_count": 17,
     "metadata": {},
     "output_type": "execute_result"
    },
    {
     "data": {
      "text/plain": [
       "([<matplotlib.patches.Wedge at 0x2000d3ea6e0>,\n",
       "  <matplotlib.patches.Wedge at 0x2000d3eb9a0>,\n",
       "  <matplotlib.patches.Wedge at 0x2000d428070>],\n",
       " [Text(-0.6067250389672852, 0.9175427658099357, '1'),\n",
       "  Text(0.6014387419217925, -0.9210165252130559, '2'),\n",
       "  Text(1.0999818128721457, -0.006325452593127728, '0')],\n",
       " [Text(-0.3309409303457919, 0.5004778722599649, '68.6%'),\n",
       "  Text(0.32805749559370495, -0.5023726501162122, '31.2%'),\n",
       "  Text(0.5999900797484431, -0.00345024686897876, '0.2%')])"
      ]
     },
     "execution_count": 17,
     "metadata": {},
     "output_type": "execute_result"
    },
    {
     "data": {
      "text/plain": [
       "Text(0.5, 1.0, 'Gender Distribution article_data_03')"
      ]
     },
     "execution_count": 17,
     "metadata": {},
     "output_type": "execute_result"
    },
    {
     "data": {
      "text/plain": [
       "<matplotlib.legend.Legend at 0x2000d3ea680>"
      ]
     },
     "execution_count": 17,
     "metadata": {},
     "output_type": "execute_result"
    },
    {
     "data": {
      "image/png": "[encoded data removed]",
      "text/plain": [
       "<Figure size 2000x800 with 2 Axes>"
      ]
     },
     "metadata": {},
     "output_type": "display_data"
    }
   ],
   "source": [
    "plt.figure(figsize=(20, 8))\n",
    "\n",
    "plt.subplot(1, 2, 1)\n",
    "plt.bar(age_distribution_article_data_03.index, age_distribution_article_data_03.values)\n",
    "plt.xlabel('Age Group')\n",
    "plt.ylabel('Count')\n",
    "plt.title('Age Distribution article_data_03')\n",
    "plt.legend()\n",
    "\n",
    "plt.subplot(1, 2, 2)\n",
    "plt.pie(gender_distribution_article_data_03.values, labels=gender_distribution_article_data_03.index, autopct='%1.1f%%')\n",
    "plt.title('Gender Distribution article_data_03')\n",
    "plt.legend()\n",
    "\n",
    "plt.tight_layout()\n",
    "plt.show()"
   ]
  },
  {
   "cell_type": "code",
   "execution_count": 18,
   "metadata": {},
   "outputs": [
    {
     "data": {
      "text/plain": [
       "<Figure size 2000x800 with 0 Axes>"
      ]
     },
     "execution_count": 18,
     "metadata": {},
     "output_type": "execute_result"
    },
    {
     "data": {
      "text/plain": [
       "<AxesSubplot: >"
      ]
     },
     "execution_count": 18,
     "metadata": {},
     "output_type": "execute_result"
    },
    {
     "data": {
      "text/plain": [
       "<BarContainer object of 8 artists>"
      ]
     },
     "execution_count": 18,
     "metadata": {},
     "output_type": "execute_result"
    },
    {
     "data": {
      "text/plain": [
       "Text(0.5, 0, 'Age Group')"
      ]
     },
     "execution_count": 18,
     "metadata": {},
     "output_type": "execute_result"
    },
    {
     "data": {
      "text/plain": [
       "Text(0, 0.5, 'Count')"
      ]
     },
     "execution_count": 18,
     "metadata": {},
     "output_type": "execute_result"
    },
    {
     "data": {
      "text/plain": [
       "Text(0.5, 1.0, 'Age Distribution article_data_07')"
      ]
     },
     "execution_count": 18,
     "metadata": {},
     "output_type": "execute_result"
    },
    {
     "name": "stderr",
     "output_type": "stream",
     "text": [
      "No artists with labels found to put in legend.  Note that artists whose label start with an underscore are ignored when legend() is called with no argument.\n"
     ]
    },
    {
     "data": {
      "text/plain": [
       "<matplotlib.legend.Legend at 0x2000d34bf70>"
      ]
     },
     "execution_count": 18,
     "metadata": {},
     "output_type": "execute_result"
    },
    {
     "data": {
      "text/plain": [
       "<AxesSubplot: >"
      ]
     },
     "execution_count": 18,
     "metadata": {},
     "output_type": "execute_result"
    },
    {
     "data": {
      "text/plain": [
       "([<matplotlib.patches.Wedge at 0x2000d48ac80>,\n",
       "  <matplotlib.patches.Wedge at 0x2000d48b2e0>,\n",
       "  <matplotlib.patches.Wedge at 0x2000d48b970>],\n",
       " [Text(-0.596206298929599, 0.9244122722663681, '1'),\n",
       "  Text(0.5885107815070115, -0.9293304364164593, '2'),\n",
       "  Text(1.0999620863021262, -0.00913283624477724, '0')],\n",
       " [Text(-0.3252034357797812, 0.5042248757816553, '68.2%'),\n",
       "  Text(0.32100588082200626, -0.5069075107726141, '31.5%'),\n",
       "  Text(0.5999793198011597, -0.004981547042605766, '0.3%')])"
      ]
     },
     "execution_count": 18,
     "metadata": {},
     "output_type": "execute_result"
    },
    {
     "data": {
      "text/plain": [
       "Text(0.5, 1.0, 'Gender Distribution article_data_07')"
      ]
     },
     "execution_count": 18,
     "metadata": {},
     "output_type": "execute_result"
    },
    {
     "data": {
      "text/plain": [
       "<matplotlib.legend.Legend at 0x2000d2bf010>"
      ]
     },
     "execution_count": 18,
     "metadata": {},
     "output_type": "execute_result"
    },
    {
     "data": {
      "image/png": "[encoded data removed]",
      "text/plain": [
       "<Figure size 2000x800 with 2 Axes>"
      ]
     },
     "metadata": {},
     "output_type": "display_data"
    }
   ],
   "source": [
    "plt.figure(figsize=(20, 8))\n",
    "\n",
    "plt.subplot(1, 2, 1)\n",
    "plt.bar(age_distribution_article_data_07.index, age_distribution_article_data_07.values)\n",
    "plt.xlabel('Age Group')\n",
    "plt.ylabel('Count')\n",
    "plt.title('Age Distribution article_data_07')\n",
    "plt.legend()\n",
    "\n",
    "plt.subplot(1, 2, 2)\n",
    "plt.pie(gender_distribution_article_data_07.values, labels=gender_distribution_article_data_07.index, autopct='%1.1f%%')\n",
    "plt.title('Gender Distribution article_data_07')\n",
    "plt.legend()\n",
    "\n",
    "plt.tight_layout()\n",
    "plt.show()"
   ]
  },
  {
   "cell_type": "code",
   "execution_count": 19,
   "metadata": {},
   "outputs": [
    {
     "data": {
      "text/plain": [
       "<Figure size 2000x800 with 0 Axes>"
      ]
     },
     "execution_count": 19,
     "metadata": {},
     "output_type": "execute_result"
    },
    {
     "data": {
      "text/plain": [
       "<AxesSubplot: >"
      ]
     },
     "execution_count": 19,
     "metadata": {},
     "output_type": "execute_result"
    },
    {
     "data": {
      "text/plain": [
       "<BarContainer object of 8 artists>"
      ]
     },
     "execution_count": 19,
     "metadata": {},
     "output_type": "execute_result"
    },
    {
     "data": {
      "text/plain": [
       "Text(0.5, 0, 'Age Group')"
      ]
     },
     "execution_count": 19,
     "metadata": {},
     "output_type": "execute_result"
    },
    {
     "data": {
      "text/plain": [
       "Text(0, 0.5, 'Count')"
      ]
     },
     "execution_count": 19,
     "metadata": {},
     "output_type": "execute_result"
    },
    {
     "data": {
      "text/plain": [
       "Text(0.5, 1.0, 'Age Distribution article_data_1')"
      ]
     },
     "execution_count": 19,
     "metadata": {},
     "output_type": "execute_result"
    },
    {
     "name": "stderr",
     "output_type": "stream",
     "text": [
      "No artists with labels found to put in legend.  Note that artists whose label start with an underscore are ignored when legend() is called with no argument.\n"
     ]
    },
    {
     "data": {
      "text/plain": [
       "<matplotlib.legend.Legend at 0x2000d4890c0>"
      ]
     },
     "execution_count": 19,
     "metadata": {},
     "output_type": "execute_result"
    },
    {
     "data": {
      "text/plain": [
       "<AxesSubplot: >"
      ]
     },
     "execution_count": 19,
     "metadata": {},
     "output_type": "execute_result"
    },
    {
     "data": {
      "text/plain": [
       "([<matplotlib.patches.Wedge at 0x2000d5c62c0>,\n",
       "  <matplotlib.patches.Wedge at 0x2000d5c6800>,\n",
       "  <matplotlib.patches.Wedge at 0x2000d5c6e90>],\n",
       " [Text(-0.5645774289202871, 0.9440616117360977, '1'),\n",
       "  Text(0.5604197112982817, -0.9465356555293365, '2'),\n",
       "  Text(1.099989360278255, -0.004838106513468344, '0')],\n",
       " [Text(-0.30795132486561105, 0.5149426973105987, '67.2%'),\n",
       "  Text(0.30568347888997177, -0.5162921757432745, '32.7%'),\n",
       "  Text(0.5999941965154116, -0.002638967189164551, '0.1%')])"
      ]
     },
     "execution_count": 19,
     "metadata": {},
     "output_type": "execute_result"
    },
    {
     "data": {
      "text/plain": [
       "Text(0.5, 1.0, 'Gender Distribution article_data_1')"
      ]
     },
     "execution_count": 19,
     "metadata": {},
     "output_type": "execute_result"
    },
    {
     "data": {
      "text/plain": [
       "<matplotlib.legend.Legend at 0x2000d58ccd0>"
      ]
     },
     "execution_count": 19,
     "metadata": {},
     "output_type": "execute_result"
    },
    {
     "data": {
      "image/png": "[encoded data removed]",
      "text/plain": [
       "<Figure size 2000x800 with 2 Axes>"
      ]
     },
     "metadata": {},
     "output_type": "display_data"
    }
   ],
   "source": [
    "plt.figure(figsize=(20, 8))\n",
    "\n",
    "plt.subplot(1, 2, 1)\n",
    "plt.bar(age_distribution_article_data_1.index, age_distribution_article_data_1.values)\n",
    "plt.xlabel('Age Group')\n",
    "plt.ylabel('Count')\n",
    "plt.title('Age Distribution article_data_1')\n",
    "plt.legend()\n",
    "\n",
    "plt.subplot(1, 2, 2)\n",
    "plt.pie(gender_distribution_article_data_1.values, labels=gender_distribution_article_data_1.index, autopct='%1.1f%%')\n",
    "plt.title('Gender Distribution article_data_1')\n",
    "plt.legend()\n",
    "\n",
    "plt.tight_layout()\n",
    "plt.show()"
   ]
  },
  {
   "cell_type": "markdown",
   "metadata": {},
   "source": [
    "### As shown above the data seems to be imbalanced which may lead to the model being biased towards the more frequently repeated genders and age groups. In order to test that, the data will be used as it is to train the models first and then the model will be tested to check for its age and gender bias if it does exist."
   ]
  },
  {
   "cell_type": "markdown",
   "metadata": {},
   "source": [
    "### The setup used here for the BERT4Rec Model is similar to the one used by the referenced paper but the code was adjusted to improve its readability and the age and gender columns were added to the data being passed to the model in the construct_data function. mean average precision (mAP) was also added as an evaluation metric to be used as well."
   ]
  },
  {
   "cell_type": "code",
   "execution_count": 20,
   "metadata": {
    "id": "1T7Uxrjy1QVk"
   },
   "outputs": [],
   "source": [
    "def get_data_loader(dataset, is_parallel=False, batch_size=512, shuffle=False):\n",
    "    \"\"\"\n",
    "    This function creates a data loader for a given dataset. Data loaders are PyTorch's way to handle large datasets\n",
    "    that can't fit into memory. They allow you to load data in small batches, rather than all at once.\n",
    "    \"\"\"\n",
    "    if is_parallel:\n",
    "        sampler = DistributedSampler(dataset)\n",
    "    else:\n",
    "        sampler = None\n",
    "\n",
    "    dataloader = DataLoader(\n",
    "        dataset,\n",
    "        batch_size=batch_size,\n",
    "        shuffle=shuffle,\n",
    "        pin_memory=True,\n",
    "        sampler=sampler\n",
    "    )\n",
    "    return dataloader"
   ]
  },
  {
   "cell_type": "code",
   "execution_count": 21,
   "metadata": {
    "id": "gii3Q_Gm1QVl"
   },
   "outputs": [],
   "source": [
    "class ColdResetDF:\n",
    "    def __init__(self):\n",
    "        self.item_enc1 = LabelEncoder()\n",
    "        self.item_enc2 = LabelEncoder()\n",
    "        self.user_enc = LabelEncoder()\n",
    "\n",
    "    def fit_transform(self, df1, df2):\n",
    "        df = pd.concat([df1['user_id'], df2['user_id']], ignore_index=True)\n",
    "        df = self.user_enc.fit_transform(df) + 1\n",
    "        df1['item_id'] = self.item_enc1.fit_transform(df1['item_id']) + 1\n",
    "        df1['user_id'] = df[:len(df1)]\n",
    "        df2['item_id'] = self.item_enc2.fit_transform(df2['item_id']) + 1\n",
    "        df2['user_id'] = df[len(df1):]\n",
    "        return df1, df2\n",
    "\n",
    "    def inverse_transform(self, df):\n",
    "        df['item_id'] = self.item_enc1.inverse_transform(df['item_id'] - 1)\n",
    "        df['user_id'] = self.user_enc.inverse_transform(df['user_id'] - 1)\n",
    "        return df\n"
   ]
  },
  {
   "cell_type": "code",
   "execution_count": 22,
   "metadata": {
    "id": "maiC710l1QVn"
   },
   "outputs": [],
   "source": [
    "class ItemResetDF:\n",
    "    def __init__(self):\n",
    "        self.item_enc = LabelEncoder()\n",
    "\n",
    "    def fit_transform(self, df):\n",
    "        df['item_id'] = self.item_enc.fit_transform(df['item_id']) + 1\n",
    "        return df\n",
    "\n",
    "    def inverse_transform(self, df):\n",
    "        df['item_id'] = self.item_enc.inverse_transform(df['item_id'] - 1)\n",
    "        return df"
   ]
  },
  {
   "cell_type": "code",
   "execution_count": 23,
   "metadata": {
    "id": "q8LQ5XRP1QVp"
   },
   "outputs": [],
   "source": [
    "def construct_data(task, item_min, path1, path2):\n",
    "    if task != 2:\n",
    "        df1 = path1[['user_id', 'item_id', 'age', 'gender', 'click']]\n",
    "#         df1 = pd.read_csv(path1, usecols=['user_id', 'item_id', 'click'])\n",
    "        df1 = df1[df1.click == 1]\n",
    "    else:\n",
    "        df1 = path1[['user_id', 'item_id', 'age', 'gender', 'like']]\n",
    "        df1 = df1[df1.like == 1]\n",
    "\n",
    "    df2 = path2[['user_id', 'item_id', 'age', 'gender', 'click']]\n",
    "    df2 = df2[df2.click == 1]\n",
    "\n",
    "    user_counts = df2.groupby('user_id').size()\n",
    "    user_subset = np.in1d(df2.user_id, user_counts[user_counts >= item_min].index)\n",
    "    df2 = df2[user_subset].reset_index(drop=True)\n",
    "\n",
    "    assert (df2.groupby('user_id').size() < item_min).sum() == 0\n",
    "    s_item_count = len(set(df2['item_id']))\n",
    "\n",
    "    reset_ob = ColdResetDF()\n",
    "    df2, df1 = reset_ob.fit_transform(df2, df1)\n",
    "\n",
    "    user1 = set(df1.user_id.values.tolist())\n",
    "    user2 = set(df2.user_id.values.tolist())\n",
    "    user = user1 & user2\n",
    "    df1 = df1[df1.user_id.isin(list(user))]\n",
    "    df2 = df2[df2.user_id.isin(list(user))]\n",
    "\n",
    "    new_data1 = []\n",
    "    new_data2 = []\n",
    "    for u in tqdm(user):\n",
    "        tmp_data2 = df2[df2.user_id == u][:-3].values.tolist()\n",
    "        tmp_data1 = df1[df1.user_id == u].values.tolist()\n",
    "        new_data1.extend(tmp_data1)\n",
    "        new_data2.extend(tmp_data2)\n",
    "    new_data1 = pd.DataFrame(new_data1, columns=df1.columns)\n",
    "    new_data2 = pd.DataFrame(new_data2, columns=df2.columns)\n",
    "    user_count = len(set(new_data1.user_id.values.tolist()))\n",
    "\n",
    "    reset_item = ItemResetDF()\n",
    "    new_data1 = reset_item.fit_transform(new_data1)\n",
    "\n",
    "    t_item_count = len(set(new_data1['item_id']))\n",
    "    print(new_data1.columns)\n",
    "    return new_data1, new_data2, user_count, t_item_count, s_item_count"
   ]
  },
  {
   "cell_type": "code",
   "execution_count": 24,
   "metadata": {
    "id": "BIYnyWru1QVq"
   },
   "outputs": [],
   "source": [
    "def colddataset(item_min, task, path1, path2):\n",
    "    target_data, source_data, user_count, t_item_count, s_item_count = construct_data(task, item_min, path1, path2)\n",
    "    \n",
    "    print(\"+++user_history+++\")\n",
    "    user_history = source_data.groupby('user_id').item_id.apply(list).to_dict()\n",
    "    target = target_data.groupby('user_id').item_id.apply(list).to_dict()\n",
    "    \n",
    "    # Modified part to include age and gender\n",
    "    age_gender_mapping = target_data.groupby('user_id').agg({'age': 'first', 'gender': 'first'}).to_dict()\n",
    "    \n",
    "    examples = []\n",
    "    for u, t_list in tqdm(target.items()):\n",
    "        for t in t_list:\n",
    "            # Modified part to include age and gender in examples\n",
    "            age_val = age_gender_mapping['age'][u]\n",
    "            gender_val = age_gender_mapping['gender'][u]\n",
    "            e_list = [user_history[u] + [0], t, age_val, gender_val]  # Add age and gender to the example list\n",
    "            examples.append(e_list)\n",
    "    examples = pd.DataFrame(examples, columns=['source', 'target', 'age', 'gender'])\n",
    "    return examples, user_count, s_item_count, t_item_count"
   ]
  },
  {
   "cell_type": "code",
   "execution_count": 25,
   "metadata": {
    "id": "HhP9dars1QVr"
   },
   "outputs": [],
   "source": [
    "class ColdDataset(data_utils.Dataset):\n",
    "    def __init__(self, x, y, max_len, pad_token):\n",
    "        self.seqs = x\n",
    "        self.targets = y\n",
    "        self.max_len = max_len\n",
    "        self.pad_token = pad_token\n",
    "\n",
    "    def __len__(self):\n",
    "        return len(self.seqs)\n",
    "\n",
    "    def __getitem__(self, index):\n",
    "        seq = self.seqs[index][-self.max_len:]\n",
    "        seq_len = len(seq)\n",
    "        seq_mask_len = self.max_len - seq_len\n",
    "        seq = [self.pad_token] * seq_mask_len + seq\n",
    "        target = self.targets[index]\n",
    "        return torch.LongTensor(seq), torch.LongTensor([target])\n"
   ]
  },
  {
   "cell_type": "code",
   "execution_count": 26,
   "metadata": {
    "id": "6YQxUt1p1QVt"
   },
   "outputs": [],
   "source": [
    "class ColdEvalDataset(data_utils.Dataset):\n",
    "    def __init__(self, x, y, max_len, pad_token, num_item):\n",
    "        self.seqs = x\n",
    "        self.targets = y\n",
    "        self.max_len = max_len\n",
    "        self.pad_token = pad_token\n",
    "        self.num_item = num_item + 1\n",
    "\n",
    "    def __len__(self):\n",
    "        return len(self.seqs)\n",
    "\n",
    "    def __getitem__(self, index):\n",
    "        seq = self.seqs[index][-self.max_len:]\n",
    "        seq_len = len(seq)\n",
    "        seq_mask_len = self.max_len - seq_len\n",
    "        seq = [self.pad_token] * seq_mask_len + seq\n",
    "        target = self.targets[index]\n",
    "        labels = [0] * self.num_item\n",
    "        labels[target] = 1\n",
    "        return torch.LongTensor(seq), torch.LongTensor(labels)"
   ]
  },
  {
   "cell_type": "code",
   "execution_count": 27,
   "metadata": {},
   "outputs": [],
   "source": [
    "x_test_for_bias_later = []\n",
    "y_test_for_bias_later = []"
   ]
  },
  {
   "cell_type": "code",
   "execution_count": 28,
   "metadata": {
    "id": "ZVpuSLxR1QVu"
   },
   "outputs": [],
   "source": [
    "def get_data(max_len=20, item_min=10, task=2, pad_token=0, path1=article_data_03, path2=video_data):\n",
    "    path1 = path1\n",
    "    path2 = path2\n",
    "\n",
    "    data, user_count, vocab_size, item_count = colddataset(item_min, task, path1, path2)\n",
    "\n",
    "    # Split data into train, validation, and test sets\n",
    "    x_train, x_test, y_train, y_test = train_test_split(data[['source', 'age', 'gender']],\n",
    "                                                        data['target'],\n",
    "                                                        test_size=0.2,\n",
    "                                                        random_state=512)\n",
    "    x_val, x_test, y_val, y_test = train_test_split(x_test,\n",
    "                                                    y_test,\n",
    "                                                    test_size=0.5,\n",
    "                                                    random_state=512)\n",
    "\n",
    "    x_test_for_bias_later.append(x_test)\n",
    "    y_test_for_bias_later.append(y_test)\n",
    "\n",
    "    # Convert the dataframes to arrays and then lists\n",
    "    x_train = {'seq_column': x_train['source'].values.tolist(),\n",
    "               'age_column': x_train['age'].values.tolist(),\n",
    "               'gender_column': x_train['gender'].values.tolist()}\n",
    "    y_train = y_train.values.tolist()\n",
    "\n",
    "    x_val = {'seq_column': x_val['source'].values.tolist(),\n",
    "             'age_column': x_val['age'].values.tolist(),\n",
    "             'gender_column': x_val['gender'].values.tolist()}\n",
    "    y_val = y_val.values.tolist()\n",
    "\n",
    "    x_test = {'seq_column': x_test['source'].values.tolist(),\n",
    "              'age_column': x_test['age'].values.tolist(),\n",
    "              'gender_column': x_test['gender'].values.tolist()}\n",
    "    y_test = y_test.values.tolist()\n",
    "\n",
    "    train_dataset = ColdDataset(x_train['seq_column'], y_train, max_len, pad_token)\n",
    "    valid_dataset = ColdEvalDataset(x_val['seq_column'], y_val, max_len, pad_token, item_count)\n",
    "    test_dataset = ColdEvalDataset(x_test['seq_column'], y_test, max_len, pad_token, item_count)\n",
    "\n",
    "    num_users = user_count\n",
    "    num_items = item_count\n",
    "    num_embeddings = vocab_size\n",
    "\n",
    "    train_dataloader = DataLoader(train_dataset, batch_size=1024, shuffle=True)\n",
    "    valid_dataloader = DataLoader(valid_dataset, batch_size=1024, shuffle=False)\n",
    "    test_dataloader = DataLoader(test_dataset, batch_size=1024, shuffle=False)\n",
    "\n",
    "    return train_dataloader, valid_dataloader, test_dataloader, num_users, num_items, num_embeddings"
   ]
  },
  {
   "cell_type": "code",
   "execution_count": 29,
   "metadata": {
    "id": "y4QBAULs1QVx"
   },
   "outputs": [],
   "source": [
    "def recalls_and_ndcgs_for_ks(scores, labels, ks):\n",
    "    metrics = {}\n",
    "\n",
    "    answer_count = labels.sum(1)\n",
    "    answer_count_float = answer_count.float()\n",
    "    labels_float = labels.float()\n",
    "\n",
    "    rank = (-scores).argsort(dim=1)\n",
    "    cut = rank\n",
    "\n",
    "    for k in sorted(ks, reverse=True):\n",
    "        cut = cut[:, :k]\n",
    "        hits = labels_float.gather(1, cut)\n",
    "        metrics[f'Recall@{k}'] = (hits.sum(1) / answer_count_float).mean().item()\n",
    "\n",
    "        position = torch.arange(2, 2 + k)\n",
    "        weights = 1 / torch.log2(position.float()).to('cpu')\n",
    "        dcg = (hits * weights).sum(1)\n",
    "        idcg = torch.Tensor([weights[:min(n, k)].sum() for n in answer_count]).to('cpu')\n",
    "        ndcg = (dcg / idcg).mean()\n",
    "        metrics[f'NDCG@{k}'] = ndcg.item()\n",
    "\n",
    "        # Compute mAP\n",
    "        ap_sum = 0\n",
    "        for i in range(len(hits)):\n",
    "            num_relevant_items = hits[i].sum().item()\n",
    "            if num_relevant_items > 0:\n",
    "                precision_at_k = (hits[i] / torch.arange(1, k + 1).float().to('cpu')).mean().item()\n",
    "                ap_sum += precision_at_k\n",
    "        mAP = ap_sum / len(hits)\n",
    "        metrics[f'mAP@{k}'] = mAP\n",
    "\n",
    "    return metrics"
   ]
  },
  {
   "cell_type": "code",
   "execution_count": 30,
   "metadata": {
    "id": "JS80ZYkr1QVx"
   },
   "outputs": [],
   "source": [
    "def Sequence_full_Validate(epoch, model, dataloader, writer, test=False):\n",
    "    print(\"+\" * 20, f\"{'Test' if test else 'Valid'} Epoch {epoch + 1}\", \"+\" * 20)\n",
    "    model.eval()\n",
    "    avg_metrics = {}\n",
    "    i = 0\n",
    "\n",
    "    with torch.no_grad():\n",
    "        for data in tqdm(dataloader):\n",
    "            data = [x.to('cpu') for x in data]\n",
    "            seqs, labels = data\n",
    "\n",
    "            if test:\n",
    "                scores = model.predict(seqs)\n",
    "            else:\n",
    "                scores = model(seqs)\n",
    "\n",
    "            scores = scores.mean(1)\n",
    "            metrics = recalls_and_ndcgs_for_ks(scores, labels, [5, 20])\n",
    "            i += 1\n",
    "\n",
    "            for key, value in metrics.items():\n",
    "                avg_metrics[key] = avg_metrics.get(key, 0) + value\n",
    "\n",
    "    for key, value in avg_metrics.items():\n",
    "        avg_metrics[key] /= i\n",
    "\n",
    "    print(avg_metrics)\n",
    "\n",
    "    for k in sorted([5, 20], reverse=True):\n",
    "        writer.add_scalar(f\"{'Test' if test else 'Train'}/NDCG@{k}\", avg_metrics[f\"NDCG@{k}\"], epoch)\n",
    "\n",
    "    return avg_metrics\n"
   ]
  },
  {
   "cell_type": "code",
   "execution_count": 31,
   "metadata": {
    "id": "tKa8vPHn1QVy"
   },
   "outputs": [],
   "source": [
    "def SequenceTrainer(epoch, model, dataloader, optimizer, writer):\n",
    "    print(\"+\" * 20, \"Train Epoch {}\".format(epoch + 1), \"+\" * 20)\n",
    "    model.train()\n",
    "    running_loss = 0\n",
    "    loss_fn = nn.CrossEntropyLoss(ignore_index=0)\n",
    "\n",
    "    for data in tqdm(dataloader):\n",
    "        optimizer.zero_grad()\n",
    "        data = [x.to('cpu') for x in data]\n",
    "        seqs, labels = data\n",
    "\n",
    "        logits = model(seqs)  # B x T x V\n",
    "        logits = logits.mean(1)\n",
    "        labels = labels.view(-1)\n",
    "\n",
    "        loss = loss_fn(logits, labels)\n",
    "        loss.backward()\n",
    "        optimizer.step()\n",
    "        running_loss += loss.detach().cpu().item()\n",
    "\n",
    "    writer.add_scalar('Train/loss', running_loss / len(dataloader), epoch)\n",
    "    print(\"Training CE Loss: {:.5f}\".format(running_loss / len(dataloader)))\n",
    "\n",
    "    return optimizer"
   ]
  },
  {
   "cell_type": "code",
   "execution_count": 32,
   "metadata": {
    "id": "yB02HRyp1QVy"
   },
   "outputs": [],
   "source": [
    "def SeqTrain(epochs, model, train_loader, val_loader, writer, is_parallel, is_pretrain, lr, weight_decay, local_rank):\n",
    "    device = torch.device('cpu')  # Use CPU as the default device\n",
    "    if torch.cuda.is_available():\n",
    "        device = torch.device('cuda')  # If GPU is available, use it as the default device\n",
    "\n",
    "    if is_pretrain == 0:\n",
    "        optimizer = optim.Adam(filter(lambda p: p.requires_grad, model.parameters()), lr=lr, weight_decay=weight_decay)\n",
    "    else:\n",
    "        optimizer = optim.Adam(model.parameters(), lr=lr, weight_decay=weight_decay)\n",
    "\n",
    "    model = model.to(device)  # Move the model to the chosen device\n",
    "    if is_parallel:\n",
    "        model = torch.nn.parallel.DistributedDataParallel(model, device_ids=[local_rank], output_device=local_rank)\n",
    "\n",
    "    best_metric = 0\n",
    "    all_time = 0\n",
    "    val_all_time = 0\n",
    "\n",
    "    for epoch in range(epochs):\n",
    "        since = time.time()\n",
    "        optimizer = SequenceTrainer(epoch, model, train_loader, optimizer, writer)\n",
    "        tmp = time.time() - since\n",
    "        print('one epoch train:', tmp)\n",
    "        all_time += tmp\n",
    "\n",
    "        val_since = time.time()\n",
    "        metrics = Sequence_full_Validate(epoch, model, val_loader, writer)\n",
    "        val_tmp = time.time() - val_since\n",
    "        print('one epoch val:', val_tmp)\n",
    "        val_all_time += val_tmp\n",
    "\n",
    "        i = 1\n",
    "        current_metric = metrics['NDCG@5']\n",
    "        if best_metric <= current_metric:\n",
    "            best_metric = current_metric\n",
    "            best_model = deepcopy(model)\n",
    "            state_dict = model.state_dict()\n",
    "        else:\n",
    "            i += 1\n",
    "            if i == 10:\n",
    "                print('early stop!')\n",
    "                break\n",
    "\n",
    "    print('train_time:', all_time)\n",
    "    print('val_time:', val_all_time)\n",
    "    return best_model\n"
   ]
  },
  {
   "cell_type": "code",
   "execution_count": 33,
   "metadata": {
    "id": "EyifwWcr1QVz"
   },
   "outputs": [],
   "source": [
    "class Attention(nn.Module):\n",
    "    def forward(self, query, key, value, mask=None, dropout=None):\n",
    "        scores = torch.matmul(query, key.transpose(-2, -1)) / math.sqrt(query.size(-1))\n",
    "        if mask is not None:\n",
    "            scores = scores.masked_fill(mask == 0, -1e9)\n",
    "        p_attn = F.softmax(scores, dim=-1)\n",
    "        if dropout is not None:\n",
    "            p_attn = dropout(p_attn)\n",
    "        return torch.matmul(p_attn, value), p_attn\n",
    "\n",
    "class GELU(nn.Module):\n",
    "    def forward(self, x):\n",
    "        return 0.5 * x * (1 + torch.tanh(math.sqrt(2 / math.pi) * (x + 0.044715 * torch.pow(x, 3))))\n",
    "\n",
    "class PositionwiseFeedForward(nn.Module):\n",
    "    def __init__(self, d_model, d_ff, dropout=0.1):\n",
    "        super(PositionwiseFeedForward, self).__init__()\n",
    "        self.w_1 = nn.Linear(d_model, d_ff)\n",
    "        self.w_2 = nn.Linear(d_ff, d_model)\n",
    "        self.dropout = nn.Dropout(dropout)\n",
    "        self.activation = GELU()\n",
    "\n",
    "    def forward(self, x):\n",
    "        return self.w_2(self.dropout(self.activation(self.w_1(x))))\n",
    "\n",
    "class SublayerConnection(nn.Module):\n",
    "    def __init__(self, size, dropout):\n",
    "        super(SublayerConnection, self).__init__()\n",
    "        self.norm = nn.LayerNorm(size)\n",
    "        self.dropout = nn.Dropout(dropout)\n",
    "\n",
    "    def forward(self, x, sublayer):\n",
    "        return x + self.dropout(sublayer(self.norm(x)))\n",
    "\n",
    "class MultiHeadedAttention(nn.Module):\n",
    "    def __init__(self, h, d_model, dropout=0.1):\n",
    "        super(MultiHeadedAttention, self).__init__()\n",
    "        assert d_model % h == 0\n",
    "        self.d_k = d_model // h\n",
    "        self.h = h\n",
    "        self.linear_layers = nn.ModuleList([nn.Linear(d_model, d_model) for _ in range(3)])\n",
    "        self.output_linear = nn.Linear(d_model, d_model)\n",
    "        self.attention = Attention()\n",
    "        self.dropout = nn.Dropout(p=dropout)\n",
    "\n",
    "    def forward(self, query, key, value, mask=None):\n",
    "        batch_size = query.size(0)\n",
    "        query, key, value = [l(x).view(batch_size, -1, self.h, self.d_k).transpose(1, 2)\n",
    "                             for l, x in zip(self.linear_layers, (query, key, value))]\n",
    "        x, attn = self.attention(query, key, value, mask=mask, dropout=self.dropout)\n",
    "        x = x.transpose(1, 2).contiguous().view(batch_size, -1, self.h * self.d_k)\n",
    "        return self.output_linear(x)\n",
    "\n",
    "class PositionalEmbedding(nn.Module):\n",
    "    def __init__(self, max_len, d_model):\n",
    "        super(PositionalEmbedding, self).__init__()\n",
    "        self.pe = nn.Embedding(max_len, d_model)\n",
    "\n",
    "    def forward(self, x):\n",
    "        batch_size = x.size(0)\n",
    "        return self.pe.weight.unsqueeze(0).repeat(batch_size, 1, 1)\n",
    "\n",
    "class TokenEmbedding(nn.Embedding):\n",
    "    def __init__(self, vocab_size, embed_size=512):\n",
    "        super(TokenEmbedding, self).__init__(vocab_size, embed_size, padding_idx=0)\n",
    "\n",
    "class BERTEmbedding(nn.Module):\n",
    "    def __init__(self, vocab_size, embed_size, max_len, dropout=0.1):\n",
    "        super(BERTEmbedding, self).__init__()\n",
    "        self.token = TokenEmbedding(vocab_size=vocab_size, embed_size=embed_size)\n",
    "        self.position = PositionalEmbedding(max_len=max_len, d_model=embed_size)\n",
    "        self.dropout = nn.Dropout(p=dropout)\n",
    "        self.embed_size = embed_size\n",
    "\n",
    "    def forward(self, sequence):\n",
    "        x = self.token(sequence) + self.position(sequence)\n",
    "        return self.dropout(x)\n",
    "\n",
    "class TransformerBlock(nn.Module):\n",
    "    def __init__(self, hidden, attn_heads, feed_forward_hidden, dropout):\n",
    "        super(TransformerBlock, self).__init__()\n",
    "        self.attention = MultiHeadedAttention(h=attn_heads, d_model=hidden, dropout=dropout)\n",
    "        self.feed_forward = PositionwiseFeedForward(d_model=hidden, d_ff=feed_forward_hidden, dropout=dropout)\n",
    "        self.input_sublayer = SublayerConnection(size=hidden, dropout=dropout)\n",
    "        self.output_sublayer = SublayerConnection(size=hidden, dropout=dropout)\n",
    "        self.dropout = nn.Dropout(p=dropout)\n",
    "\n",
    "    def forward(self, x, mask):\n",
    "        x = self.input_sublayer(x, lambda _x: self.attention.forward(_x, _x, _x, mask=mask))\n",
    "        x = self.output_sublayer(x, self.feed_forward)\n",
    "        return self.dropout(x)\n",
    "\n",
    "class bottle_net(nn.Module):\n",
    "    def __init__(self, hidden):\n",
    "        super(bottle_net, self).__init__()\n",
    "        self.hidden = hidden\n",
    "        self.hidden_size = int(hidden / 4)\n",
    "        self.linear1 = nn.Linear(self.hidden, self.hidden_size)\n",
    "        self.linear2 = nn.Linear(self.hidden_size, self.hidden)\n",
    "        self.ln = nn.LayerNorm(self.hidden, eps=1e-8)\n",
    "\n",
    "    def forward(self, x):\n",
    "        out = self.linear1(x)\n",
    "        out = F.leaky_relu(out)\n",
    "        out = self.linear2(out)\n",
    "        out = self.ln(out)\n",
    "        return\n",
    "        return out\n",
    "\n",
    "class BERT(nn.Module):\n",
    "    def __init__(self, max_len, block_num, num_embedding, hidden_size, is_mp, dropout):\n",
    "        super(BERT, self).__init__()\n",
    "        max_len = max_len\n",
    "        n_layers = block_num\n",
    "        heads = block_num\n",
    "        vocab_size = num_embedding + 1\n",
    "        hidden = hidden_size\n",
    "        self.hidden = hidden\n",
    "        self.is_mp = is_mp\n",
    "        dropout = dropout\n",
    "\n",
    "        # embedding for BERT, sum of positional, segment, token embeddings\n",
    "        self.embedding = BERTEmbedding(vocab_size=vocab_size, embed_size=self.hidden, max_len=max_len, dropout=dropout)\n",
    "\n",
    "        transformer_blocks = []\n",
    "        for _ in range(n_layers):\n",
    "            transformer_blocks.append(TransformerBlock(hidden, heads, hidden * 4, dropout))\n",
    "            if self.is_mp:\n",
    "                transformer_blocks.append(bottle_net(self.hidden))\n",
    "        self.transformer_blocks = nn.ModuleList(transformer_blocks)\n",
    "\n",
    "    def forward(self, x):\n",
    "        mask = (x > 0).unsqueeze(1).repeat(1, x.size(1), 1).unsqueeze(1)\n",
    "\n",
    "        # embedding the indexed sequence to a sequence of vectors\n",
    "        x = self.embedding(x)\n",
    "\n",
    "        # running over multiple transformer blocks\n",
    "        for i, block in enumerate(self.transformer_blocks):\n",
    "            mp_input = x\n",
    "            if i % 2 == 0:\n",
    "                x = block.forward(x, mask)\n",
    "            else:\n",
    "                if self.is_mp:\n",
    "                    mp_out = block(mp_input)\n",
    "                    x = mp_out + x\n",
    "        return x\n",
    "\n",
    "    def init_weights(self):\n",
    "        pass"
   ]
  },
  {
   "cell_type": "code",
   "execution_count": 34,
   "metadata": {
    "id": "-KTchGYK1QV1"
   },
   "outputs": [],
   "source": [
    "class BERT_ColdstartModel(nn.Module):\n",
    "    def __init__(self, num_items, max_len, block_num, num_heads, num_embedding, hidden_size, is_mp, dropout):\n",
    "        super(BERT_ColdstartModel, self).__init__()\n",
    "        self.bert = BERT(max_len, block_num, num_embedding, hidden_size, is_mp, dropout)\n",
    "        self.num_items = num_items\n",
    "        self.out = nn.Linear(self.bert.hidden, num_items + 1)\n",
    "\n",
    "    def forward(self, x):\n",
    "        x = self.bert(x)\n",
    "        return self.out(x)\n",
    "\n",
    "    def predict(self, x, item):\n",
    "        x = self.bert(x)\n",
    "        item_emb = self.bert.embedding.token(item)\n",
    "        logits = x.matmul(item_emb.transpose(1, 2))\n",
    "        logits = logits.mean(1)\n",
    "\n",
    "        return logits"
   ]
  },
  {
   "cell_type": "markdown",
   "metadata": {},
   "source": [
    "## Here all four models using the four different concentrations of cold users will be used as the target to simualte the steps used in the paper. The hyper parameters will be kept constant similar to on of the ones used in the experiments in the paper throughout the four trials in order to avoid having them affect the results."
   ]
  },
  {
   "cell_type": "markdown",
   "metadata": {
    "id": "1SsN6AWW-rl6"
   },
   "source": [
    "### For the model using the zero percent cold data as the target"
   ]
  },
  {
   "cell_type": "code",
   "execution_count": 35,
   "metadata": {
    "colab": {
     "base_uri": "https://localhost:8080/"
    },
    "id": "RK9HtJNK1QV2",
    "outputId": "0ccc7fcc-84f0-46ee-a6b0-b9802eb62f9f"
   },
   "outputs": [
    {
     "name": "stdout",
     "output_type": "stream",
     "text": [
      "Fetching the data and parameters\n"
     ]
    },
    {
     "name": "stderr",
     "output_type": "stream",
     "text": [
      "100%|█████████████████████████████████████████████████████████████████████████████| 2313/2313 [00:05<00:00, 462.03it/s]\n"
     ]
    },
    {
     "name": "stdout",
     "output_type": "stream",
     "text": [
      "Index(['user_id', 'item_id', 'age', 'gender', 'like'], dtype='object')\n",
      "+++user_history+++\n"
     ]
    },
    {
     "name": "stderr",
     "output_type": "stream",
     "text": [
      "100%|██████████████████████████████████████████████████████████████████████████| 2313/2313 [00:00<00:00, 144568.67it/s]\n"
     ]
    },
    {
     "name": "stdout",
     "output_type": "stream",
     "text": [
      "Training the Model\n",
      "++++++++++++++++++++ Train Epoch 1 ++++++++++++++++++++\n"
     ]
    },
    {
     "name": "stderr",
     "output_type": "stream",
     "text": [
      "100%|████████████████████████████████████████████████████████████████████████████████████| 4/4 [00:16<00:00,  4.06s/it]\n"
     ]
    },
    {
     "name": "stdout",
     "output_type": "stream",
     "text": [
      "Training CE Loss: 8.08926\n",
      "one epoch train: 16.268943548202515\n",
      "++++++++++++++++++++ Valid Epoch 1 ++++++++++++++++++++\n"
     ]
    },
    {
     "name": "stderr",
     "output_type": "stream",
     "text": [
      "100%|████████████████████████████████████████████████████████████████████████████████████| 1/1 [00:01<00:00,  1.00s/it]\n"
     ]
    },
    {
     "name": "stdout",
     "output_type": "stream",
     "text": [
      "{'Recall@20': 0.00923787523061037, 'NDCG@20': 0.003928209654986858, 'mAP@20': 0.00011547344605552407, 'Recall@5': 0.006928406655788422, 'NDCG@5': 0.003304102923721075, 'mAP@5': 0.00042340263517844486}\n",
      "one epoch val: 1.0146448612213135\n",
      "++++++++++++++++++++ Train Epoch 2 ++++++++++++++++++++\n"
     ]
    },
    {
     "name": "stderr",
     "output_type": "stream",
     "text": [
      "100%|████████████████████████████████████████████████████████████████████████████████████| 4/4 [00:14<00:00,  3.56s/it]\n"
     ]
    },
    {
     "name": "stdout",
     "output_type": "stream",
     "text": [
      "Training CE Loss: 8.02999\n",
      "one epoch train: 14.249621868133545\n",
      "++++++++++++++++++++ Valid Epoch 2 ++++++++++++++++++++\n"
     ]
    },
    {
     "name": "stderr",
     "output_type": "stream",
     "text": [
      "100%|████████████████████████████████████████████████████████████████████████████████████| 1/1 [00:00<00:00,  1.07it/s]\n"
     ]
    },
    {
     "name": "stdout",
     "output_type": "stream",
     "text": [
      "{'Recall@20': 0.01154734380543232, 'NDCG@20': 0.004889864474534988, 'mAP@20': 0.00014296712302204917, 'Recall@5': 0.00923787523061037, 'NDCG@5': 0.004298737272620201, 'mAP@5': 0.0005388760780076782}\n",
      "one epoch val: 0.946002721786499\n",
      "++++++++++++++++++++ Train Epoch 3 ++++++++++++++++++++\n"
     ]
    },
    {
     "name": "stderr",
     "output_type": "stream",
     "text": [
      "100%|████████████████████████████████████████████████████████████████████████████████████| 4/4 [00:14<00:00,  3.60s/it]\n"
     ]
    },
    {
     "name": "stdout",
     "output_type": "stream",
     "text": [
      "Training CE Loss: 7.97784\n",
      "one epoch train: 14.411521434783936\n",
      "++++++++++++++++++++ Valid Epoch 3 ++++++++++++++++++++\n"
     ]
    },
    {
     "name": "stderr",
     "output_type": "stream",
     "text": [
      "100%|████████████████████████████████████████████████████████████████████████████████████| 1/1 [00:00<00:00,  1.36it/s]\n"
     ]
    },
    {
     "name": "stdout",
     "output_type": "stream",
     "text": [
      "{'Recall@20': 0.013856813311576843, 'NDCG@20': 0.006980007514357567, 'mAP@20': 0.00024730562367938956, 'Recall@5': 0.006928406655788422, 'NDCG@5': 0.004761215765029192, 'mAP@5': 0.0008083140998046337}\n",
      "one epoch val: 0.7439985275268555\n",
      "++++++++++++++++++++ Train Epoch 4 ++++++++++++++++++++\n"
     ]
    },
    {
     "name": "stderr",
     "output_type": "stream",
     "text": [
      "100%|████████████████████████████████████████████████████████████████████████████████████| 4/4 [00:12<00:00,  3.11s/it]\n"
     ]
    },
    {
     "name": "stdout",
     "output_type": "stream",
     "text": [
      "Training CE Loss: 7.91464\n",
      "one epoch train: 12.426189422607422\n",
      "++++++++++++++++++++ Valid Epoch 4 ++++++++++++++++++++\n"
     ]
    },
    {
     "name": "stderr",
     "output_type": "stream",
     "text": [
      "100%|████████████████████████████████████████████████████████████████████████████████████| 1/1 [00:00<00:00,  1.27it/s]\n"
     ]
    },
    {
     "name": "stdout",
     "output_type": "stream",
     "text": [
      "{'Recall@20': 0.032332561910152435, 'NDCG@20': 0.011407258920371532, 'mAP@20': 0.0002948562103790375, 'Recall@5': 0.006928406655788422, 'NDCG@5': 0.0044588372111320496, 'mAP@5': 0.0007313318103207727}\n",
      "one epoch val: 0.7929995059967041\n",
      "++++++++++++++++++++ Train Epoch 5 ++++++++++++++++++++\n"
     ]
    },
    {
     "name": "stderr",
     "output_type": "stream",
     "text": [
      "100%|████████████████████████████████████████████████████████████████████████████████████| 4/4 [00:12<00:00,  3.15s/it]\n"
     ]
    },
    {
     "name": "stdout",
     "output_type": "stream",
     "text": [
      "Training CE Loss: 7.84633\n",
      "one epoch train: 12.621477842330933\n",
      "++++++++++++++++++++ Valid Epoch 5 ++++++++++++++++++++\n"
     ]
    },
    {
     "name": "stderr",
     "output_type": "stream",
     "text": [
      "100%|████████████████████████████████████████████████████████████████████████████████████| 1/1 [00:00<00:00,  1.27it/s]\n"
     ]
    },
    {
     "name": "stdout",
     "output_type": "stream",
     "text": [
      "{'Recall@20': 0.03695150092244148, 'NDCG@20': 0.013416627421975136, 'mAP@20': 0.0003530477548951571, 'Recall@5': 0.01154734380543232, 'NDCG@5': 0.0063468958251178265, 'mAP@5': 0.0009391840039720161}\n",
      "one epoch val: 0.8010039329528809\n",
      "++++++++++++++++++++ Train Epoch 6 ++++++++++++++++++++\n"
     ]
    },
    {
     "name": "stderr",
     "output_type": "stream",
     "text": [
      "100%|████████████████████████████████████████████████████████████████████████████████████| 4/4 [00:12<00:00,  3.16s/it]\n"
     ]
    },
    {
     "name": "stdout",
     "output_type": "stream",
     "text": [
      "Training CE Loss: 7.77225\n",
      "one epoch train: 12.644592523574829\n",
      "++++++++++++++++++++ Valid Epoch 6 ++++++++++++++++++++\n"
     ]
    },
    {
     "name": "stderr",
     "output_type": "stream",
     "text": [
      "100%|████████████████████████████████████████████████████████████████████████████████████| 1/1 [00:00<00:00,  1.23it/s]\n"
     ]
    },
    {
     "name": "stdout",
     "output_type": "stream",
     "text": [
      "{'Recall@20': 0.03695150092244148, 'NDCG@20': 0.013457056134939194, 'mAP@20': 0.00035422098689538365, 'Recall@5': 0.013856813311576843, 'NDCG@5': 0.007139110472053289, 'mAP@5': 0.0010084680627868027}\n",
      "one epoch val: 0.8269975185394287\n",
      "++++++++++++++++++++ Train Epoch 7 ++++++++++++++++++++\n"
     ]
    },
    {
     "name": "stderr",
     "output_type": "stream",
     "text": [
      "100%|████████████████████████████████████████████████████████████████████████████████████| 4/4 [00:12<00:00,  3.25s/it]\n"
     ]
    },
    {
     "name": "stdout",
     "output_type": "stream",
     "text": [
      "Training CE Loss: 7.71917\n",
      "one epoch train: 13.00053858757019\n",
      "++++++++++++++++++++ Valid Epoch 7 ++++++++++++++++++++\n"
     ]
    },
    {
     "name": "stderr",
     "output_type": "stream",
     "text": [
      "100%|████████████████████████████████████████████████████████████████████████████████████| 1/1 [00:00<00:00,  1.09it/s]\n"
     ]
    },
    {
     "name": "stdout",
     "output_type": "stream",
     "text": [
      "{'Recall@20': 0.03695150092244148, 'NDCG@20': 0.013151466846466064, 'mAP@20': 0.0003372790548933227, 'Recall@5': 0.006928406655788422, 'NDCG@5': 0.004357627592980862, 'mAP@5': 0.0007082371183135493}\n",
      "one epoch val: 0.9265186786651611\n",
      "++++++++++++++++++++ Train Epoch 8 ++++++++++++++++++++\n"
     ]
    },
    {
     "name": "stderr",
     "output_type": "stream",
     "text": [
      "100%|████████████████████████████████████████████████████████████████████████████████████| 4/4 [00:13<00:00,  3.47s/it]\n"
     ]
    },
    {
     "name": "stdout",
     "output_type": "stream",
     "text": [
      "Training CE Loss: 7.67106\n",
      "one epoch train: 13.87448263168335\n",
      "++++++++++++++++++++ Valid Epoch 8 ++++++++++++++++++++\n"
     ]
    },
    {
     "name": "stderr",
     "output_type": "stream",
     "text": [
      "100%|████████████████████████████████████████████████████████████████████████████████████| 1/1 [00:00<00:00,  1.26it/s]\n"
     ]
    },
    {
     "name": "stdout",
     "output_type": "stream",
     "text": [
      "{'Recall@20': 0.032332561910152435, 'NDCG@20': 0.01214982196688652, 'mAP@20': 0.0003301181962743711, 'Recall@5': 0.01154734380543232, 'NDCG@5': 0.0062456862069666386, 'mAP@5': 0.0009160893119647927}\n",
      "one epoch val: 0.804999589920044\n",
      "++++++++++++++++++++ Train Epoch 9 ++++++++++++++++++++\n"
     ]
    },
    {
     "name": "stderr",
     "output_type": "stream",
     "text": [
      "100%|████████████████████████████████████████████████████████████████████████████████████| 4/4 [00:14<00:00,  3.57s/it]\n"
     ]
    },
    {
     "name": "stdout",
     "output_type": "stream",
     "text": [
      "Training CE Loss: 7.61518\n",
      "one epoch train: 14.300080060958862\n",
      "++++++++++++++++++++ Valid Epoch 9 ++++++++++++++++++++\n"
     ]
    },
    {
     "name": "stderr",
     "output_type": "stream",
     "text": [
      "100%|████████████████████████████████████████████████████████████████████████████████████| 1/1 [00:00<00:00,  1.20it/s]\n"
     ]
    },
    {
     "name": "stdout",
     "output_type": "stream",
     "text": [
      "{'Recall@20': 0.03695150092244148, 'NDCG@20': 0.014380352571606636, 'mAP@20': 0.0004206204487927103, 'Recall@5': 0.01154734380543232, 'NDCG@5': 0.007501630112528801, 'mAP@5': 0.001247113179114344}\n",
      "one epoch val: 0.8460006713867188\n",
      "++++++++++++++++++++ Train Epoch 10 ++++++++++++++++++++\n"
     ]
    },
    {
     "name": "stderr",
     "output_type": "stream",
     "text": [
      "100%|████████████████████████████████████████████████████████████████████████████████████| 4/4 [00:14<00:00,  3.58s/it]\n"
     ]
    },
    {
     "name": "stdout",
     "output_type": "stream",
     "text": [
      "Training CE Loss: 7.58443\n",
      "one epoch train: 14.324456691741943\n",
      "++++++++++++++++++++ Valid Epoch 10 ++++++++++++++++++++\n"
     ]
    },
    {
     "name": "stderr",
     "output_type": "stream",
     "text": [
      "100%|████████████████████████████████████████████████████████████████████████████████████| 1/1 [00:01<00:00,  1.00s/it]"
     ]
    },
    {
     "name": "stdout",
     "output_type": "stream",
     "text": [
      "{'Recall@20': 0.032332561910152435, 'NDCG@20': 0.012348602525889874, 'mAP@20': 0.0003463310699299081, 'Recall@5': 0.00923787523061037, 'NDCG@5': 0.005755849648267031, 'mAP@5': 0.0009237875426338671}\n",
      "one epoch val: 1.0140020847320557\n",
      "train_time: 138.12190461158752\n",
      "val_time: 8.717168092727661\n"
     ]
    },
    {
     "name": "stderr",
     "output_type": "stream",
     "text": [
      "\n"
     ]
    }
   ],
   "source": [
    "print('Fetching the data and parameters')\n",
    "train_dataloader, valid_dataloader, test_dataloader_0, num_users, num_items, num_embeddings = get_data(path1 = article_data_0, path2 = video_data)\n",
    "num_items, max_len, block_num, num_heads, num_embedding, hidden_size, is_mp, dropout = num_items, 20, 2, 4, num_embeddings, 128, False, 0.3\n",
    "model_0 = BERT_ColdstartModel(num_items, max_len, block_num, num_heads, num_embedding, hidden_size, is_mp, dropout)\n",
    "writer = SummaryWriter()\n",
    "print('Training the Model')\n",
    "model_0_best = SeqTrain(10, model_0, train_dataloader, valid_dataloader, writer,is_pretrain = 1 ,is_parallel=False, lr = 0.001, weight_decay=0.0001, local_rank=1)"
   ]
  },
  {
   "cell_type": "markdown",
   "metadata": {},
   "source": [
    "### For the model using the thirty percent cold data as the target"
   ]
  },
  {
   "cell_type": "code",
   "execution_count": 36,
   "metadata": {},
   "outputs": [
    {
     "name": "stdout",
     "output_type": "stream",
     "text": [
      "Fetching the data and parameters\n"
     ]
    },
    {
     "name": "stderr",
     "output_type": "stream",
     "text": [
      "100%|█████████████████████████████████████████████████████████████████████████████| 5439/5439 [00:09<00:00, 593.66it/s]\n"
     ]
    },
    {
     "name": "stdout",
     "output_type": "stream",
     "text": [
      "Index(['user_id', 'item_id', 'age', 'gender', 'like'], dtype='object')\n",
      "+++user_history+++\n"
     ]
    },
    {
     "name": "stderr",
     "output_type": "stream",
     "text": [
      "100%|██████████████████████████████████████████████████████████████████████████| 5439/5439 [00:00<00:00, 102512.94it/s]\n"
     ]
    },
    {
     "name": "stdout",
     "output_type": "stream",
     "text": [
      "Training the Model\n",
      "++++++++++++++++++++ Train Epoch 1 ++++++++++++++++++++\n"
     ]
    },
    {
     "name": "stderr",
     "output_type": "stream",
     "text": [
      "100%|██████████████████████████████████████████████████████████████████████████████████| 26/26 [03:18<00:00,  7.65s/it]\n"
     ]
    },
    {
     "name": "stdout",
     "output_type": "stream",
     "text": [
      "Training CE Loss: 9.58101\n",
      "one epoch train: 198.80039286613464\n",
      "++++++++++++++++++++ Valid Epoch 1 ++++++++++++++++++++\n"
     ]
    },
    {
     "name": "stderr",
     "output_type": "stream",
     "text": [
      "100%|████████████████████████████████████████████████████████████████████████████████████| 4/4 [00:24<00:00,  6.02s/it]\n"
     ]
    },
    {
     "name": "stdout",
     "output_type": "stream",
     "text": [
      "{'Recall@20': 0.013907449319958687, 'NDCG@20': 0.005164245143532753, 'mAP@20': 0.00014248322100439504, 'Recall@5': 0.004391675814986229, 'NDCG@5': 0.0026928020524792373, 'mAP@5': 0.0004262419402863482}\n",
      "one epoch val: 24.104546070098877\n",
      "++++++++++++++++++++ Train Epoch 2 ++++++++++++++++++++\n"
     ]
    },
    {
     "name": "stderr",
     "output_type": "stream",
     "text": [
      "100%|██████████████████████████████████████████████████████████████████████████████████| 26/26 [03:26<00:00,  7.94s/it]\n"
     ]
    },
    {
     "name": "stdout",
     "output_type": "stream",
     "text": [
      "Training CE Loss: 9.26835\n",
      "one epoch train: 206.33382940292358\n",
      "++++++++++++++++++++ Valid Epoch 2 ++++++++++++++++++++\n"
     ]
    },
    {
     "name": "stderr",
     "output_type": "stream",
     "text": [
      "100%|████████████████████████████████████████████████████████████████████████████████████| 4/4 [00:28<00:00,  7.18s/it]\n"
     ]
    },
    {
     "name": "stdout",
     "output_type": "stream",
     "text": [
      "{'Recall@20': 0.020740531384944916, 'NDCG@20': 0.00784016097895801, 'mAP@20': 0.0002144563364248298, 'Recall@5': 0.008295070379972458, 'NDCG@5': 0.004450284119229764, 'mAP@5': 0.0006409429204627246}\n",
      "one epoch val: 28.723155736923218\n",
      "++++++++++++++++++++ Train Epoch 3 ++++++++++++++++++++\n"
     ]
    },
    {
     "name": "stderr",
     "output_type": "stream",
     "text": [
      "100%|██████████████████████████████████████████████████████████████████████████████████| 26/26 [03:36<00:00,  8.32s/it]\n"
     ]
    },
    {
     "name": "stdout",
     "output_type": "stream",
     "text": [
      "Training CE Loss: 9.11436\n",
      "one epoch train: 216.29137754440308\n",
      "++++++++++++++++++++ Valid Epoch 3 ++++++++++++++++++++\n"
     ]
    },
    {
     "name": "stderr",
     "output_type": "stream",
     "text": [
      "100%|████████████████████████████████████████████████████████████████████████████████████| 4/4 [00:24<00:00,  6.10s/it]\n"
     ]
    },
    {
     "name": "stdout",
     "output_type": "stream",
     "text": [
      "{'Recall@20': 0.018057839944958687, 'NDCG@20': 0.0067954916739836335, 'mAP@20': 0.0001880069939072562, 'Recall@5': 0.005612378939986229, 'NDCG@5': 0.0033985035261139274, 'mAP@5': 0.0005345252076939054}\n",
      "one epoch val: 24.39354681968689\n",
      "++++++++++++++++++++ Train Epoch 4 ++++++++++++++++++++\n"
     ]
    },
    {
     "name": "stderr",
     "output_type": "stream",
     "text": [
      "100%|██████████████████████████████████████████████████████████████████████████████████| 26/26 [03:29<00:00,  8.06s/it]\n"
     ]
    },
    {
     "name": "stdout",
     "output_type": "stream",
     "text": [
      "Training CE Loss: 9.04951\n",
      "one epoch train: 209.69565868377686\n",
      "++++++++++++++++++++ Valid Epoch 4 ++++++++++++++++++++\n"
     ]
    },
    {
     "name": "stderr",
     "output_type": "stream",
     "text": [
      "100%|████████████████████████████████████████████████████████████████████████████████████| 4/4 [00:29<00:00,  7.47s/it]\n"
     ]
    },
    {
     "name": "stdout",
     "output_type": "stream",
     "text": [
      "{'Recall@20': 0.016592996194958687, 'NDCG@20': 0.00765994330868125, 'mAP@20': 0.00026029984735321024, 'Recall@5': 0.006830226629972458, 'NDCG@5': 0.004927051777485758, 'mAP@5': 0.0008585183797485865}\n",
      "one epoch val: 29.91021156311035\n",
      "++++++++++++++++++++ Train Epoch 5 ++++++++++++++++++++\n"
     ]
    },
    {
     "name": "stderr",
     "output_type": "stream",
     "text": [
      "100%|██████████████████████████████████████████████████████████████████████████████████| 26/26 [03:08<00:00,  7.24s/it]\n"
     ]
    },
    {
     "name": "stdout",
     "output_type": "stream",
     "text": [
      "Training CE Loss: 8.97030\n",
      "one epoch train: 188.2132112979889\n",
      "++++++++++++++++++++ Valid Epoch 5 ++++++++++++++++++++\n"
     ]
    },
    {
     "name": "stderr",
     "output_type": "stream",
     "text": [
      "100%|████████████████████████████████████████████████████████████████████████████████████| 4/4 [00:22<00:00,  5.58s/it]\n"
     ]
    },
    {
     "name": "stdout",
     "output_type": "stream",
     "text": [
      "{'Recall@20': 0.017566703259944916, 'NDCG@20': 0.0073215708252973855, 'mAP@20': 0.00022301186645969125, 'Recall@5': 0.006586086004972458, 'NDCG@5': 0.004210090031847358, 'mAP@5': 0.000680676451327876}\n",
      "one epoch val: 22.338998794555664\n",
      "++++++++++++++++++++ Train Epoch 6 ++++++++++++++++++++\n"
     ]
    },
    {
     "name": "stderr",
     "output_type": "stream",
     "text": [
      "100%|██████████████████████████████████████████████████████████████████████████████████| 26/26 [03:08<00:00,  7.25s/it]\n"
     ]
    },
    {
     "name": "stdout",
     "output_type": "stream",
     "text": [
      "Training CE Loss: 8.85155\n",
      "one epoch train: 188.52300000190735\n",
      "++++++++++++++++++++ Valid Epoch 6 ++++++++++++++++++++\n"
     ]
    },
    {
     "name": "stderr",
     "output_type": "stream",
     "text": [
      "100%|████████████████████████████████████████████████████████████████████████████████████| 4/4 [00:21<00:00,  5.41s/it]\n"
     ]
    },
    {
     "name": "stdout",
     "output_type": "stream",
     "text": [
      "{'Recall@20': 0.020252250134944916, 'NDCG@20': 0.00937679735943675, 'mAP@20': 0.0003186939368991883, 'Recall@5': 0.009512918069958687, 'NDCG@5': 0.006458194111473858, 'mAP@5': 0.0010903092046572172}\n",
      "one epoch val: 21.663000106811523\n",
      "++++++++++++++++++++ Train Epoch 7 ++++++++++++++++++++\n"
     ]
    },
    {
     "name": "stderr",
     "output_type": "stream",
     "text": [
      "100%|██████████████████████████████████████████████████████████████████████████████████| 26/26 [03:05<00:00,  7.12s/it]\n"
     ]
    },
    {
     "name": "stdout",
     "output_type": "stream",
     "text": [
      "Training CE Loss: 8.69589\n",
      "one epoch train: 185.20500326156616\n",
      "++++++++++++++++++++ Valid Epoch 7 ++++++++++++++++++++\n"
     ]
    },
    {
     "name": "stderr",
     "output_type": "stream",
     "text": [
      "100%|████████████████████████████████████████████████████████████████████████████████████| 4/4 [00:21<00:00,  5.26s/it]\n"
     ]
    },
    {
     "name": "stdout",
     "output_type": "stream",
     "text": [
      "{'Recall@20': 0.016104714944958687, 'NDCG@20': 0.006794552900828421, 'mAP@20': 0.00021864180412420445, 'Recall@5': 0.003903394564986229, 'NDCG@5': 0.0034344953019171953, 'mAP@5': 0.0006561672014825687}\n",
      "one epoch val: 21.035006761550903\n",
      "++++++++++++++++++++ Train Epoch 8 ++++++++++++++++++++\n"
     ]
    },
    {
     "name": "stderr",
     "output_type": "stream",
     "text": [
      "100%|██████████████████████████████████████████████████████████████████████████████████| 26/26 [03:05<00:00,  7.13s/it]\n"
     ]
    },
    {
     "name": "stdout",
     "output_type": "stream",
     "text": [
      "Training CE Loss: 8.48682\n",
      "one epoch train: 185.43699193000793\n",
      "++++++++++++++++++++ Valid Epoch 8 ++++++++++++++++++++\n"
     ]
    },
    {
     "name": "stderr",
     "output_type": "stream",
     "text": [
      "100%|████████████████████████████████████████████████████████████████████████████████████| 4/4 [00:20<00:00,  5.24s/it]\n"
     ]
    },
    {
     "name": "stdout",
     "output_type": "stream",
     "text": [
      "{'Recall@20': 0.011224757879972458, 'NDCG@20': 0.005443307687528431, 'mAP@20': 0.00019075456088879766, 'Recall@5': 0.005853664129972458, 'NDCG@5': 0.0039144454058259726, 'mAP@5': 0.0006576520354375608}\n",
      "one epoch val: 20.981998920440674\n",
      "++++++++++++++++++++ Train Epoch 9 ++++++++++++++++++++\n"
     ]
    },
    {
     "name": "stderr",
     "output_type": "stream",
     "text": [
      "100%|██████████████████████████████████████████████████████████████████████████████████| 26/26 [03:10<00:00,  7.33s/it]\n"
     ]
    },
    {
     "name": "stdout",
     "output_type": "stream",
     "text": [
      "Training CE Loss: 8.20738\n",
      "one epoch train: 190.71701741218567\n",
      "++++++++++++++++++++ Valid Epoch 9 ++++++++++++++++++++\n"
     ]
    },
    {
     "name": "stderr",
     "output_type": "stream",
     "text": [
      "100%|████████████████████████████████████████████████████████████████████████████████████| 4/4 [00:21<00:00,  5.29s/it]\n"
     ]
    },
    {
     "name": "stdout",
     "output_type": "stream",
     "text": [
      "{'Recall@20': 0.011957179754972458, 'NDCG@20': 0.00523538701236248, 'mAP@20': 0.0001725899407268127, 'Recall@5': 0.004635816439986229, 'NDCG@5': 0.003287258616182953, 'mAP@5': 0.0005699041792425503}\n",
      "one epoch val: 21.17798352241516\n",
      "++++++++++++++++++++ Train Epoch 10 ++++++++++++++++++++\n"
     ]
    },
    {
     "name": "stderr",
     "output_type": "stream",
     "text": [
      "100%|██████████████████████████████████████████████████████████████████████████████████| 26/26 [03:05<00:00,  7.14s/it]\n"
     ]
    },
    {
     "name": "stdout",
     "output_type": "stream",
     "text": [
      "Training CE Loss: 7.90552\n",
      "one epoch train: 185.6920030117035\n",
      "++++++++++++++++++++ Valid Epoch 10 ++++++++++++++++++++\n"
     ]
    },
    {
     "name": "stderr",
     "output_type": "stream",
     "text": [
      "100%|████████████████████████████████████████████████████████████████████████████████████| 4/4 [00:22<00:00,  5.73s/it]"
     ]
    },
    {
     "name": "stdout",
     "output_type": "stream",
     "text": [
      "{'Recall@20': 0.013419168069958687, 'NDCG@20': 0.004622371052391827, 'mAP@20': 0.00011202974171744527, 'Recall@5': 0.004147535189986229, 'NDCG@5': 0.002118956617778167, 'mAP@5': 0.0002910556053372246}\n",
      "one epoch val: 22.94999098777771\n",
      "train_time: 1954.9084854125977\n",
      "val_time: 237.27843928337097\n"
     ]
    },
    {
     "name": "stderr",
     "output_type": "stream",
     "text": [
      "\n"
     ]
    }
   ],
   "source": [
    "print('Fetching the data and parameters')\n",
    "train_dataloader, valid_dataloader, test_dataloader_30, num_users, num_items, num_embeddings = get_data(path1 = article_data_03, path2 = video_data)\n",
    "num_items, max_len, block_num, num_heads, num_embedding, hidden_size, is_mp, dropout = num_items, 20, 2, 4, num_embeddings, 128, False, 0.3\n",
    "model_30 = BERT_ColdstartModel(num_items, max_len, block_num, num_heads, num_embedding, hidden_size, is_mp, dropout)\n",
    "writer = SummaryWriter()\n",
    "print('Training the Model')\n",
    "model_30_best = SeqTrain(10, model_30, train_dataloader, valid_dataloader, writer,is_pretrain = 1 ,is_parallel=False, lr = 0.001, weight_decay=0.0001, local_rank=1)"
   ]
  },
  {
   "cell_type": "markdown",
   "metadata": {
    "colab": {
     "base_uri": "https://localhost:8080/",
     "height": 730
    },
    "id": "JOb5s5Kr1QV2",
    "outputId": "53182b4b-6d3a-4590-a22f-fd6f77376d70"
   },
   "source": [
    "### For the model using the seventy percent cold data as the target"
   ]
  },
  {
   "cell_type": "code",
   "execution_count": 37,
   "metadata": {},
   "outputs": [
    {
     "name": "stdout",
     "output_type": "stream",
     "text": [
      "Fetching the data and parameters\n"
     ]
    },
    {
     "name": "stderr",
     "output_type": "stream",
     "text": [
      "100%|█████████████████████████████████████████████████████████████████████████████| 3313/3313 [00:04<00:00, 713.69it/s]\n"
     ]
    },
    {
     "name": "stdout",
     "output_type": "stream",
     "text": [
      "Index(['user_id', 'item_id', 'age', 'gender', 'like'], dtype='object')\n",
      "+++user_history+++\n"
     ]
    },
    {
     "name": "stderr",
     "output_type": "stream",
     "text": [
      "100%|██████████████████████████████████████████████████████████████████████████| 3313/3313 [00:00<00:00, 106867.21it/s]\n"
     ]
    },
    {
     "name": "stdout",
     "output_type": "stream",
     "text": [
      "Training the Model\n",
      "++++++++++++++++++++ Train Epoch 1 ++++++++++++++++++++\n"
     ]
    },
    {
     "name": "stderr",
     "output_type": "stream",
     "text": [
      "100%|██████████████████████████████████████████████████████████████████████████████████| 13/13 [01:04<00:00,  4.94s/it]\n"
     ]
    },
    {
     "name": "stdout",
     "output_type": "stream",
     "text": [
      "Training CE Loss: 9.11095\n",
      "one epoch train: 64.28700137138367\n",
      "++++++++++++++++++++ Valid Epoch 1 ++++++++++++++++++++\n"
     ]
    },
    {
     "name": "stderr",
     "output_type": "stream",
     "text": [
      "100%|████████████████████████████████████████████████████████████████████████████████████| 2/2 [00:06<00:00,  3.34s/it]\n"
     ]
    },
    {
     "name": "stdout",
     "output_type": "stream",
     "text": [
      "{'Recall@20': 0.004357115016318858, 'NDCG@20': 0.0018349116435274482, 'mAP@20': 5.671727339180353e-05, 'Recall@5': 0.0019344168831594288, 'NDCG@5': 0.0011774997401516885, 'mAP@5': 0.00018592727805807397}\n",
      "one epoch val: 6.69000244140625\n",
      "++++++++++++++++++++ Train Epoch 2 ++++++++++++++++++++\n"
     ]
    },
    {
     "name": "stderr",
     "output_type": "stream",
     "text": [
      "100%|██████████████████████████████████████████████████████████████████████████████████| 13/13 [01:04<00:00,  4.98s/it]\n"
     ]
    },
    {
     "name": "stdout",
     "output_type": "stream",
     "text": [
      "Training CE Loss: 8.97601\n",
      "one epoch train: 64.7379994392395\n",
      "++++++++++++++++++++ Valid Epoch 2 ++++++++++++++++++++\n"
     ]
    },
    {
     "name": "stderr",
     "output_type": "stream",
     "text": [
      "100%|████████████████████████████████████████████████████████████████████████████████████| 2/2 [00:07<00:00,  3.63s/it]\n"
     ]
    },
    {
     "name": "stdout",
     "output_type": "stream",
     "text": [
      "{'Recall@20': 0.019851158373057842, 'NDCG@20': 0.007263500709086657, 'mAP@20': 0.00019414794697413212, 'Recall@5': 0.005803250707685947, 'NDCG@5': 0.003378446213901043, 'mAP@5': 0.0005219184091276538}\n",
      "one epoch val: 7.271001815795898\n",
      "++++++++++++++++++++ Train Epoch 3 ++++++++++++++++++++\n"
     ]
    },
    {
     "name": "stderr",
     "output_type": "stream",
     "text": [
      "100%|██████████████████████████████████████████████████████████████████████████████████| 13/13 [01:04<00:00,  4.96s/it]\n"
     ]
    },
    {
     "name": "stdout",
     "output_type": "stream",
     "text": [
      "Training CE Loss: 8.79976\n",
      "one epoch train: 64.48900032043457\n",
      "++++++++++++++++++++ Valid Epoch 3 ++++++++++++++++++++\n"
     ]
    },
    {
     "name": "stderr",
     "output_type": "stream",
     "text": [
      "100%|████████████████████████████████████████████████████████████████████████████████████| 2/2 [00:06<00:00,  3.14s/it]\n"
     ]
    },
    {
     "name": "stdout",
     "output_type": "stream",
     "text": [
      "{'Recall@20': 0.020320731215178967, 'NDCG@20': 0.007659664610400796, 'mAP@20': 0.000210637952100341, 'Recall@5': 0.006779813207685947, 'NDCG@5': 0.0038798494497314095, 'mAP@5': 0.000589516995334418}\n",
      "one epoch val: 6.3036723136901855\n",
      "++++++++++++++++++++ Train Epoch 4 ++++++++++++++++++++\n"
     ]
    },
    {
     "name": "stderr",
     "output_type": "stream",
     "text": [
      "100%|██████████████████████████████████████████████████████████████████████████████████| 13/13 [01:07<00:00,  5.22s/it]\n"
     ]
    },
    {
     "name": "stdout",
     "output_type": "stream",
     "text": [
      "Training CE Loss: 8.66581\n",
      "one epoch train: 67.90800189971924\n",
      "++++++++++++++++++++ Valid Epoch 4 ++++++++++++++++++++\n"
     ]
    },
    {
     "name": "stderr",
     "output_type": "stream",
     "text": [
      "100%|████████████████████████████████████████████████████████████████████████████████████| 2/2 [00:06<00:00,  3.08s/it]\n"
     ]
    },
    {
     "name": "stdout",
     "output_type": "stream",
     "text": [
      "{'Recall@20': 0.026086566038429737, 'NDCG@20': 0.009331399109214544, 'mAP@20': 0.00024498269327188774, 'Recall@5': 0.005803250707685947, 'NDCG@5': 0.0037789412308484316, 'mAP@5': 0.0006211336720200707}\n",
      "one epoch val: 6.169000864028931\n",
      "++++++++++++++++++++ Train Epoch 5 ++++++++++++++++++++\n"
     ]
    },
    {
     "name": "stderr",
     "output_type": "stream",
     "text": [
      "100%|██████████████████████████████████████████████████████████████████████████████████| 13/13 [01:06<00:00,  5.15s/it]\n"
     ]
    },
    {
     "name": "stdout",
     "output_type": "stream",
     "text": [
      "Training CE Loss: 8.60007\n",
      "one epoch train: 66.97800016403198\n",
      "++++++++++++++++++++ Valid Epoch 5 ++++++++++++++++++++\n"
     ]
    },
    {
     "name": "stderr",
     "output_type": "stream",
     "text": [
      "100%|████████████████████████████████████████████████████████████████████████████████████| 2/2 [00:05<00:00,  2.96s/it]\n"
     ]
    },
    {
     "name": "stdout",
     "output_type": "stream",
     "text": [
      "{'Recall@20': 0.021785574965178967, 'NDCG@20': 0.007603263482451439, 'mAP@20': 0.00019071148660513876, 'Recall@5': 0.005352385633159429, 'NDCG@5': 0.003069137776037678, 'mAP@5': 0.0004661869985716381}\n",
      "one epoch val: 5.936999082565308\n",
      "++++++++++++++++++++ Train Epoch 6 ++++++++++++++++++++\n"
     ]
    },
    {
     "name": "stderr",
     "output_type": "stream",
     "text": [
      "100%|██████████████████████████████████████████████████████████████████████████████████| 13/13 [01:08<00:00,  5.28s/it]\n"
     ]
    },
    {
     "name": "stdout",
     "output_type": "stream",
     "text": [
      "Training CE Loss: 8.55032\n",
      "one epoch train: 68.67400312423706\n",
      "++++++++++++++++++++ Valid Epoch 6 ++++++++++++++++++++\n"
     ]
    },
    {
     "name": "stderr",
     "output_type": "stream",
     "text": [
      "100%|████████████████████████████████████████████████████████████████████████████████████| 2/2 [00:06<00:00,  3.34s/it]\n"
     ]
    },
    {
     "name": "stdout",
     "output_type": "stream",
     "text": [
      "{'Recall@20': 0.023250418715178967, 'NDCG@20': 0.008355455938726664, 'mAP@20': 0.0002174158967127752, 'Recall@5': 0.005840666883159429, 'NDCG@5': 0.003416842402657494, 'mAP@5': 0.000529663560562321}\n",
      "one epoch val: 6.689000844955444\n",
      "++++++++++++++++++++ Train Epoch 7 ++++++++++++++++++++\n"
     ]
    },
    {
     "name": "stderr",
     "output_type": "stream",
     "text": [
      "100%|██████████████████████████████████████████████████████████████████████████████████| 13/13 [01:12<00:00,  5.57s/it]\n"
     ]
    },
    {
     "name": "stdout",
     "output_type": "stream",
     "text": [
      "Training CE Loss: 8.47800\n",
      "one epoch train: 72.37399816513062\n",
      "++++++++++++++++++++ Valid Epoch 7 ++++++++++++++++++++\n"
     ]
    },
    {
     "name": "stderr",
     "output_type": "stream",
     "text": [
      "100%|████████████████████████████████████████████████████████████████████████████████████| 2/2 [00:08<00:00,  4.09s/it]\n"
     ]
    },
    {
     "name": "stdout",
     "output_type": "stream",
     "text": [
      "{'Recall@20': 0.020809012465178967, 'NDCG@20': 0.007362851407378912, 'mAP@20': 0.00018445777254913698, 'Recall@5': 0.005821958766318858, 'NDCG@5': 0.0031613316386938095, 'mAP@5': 0.0004568017773573078}\n",
      "one epoch val: 8.199997663497925\n",
      "++++++++++++++++++++ Train Epoch 8 ++++++++++++++++++++\n"
     ]
    },
    {
     "name": "stderr",
     "output_type": "stream",
     "text": [
      "100%|██████████████████████████████████████████████████████████████████████████████████| 13/13 [01:17<00:00,  5.94s/it]\n"
     ]
    },
    {
     "name": "stdout",
     "output_type": "stream",
     "text": [
      "Training CE Loss: 8.38855\n",
      "one epoch train: 77.29300045967102\n",
      "++++++++++++++++++++ Valid Epoch 8 ++++++++++++++++++++\n"
     ]
    },
    {
     "name": "stderr",
     "output_type": "stream",
     "text": [
      "100%|████████████████████████████████████████████████████████████████████████████████████| 2/2 [00:07<00:00,  3.62s/it]\n"
     ]
    },
    {
     "name": "stdout",
     "output_type": "stream",
     "text": [
      "{'Recall@20': 0.018367606215178967, 'NDCG@20': 0.006070982199162245, 'mAP@20': 0.0001428001421964868, 'Recall@5': 0.0029296875, 'NDCG@5': 0.0018087803618982434, 'mAP@5': 0.0002913411499321228}\n",
      "one epoch val: 7.2619993686676025\n",
      "++++++++++++++++++++ Train Epoch 9 ++++++++++++++++++++\n"
     ]
    },
    {
     "name": "stderr",
     "output_type": "stream",
     "text": [
      "100%|██████████████████████████████████████████████████████████████████████████████████| 13/13 [01:08<00:00,  5.23s/it]\n"
     ]
    },
    {
     "name": "stdout",
     "output_type": "stream",
     "text": [
      "Training CE Loss: 8.27166\n",
      "one epoch train: 68.00599908828735\n",
      "++++++++++++++++++++ Valid Epoch 9 ++++++++++++++++++++\n"
     ]
    },
    {
     "name": "stderr",
     "output_type": "stream",
     "text": [
      "100%|████████████████████████████████████████████████████████████████████████████████████| 2/2 [00:06<00:00,  3.32s/it]\n"
     ]
    },
    {
     "name": "stdout",
     "output_type": "stream",
     "text": [
      "{'Recall@20': 0.018367606215178967, 'NDCG@20': 0.006206771358847618, 'mAP@20': 0.00014942729916334478, 'Recall@5': 0.004375823133159429, 'NDCG@5': 0.0023771692940499634, 'mAP@5': 0.00035081417931783924}\n",
      "one epoch val: 6.648999452590942\n",
      "++++++++++++++++++++ Train Epoch 10 ++++++++++++++++++++\n"
     ]
    },
    {
     "name": "stderr",
     "output_type": "stream",
     "text": [
      "100%|██████████████████████████████████████████████████████████████████████████████████| 13/13 [01:07<00:00,  5.18s/it]\n"
     ]
    },
    {
     "name": "stdout",
     "output_type": "stream",
     "text": [
      "Training CE Loss: 8.12195\n",
      "one epoch train: 67.39801216125488\n",
      "++++++++++++++++++++ Valid Epoch 10 ++++++++++++++++++++\n"
     ]
    },
    {
     "name": "stderr",
     "output_type": "stream",
     "text": [
      "100%|████████████████████████████████████████████████████████████████████████████████████| 2/2 [00:07<00:00,  3.51s/it]"
     ]
    },
    {
     "name": "stdout",
     "output_type": "stream",
     "text": [
      "{'Recall@20': 0.018367606215178967, 'NDCG@20': 0.005821251077577472, 'mAP@20': 0.00012588313698927976, 'Recall@5': 0.0038688337663188577, 'NDCG@5': 0.001893281878437847, 'mAP@5': 0.0002554777320221261}\n",
      "one epoch val: 7.0289857387542725\n",
      "train_time: 682.1450161933899\n",
      "val_time: 68.19965958595276\n"
     ]
    },
    {
     "name": "stderr",
     "output_type": "stream",
     "text": [
      "\n"
     ]
    }
   ],
   "source": [
    "print('Fetching the data and parameters')\n",
    "train_dataloader, valid_dataloader, test_dataloader_70, num_users, num_items, num_embeddings = get_data(path1 = article_data_07, path2 = video_data)\n",
    "num_items, max_len, block_num, num_heads, num_embedding, hidden_size, is_mp, dropout = num_items, 20, 2, 4, num_embeddings, 128, False, 0.3\n",
    "model_70 = BERT_ColdstartModel(num_items, max_len, block_num, num_heads, num_embedding, hidden_size, is_mp, dropout)\n",
    "writer = SummaryWriter()\n",
    "print('Training the Model')\n",
    "model_70_best = SeqTrain(10, model_70, train_dataloader, valid_dataloader, writer,is_pretrain = 1 ,is_parallel=False, lr = 0.001, weight_decay=0.0001, local_rank=1)"
   ]
  },
  {
   "cell_type": "markdown",
   "metadata": {},
   "source": [
    "### For the model using the hundred percent cold data as the target"
   ]
  },
  {
   "cell_type": "code",
   "execution_count": 38,
   "metadata": {},
   "outputs": [
    {
     "name": "stdout",
     "output_type": "stream",
     "text": [
      "Fetching the data and parameters\n"
     ]
    },
    {
     "name": "stderr",
     "output_type": "stream",
     "text": [
      "100%|█████████████████████████████████████████████████████████████████████████████| 1690/1690 [00:02<00:00, 598.44it/s]\n"
     ]
    },
    {
     "name": "stdout",
     "output_type": "stream",
     "text": [
      "Index(['user_id', 'item_id', 'age', 'gender', 'like'], dtype='object')\n",
      "+++user_history+++\n"
     ]
    },
    {
     "name": "stderr",
     "output_type": "stream",
     "text": [
      "100%|██████████████████████████████████████████████████████████████████████████| 1690/1690 [00:00<00:00, 129971.28it/s]\n"
     ]
    },
    {
     "name": "stdout",
     "output_type": "stream",
     "text": [
      "Training the Model\n",
      "++++++++++++++++++++ Train Epoch 1 ++++++++++++++++++++\n"
     ]
    },
    {
     "name": "stderr",
     "output_type": "stream",
     "text": [
      "100%|████████████████████████████████████████████████████████████████████████████████████| 3/3 [00:09<00:00,  3.12s/it]\n"
     ]
    },
    {
     "name": "stdout",
     "output_type": "stream",
     "text": [
      "Training CE Loss: 7.70432\n",
      "one epoch train: 9.362857818603516\n",
      "++++++++++++++++++++ Valid Epoch 1 ++++++++++++++++++++\n"
     ]
    },
    {
     "name": "stderr",
     "output_type": "stream",
     "text": [
      "100%|████████████████████████████████████████████████████████████████████████████████████| 1/1 [00:00<00:00,  2.11it/s]\n"
     ]
    },
    {
     "name": "stdout",
     "output_type": "stream",
     "text": [
      "{'Recall@20': 0.0, 'NDCG@20': 0.0, 'mAP@20': 0.0, 'Recall@5': 0.0, 'NDCG@5': 0.0, 'mAP@5': 0.0}\n",
      "one epoch val: 0.4830009937286377\n",
      "++++++++++++++++++++ Train Epoch 2 ++++++++++++++++++++\n"
     ]
    },
    {
     "name": "stderr",
     "output_type": "stream",
     "text": [
      "100%|████████████████████████████████████████████████████████████████████████████████████| 3/3 [00:08<00:00,  2.82s/it]\n"
     ]
    },
    {
     "name": "stdout",
     "output_type": "stream",
     "text": [
      "Training CE Loss: 7.65569\n",
      "one epoch train: 8.477000951766968\n",
      "++++++++++++++++++++ Valid Epoch 2 ++++++++++++++++++++\n"
     ]
    },
    {
     "name": "stderr",
     "output_type": "stream",
     "text": [
      "100%|████████████████████████████████████████████████████████████████████████████████████| 1/1 [00:00<00:00,  2.37it/s]\n"
     ]
    },
    {
     "name": "stdout",
     "output_type": "stream",
     "text": [
      "{'Recall@20': 0.0038022813387215137, 'NDCG@20': 0.0008950908668339252, 'mAP@20': 1.0561892946920013e-05, 'Recall@5': 0.0, 'NDCG@5': 0.0, 'mAP@5': 0.0}\n",
      "one epoch val: 0.4310028553009033\n",
      "++++++++++++++++++++ Train Epoch 3 ++++++++++++++++++++\n"
     ]
    },
    {
     "name": "stderr",
     "output_type": "stream",
     "text": [
      "100%|████████████████████████████████████████████████████████████████████████████████████| 3/3 [00:08<00:00,  2.78s/it]\n"
     ]
    },
    {
     "name": "stdout",
     "output_type": "stream",
     "text": [
      "Training CE Loss: 7.62372\n",
      "one epoch train: 8.358003616333008\n",
      "++++++++++++++++++++ Valid Epoch 3 ++++++++++++++++++++\n"
     ]
    },
    {
     "name": "stderr",
     "output_type": "stream",
     "text": [
      "100%|████████████████████████████████████████████████████████████████████████████████████| 1/1 [00:00<00:00,  2.65it/s]\n"
     ]
    },
    {
     "name": "stdout",
     "output_type": "stream",
     "text": [
      "{'Recall@20': 0.0076045626774430275, 'NDCG@20': 0.0017748558893799782, 'mAP@20': 2.0567896977746895e-05, 'Recall@5': 0.0, 'NDCG@5': 0.0, 'mAP@5': 0.0}\n",
      "one epoch val: 0.38700079917907715\n",
      "++++++++++++++++++++ Train Epoch 4 ++++++++++++++++++++\n"
     ]
    },
    {
     "name": "stderr",
     "output_type": "stream",
     "text": [
      "100%|████████████████████████████████████████████████████████████████████████████████████| 3/3 [00:07<00:00,  2.65s/it]\n"
     ]
    },
    {
     "name": "stdout",
     "output_type": "stream",
     "text": [
      "Training CE Loss: 7.56241\n",
      "one epoch train: 7.9650022983551025\n",
      "++++++++++++++++++++ Valid Epoch 4 ++++++++++++++++++++\n"
     ]
    },
    {
     "name": "stderr",
     "output_type": "stream",
     "text": [
      "100%|████████████████████████████████████████████████████████████████████████████████████| 1/1 [00:00<00:00,  2.63it/s]\n"
     ]
    },
    {
     "name": "stdout",
     "output_type": "stream",
     "text": [
      "{'Recall@20': 0.0076045626774430275, 'NDCG@20': 0.0019288976909592748, 'mAP@20': 2.650628946438262e-05, 'Recall@5': 0.0, 'NDCG@5': 0.0, 'mAP@5': 0.0}\n",
      "one epoch val: 0.38899683952331543\n",
      "++++++++++++++++++++ Train Epoch 5 ++++++++++++++++++++\n"
     ]
    },
    {
     "name": "stderr",
     "output_type": "stream",
     "text": [
      "100%|████████████████████████████████████████████████████████████████████████████████████| 3/3 [00:08<00:00,  2.83s/it]\n"
     ]
    },
    {
     "name": "stdout",
     "output_type": "stream",
     "text": [
      "Training CE Loss: 7.54028\n",
      "one epoch train: 8.506999731063843\n",
      "++++++++++++++++++++ Valid Epoch 5 ++++++++++++++++++++\n"
     ]
    },
    {
     "name": "stderr",
     "output_type": "stream",
     "text": [
      "100%|████████████████████████████████████████████████████████████████████████████████████| 1/1 [00:00<00:00,  2.65it/s]\n"
     ]
    },
    {
     "name": "stdout",
     "output_type": "stream",
     "text": [
      "{'Recall@20': 0.011406844481825829, 'NDCG@20': 0.00323917786590755, 'mAP@20': 5.544993775000817e-05, 'Recall@5': 0.0, 'NDCG@5': 0.0, 'mAP@5': 0.0}\n",
      "one epoch val: 0.3859994411468506\n",
      "++++++++++++++++++++ Train Epoch 6 ++++++++++++++++++++\n"
     ]
    },
    {
     "name": "stderr",
     "output_type": "stream",
     "text": [
      "100%|████████████████████████████████████████████████████████████████████████████████████| 3/3 [00:07<00:00,  2.58s/it]\n"
     ]
    },
    {
     "name": "stdout",
     "output_type": "stream",
     "text": [
      "Training CE Loss: 7.49185\n",
      "one epoch train: 7.74500298500061\n",
      "++++++++++++++++++++ Valid Epoch 6 ++++++++++++++++++++\n"
     ]
    },
    {
     "name": "stderr",
     "output_type": "stream",
     "text": [
      "100%|████████████████████████████████████████████████████████████████████████████████████| 1/1 [00:00<00:00,  2.93it/s]\n"
     ]
    },
    {
     "name": "stdout",
     "output_type": "stream",
     "text": [
      "{'Recall@20': 0.01901140622794628, 'NDCG@20': 0.006338991224765778, 'mAP@20': 0.0001534669670655247, 'Recall@5': 0.0038022813387215137, 'NDCG@5': 0.002398972399532795, 'mAP@5': 0.00038022814254797004}\n",
      "one epoch val: 0.34800052642822266\n",
      "++++++++++++++++++++ Train Epoch 7 ++++++++++++++++++++\n"
     ]
    },
    {
     "name": "stderr",
     "output_type": "stream",
     "text": [
      "100%|████████████████████████████████████████████████████████████████████████████████████| 3/3 [00:08<00:00,  2.83s/it]\n"
     ]
    },
    {
     "name": "stdout",
     "output_type": "stream",
     "text": [
      "Training CE Loss: 7.46847\n",
      "one epoch train: 8.491002798080444\n",
      "++++++++++++++++++++ Valid Epoch 7 ++++++++++++++++++++\n"
     ]
    },
    {
     "name": "stderr",
     "output_type": "stream",
     "text": [
      "100%|████████████████████████████████████████████████████████████████████████████████████| 1/1 [00:00<00:00,  2.53it/s]\n"
     ]
    },
    {
     "name": "stdout",
     "output_type": "stream",
     "text": [
      "{'Recall@20': 0.01901140622794628, 'NDCG@20': 0.006536455824971199, 'mAP@20': 0.00016091798145338157, 'Recall@5': 0.0038022813387215137, 'NDCG@5': 0.002398972399532795, 'mAP@5': 0.00038022814254797004}\n",
      "one epoch val: 0.4030005931854248\n",
      "++++++++++++++++++++ Train Epoch 8 ++++++++++++++++++++\n"
     ]
    },
    {
     "name": "stderr",
     "output_type": "stream",
     "text": [
      "100%|████████████████████████████████████████████████████████████████████████████████████| 3/3 [00:07<00:00,  2.49s/it]\n"
     ]
    },
    {
     "name": "stdout",
     "output_type": "stream",
     "text": [
      "Training CE Loss: 7.42723\n",
      "one epoch train: 7.4830029010772705\n",
      "++++++++++++++++++++ Valid Epoch 8 ++++++++++++++++++++\n"
     ]
    },
    {
     "name": "stderr",
     "output_type": "stream",
     "text": [
      "100%|████████████████████████████████████████████████████████████████████████████████████| 1/1 [00:00<00:00,  2.78it/s]\n"
     ]
    },
    {
     "name": "stdout",
     "output_type": "stream",
     "text": [
      "{'Recall@20': 0.015209125354886055, 'NDCG@20': 0.005341278854757547, 'mAP@20': 0.0001278743501965084, 'Recall@5': 0.0038022813387215137, 'NDCG@5': 0.0019011406693607569, 'mAP@5': 0.0002534854378083813}\n",
      "one epoch val: 0.36800098419189453\n",
      "++++++++++++++++++++ Train Epoch 9 ++++++++++++++++++++\n"
     ]
    },
    {
     "name": "stderr",
     "output_type": "stream",
     "text": [
      "100%|████████████████████████████████████████████████████████████████████████████████████| 3/3 [00:07<00:00,  2.52s/it]\n"
     ]
    },
    {
     "name": "stdout",
     "output_type": "stream",
     "text": [
      "Training CE Loss: 7.36712\n",
      "one epoch train: 7.572996377944946\n",
      "++++++++++++++++++++ Valid Epoch 9 ++++++++++++++++++++\n"
     ]
    },
    {
     "name": "stderr",
     "output_type": "stream",
     "text": [
      "100%|████████████████████████████████████████████████████████████████████████████████████| 1/1 [00:00<00:00,  2.84it/s]\n"
     ]
    },
    {
     "name": "stdout",
     "output_type": "stream",
     "text": [
      "{'Recall@20': 0.015209125354886055, 'NDCG@20': 0.005305216647684574, 'mAP@20': 0.0001267427171336154, 'Recall@5': 0.0038022813387215137, 'NDCG@5': 0.0019011406693607569, 'mAP@5': 0.0002534854378083813}\n",
      "one epoch val: 0.35900378227233887\n",
      "++++++++++++++++++++ Train Epoch 10 ++++++++++++++++++++\n"
     ]
    },
    {
     "name": "stderr",
     "output_type": "stream",
     "text": [
      "100%|████████████████████████████████████████████████████████████████████████████████████| 3/3 [00:08<00:00,  2.88s/it]\n"
     ]
    },
    {
     "name": "stdout",
     "output_type": "stream",
     "text": [
      "Training CE Loss: 7.32767\n",
      "one epoch train: 8.64399766921997\n",
      "++++++++++++++++++++ Valid Epoch 10 ++++++++++++++++++++\n"
     ]
    },
    {
     "name": "stderr",
     "output_type": "stream",
     "text": [
      "100%|████████████████████████████████████████████████████████████████████████████████████| 1/1 [00:00<00:00,  2.43it/s]"
     ]
    },
    {
     "name": "stdout",
     "output_type": "stream",
     "text": [
      "{'Recall@20': 0.011406844481825829, 'NDCG@20': 0.003885942744091153, 'mAP@20': 8.699159091869688e-05, 'Recall@5': 0.0038022813387215137, 'NDCG@5': 0.0014709231909364462, 'mAP@5': 0.00015209125135334727}\n",
      "one epoch val: 0.419999361038208\n",
      "train_time: 82.60586714744568\n",
      "val_time: 3.974006175994873\n"
     ]
    },
    {
     "name": "stderr",
     "output_type": "stream",
     "text": [
      "\n"
     ]
    }
   ],
   "source": [
    "print('Fetching the data and parameters')\n",
    "train_dataloader, valid_dataloader, test_dataloader_1, num_users, num_items, num_embeddings = get_data(path1 = article_data_1, path2 = video_data)\n",
    "num_items, max_len, block_num, num_heads, num_embedding, hidden_size, is_mp, dropout = num_items, 20, 2, 4, num_embeddings, 128, False, 0.3\n",
    "model_1 = BERT_ColdstartModel(num_items, max_len, block_num, num_heads, num_embedding, hidden_size, is_mp, dropout)\n",
    "writer = SummaryWriter()\n",
    "print('Training the Model')\n",
    "model_1_best = SeqTrain(10, model_1, train_dataloader, valid_dataloader, writer,is_pretrain = 1 ,is_parallel=False, lr = 0.001, weight_decay=0.0001, local_rank=1)"
   ]
  },
  {
   "cell_type": "code",
   "execution_count": 39,
   "metadata": {
    "id": "JG74j7qW1QV7"
   },
   "outputs": [],
   "source": [
    "import numpy as np\n",
    "from sklearn.metrics import accuracy_score, confusion_matrix, f1_score, recall_score, precision_score\n",
    "\n",
    "def calculate_accuracy(predictions, targets):\n",
    "    return accuracy_score(targets, predictions)\n",
    "\n",
    "def calculate_confusion_matrix(predictions, targets):\n",
    "    return confusion_matrix(targets, predictions)\n",
    "\n",
    "def calculate_f1_score(predictions, targets):\n",
    "    return f1_score(targets, predictions, average='macro')\n",
    "\n",
    "def calculate_recall(predictions, targets):\n",
    "    return recall_score(targets, predictions, average='macro')\n",
    "\n",
    "def calculate_precision(predictions, targets):\n",
    "    return precision_score(targets, predictions, average='macro')\n",
    "\n",
    "def calculate_bias_metrics(predictions, targets, subgroup_attribute):\n",
    "    metrics = {}\n",
    "\n",
    "    unique_subgroups = np.unique(subgroup_attribute)\n",
    "    for subgroup in unique_subgroups:\n",
    "        mask = (subgroup_attribute == subgroup)\n",
    "        subgroup_predictions = predictions[mask]\n",
    "        subgroup_targets = targets[mask]\n",
    "\n",
    "        # Calculate metrics for the subgroup\n",
    "        subgroup_accuracy = calculate_accuracy(subgroup_predictions, subgroup_targets)\n",
    "        subgroup_confusion_matrix = calculate_confusion_matrix(subgroup_predictions, subgroup_targets)\n",
    "        subgroup_f1_score = calculate_f1_score(subgroup_predictions, subgroup_targets)\n",
    "        subgroup_recall = calculate_recall(subgroup_predictions, subgroup_targets)\n",
    "        subgroup_precision = calculate_precision(subgroup_predictions, subgroup_targets)\n",
    "\n",
    "        # Store the metrics in the dictionary\n",
    "        metrics[subgroup] = {\n",
    "            'accuracy': subgroup_accuracy,\n",
    "            'confusion_matrix': subgroup_confusion_matrix,\n",
    "            'f1_score': subgroup_f1_score,\n",
    "            'recall': subgroup_recall,\n",
    "            'precision': subgroup_precision,\n",
    "        }\n",
    "\n",
    "    return metrics"
   ]
  },
  {
   "cell_type": "code",
   "execution_count": 42,
   "metadata": {},
   "outputs": [],
   "source": [
    "import numpy as np\n",
    "\n",
    "def calculate_odds_ratio(positive_predictions, total_predictions):\n",
    "    return (positive_predictions[0] * total_predictions[1]) / (positive_predictions[1] * total_predictions[0])\n",
    "\n",
    "def calculate_log_odds_ratio(positive_predictions, total_predictions):\n",
    "    odds_ratio = calculate_odds_ratio(positive_predictions, total_predictions)\n",
    "    log_odds_ratio = np.log(odds_ratio)\n",
    "    return log_odds_ratio\n",
    "\n",
    "def measure_bias_with_odds_and_log_odds_ratios(bias_metrics):\n",
    "    odds_and_log_odds_ratios = {}\n",
    "    total_positives = sum(m['confusion_matrix'][1][1] for m in bias_metrics.values() if len(m['confusion_matrix']) > 1 and len(m['confusion_matrix'][0]) > 1)\n",
    "    total_negatives = sum(m['confusion_matrix'][0][0] for m in bias_metrics.values() if len(m['confusion_matrix']) > 0 and len(m['confusion_matrix'][0]) > 0)\n",
    "    total_total_positives = sum(sum(m['confusion_matrix'][1]) for m in bias_metrics.values() if len(m['confusion_matrix']) > 1)\n",
    "    total_total_negatives = sum(sum(m['confusion_matrix'][0]) for m in bias_metrics.values() if len(m['confusion_matrix']) > 0)\n",
    "\n",
    "    for subgroup, metrics in bias_metrics.items():\n",
    "        confusion_matrix = metrics['confusion_matrix']\n",
    "        if len(confusion_matrix) == 1 and len(confusion_matrix[0]) == 1:\n",
    "            # Handle the case when the confusion matrix is [[1]]\n",
    "            subgroup_positives = confusion_matrix[0][0]\n",
    "            subgroup_negatives = 0\n",
    "            subgroup_total_positives = subgroup_positives\n",
    "            subgroup_total_negatives = 0\n",
    "        else:\n",
    "            subgroup_positives = confusion_matrix[1][1] if len(confusion_matrix) > 1 and len(confusion_matrix[0]) > 1 else 0\n",
    "            subgroup_negatives = confusion_matrix[0][0] if len(confusion_matrix) > 0 and len(confusion_matrix[0]) > 0 else 0\n",
    "            subgroup_total_positives = sum(confusion_matrix[1]) if len(confusion_matrix) > 1 else subgroup_positives\n",
    "            subgroup_total_negatives = sum(confusion_matrix[0]) if len(confusion_matrix) > 0 else subgroup_negatives\n",
    "\n",
    "\n",
    "        positive_odds = (subgroup_positives, total_positives)\n",
    "        negative_odds = (subgroup_negatives, total_negatives)\n",
    "        total_positive_odds = (subgroup_total_positives, total_total_positives)\n",
    "        total_negative_odds = (subgroup_total_negatives, total_total_negatives)\n",
    "\n",
    "        subgroup_odds_ratio = calculate_odds_ratio(positive_odds, total_positive_odds)\n",
    "        overall_odds_ratio = calculate_odds_ratio(negative_odds, total_negative_odds)\n",
    "        \n",
    "        positive_odds = (subgroup_positives, total_positives)\n",
    "        negative_odds = (subgroup_negatives, total_negatives)\n",
    "        total_positive_odds = (subgroup_total_positives, total_total_positives)\n",
    "        total_negative_odds = (subgroup_total_negatives, total_total_negatives)\n",
    "\n",
    "        subgroup_log_odds_ratio = calculate_log_odds_ratio(positive_odds, total_positive_odds)\n",
    "        overall_log_odds_ratio = calculate_log_odds_ratio(negative_odds, total_negative_odds)\n",
    "\n",
    "\n",
    "        odds_ratio = calculate_odds_ratio(positive_odds, total_positive_odds)\n",
    "        log_odds_ratio = calculate_log_odds_ratio(positive_odds, total_positive_odds)\n",
    "\n",
    "        odds_and_log_odds_ratios[subgroup] = {\n",
    "            'subgroup_odds_ratio': subgroup_odds_ratio,\n",
    "            'overall_odds_ratio': overall_odds_ratio,\n",
    "            'subgroup_log_odds_ratio': subgroup_log_odds_ratio,\n",
    "            'overall_log_odds_ratio': overall_log_odds_ratio,\n",
    "        }\n",
    "\n",
    "    return odds_and_log_odds_ratios"
   ]
  },
  {
   "cell_type": "code",
   "execution_count": 43,
   "metadata": {},
   "outputs": [
    {
     "data": {
      "text/plain": [
       "BERT_ColdstartModel(\n",
       "  (bert): BERT(\n",
       "    (embedding): BERTEmbedding(\n",
       "      (token): TokenEmbedding(1189326, 128, padding_idx=0)\n",
       "      (position): PositionalEmbedding(\n",
       "        (pe): Embedding(20, 128)\n",
       "      )\n",
       "      (dropout): Dropout(p=0.3, inplace=False)\n",
       "    )\n",
       "    (transformer_blocks): ModuleList(\n",
       "      (0-1): 2 x TransformerBlock(\n",
       "        (attention): MultiHeadedAttention(\n",
       "          (linear_layers): ModuleList(\n",
       "            (0-2): 3 x Linear(in_features=128, out_features=128, bias=True)\n",
       "          )\n",
       "          (output_linear): Linear(in_features=128, out_features=128, bias=True)\n",
       "          (attention): Attention()\n",
       "          (dropout): Dropout(p=0.3, inplace=False)\n",
       "        )\n",
       "        (feed_forward): PositionwiseFeedForward(\n",
       "          (w_1): Linear(in_features=128, out_features=512, bias=True)\n",
       "          (w_2): Linear(in_features=512, out_features=128, bias=True)\n",
       "          (dropout): Dropout(p=0.3, inplace=False)\n",
       "          (activation): GELU()\n",
       "        )\n",
       "        (input_sublayer): SublayerConnection(\n",
       "          (norm): LayerNorm((128,), eps=1e-05, elementwise_affine=True)\n",
       "          (dropout): Dropout(p=0.3, inplace=False)\n",
       "        )\n",
       "        (output_sublayer): SublayerConnection(\n",
       "          (norm): LayerNorm((128,), eps=1e-05, elementwise_affine=True)\n",
       "          (dropout): Dropout(p=0.3, inplace=False)\n",
       "        )\n",
       "        (dropout): Dropout(p=0.3, inplace=False)\n",
       "      )\n",
       "    )\n",
       "  )\n",
       "  (out): Linear(in_features=128, out_features=3139, bias=True)\n",
       ")"
      ]
     },
     "execution_count": 43,
     "metadata": {},
     "output_type": "execute_result"
    },
    {
     "name": "stderr",
     "output_type": "stream",
     "text": [
      "100%|████████████████████████████████████████████████████████████████████████████████████| 1/1 [00:01<00:00,  1.06s/it]"
     ]
    },
    {
     "name": "stdout",
     "output_type": "stream",
     "text": [
      "Bias Metrics for Age Subgroups in Model On Zero Percent Cold Data:\n",
      "{0: {'accuracy': 0.0, 'confusion_matrix': array([[0, 0, 0],\n",
      "       [1, 0, 0],\n",
      "       [1, 0, 0]], dtype=int64), 'f1_score': 0.0, 'recall': 0.0, 'precision': 0.0}, 1: {'accuracy': 0.04964539007092199, 'confusion_matrix': array([[0, 0, 0, ..., 0, 0, 0],\n",
      "       [1, 0, 0, ..., 0, 0, 0],\n",
      "       [1, 0, 0, ..., 0, 0, 0],\n",
      "       ...,\n",
      "       [1, 0, 0, ..., 0, 0, 0],\n",
      "       [1, 0, 0, ..., 0, 0, 0],\n",
      "       [1, 0, 0, ..., 0, 0, 0]], dtype=int64), 'f1_score': 0.050359712230215826, 'recall': 0.050359712230215826, 'precision': 0.050359712230215826}, 2: {'accuracy': 0.027522935779816515, 'confusion_matrix': array([[0, 0, 0, ..., 0, 0, 0],\n",
      "       [1, 0, 0, ..., 0, 0, 0],\n",
      "       [1, 0, 0, ..., 0, 0, 0],\n",
      "       ...,\n",
      "       [1, 0, 0, ..., 0, 0, 0],\n",
      "       [0, 0, 0, ..., 0, 1, 0],\n",
      "       [0, 0, 0, ..., 0, 0, 1]], dtype=int64), 'f1_score': 0.028169014084507043, 'recall': 0.028169014084507043, 'precision': 0.028169014084507043}, 3: {'accuracy': 0.05128205128205128, 'confusion_matrix': array([[0, 0, 0, ..., 0, 0, 0],\n",
      "       [1, 0, 0, ..., 0, 0, 0],\n",
      "       [1, 0, 0, ..., 0, 0, 0],\n",
      "       ...,\n",
      "       [1, 0, 0, ..., 0, 0, 0],\n",
      "       [1, 0, 0, ..., 0, 0, 0],\n",
      "       [1, 0, 0, ..., 0, 0, 0]], dtype=int64), 'f1_score': 0.05263157894736842, 'recall': 0.05263157894736842, 'precision': 0.05263157894736842}, 4: {'accuracy': 0.1, 'confusion_matrix': array([[0, 0, 0, 0, 0, 0, 0, 0, 0, 0, 0, 0, 0, 0, 0, 0, 0, 0, 0, 0, 0],\n",
      "       [1, 0, 0, 0, 0, 0, 0, 0, 0, 0, 0, 0, 0, 0, 0, 0, 0, 0, 0, 0, 0],\n",
      "       [1, 0, 0, 0, 0, 0, 0, 0, 0, 0, 0, 0, 0, 0, 0, 0, 0, 0, 0, 0, 0],\n",
      "       [1, 0, 0, 0, 0, 0, 0, 0, 0, 0, 0, 0, 0, 0, 0, 0, 0, 0, 0, 0, 0],\n",
      "       [1, 0, 0, 0, 0, 0, 0, 0, 0, 0, 0, 0, 0, 0, 0, 0, 0, 0, 0, 0, 0],\n",
      "       [1, 0, 0, 0, 0, 0, 0, 0, 0, 0, 0, 0, 0, 0, 0, 0, 0, 0, 0, 0, 0],\n",
      "       [1, 0, 0, 0, 0, 0, 0, 0, 0, 0, 0, 0, 0, 0, 0, 0, 0, 0, 0, 0, 0],\n",
      "       [1, 0, 0, 0, 0, 0, 0, 0, 0, 0, 0, 0, 0, 0, 0, 0, 0, 0, 0, 0, 0],\n",
      "       [1, 0, 0, 0, 0, 0, 0, 0, 0, 0, 0, 0, 0, 0, 0, 0, 0, 0, 0, 0, 0],\n",
      "       [0, 0, 0, 0, 0, 0, 0, 0, 0, 1, 0, 0, 0, 0, 0, 0, 0, 0, 0, 0, 0],\n",
      "       [1, 0, 0, 0, 0, 0, 0, 0, 0, 0, 0, 0, 0, 0, 0, 0, 0, 0, 0, 0, 0],\n",
      "       [1, 0, 0, 0, 0, 0, 0, 0, 0, 0, 0, 0, 0, 0, 0, 0, 0, 0, 0, 0, 0],\n",
      "       [1, 0, 0, 0, 0, 0, 0, 0, 0, 0, 0, 0, 0, 0, 0, 0, 0, 0, 0, 0, 0],\n",
      "       [1, 0, 0, 0, 0, 0, 0, 0, 0, 0, 0, 0, 0, 0, 0, 0, 0, 0, 0, 0, 0],\n",
      "       [1, 0, 0, 0, 0, 0, 0, 0, 0, 0, 0, 0, 0, 0, 0, 0, 0, 0, 0, 0, 0],\n",
      "       [1, 0, 0, 0, 0, 0, 0, 0, 0, 0, 0, 0, 0, 0, 0, 0, 0, 0, 0, 0, 0],\n",
      "       [1, 0, 0, 0, 0, 0, 0, 0, 0, 0, 0, 0, 0, 0, 0, 0, 0, 0, 0, 0, 0],\n",
      "       [0, 0, 0, 0, 0, 0, 0, 0, 0, 0, 0, 0, 0, 0, 0, 0, 0, 1, 0, 0, 0],\n",
      "       [1, 0, 0, 0, 0, 0, 0, 0, 0, 0, 0, 0, 0, 0, 0, 0, 0, 0, 0, 0, 0],\n",
      "       [1, 0, 0, 0, 0, 0, 0, 0, 0, 0, 0, 0, 0, 0, 0, 0, 0, 0, 0, 0, 0],\n",
      "       [1, 0, 0, 0, 0, 0, 0, 0, 0, 0, 0, 0, 0, 0, 0, 0, 0, 0, 0, 0, 0]],\n",
      "      dtype=int64), 'f1_score': 0.09523809523809523, 'recall': 0.09523809523809523, 'precision': 0.09523809523809523}, 5: {'accuracy': 0.1, 'confusion_matrix': array([[0, 0, 0, 0, 0, 0, 0, 0, 0, 0, 0],\n",
      "       [1, 0, 0, 0, 0, 0, 0, 0, 0, 0, 0],\n",
      "       [1, 0, 0, 0, 0, 0, 0, 0, 0, 0, 0],\n",
      "       [1, 0, 0, 0, 0, 0, 0, 0, 0, 0, 0],\n",
      "       [1, 0, 0, 0, 0, 0, 0, 0, 0, 0, 0],\n",
      "       [1, 0, 0, 0, 0, 0, 0, 0, 0, 0, 0],\n",
      "       [1, 0, 0, 0, 0, 0, 0, 0, 0, 0, 0],\n",
      "       [1, 0, 0, 0, 0, 0, 0, 0, 0, 0, 0],\n",
      "       [1, 0, 0, 0, 0, 0, 0, 0, 0, 0, 0],\n",
      "       [0, 0, 0, 0, 0, 0, 0, 0, 0, 1, 0],\n",
      "       [1, 0, 0, 0, 0, 0, 0, 0, 0, 0, 0]], dtype=int64), 'f1_score': 0.09090909090909091, 'recall': 0.09090909090909091, 'precision': 0.09090909090909091}, 6: {'accuracy': 0.0, 'confusion_matrix': array([[0, 0, 0],\n",
      "       [1, 0, 0],\n",
      "       [1, 0, 0]], dtype=int64), 'f1_score': 0.0, 'recall': 0.0, 'precision': 0.0}, 7: {'accuracy': 0.0, 'confusion_matrix': array([[0, 0],\n",
      "       [1, 0]], dtype=int64), 'f1_score': 0.0, 'recall': 0.0, 'precision': 0.0}}\n",
      "Bias Metrics for Gender Subgroups in Model On Zero Percent Cold Data:\n",
      "{0: {'accuracy': 0.0, 'confusion_matrix': array([[0, 0],\n",
      "       [1, 0]], dtype=int64), 'f1_score': 0.0, 'recall': 0.0, 'precision': 0.0}, 1: {'accuracy': 0.029556650246305417, 'confusion_matrix': array([[0, 0, 0, ..., 0, 0, 0],\n",
      "       [1, 0, 0, ..., 0, 0, 0],\n",
      "       [1, 0, 0, ..., 0, 0, 0],\n",
      "       ...,\n",
      "       [0, 0, 0, ..., 1, 0, 0],\n",
      "       [1, 0, 0, ..., 0, 0, 0],\n",
      "       [1, 0, 0, ..., 0, 0, 0]], dtype=int64), 'f1_score': 0.0297029702970297, 'recall': 0.0297029702970297, 'precision': 0.0297029702970297}, 2: {'accuracy': 0.05240174672489083, 'confusion_matrix': array([[0, 0, 0, ..., 0, 0, 0],\n",
      "       [1, 0, 0, ..., 0, 0, 0],\n",
      "       [1, 0, 0, ..., 0, 0, 0],\n",
      "       ...,\n",
      "       [1, 0, 0, ..., 0, 0, 0],\n",
      "       [1, 0, 0, ..., 0, 0, 0],\n",
      "       [1, 0, 0, ..., 0, 0, 0]], dtype=int64), 'f1_score': 0.052227342549923186, 'recall': 0.05069124423963134, 'precision': 0.055299539170506916}}\n"
     ]
    },
    {
     "name": "stderr",
     "output_type": "stream",
     "text": [
      "\n",
      "C:\\Users\\HP\\miniconda3\\envs\\mlpr\\lib\\site-packages\\sklearn\\metrics\\_classification.py:1344: UndefinedMetricWarning: Recall is ill-defined and being set to 0.0 in labels with no true samples. Use `zero_division` parameter to control this behavior.\n",
      "  _warn_prf(average, modifier, msg_start, len(result))\n",
      "C:\\Users\\HP\\miniconda3\\envs\\mlpr\\lib\\site-packages\\sklearn\\metrics\\_classification.py:1344: UndefinedMetricWarning: Precision is ill-defined and being set to 0.0 in labels with no predicted samples. Use `zero_division` parameter to control this behavior.\n",
      "  _warn_prf(average, modifier, msg_start, len(result))\n",
      "C:\\Users\\HP\\miniconda3\\envs\\mlpr\\lib\\site-packages\\sklearn\\metrics\\_classification.py:1344: UndefinedMetricWarning: Recall is ill-defined and being set to 0.0 in labels with no true samples. Use `zero_division` parameter to control this behavior.\n",
      "  _warn_prf(average, modifier, msg_start, len(result))\n",
      "C:\\Users\\HP\\miniconda3\\envs\\mlpr\\lib\\site-packages\\sklearn\\metrics\\_classification.py:1344: UndefinedMetricWarning: Precision is ill-defined and being set to 0.0 in labels with no predicted samples. Use `zero_division` parameter to control this behavior.\n",
      "  _warn_prf(average, modifier, msg_start, len(result))\n",
      "C:\\Users\\HP\\miniconda3\\envs\\mlpr\\lib\\site-packages\\sklearn\\metrics\\_classification.py:1344: UndefinedMetricWarning: Recall is ill-defined and being set to 0.0 in labels with no true samples. Use `zero_division` parameter to control this behavior.\n",
      "  _warn_prf(average, modifier, msg_start, len(result))\n",
      "C:\\Users\\HP\\miniconda3\\envs\\mlpr\\lib\\site-packages\\sklearn\\metrics\\_classification.py:1344: UndefinedMetricWarning: Precision is ill-defined and being set to 0.0 in labels with no predicted samples. Use `zero_division` parameter to control this behavior.\n",
      "  _warn_prf(average, modifier, msg_start, len(result))\n",
      "C:\\Users\\HP\\miniconda3\\envs\\mlpr\\lib\\site-packages\\sklearn\\metrics\\_classification.py:1344: UndefinedMetricWarning: Recall is ill-defined and being set to 0.0 in labels with no true samples. Use `zero_division` parameter to control this behavior.\n",
      "  _warn_prf(average, modifier, msg_start, len(result))\n",
      "C:\\Users\\HP\\miniconda3\\envs\\mlpr\\lib\\site-packages\\sklearn\\metrics\\_classification.py:1344: UndefinedMetricWarning: Precision is ill-defined and being set to 0.0 in labels with no predicted samples. Use `zero_division` parameter to control this behavior.\n",
      "  _warn_prf(average, modifier, msg_start, len(result))\n",
      "C:\\Users\\HP\\miniconda3\\envs\\mlpr\\lib\\site-packages\\sklearn\\metrics\\_classification.py:1344: UndefinedMetricWarning: Recall is ill-defined and being set to 0.0 in labels with no true samples. Use `zero_division` parameter to control this behavior.\n",
      "  _warn_prf(average, modifier, msg_start, len(result))\n",
      "C:\\Users\\HP\\miniconda3\\envs\\mlpr\\lib\\site-packages\\sklearn\\metrics\\_classification.py:1344: UndefinedMetricWarning: Precision is ill-defined and being set to 0.0 in labels with no predicted samples. Use `zero_division` parameter to control this behavior.\n",
      "  _warn_prf(average, modifier, msg_start, len(result))\n",
      "C:\\Users\\HP\\miniconda3\\envs\\mlpr\\lib\\site-packages\\sklearn\\metrics\\_classification.py:1344: UndefinedMetricWarning: Recall is ill-defined and being set to 0.0 in labels with no true samples. Use `zero_division` parameter to control this behavior.\n",
      "  _warn_prf(average, modifier, msg_start, len(result))\n",
      "C:\\Users\\HP\\miniconda3\\envs\\mlpr\\lib\\site-packages\\sklearn\\metrics\\_classification.py:1344: UndefinedMetricWarning: Precision is ill-defined and being set to 0.0 in labels with no predicted samples. Use `zero_division` parameter to control this behavior.\n",
      "  _warn_prf(average, modifier, msg_start, len(result))\n",
      "C:\\Users\\HP\\miniconda3\\envs\\mlpr\\lib\\site-packages\\sklearn\\metrics\\_classification.py:1344: UndefinedMetricWarning: Recall is ill-defined and being set to 0.0 in labels with no true samples. Use `zero_division` parameter to control this behavior.\n",
      "  _warn_prf(average, modifier, msg_start, len(result))\n",
      "C:\\Users\\HP\\miniconda3\\envs\\mlpr\\lib\\site-packages\\sklearn\\metrics\\_classification.py:1344: UndefinedMetricWarning: Precision is ill-defined and being set to 0.0 in labels with no predicted samples. Use `zero_division` parameter to control this behavior.\n",
      "  _warn_prf(average, modifier, msg_start, len(result))\n",
      "C:\\Users\\HP\\miniconda3\\envs\\mlpr\\lib\\site-packages\\sklearn\\metrics\\_classification.py:1344: UndefinedMetricWarning: Recall is ill-defined and being set to 0.0 in labels with no true samples. Use `zero_division` parameter to control this behavior.\n",
      "  _warn_prf(average, modifier, msg_start, len(result))\n",
      "C:\\Users\\HP\\miniconda3\\envs\\mlpr\\lib\\site-packages\\sklearn\\metrics\\_classification.py:1344: UndefinedMetricWarning: Precision is ill-defined and being set to 0.0 in labels with no predicted samples. Use `zero_division` parameter to control this behavior.\n",
      "  _warn_prf(average, modifier, msg_start, len(result))\n",
      "C:\\Users\\HP\\miniconda3\\envs\\mlpr\\lib\\site-packages\\sklearn\\metrics\\_classification.py:1344: UndefinedMetricWarning: Recall is ill-defined and being set to 0.0 in labels with no true samples. Use `zero_division` parameter to control this behavior.\n",
      "  _warn_prf(average, modifier, msg_start, len(result))\n",
      "C:\\Users\\HP\\miniconda3\\envs\\mlpr\\lib\\site-packages\\sklearn\\metrics\\_classification.py:1344: UndefinedMetricWarning: Precision is ill-defined and being set to 0.0 in labels with no predicted samples. Use `zero_division` parameter to control this behavior.\n",
      "  _warn_prf(average, modifier, msg_start, len(result))\n",
      "C:\\Users\\HP\\miniconda3\\envs\\mlpr\\lib\\site-packages\\sklearn\\metrics\\_classification.py:1344: UndefinedMetricWarning: Recall is ill-defined and being set to 0.0 in labels with no true samples. Use `zero_division` parameter to control this behavior.\n",
      "  _warn_prf(average, modifier, msg_start, len(result))\n",
      "C:\\Users\\HP\\miniconda3\\envs\\mlpr\\lib\\site-packages\\sklearn\\metrics\\_classification.py:1344: UndefinedMetricWarning: Precision is ill-defined and being set to 0.0 in labels with no predicted samples. Use `zero_division` parameter to control this behavior.\n",
      "  _warn_prf(average, modifier, msg_start, len(result))\n",
      "C:\\Users\\HP\\miniconda3\\envs\\mlpr\\lib\\site-packages\\sklearn\\metrics\\_classification.py:1344: UndefinedMetricWarning: Recall is ill-defined and being set to 0.0 in labels with no true samples. Use `zero_division` parameter to control this behavior.\n",
      "  _warn_prf(average, modifier, msg_start, len(result))\n",
      "C:\\Users\\HP\\miniconda3\\envs\\mlpr\\lib\\site-packages\\sklearn\\metrics\\_classification.py:1344: UndefinedMetricWarning: Precision is ill-defined and being set to 0.0 in labels with no predicted samples. Use `zero_division` parameter to control this behavior.\n",
      "  _warn_prf(average, modifier, msg_start, len(result))\n"
     ]
    }
   ],
   "source": [
    "# Evaluate the models on the test dataset to get the predictions, the test data for each model will be similar to the one used\n",
    "# during the evaluation above, so it will be each models target data. The only reason is so that we have access to the predicted\n",
    "# labels.\n",
    "model_0_best.eval()\n",
    "\n",
    "with torch.no_grad():\n",
    "    all_predictions_model_0 = []  # Empty list to hold all predictions\n",
    "    for data in tqdm(test_dataloader_0):\n",
    "        data = [x.to('cpu') for x in data]\n",
    "        seqs, labels = data\n",
    "        test_predictions_model_0 = model_0_best.predict(seqs, labels)\n",
    "        all_predictions_model_0.append(test_predictions_model_0)\n",
    "\n",
    "# Concatenate all predictions into a single tensor\n",
    "all_predictions_model_0 = torch.cat(all_predictions_model_0, dim=0)\n",
    "    \n",
    "# Convert the predictions to class labels (assuming multi-class classification)\n",
    "all_test_predictions_labels_model_0 = torch.argmax(all_predictions_model_0, dim=1).numpy()\n",
    "\n",
    "# Calculate bias metrics for age and gender subgroups\n",
    "age_bias_metrics_model_0 = calculate_bias_metrics(all_test_predictions_labels_model_0, y_test_for_bias_later[0], x_test_for_bias_later[0]['age'])\n",
    "gender_bias_metrics_model_0 = calculate_bias_metrics(all_test_predictions_labels_model_0, y_test_for_bias_later[0], x_test_for_bias_later[0]['gender'])\n",
    "\n",
    "print(\"Bias Metrics for Age Subgroups in Model On Zero Percent Cold Data:\")\n",
    "print(age_bias_metrics_model_0)\n",
    "\n",
    "print(\"Bias Metrics for Gender Subgroups in Model On Zero Percent Cold Data:\")\n",
    "print(gender_bias_metrics_model_0)"
   ]
  },
  {
   "cell_type": "code",
   "execution_count": 44,
   "metadata": {},
   "outputs": [
    {
     "name": "stdout",
     "output_type": "stream",
     "text": [
      "Ratios for Age Subgroups in Model On Zero Percent Cold Data:\n",
      "{0: {'subgroup_odds_ratio': nan, 'overall_odds_ratio': nan, 'subgroup_log_odds_ratio': nan, 'overall_log_odds_ratio': nan}, 1: {'subgroup_odds_ratio': nan, 'overall_odds_ratio': nan, 'subgroup_log_odds_ratio': nan, 'overall_log_odds_ratio': nan}, 2: {'subgroup_odds_ratio': nan, 'overall_odds_ratio': nan, 'subgroup_log_odds_ratio': nan, 'overall_log_odds_ratio': nan}, 3: {'subgroup_odds_ratio': nan, 'overall_odds_ratio': nan, 'subgroup_log_odds_ratio': nan, 'overall_log_odds_ratio': nan}, 4: {'subgroup_odds_ratio': nan, 'overall_odds_ratio': nan, 'subgroup_log_odds_ratio': nan, 'overall_log_odds_ratio': nan}, 5: {'subgroup_odds_ratio': nan, 'overall_odds_ratio': nan, 'subgroup_log_odds_ratio': nan, 'overall_log_odds_ratio': nan}, 6: {'subgroup_odds_ratio': nan, 'overall_odds_ratio': nan, 'subgroup_log_odds_ratio': nan, 'overall_log_odds_ratio': nan}, 7: {'subgroup_odds_ratio': nan, 'overall_odds_ratio': nan, 'subgroup_log_odds_ratio': nan, 'overall_log_odds_ratio': nan}}\n",
      "Ratios for Gender Subgroups in Model On Zero Percent Cold Data:\n",
      "{0: {'subgroup_odds_ratio': nan, 'overall_odds_ratio': nan, 'subgroup_log_odds_ratio': nan, 'overall_log_odds_ratio': nan}, 1: {'subgroup_odds_ratio': nan, 'overall_odds_ratio': nan, 'subgroup_log_odds_ratio': nan, 'overall_log_odds_ratio': nan}, 2: {'subgroup_odds_ratio': nan, 'overall_odds_ratio': nan, 'subgroup_log_odds_ratio': nan, 'overall_log_odds_ratio': nan}}\n"
     ]
    },
    {
     "name": "stderr",
     "output_type": "stream",
     "text": [
      "C:\\Users\\HP\\AppData\\Local\\Temp\\ipykernel_6852\\3935102233.py:4: RuntimeWarning: invalid value encountered in longlong_scalars\n",
      "  return (positive_predictions[0] * total_predictions[1]) / (positive_predictions[1] * total_predictions[0])\n"
     ]
    }
   ],
   "source": [
    "# Measure bias using log odds ratios\n",
    "age_ratios_0 = measure_bias_with_odds_and_log_odds_ratios(age_bias_metrics_model_0)\n",
    "gender_ratios_0 = measure_bias_with_odds_and_log_odds_ratios(gender_bias_metrics_model_0)\n",
    "\n",
    "print(\"Ratios for Age Subgroups in Model On Zero Percent Cold Data:\")\n",
    "print(age_ratios_0)\n",
    "\n",
    "print(\"Ratios for Gender Subgroups in Model On Zero Percent Cold Data:\")\n",
    "print(gender_ratios_0)"
   ]
  },
  {
   "cell_type": "code",
   "execution_count": 45,
   "metadata": {},
   "outputs": [
    {
     "data": {
      "text/plain": [
       "BERT_ColdstartModel(\n",
       "  (bert): BERT(\n",
       "    (embedding): BERTEmbedding(\n",
       "      (token): TokenEmbedding(1189326, 128, padding_idx=0)\n",
       "      (position): PositionalEmbedding(\n",
       "        (pe): Embedding(20, 128)\n",
       "      )\n",
       "      (dropout): Dropout(p=0.3, inplace=False)\n",
       "    )\n",
       "    (transformer_blocks): ModuleList(\n",
       "      (0-1): 2 x TransformerBlock(\n",
       "        (attention): MultiHeadedAttention(\n",
       "          (linear_layers): ModuleList(\n",
       "            (0-2): 3 x Linear(in_features=128, out_features=128, bias=True)\n",
       "          )\n",
       "          (output_linear): Linear(in_features=128, out_features=128, bias=True)\n",
       "          (attention): Attention()\n",
       "          (dropout): Dropout(p=0.3, inplace=False)\n",
       "        )\n",
       "        (feed_forward): PositionwiseFeedForward(\n",
       "          (w_1): Linear(in_features=128, out_features=512, bias=True)\n",
       "          (w_2): Linear(in_features=512, out_features=128, bias=True)\n",
       "          (dropout): Dropout(p=0.3, inplace=False)\n",
       "          (activation): GELU()\n",
       "        )\n",
       "        (input_sublayer): SublayerConnection(\n",
       "          (norm): LayerNorm((128,), eps=1e-05, elementwise_affine=True)\n",
       "          (dropout): Dropout(p=0.3, inplace=False)\n",
       "        )\n",
       "        (output_sublayer): SublayerConnection(\n",
       "          (norm): LayerNorm((128,), eps=1e-05, elementwise_affine=True)\n",
       "          (dropout): Dropout(p=0.3, inplace=False)\n",
       "        )\n",
       "        (dropout): Dropout(p=0.3, inplace=False)\n",
       "      )\n",
       "    )\n",
       "  )\n",
       "  (out): Linear(in_features=128, out_features=14429, bias=True)\n",
       ")"
      ]
     },
     "execution_count": 45,
     "metadata": {},
     "output_type": "execute_result"
    },
    {
     "name": "stderr",
     "output_type": "stream",
     "text": [
      "100%|████████████████████████████████████████████████████████████████████████████████████| 4/4 [00:37<00:00,  9.38s/it]\n",
      "C:\\Users\\HP\\miniconda3\\envs\\mlpr\\lib\\site-packages\\sklearn\\metrics\\_classification.py:1344: UndefinedMetricWarning: Recall is ill-defined and being set to 0.0 in labels with no true samples. Use `zero_division` parameter to control this behavior.\n",
      "  _warn_prf(average, modifier, msg_start, len(result))\n",
      "C:\\Users\\HP\\miniconda3\\envs\\mlpr\\lib\\site-packages\\sklearn\\metrics\\_classification.py:1344: UndefinedMetricWarning: Precision is ill-defined and being set to 0.0 in labels with no predicted samples. Use `zero_division` parameter to control this behavior.\n",
      "  _warn_prf(average, modifier, msg_start, len(result))\n",
      "C:\\Users\\HP\\miniconda3\\envs\\mlpr\\lib\\site-packages\\sklearn\\metrics\\_classification.py:1344: UndefinedMetricWarning: Recall is ill-defined and being set to 0.0 in labels with no true samples. Use `zero_division` parameter to control this behavior.\n",
      "  _warn_prf(average, modifier, msg_start, len(result))\n",
      "C:\\Users\\HP\\miniconda3\\envs\\mlpr\\lib\\site-packages\\sklearn\\metrics\\_classification.py:1344: UndefinedMetricWarning: Precision is ill-defined and being set to 0.0 in labels with no predicted samples. Use `zero_division` parameter to control this behavior.\n",
      "  _warn_prf(average, modifier, msg_start, len(result))\n",
      "C:\\Users\\HP\\miniconda3\\envs\\mlpr\\lib\\site-packages\\sklearn\\metrics\\_classification.py:1344: UndefinedMetricWarning: Recall is ill-defined and being set to 0.0 in labels with no true samples. Use `zero_division` parameter to control this behavior.\n",
      "  _warn_prf(average, modifier, msg_start, len(result))\n",
      "C:\\Users\\HP\\miniconda3\\envs\\mlpr\\lib\\site-packages\\sklearn\\metrics\\_classification.py:1344: UndefinedMetricWarning: Precision is ill-defined and being set to 0.0 in labels with no predicted samples. Use `zero_division` parameter to control this behavior.\n",
      "  _warn_prf(average, modifier, msg_start, len(result))\n",
      "C:\\Users\\HP\\miniconda3\\envs\\mlpr\\lib\\site-packages\\sklearn\\metrics\\_classification.py:1344: UndefinedMetricWarning: Recall is ill-defined and being set to 0.0 in labels with no true samples. Use `zero_division` parameter to control this behavior.\n",
      "  _warn_prf(average, modifier, msg_start, len(result))\n",
      "C:\\Users\\HP\\miniconda3\\envs\\mlpr\\lib\\site-packages\\sklearn\\metrics\\_classification.py:1344: UndefinedMetricWarning: Precision is ill-defined and being set to 0.0 in labels with no predicted samples. Use `zero_division` parameter to control this behavior.\n",
      "  _warn_prf(average, modifier, msg_start, len(result))\n",
      "C:\\Users\\HP\\miniconda3\\envs\\mlpr\\lib\\site-packages\\sklearn\\metrics\\_classification.py:1344: UndefinedMetricWarning: Recall is ill-defined and being set to 0.0 in labels with no true samples. Use `zero_division` parameter to control this behavior.\n",
      "  _warn_prf(average, modifier, msg_start, len(result))\n",
      "C:\\Users\\HP\\miniconda3\\envs\\mlpr\\lib\\site-packages\\sklearn\\metrics\\_classification.py:1344: UndefinedMetricWarning: Precision is ill-defined and being set to 0.0 in labels with no predicted samples. Use `zero_division` parameter to control this behavior.\n",
      "  _warn_prf(average, modifier, msg_start, len(result))\n",
      "C:\\Users\\HP\\miniconda3\\envs\\mlpr\\lib\\site-packages\\sklearn\\metrics\\_classification.py:1344: UndefinedMetricWarning: Recall is ill-defined and being set to 0.0 in labels with no true samples. Use `zero_division` parameter to control this behavior.\n",
      "  _warn_prf(average, modifier, msg_start, len(result))\n",
      "C:\\Users\\HP\\miniconda3\\envs\\mlpr\\lib\\site-packages\\sklearn\\metrics\\_classification.py:1344: UndefinedMetricWarning: Precision is ill-defined and being set to 0.0 in labels with no predicted samples. Use `zero_division` parameter to control this behavior.\n",
      "  _warn_prf(average, modifier, msg_start, len(result))\n",
      "C:\\Users\\HP\\miniconda3\\envs\\mlpr\\lib\\site-packages\\sklearn\\metrics\\_classification.py:1344: UndefinedMetricWarning: Recall is ill-defined and being set to 0.0 in labels with no true samples. Use `zero_division` parameter to control this behavior.\n",
      "  _warn_prf(average, modifier, msg_start, len(result))\n",
      "C:\\Users\\HP\\miniconda3\\envs\\mlpr\\lib\\site-packages\\sklearn\\metrics\\_classification.py:1344: UndefinedMetricWarning: Precision is ill-defined and being set to 0.0 in labels with no predicted samples. Use `zero_division` parameter to control this behavior.\n",
      "  _warn_prf(average, modifier, msg_start, len(result))\n",
      "C:\\Users\\HP\\miniconda3\\envs\\mlpr\\lib\\site-packages\\sklearn\\metrics\\_classification.py:1344: UndefinedMetricWarning: Recall is ill-defined and being set to 0.0 in labels with no true samples. Use `zero_division` parameter to control this behavior.\n",
      "  _warn_prf(average, modifier, msg_start, len(result))\n",
      "C:\\Users\\HP\\miniconda3\\envs\\mlpr\\lib\\site-packages\\sklearn\\metrics\\_classification.py:1344: UndefinedMetricWarning: Precision is ill-defined and being set to 0.0 in labels with no predicted samples. Use `zero_division` parameter to control this behavior.\n",
      "  _warn_prf(average, modifier, msg_start, len(result))\n",
      "C:\\Users\\HP\\miniconda3\\envs\\mlpr\\lib\\site-packages\\sklearn\\metrics\\_classification.py:1344: UndefinedMetricWarning: Recall is ill-defined and being set to 0.0 in labels with no true samples. Use `zero_division` parameter to control this behavior.\n",
      "  _warn_prf(average, modifier, msg_start, len(result))\n",
      "C:\\Users\\HP\\miniconda3\\envs\\mlpr\\lib\\site-packages\\sklearn\\metrics\\_classification.py:1344: UndefinedMetricWarning: Precision is ill-defined and being set to 0.0 in labels with no predicted samples. Use `zero_division` parameter to control this behavior.\n",
      "  _warn_prf(average, modifier, msg_start, len(result))\n",
      "C:\\Users\\HP\\miniconda3\\envs\\mlpr\\lib\\site-packages\\sklearn\\metrics\\_classification.py:1344: UndefinedMetricWarning: Recall is ill-defined and being set to 0.0 in labels with no true samples. Use `zero_division` parameter to control this behavior.\n",
      "  _warn_prf(average, modifier, msg_start, len(result))\n",
      "C:\\Users\\HP\\miniconda3\\envs\\mlpr\\lib\\site-packages\\sklearn\\metrics\\_classification.py:1344: UndefinedMetricWarning: Precision is ill-defined and being set to 0.0 in labels with no predicted samples. Use `zero_division` parameter to control this behavior.\n",
      "  _warn_prf(average, modifier, msg_start, len(result))\n",
      "C:\\Users\\HP\\miniconda3\\envs\\mlpr\\lib\\site-packages\\sklearn\\metrics\\_classification.py:1344: UndefinedMetricWarning: Recall is ill-defined and being set to 0.0 in labels with no true samples. Use `zero_division` parameter to control this behavior.\n",
      "  _warn_prf(average, modifier, msg_start, len(result))\n",
      "C:\\Users\\HP\\miniconda3\\envs\\mlpr\\lib\\site-packages\\sklearn\\metrics\\_classification.py:1344: UndefinedMetricWarning: Precision is ill-defined and being set to 0.0 in labels with no predicted samples. Use `zero_division` parameter to control this behavior.\n",
      "  _warn_prf(average, modifier, msg_start, len(result))\n"
     ]
    },
    {
     "name": "stdout",
     "output_type": "stream",
     "text": [
      "Bias Metrics for Age Subgroups in Model On Thirty Percent Cold Data:\n",
      "{0: {'accuracy': 0.0, 'confusion_matrix': array([[0, 0, 0, 0, 0, 0, 0, 0],\n",
      "       [1, 0, 0, 0, 0, 0, 0, 0],\n",
      "       [1, 0, 0, 0, 0, 0, 0, 0],\n",
      "       [1, 0, 0, 0, 0, 0, 0, 0],\n",
      "       [1, 0, 0, 0, 0, 0, 0, 0],\n",
      "       [1, 0, 0, 0, 0, 0, 0, 0],\n",
      "       [1, 0, 0, 0, 0, 0, 0, 0],\n",
      "       [1, 0, 0, 0, 0, 0, 0, 0]], dtype=int64), 'f1_score': 0.0, 'recall': 0.0, 'precision': 0.0}, 1: {'accuracy': 0.020710059171597635, 'confusion_matrix': array([[0, 0, 0, ..., 0, 0, 0],\n",
      "       [1, 0, 0, ..., 0, 0, 0],\n",
      "       [1, 0, 0, ..., 0, 0, 0],\n",
      "       ...,\n",
      "       [1, 0, 0, ..., 0, 0, 0],\n",
      "       [1, 0, 0, ..., 0, 0, 0],\n",
      "       [1, 0, 0, ..., 0, 0, 0]], dtype=int64), 'f1_score': 0.020878721859114012, 'recall': 0.02018881626724764, 'precision': 0.02287581699346405}, 2: {'accuracy': 0.09721362229102168, 'confusion_matrix': array([[0, 0, 0, ..., 0, 0, 0],\n",
      "       [2, 0, 0, ..., 0, 0, 0],\n",
      "       [1, 0, 0, ..., 0, 0, 0],\n",
      "       ...,\n",
      "       [1, 0, 0, ..., 0, 0, 0],\n",
      "       [0, 0, 0, ..., 0, 1, 0],\n",
      "       [1, 0, 0, ..., 0, 0, 0]], dtype=int64), 'f1_score': 0.10114311842706902, 'recall': 0.09922267946959304, 'precision': 0.1056241426611797}, 3: {'accuracy': 0.032467532467532464, 'confusion_matrix': array([[0, 0, 0, ..., 0, 0, 0],\n",
      "       [1, 0, 0, ..., 0, 0, 0],\n",
      "       [1, 0, 0, ..., 0, 0, 0],\n",
      "       ...,\n",
      "       [1, 0, 0, ..., 0, 0, 0],\n",
      "       [1, 0, 0, ..., 0, 0, 0],\n",
      "       [1, 0, 0, ..., 0, 0, 0]], dtype=int64), 'f1_score': 0.032679738562091505, 'recall': 0.032679738562091505, 'precision': 0.032679738562091505}, 4: {'accuracy': 0.012738853503184714, 'confusion_matrix': array([[0, 0, 0, ..., 0, 0, 0],\n",
      "       [1, 0, 0, ..., 0, 0, 0],\n",
      "       [1, 0, 0, ..., 0, 0, 0],\n",
      "       ...,\n",
      "       [1, 0, 0, ..., 0, 0, 0],\n",
      "       [1, 0, 0, ..., 0, 0, 0],\n",
      "       [1, 0, 0, ..., 0, 0, 0]], dtype=int64), 'f1_score': 0.012738853503184714, 'recall': 0.012738853503184714, 'precision': 0.012738853503184714}, 5: {'accuracy': 0.07526881720430108, 'confusion_matrix': array([[0, 0, 0, ..., 0, 0, 0],\n",
      "       [1, 0, 0, ..., 0, 0, 0],\n",
      "       [1, 0, 0, ..., 0, 0, 0],\n",
      "       ...,\n",
      "       [1, 0, 0, ..., 0, 0, 0],\n",
      "       [1, 0, 0, ..., 0, 0, 0],\n",
      "       [1, 0, 0, ..., 0, 0, 0]], dtype=int64), 'f1_score': 0.07446808510638298, 'recall': 0.07446808510638298, 'precision': 0.07446808510638298}, 6: {'accuracy': 0.0, 'confusion_matrix': array([[0, 0, 0, ..., 0, 0, 0],\n",
      "       [1, 0, 0, ..., 0, 0, 0],\n",
      "       [1, 0, 0, ..., 0, 0, 0],\n",
      "       ...,\n",
      "       [1, 0, 0, ..., 0, 0, 0],\n",
      "       [1, 0, 0, ..., 0, 0, 0],\n",
      "       [1, 0, 0, ..., 0, 0, 0]], dtype=int64), 'f1_score': 0.0, 'recall': 0.0, 'precision': 0.0}, 7: {'accuracy': 0.0, 'confusion_matrix': array([[0, 0, 0, 0, 0, 0],\n",
      "       [1, 0, 0, 0, 0, 0],\n",
      "       [1, 0, 0, 0, 0, 0],\n",
      "       [1, 0, 0, 0, 0, 0],\n",
      "       [1, 0, 0, 0, 0, 0],\n",
      "       [1, 0, 0, 0, 0, 0]], dtype=int64), 'f1_score': 0.0, 'recall': 0.0, 'precision': 0.0}}\n",
      "Bias Metrics for Gender Subgroups in Model On Thirty Percent Cold Data:\n",
      "{0: {'accuracy': 0.0, 'confusion_matrix': array([[0, 0, 0, 0],\n",
      "       [1, 0, 0, 0],\n",
      "       [1, 0, 0, 0],\n",
      "       [1, 0, 0, 0]], dtype=int64), 'f1_score': 0.0, 'recall': 0.0, 'precision': 0.0}, 1: {'accuracy': 0.05846774193548387, 'confusion_matrix': array([[0, 0, 0, ..., 0, 0, 0],\n",
      "       [1, 0, 0, ..., 0, 0, 0],\n",
      "       [1, 0, 0, ..., 0, 0, 0],\n",
      "       ...,\n",
      "       [1, 0, 0, ..., 0, 0, 0],\n",
      "       [0, 0, 0, ..., 0, 1, 0],\n",
      "       [1, 0, 0, ..., 0, 0, 0]], dtype=int64), 'f1_score': 0.05950831525668834, 'recall': 0.05832730778500843, 'precision': 0.06218365871294288}, 2: {'accuracy': 0.06274957216200798, 'confusion_matrix': array([[0, 0, 0, ..., 0, 0, 0],\n",
      "       [1, 0, 0, ..., 0, 0, 0],\n",
      "       [2, 0, 0, ..., 0, 0, 0],\n",
      "       ...,\n",
      "       [1, 0, 0, ..., 0, 0, 0],\n",
      "       [1, 0, 0, ..., 0, 0, 0],\n",
      "       [1, 0, 0, ..., 0, 0, 0]], dtype=int64), 'f1_score': 0.06552836273951812, 'recall': 0.06304780876494023, 'precision': 0.07171314741035857}}\n"
     ]
    }
   ],
   "source": [
    "model_30_best.eval()\n",
    "with torch.no_grad():\n",
    "    all_predictions_model_30 = []  # Empty list to hold all predictions\n",
    "    for data in tqdm(test_dataloader_30):\n",
    "        data = [x.to('cpu') for x in data]\n",
    "        seqs, labels = data\n",
    "        test_predictions_model_30 = model_30_best.predict(seqs, labels)\n",
    "        all_predictions_model_30.append(test_predictions_model_30)\n",
    "\n",
    "# Concatenate all predictions into a single tensor\n",
    "all_predictions_model_30 = torch.cat(all_predictions_model_30, dim=0)\n",
    "    \n",
    "# Convert the predictions to class labels (assuming multi-class classification)\n",
    "all_test_predictions_labels_model_30 = torch.argmax(all_predictions_model_30, dim=1).numpy()\n",
    "\n",
    "# Calculate bias metrics for age and gender subgroups\n",
    "age_bias_metrics_model_30 = calculate_bias_metrics(all_test_predictions_labels_model_30, y_test_for_bias_later[1], x_test_for_bias_later[1]['age'])\n",
    "gender_bias_metrics_model_30 = calculate_bias_metrics(all_test_predictions_labels_model_30, y_test_for_bias_later[1], x_test_for_bias_later[1]['gender'])\n",
    "\n",
    "print(\"Bias Metrics for Age Subgroups in Model On Thirty Percent Cold Data:\")\n",
    "print(age_bias_metrics_model_30)\n",
    "\n",
    "print(\"Bias Metrics for Gender Subgroups in Model On Thirty Percent Cold Data:\")\n",
    "print(gender_bias_metrics_model_30)"
   ]
  },
  {
   "cell_type": "code",
   "execution_count": 46,
   "metadata": {},
   "outputs": [
    {
     "name": "stdout",
     "output_type": "stream",
     "text": [
      "Ratios for Age Subgroups in Model On Thirty Percent Cold Data:\n",
      "{0: {'subgroup_odds_ratio': nan, 'overall_odds_ratio': nan, 'subgroup_log_odds_ratio': nan, 'overall_log_odds_ratio': nan}, 1: {'subgroup_odds_ratio': nan, 'overall_odds_ratio': nan, 'subgroup_log_odds_ratio': nan, 'overall_log_odds_ratio': nan}, 2: {'subgroup_odds_ratio': nan, 'overall_odds_ratio': nan, 'subgroup_log_odds_ratio': nan, 'overall_log_odds_ratio': nan}, 3: {'subgroup_odds_ratio': nan, 'overall_odds_ratio': nan, 'subgroup_log_odds_ratio': nan, 'overall_log_odds_ratio': nan}, 4: {'subgroup_odds_ratio': nan, 'overall_odds_ratio': nan, 'subgroup_log_odds_ratio': nan, 'overall_log_odds_ratio': nan}, 5: {'subgroup_odds_ratio': nan, 'overall_odds_ratio': nan, 'subgroup_log_odds_ratio': nan, 'overall_log_odds_ratio': nan}, 6: {'subgroup_odds_ratio': nan, 'overall_odds_ratio': nan, 'subgroup_log_odds_ratio': nan, 'overall_log_odds_ratio': nan}, 7: {'subgroup_odds_ratio': nan, 'overall_odds_ratio': nan, 'subgroup_log_odds_ratio': nan, 'overall_log_odds_ratio': nan}}\n",
      "Ratios for Gender Subgroups in Model On Thirty Percent Cold Data:\n",
      "{0: {'subgroup_odds_ratio': nan, 'overall_odds_ratio': nan, 'subgroup_log_odds_ratio': nan, 'overall_log_odds_ratio': nan}, 1: {'subgroup_odds_ratio': nan, 'overall_odds_ratio': nan, 'subgroup_log_odds_ratio': nan, 'overall_log_odds_ratio': nan}, 2: {'subgroup_odds_ratio': nan, 'overall_odds_ratio': nan, 'subgroup_log_odds_ratio': nan, 'overall_log_odds_ratio': nan}}\n"
     ]
    },
    {
     "name": "stderr",
     "output_type": "stream",
     "text": [
      "C:\\Users\\HP\\AppData\\Local\\Temp\\ipykernel_6852\\3935102233.py:4: RuntimeWarning: invalid value encountered in longlong_scalars\n",
      "  return (positive_predictions[0] * total_predictions[1]) / (positive_predictions[1] * total_predictions[0])\n"
     ]
    }
   ],
   "source": [
    "# Measure bias using odds ratios\n",
    "age_ratios_30 = measure_bias_with_odds_and_log_odds_ratios(age_bias_metrics_model_30)\n",
    "gender_ratios_30 = measure_bias_with_odds_and_log_odds_ratios(gender_bias_metrics_model_30)\n",
    "\n",
    "print(\"Ratios for Age Subgroups in Model On Thirty Percent Cold Data:\")\n",
    "print(age_ratios_30)\n",
    "\n",
    "print(\"Ratios for Gender Subgroups in Model On Thirty Percent Cold Data:\")\n",
    "print(gender_ratios_30)"
   ]
  },
  {
   "cell_type": "code",
   "execution_count": 47,
   "metadata": {},
   "outputs": [
    {
     "data": {
      "text/plain": [
       "BERT_ColdstartModel(\n",
       "  (bert): BERT(\n",
       "    (embedding): BERTEmbedding(\n",
       "      (token): TokenEmbedding(1189326, 128, padding_idx=0)\n",
       "      (position): PositionalEmbedding(\n",
       "        (pe): Embedding(20, 128)\n",
       "      )\n",
       "      (dropout): Dropout(p=0.3, inplace=False)\n",
       "    )\n",
       "    (transformer_blocks): ModuleList(\n",
       "      (0-1): 2 x TransformerBlock(\n",
       "        (attention): MultiHeadedAttention(\n",
       "          (linear_layers): ModuleList(\n",
       "            (0-2): 3 x Linear(in_features=128, out_features=128, bias=True)\n",
       "          )\n",
       "          (output_linear): Linear(in_features=128, out_features=128, bias=True)\n",
       "          (attention): Attention()\n",
       "          (dropout): Dropout(p=0.3, inplace=False)\n",
       "        )\n",
       "        (feed_forward): PositionwiseFeedForward(\n",
       "          (w_1): Linear(in_features=128, out_features=512, bias=True)\n",
       "          (w_2): Linear(in_features=512, out_features=128, bias=True)\n",
       "          (dropout): Dropout(p=0.3, inplace=False)\n",
       "          (activation): GELU()\n",
       "        )\n",
       "        (input_sublayer): SublayerConnection(\n",
       "          (norm): LayerNorm((128,), eps=1e-05, elementwise_affine=True)\n",
       "          (dropout): Dropout(p=0.3, inplace=False)\n",
       "        )\n",
       "        (output_sublayer): SublayerConnection(\n",
       "          (norm): LayerNorm((128,), eps=1e-05, elementwise_affine=True)\n",
       "          (dropout): Dropout(p=0.3, inplace=False)\n",
       "        )\n",
       "        (dropout): Dropout(p=0.3, inplace=False)\n",
       "      )\n",
       "    )\n",
       "  )\n",
       "  (out): Linear(in_features=128, out_features=8790, bias=True)\n",
       ")"
      ]
     },
     "execution_count": 47,
     "metadata": {},
     "output_type": "execute_result"
    },
    {
     "name": "stderr",
     "output_type": "stream",
     "text": [
      "100%|████████████████████████████████████████████████████████████████████████████████████| 2/2 [00:06<00:00,  3.37s/it]\n",
      "C:\\Users\\HP\\miniconda3\\envs\\mlpr\\lib\\site-packages\\sklearn\\metrics\\_classification.py:1344: UndefinedMetricWarning: Recall is ill-defined and being set to 0.0 in labels with no true samples. Use `zero_division` parameter to control this behavior.\n",
      "  _warn_prf(average, modifier, msg_start, len(result))\n",
      "C:\\Users\\HP\\miniconda3\\envs\\mlpr\\lib\\site-packages\\sklearn\\metrics\\_classification.py:1344: UndefinedMetricWarning: Precision is ill-defined and being set to 0.0 in labels with no predicted samples. Use `zero_division` parameter to control this behavior.\n",
      "  _warn_prf(average, modifier, msg_start, len(result))\n",
      "C:\\Users\\HP\\miniconda3\\envs\\mlpr\\lib\\site-packages\\sklearn\\metrics\\_classification.py:1344: UndefinedMetricWarning: Recall is ill-defined and being set to 0.0 in labels with no true samples. Use `zero_division` parameter to control this behavior.\n",
      "  _warn_prf(average, modifier, msg_start, len(result))\n",
      "C:\\Users\\HP\\miniconda3\\envs\\mlpr\\lib\\site-packages\\sklearn\\metrics\\_classification.py:1344: UndefinedMetricWarning: Precision is ill-defined and being set to 0.0 in labels with no predicted samples. Use `zero_division` parameter to control this behavior.\n",
      "  _warn_prf(average, modifier, msg_start, len(result))\n",
      "C:\\Users\\HP\\miniconda3\\envs\\mlpr\\lib\\site-packages\\sklearn\\metrics\\_classification.py:1344: UndefinedMetricWarning: Recall is ill-defined and being set to 0.0 in labels with no true samples. Use `zero_division` parameter to control this behavior.\n",
      "  _warn_prf(average, modifier, msg_start, len(result))\n",
      "C:\\Users\\HP\\miniconda3\\envs\\mlpr\\lib\\site-packages\\sklearn\\metrics\\_classification.py:1344: UndefinedMetricWarning: Precision is ill-defined and being set to 0.0 in labels with no predicted samples. Use `zero_division` parameter to control this behavior.\n",
      "  _warn_prf(average, modifier, msg_start, len(result))\n",
      "C:\\Users\\HP\\miniconda3\\envs\\mlpr\\lib\\site-packages\\sklearn\\metrics\\_classification.py:1344: UndefinedMetricWarning: Recall is ill-defined and being set to 0.0 in labels with no true samples. Use `zero_division` parameter to control this behavior.\n",
      "  _warn_prf(average, modifier, msg_start, len(result))\n",
      "C:\\Users\\HP\\miniconda3\\envs\\mlpr\\lib\\site-packages\\sklearn\\metrics\\_classification.py:1344: UndefinedMetricWarning: Precision is ill-defined and being set to 0.0 in labels with no predicted samples. Use `zero_division` parameter to control this behavior.\n",
      "  _warn_prf(average, modifier, msg_start, len(result))\n",
      "C:\\Users\\HP\\miniconda3\\envs\\mlpr\\lib\\site-packages\\sklearn\\metrics\\_classification.py:1344: UndefinedMetricWarning: Recall is ill-defined and being set to 0.0 in labels with no true samples. Use `zero_division` parameter to control this behavior.\n",
      "  _warn_prf(average, modifier, msg_start, len(result))\n",
      "C:\\Users\\HP\\miniconda3\\envs\\mlpr\\lib\\site-packages\\sklearn\\metrics\\_classification.py:1344: UndefinedMetricWarning: Precision is ill-defined and being set to 0.0 in labels with no predicted samples. Use `zero_division` parameter to control this behavior.\n",
      "  _warn_prf(average, modifier, msg_start, len(result))\n"
     ]
    },
    {
     "name": "stdout",
     "output_type": "stream",
     "text": [
      "Bias Metrics for Age Subgroups in Model On Seventy Percent Cold Data:\n",
      "{0: {'accuracy': 1.0, 'confusion_matrix': array([[1, 0, 0, 0, 0, 0, 0, 0, 0, 0, 0, 0, 0, 0, 0, 0, 0, 0, 0, 0],\n",
      "       [0, 1, 0, 0, 0, 0, 0, 0, 0, 0, 0, 0, 0, 0, 0, 0, 0, 0, 0, 0],\n",
      "       [0, 0, 1, 0, 0, 0, 0, 0, 0, 0, 0, 0, 0, 0, 0, 0, 0, 0, 0, 0],\n",
      "       [0, 0, 0, 1, 0, 0, 0, 0, 0, 0, 0, 0, 0, 0, 0, 0, 0, 0, 0, 0],\n",
      "       [0, 0, 0, 0, 1, 0, 0, 0, 0, 0, 0, 0, 0, 0, 0, 0, 0, 0, 0, 0],\n",
      "       [0, 0, 0, 0, 0, 1, 0, 0, 0, 0, 0, 0, 0, 0, 0, 0, 0, 0, 0, 0],\n",
      "       [0, 0, 0, 0, 0, 0, 1, 0, 0, 0, 0, 0, 0, 0, 0, 0, 0, 0, 0, 0],\n",
      "       [0, 0, 0, 0, 0, 0, 0, 1, 0, 0, 0, 0, 0, 0, 0, 0, 0, 0, 0, 0],\n",
      "       [0, 0, 0, 0, 0, 0, 0, 0, 1, 0, 0, 0, 0, 0, 0, 0, 0, 0, 0, 0],\n",
      "       [0, 0, 0, 0, 0, 0, 0, 0, 0, 1, 0, 0, 0, 0, 0, 0, 0, 0, 0, 0],\n",
      "       [0, 0, 0, 0, 0, 0, 0, 0, 0, 0, 1, 0, 0, 0, 0, 0, 0, 0, 0, 0],\n",
      "       [0, 0, 0, 0, 0, 0, 0, 0, 0, 0, 0, 1, 0, 0, 0, 0, 0, 0, 0, 0],\n",
      "       [0, 0, 0, 0, 0, 0, 0, 0, 0, 0, 0, 0, 1, 0, 0, 0, 0, 0, 0, 0],\n",
      "       [0, 0, 0, 0, 0, 0, 0, 0, 0, 0, 0, 0, 0, 1, 0, 0, 0, 0, 0, 0],\n",
      "       [0, 0, 0, 0, 0, 0, 0, 0, 0, 0, 0, 0, 0, 0, 1, 0, 0, 0, 0, 0],\n",
      "       [0, 0, 0, 0, 0, 0, 0, 0, 0, 0, 0, 0, 0, 0, 0, 1, 0, 0, 0, 0],\n",
      "       [0, 0, 0, 0, 0, 0, 0, 0, 0, 0, 0, 0, 0, 0, 0, 0, 1, 0, 0, 0],\n",
      "       [0, 0, 0, 0, 0, 0, 0, 0, 0, 0, 0, 0, 0, 0, 0, 0, 0, 1, 0, 0],\n",
      "       [0, 0, 0, 0, 0, 0, 0, 0, 0, 0, 0, 0, 0, 0, 0, 0, 0, 0, 1, 0],\n",
      "       [0, 0, 0, 0, 0, 0, 0, 0, 0, 0, 0, 0, 0, 0, 0, 0, 0, 0, 0, 1]],\n",
      "      dtype=int64), 'f1_score': 1.0, 'recall': 1.0, 'precision': 1.0}, 1: {'accuracy': 0.974169741697417, 'confusion_matrix': array([[0, 0, 0, ..., 0, 0, 0],\n",
      "       [0, 1, 0, ..., 0, 0, 0],\n",
      "       [0, 0, 1, ..., 0, 0, 0],\n",
      "       ...,\n",
      "       [0, 0, 0, ..., 1, 0, 0],\n",
      "       [0, 0, 0, ..., 0, 1, 0],\n",
      "       [0, 0, 0, ..., 0, 0, 1]], dtype=int64), 'f1_score': 0.9738186462324394, 'recall': 0.9731800766283525, 'precision': 0.975095785440613}, 2: {'accuracy': 0.9769820971867008, 'confusion_matrix': array([[0, 0, 0, ..., 0, 0, 0],\n",
      "       [0, 1, 0, ..., 0, 0, 0],\n",
      "       [0, 0, 1, ..., 0, 0, 0],\n",
      "       ...,\n",
      "       [0, 0, 0, ..., 1, 0, 0],\n",
      "       [0, 0, 0, ..., 0, 1, 0],\n",
      "       [0, 0, 0, ..., 0, 0, 1]], dtype=int64), 'f1_score': 0.974496644295302, 'recall': 0.974496644295302, 'precision': 0.974496644295302}, 3: {'accuracy': 0.9506172839506173, 'confusion_matrix': array([[0, 0, 0, ..., 0, 0, 0],\n",
      "       [0, 1, 0, ..., 0, 0, 0],\n",
      "       [0, 0, 1, ..., 0, 0, 0],\n",
      "       ...,\n",
      "       [0, 0, 0, ..., 1, 0, 0],\n",
      "       [0, 0, 0, ..., 0, 1, 0],\n",
      "       [0, 0, 0, ..., 0, 0, 1]], dtype=int64), 'f1_score': 0.9390243902439024, 'recall': 0.9390243902439024, 'precision': 0.9390243902439024}, 4: {'accuracy': 0.9672131147540983, 'confusion_matrix': array([[0, 0, 0, ..., 0, 0, 0],\n",
      "       [0, 1, 0, ..., 0, 0, 0],\n",
      "       [0, 0, 1, ..., 0, 0, 0],\n",
      "       ...,\n",
      "       [0, 0, 0, ..., 1, 0, 0],\n",
      "       [0, 0, 0, ..., 0, 1, 0],\n",
      "       [0, 0, 0, ..., 0, 0, 1]], dtype=int64), 'f1_score': 0.9516129032258065, 'recall': 0.9516129032258065, 'precision': 0.9516129032258065}, 5: {'accuracy': 1.0, 'confusion_matrix': array([[1, 0, 0, ..., 0, 0, 0],\n",
      "       [0, 1, 0, ..., 0, 0, 0],\n",
      "       [0, 0, 1, ..., 0, 0, 0],\n",
      "       ...,\n",
      "       [0, 0, 0, ..., 1, 0, 0],\n",
      "       [0, 0, 0, ..., 0, 1, 0],\n",
      "       [0, 0, 0, ..., 0, 0, 1]], dtype=int64), 'f1_score': 1.0, 'recall': 1.0, 'precision': 1.0}, 6: {'accuracy': 0.9411764705882353, 'confusion_matrix': array([[0, 0, 0, 0, 0, 0, 0, 0, 0, 0, 0, 0, 0, 0, 0, 0, 0, 0],\n",
      "       [0, 1, 0, 0, 0, 0, 0, 0, 0, 0, 0, 0, 0, 0, 0, 0, 0, 0],\n",
      "       [0, 0, 1, 0, 0, 0, 0, 0, 0, 0, 0, 0, 0, 0, 0, 0, 0, 0],\n",
      "       [0, 0, 0, 1, 0, 0, 0, 0, 0, 0, 0, 0, 0, 0, 0, 0, 0, 0],\n",
      "       [0, 0, 0, 0, 1, 0, 0, 0, 0, 0, 0, 0, 0, 0, 0, 0, 0, 0],\n",
      "       [0, 0, 0, 0, 0, 1, 0, 0, 0, 0, 0, 0, 0, 0, 0, 0, 0, 0],\n",
      "       [0, 0, 0, 0, 0, 0, 1, 0, 0, 0, 0, 0, 0, 0, 0, 0, 0, 0],\n",
      "       [1, 0, 0, 0, 0, 0, 0, 0, 0, 0, 0, 0, 0, 0, 0, 0, 0, 0],\n",
      "       [0, 0, 0, 0, 0, 0, 0, 0, 1, 0, 0, 0, 0, 0, 0, 0, 0, 0],\n",
      "       [0, 0, 0, 0, 0, 0, 0, 0, 0, 1, 0, 0, 0, 0, 0, 0, 0, 0],\n",
      "       [0, 0, 0, 0, 0, 0, 0, 0, 0, 0, 1, 0, 0, 0, 0, 0, 0, 0],\n",
      "       [0, 0, 0, 0, 0, 0, 0, 0, 0, 0, 0, 1, 0, 0, 0, 0, 0, 0],\n",
      "       [0, 0, 0, 0, 0, 0, 0, 0, 0, 0, 0, 0, 1, 0, 0, 0, 0, 0],\n",
      "       [0, 0, 0, 0, 0, 0, 0, 0, 0, 0, 0, 0, 0, 1, 0, 0, 0, 0],\n",
      "       [0, 0, 0, 0, 0, 0, 0, 0, 0, 0, 0, 0, 0, 0, 1, 0, 0, 0],\n",
      "       [0, 0, 0, 0, 0, 0, 0, 0, 0, 0, 0, 0, 0, 0, 0, 1, 0, 0],\n",
      "       [0, 0, 0, 0, 0, 0, 0, 0, 0, 0, 0, 0, 0, 0, 0, 0, 1, 0],\n",
      "       [0, 0, 0, 0, 0, 0, 0, 0, 0, 0, 0, 0, 0, 0, 0, 0, 0, 1]],\n",
      "      dtype=int64), 'f1_score': 0.8888888888888888, 'recall': 0.8888888888888888, 'precision': 0.8888888888888888}, 7: {'accuracy': 1.0, 'confusion_matrix': array([[1, 0, 0, 0],\n",
      "       [0, 1, 0, 0],\n",
      "       [0, 0, 1, 0],\n",
      "       [0, 0, 0, 1]], dtype=int64), 'f1_score': 1.0, 'recall': 1.0, 'precision': 1.0}}\n",
      "Bias Metrics for Gender Subgroups in Model On Seventy Percent Cold Data:\n",
      "{0: {'accuracy': 1.0, 'confusion_matrix': array([[1]], dtype=int64), 'f1_score': 1.0, 'recall': 1.0, 'precision': 1.0}, 1: {'accuracy': 0.9744680851063829, 'confusion_matrix': array([[0, 0, 0, ..., 0, 0, 0],\n",
      "       [0, 1, 0, ..., 0, 0, 0],\n",
      "       [0, 0, 1, ..., 0, 0, 0],\n",
      "       ...,\n",
      "       [0, 0, 0, ..., 1, 0, 0],\n",
      "       [0, 0, 0, ..., 0, 1, 0],\n",
      "       [0, 0, 0, ..., 0, 0, 1]], dtype=int64), 'f1_score': 0.972181551976574, 'recall': 0.972181551976574, 'precision': 0.972181551976574}, 2: {'accuracy': 0.975, 'confusion_matrix': array([[0, 0, 0, ..., 0, 0, 0],\n",
      "       [0, 1, 0, ..., 0, 0, 0],\n",
      "       [0, 0, 1, ..., 0, 0, 0],\n",
      "       ...,\n",
      "       [0, 0, 0, ..., 1, 0, 0],\n",
      "       [0, 0, 0, ..., 0, 1, 0],\n",
      "       [0, 0, 0, ..., 0, 0, 1]], dtype=int64), 'f1_score': 0.9755991285403051, 'recall': 0.9745098039215686, 'precision': 0.9777777777777777}}\n"
     ]
    },
    {
     "name": "stderr",
     "output_type": "stream",
     "text": [
      "C:\\Users\\HP\\miniconda3\\envs\\mlpr\\lib\\site-packages\\sklearn\\metrics\\_classification.py:1344: UndefinedMetricWarning: Recall is ill-defined and being set to 0.0 in labels with no true samples. Use `zero_division` parameter to control this behavior.\n",
      "  _warn_prf(average, modifier, msg_start, len(result))\n",
      "C:\\Users\\HP\\miniconda3\\envs\\mlpr\\lib\\site-packages\\sklearn\\metrics\\_classification.py:1344: UndefinedMetricWarning: Precision is ill-defined and being set to 0.0 in labels with no predicted samples. Use `zero_division` parameter to control this behavior.\n",
      "  _warn_prf(average, modifier, msg_start, len(result))\n",
      "C:\\Users\\HP\\miniconda3\\envs\\mlpr\\lib\\site-packages\\sklearn\\metrics\\_classification.py:1344: UndefinedMetricWarning: Recall is ill-defined and being set to 0.0 in labels with no true samples. Use `zero_division` parameter to control this behavior.\n",
      "  _warn_prf(average, modifier, msg_start, len(result))\n",
      "C:\\Users\\HP\\miniconda3\\envs\\mlpr\\lib\\site-packages\\sklearn\\metrics\\_classification.py:1344: UndefinedMetricWarning: Precision is ill-defined and being set to 0.0 in labels with no predicted samples. Use `zero_division` parameter to control this behavior.\n",
      "  _warn_prf(average, modifier, msg_start, len(result))\n"
     ]
    }
   ],
   "source": [
    "model_70_best.eval()\n",
    "\n",
    "with torch.no_grad():\n",
    "    all_predictions_model_70 = []  # Empty list to hold all predictions\n",
    "    for data in tqdm(test_dataloader_70):\n",
    "        data = [x.to('cpu') for x in data]\n",
    "        seqs, labels = data\n",
    "        test_predictions_model_70 = model_70_best.predict(seqs, labels)\n",
    "        all_predictions_model_70.append(test_predictions_model_70)\n",
    "\n",
    "# Concatenate all predictions into a single tensor\n",
    "all_predictions_model_70 = torch.cat(all_predictions_model_70, dim=0)\n",
    "    \n",
    "# Convert the predictions to class labels (assuming multi-class classification)\n",
    "all_test_predictions_labels_model_70 = torch.argmax(all_predictions_model_70, dim=1).numpy()\n",
    "\n",
    "# Calculate bias metrics for age and gender subgroups\n",
    "age_bias_metrics_model_70 = calculate_bias_metrics(all_test_predictions_labels_model_70, y_test_for_bias_later[2], x_test_for_bias_later[2]['age'])\n",
    "gender_bias_metrics_model_70 = calculate_bias_metrics(all_test_predictions_labels_model_70, y_test_for_bias_later[2], x_test_for_bias_later[2]['gender'])\n",
    "\n",
    "print(\"Bias Metrics for Age Subgroups in Model On Seventy Percent Cold Data:\")\n",
    "print(age_bias_metrics_model_70)\n",
    "\n",
    "print(\"Bias Metrics for Gender Subgroups in Model On Seventy Percent Cold Data:\")\n",
    "print(gender_bias_metrics_model_70)"
   ]
  },
  {
   "cell_type": "code",
   "execution_count": 48,
   "metadata": {},
   "outputs": [
    {
     "name": "stdout",
     "output_type": "stream",
     "text": [
      "Ratios for Age Subgroups in Model On Seventy Percent Cold Data:\n",
      "{0: {'subgroup_odds_ratio': 1.0, 'overall_odds_ratio': 1.0, 'subgroup_log_odds_ratio': 0.0, 'overall_log_odds_ratio': 0.0}, 1: {'subgroup_odds_ratio': 1.0, 'overall_odds_ratio': nan, 'subgroup_log_odds_ratio': 0.0, 'overall_log_odds_ratio': nan}, 2: {'subgroup_odds_ratio': 1.0, 'overall_odds_ratio': nan, 'subgroup_log_odds_ratio': 0.0, 'overall_log_odds_ratio': nan}, 3: {'subgroup_odds_ratio': 1.0, 'overall_odds_ratio': nan, 'subgroup_log_odds_ratio': 0.0, 'overall_log_odds_ratio': nan}, 4: {'subgroup_odds_ratio': 1.0, 'overall_odds_ratio': nan, 'subgroup_log_odds_ratio': 0.0, 'overall_log_odds_ratio': nan}, 5: {'subgroup_odds_ratio': 1.0, 'overall_odds_ratio': 1.0, 'subgroup_log_odds_ratio': 0.0, 'overall_log_odds_ratio': 0.0}, 6: {'subgroup_odds_ratio': 1.0, 'overall_odds_ratio': nan, 'subgroup_log_odds_ratio': 0.0, 'overall_log_odds_ratio': nan}, 7: {'subgroup_odds_ratio': 1.0, 'overall_odds_ratio': 1.0, 'subgroup_log_odds_ratio': 0.0, 'overall_log_odds_ratio': 0.0}}\n",
      "Ratios for Gender Subgroups in Model On Seventy Percent Cold Data:\n",
      "{0: {'subgroup_odds_ratio': 1.0, 'overall_odds_ratio': nan, 'subgroup_log_odds_ratio': 0.0, 'overall_log_odds_ratio': nan}, 1: {'subgroup_odds_ratio': 1.0, 'overall_odds_ratio': nan, 'subgroup_log_odds_ratio': 0.0, 'overall_log_odds_ratio': nan}, 2: {'subgroup_odds_ratio': 1.0, 'overall_odds_ratio': nan, 'subgroup_log_odds_ratio': 0.0, 'overall_log_odds_ratio': nan}}\n"
     ]
    },
    {
     "name": "stderr",
     "output_type": "stream",
     "text": [
      "C:\\Users\\HP\\AppData\\Local\\Temp\\ipykernel_6852\\3935102233.py:4: RuntimeWarning: invalid value encountered in longlong_scalars\n",
      "  return (positive_predictions[0] * total_predictions[1]) / (positive_predictions[1] * total_predictions[0])\n"
     ]
    }
   ],
   "source": [
    "# Measure bias using odds ratios\n",
    "age_ratios_70 = measure_bias_with_odds_and_log_odds_ratios(age_bias_metrics_model_70)\n",
    "gender_ratios_70 = measure_bias_with_odds_and_log_odds_ratios(gender_bias_metrics_model_70)\n",
    "\n",
    "print(\"Ratios for Age Subgroups in Model On Seventy Percent Cold Data:\")\n",
    "print(age_ratios_70)\n",
    "\n",
    "print(\"Ratios for Gender Subgroups in Model On Seventy Percent Cold Data:\")\n",
    "print(gender_ratios_70)"
   ]
  },
  {
   "cell_type": "code",
   "execution_count": 49,
   "metadata": {},
   "outputs": [
    {
     "data": {
      "text/plain": [
       "BERT_ColdstartModel(\n",
       "  (bert): BERT(\n",
       "    (embedding): BERTEmbedding(\n",
       "      (token): TokenEmbedding(1189326, 128, padding_idx=0)\n",
       "      (position): PositionalEmbedding(\n",
       "        (pe): Embedding(20, 128)\n",
       "      )\n",
       "      (dropout): Dropout(p=0.3, inplace=False)\n",
       "    )\n",
       "    (transformer_blocks): ModuleList(\n",
       "      (0-1): 2 x TransformerBlock(\n",
       "        (attention): MultiHeadedAttention(\n",
       "          (linear_layers): ModuleList(\n",
       "            (0-2): 3 x Linear(in_features=128, out_features=128, bias=True)\n",
       "          )\n",
       "          (output_linear): Linear(in_features=128, out_features=128, bias=True)\n",
       "          (attention): Attention()\n",
       "          (dropout): Dropout(p=0.3, inplace=False)\n",
       "        )\n",
       "        (feed_forward): PositionwiseFeedForward(\n",
       "          (w_1): Linear(in_features=128, out_features=512, bias=True)\n",
       "          (w_2): Linear(in_features=512, out_features=128, bias=True)\n",
       "          (dropout): Dropout(p=0.3, inplace=False)\n",
       "          (activation): GELU()\n",
       "        )\n",
       "        (input_sublayer): SublayerConnection(\n",
       "          (norm): LayerNorm((128,), eps=1e-05, elementwise_affine=True)\n",
       "          (dropout): Dropout(p=0.3, inplace=False)\n",
       "        )\n",
       "        (output_sublayer): SublayerConnection(\n",
       "          (norm): LayerNorm((128,), eps=1e-05, elementwise_affine=True)\n",
       "          (dropout): Dropout(p=0.3, inplace=False)\n",
       "        )\n",
       "        (dropout): Dropout(p=0.3, inplace=False)\n",
       "      )\n",
       "    )\n",
       "  )\n",
       "  (out): Linear(in_features=128, out_features=2107, bias=True)\n",
       ")"
      ]
     },
     "execution_count": 49,
     "metadata": {},
     "output_type": "execute_result"
    },
    {
     "name": "stderr",
     "output_type": "stream",
     "text": [
      "100%|████████████████████████████████████████████████████████████████████████████████████| 1/1 [00:00<00:00,  2.72it/s]"
     ]
    },
    {
     "name": "stdout",
     "output_type": "stream",
     "text": [
      "Bias Metrics for Age Subgroups in Model On Hundred Percent Cold Data:\n",
      "{0: {'accuracy': 0.0, 'confusion_matrix': array([[0, 0, 0],\n",
      "       [1, 0, 0],\n",
      "       [1, 0, 0]], dtype=int64), 'f1_score': 0.0, 'recall': 0.0, 'precision': 0.0}, 1: {'accuracy': 0.16470588235294117, 'confusion_matrix': array([[0, 0, 0, ..., 0, 0, 0],\n",
      "       [1, 0, 0, ..., 0, 0, 0],\n",
      "       [0, 0, 1, ..., 0, 0, 0],\n",
      "       ...,\n",
      "       [1, 0, 0, ..., 0, 0, 0],\n",
      "       [1, 0, 0, ..., 0, 0, 0],\n",
      "       [1, 0, 0, ..., 0, 0, 0]], dtype=int64), 'f1_score': 0.16279069767441862, 'recall': 0.16279069767441862, 'precision': 0.16279069767441862}, 2: {'accuracy': 0.171875, 'confusion_matrix': array([[0, 0, 0, ..., 0, 0, 0],\n",
      "       [1, 0, 0, ..., 0, 0, 0],\n",
      "       [0, 0, 1, ..., 0, 0, 0],\n",
      "       ...,\n",
      "       [1, 0, 0, ..., 0, 0, 0],\n",
      "       [1, 0, 0, ..., 0, 0, 0],\n",
      "       [1, 0, 0, ..., 0, 0, 0]], dtype=int64), 'f1_score': 0.16666666666666666, 'recall': 0.16531165311653115, 'precision': 0.17073170731707318}, 3: {'accuracy': 0.10344827586206896, 'confusion_matrix': array([[0, 0, 0, 0, 0, 0, 0, 0, 0, 0, 0, 0, 0, 0, 0, 0, 0, 0, 0, 0, 0, 0,\n",
      "        0, 0, 0, 0, 0, 0, 0, 0],\n",
      "       [1, 0, 0, 0, 0, 0, 0, 0, 0, 0, 0, 0, 0, 0, 0, 0, 0, 0, 0, 0, 0, 0,\n",
      "        0, 0, 0, 0, 0, 0, 0, 0],\n",
      "       [1, 0, 0, 0, 0, 0, 0, 0, 0, 0, 0, 0, 0, 0, 0, 0, 0, 0, 0, 0, 0, 0,\n",
      "        0, 0, 0, 0, 0, 0, 0, 0],\n",
      "       [1, 0, 0, 0, 0, 0, 0, 0, 0, 0, 0, 0, 0, 0, 0, 0, 0, 0, 0, 0, 0, 0,\n",
      "        0, 0, 0, 0, 0, 0, 0, 0],\n",
      "       [0, 0, 0, 0, 1, 0, 0, 0, 0, 0, 0, 0, 0, 0, 0, 0, 0, 0, 0, 0, 0, 0,\n",
      "        0, 0, 0, 0, 0, 0, 0, 0],\n",
      "       [1, 0, 0, 0, 0, 0, 0, 0, 0, 0, 0, 0, 0, 0, 0, 0, 0, 0, 0, 0, 0, 0,\n",
      "        0, 0, 0, 0, 0, 0, 0, 0],\n",
      "       [0, 0, 0, 0, 0, 0, 1, 0, 0, 0, 0, 0, 0, 0, 0, 0, 0, 0, 0, 0, 0, 0,\n",
      "        0, 0, 0, 0, 0, 0, 0, 0],\n",
      "       [1, 0, 0, 0, 0, 0, 0, 0, 0, 0, 0, 0, 0, 0, 0, 0, 0, 0, 0, 0, 0, 0,\n",
      "        0, 0, 0, 0, 0, 0, 0, 0],\n",
      "       [1, 0, 0, 0, 0, 0, 0, 0, 0, 0, 0, 0, 0, 0, 0, 0, 0, 0, 0, 0, 0, 0,\n",
      "        0, 0, 0, 0, 0, 0, 0, 0],\n",
      "       [1, 0, 0, 0, 0, 0, 0, 0, 0, 0, 0, 0, 0, 0, 0, 0, 0, 0, 0, 0, 0, 0,\n",
      "        0, 0, 0, 0, 0, 0, 0, 0],\n",
      "       [0, 0, 0, 0, 0, 0, 0, 0, 0, 0, 1, 0, 0, 0, 0, 0, 0, 0, 0, 0, 0, 0,\n",
      "        0, 0, 0, 0, 0, 0, 0, 0],\n",
      "       [1, 0, 0, 0, 0, 0, 0, 0, 0, 0, 0, 0, 0, 0, 0, 0, 0, 0, 0, 0, 0, 0,\n",
      "        0, 0, 0, 0, 0, 0, 0, 0],\n",
      "       [1, 0, 0, 0, 0, 0, 0, 0, 0, 0, 0, 0, 0, 0, 0, 0, 0, 0, 0, 0, 0, 0,\n",
      "        0, 0, 0, 0, 0, 0, 0, 0],\n",
      "       [1, 0, 0, 0, 0, 0, 0, 0, 0, 0, 0, 0, 0, 0, 0, 0, 0, 0, 0, 0, 0, 0,\n",
      "        0, 0, 0, 0, 0, 0, 0, 0],\n",
      "       [1, 0, 0, 0, 0, 0, 0, 0, 0, 0, 0, 0, 0, 0, 0, 0, 0, 0, 0, 0, 0, 0,\n",
      "        0, 0, 0, 0, 0, 0, 0, 0],\n",
      "       [1, 0, 0, 0, 0, 0, 0, 0, 0, 0, 0, 0, 0, 0, 0, 0, 0, 0, 0, 0, 0, 0,\n",
      "        0, 0, 0, 0, 0, 0, 0, 0],\n",
      "       [1, 0, 0, 0, 0, 0, 0, 0, 0, 0, 0, 0, 0, 0, 0, 0, 0, 0, 0, 0, 0, 0,\n",
      "        0, 0, 0, 0, 0, 0, 0, 0],\n",
      "       [1, 0, 0, 0, 0, 0, 0, 0, 0, 0, 0, 0, 0, 0, 0, 0, 0, 0, 0, 0, 0, 0,\n",
      "        0, 0, 0, 0, 0, 0, 0, 0],\n",
      "       [1, 0, 0, 0, 0, 0, 0, 0, 0, 0, 0, 0, 0, 0, 0, 0, 0, 0, 0, 0, 0, 0,\n",
      "        0, 0, 0, 0, 0, 0, 0, 0],\n",
      "       [1, 0, 0, 0, 0, 0, 0, 0, 0, 0, 0, 0, 0, 0, 0, 0, 0, 0, 0, 0, 0, 0,\n",
      "        0, 0, 0, 0, 0, 0, 0, 0],\n",
      "       [1, 0, 0, 0, 0, 0, 0, 0, 0, 0, 0, 0, 0, 0, 0, 0, 0, 0, 0, 0, 0, 0,\n",
      "        0, 0, 0, 0, 0, 0, 0, 0],\n",
      "       [1, 0, 0, 0, 0, 0, 0, 0, 0, 0, 0, 0, 0, 0, 0, 0, 0, 0, 0, 0, 0, 0,\n",
      "        0, 0, 0, 0, 0, 0, 0, 0],\n",
      "       [1, 0, 0, 0, 0, 0, 0, 0, 0, 0, 0, 0, 0, 0, 0, 0, 0, 0, 0, 0, 0, 0,\n",
      "        0, 0, 0, 0, 0, 0, 0, 0],\n",
      "       [1, 0, 0, 0, 0, 0, 0, 0, 0, 0, 0, 0, 0, 0, 0, 0, 0, 0, 0, 0, 0, 0,\n",
      "        0, 0, 0, 0, 0, 0, 0, 0],\n",
      "       [1, 0, 0, 0, 0, 0, 0, 0, 0, 0, 0, 0, 0, 0, 0, 0, 0, 0, 0, 0, 0, 0,\n",
      "        0, 0, 0, 0, 0, 0, 0, 0],\n",
      "       [1, 0, 0, 0, 0, 0, 0, 0, 0, 0, 0, 0, 0, 0, 0, 0, 0, 0, 0, 0, 0, 0,\n",
      "        0, 0, 0, 0, 0, 0, 0, 0],\n",
      "       [1, 0, 0, 0, 0, 0, 0, 0, 0, 0, 0, 0, 0, 0, 0, 0, 0, 0, 0, 0, 0, 0,\n",
      "        0, 0, 0, 0, 0, 0, 0, 0],\n",
      "       [1, 0, 0, 0, 0, 0, 0, 0, 0, 0, 0, 0, 0, 0, 0, 0, 0, 0, 0, 0, 0, 0,\n",
      "        0, 0, 0, 0, 0, 0, 0, 0],\n",
      "       [1, 0, 0, 0, 0, 0, 0, 0, 0, 0, 0, 0, 0, 0, 0, 0, 0, 0, 0, 0, 0, 0,\n",
      "        0, 0, 0, 0, 0, 0, 0, 0],\n",
      "       [1, 0, 0, 0, 0, 0, 0, 0, 0, 0, 0, 0, 0, 0, 0, 0, 0, 0, 0, 0, 0, 0,\n",
      "        0, 0, 0, 0, 0, 0, 0, 0]], dtype=int64), 'f1_score': 0.1, 'recall': 0.1, 'precision': 0.1}, 4: {'accuracy': 0.14285714285714285, 'confusion_matrix': array([[0, 0, 0, 0, 0, 0, 0, 0],\n",
      "       [1, 0, 0, 0, 0, 0, 0, 0],\n",
      "       [1, 0, 0, 0, 0, 0, 0, 0],\n",
      "       [1, 0, 0, 0, 0, 0, 0, 0],\n",
      "       [1, 0, 0, 0, 0, 0, 0, 0],\n",
      "       [1, 0, 0, 0, 0, 0, 0, 0],\n",
      "       [1, 0, 0, 0, 0, 0, 0, 0],\n",
      "       [0, 0, 0, 0, 0, 0, 0, 1]], dtype=int64), 'f1_score': 0.125, 'recall': 0.125, 'precision': 0.125}, 5: {'accuracy': 0.2222222222222222, 'confusion_matrix': array([[0, 0, 0, 0, 0, 0, 0, 0, 0, 0],\n",
      "       [0, 1, 0, 0, 0, 0, 0, 0, 0, 0],\n",
      "       [1, 0, 0, 0, 0, 0, 0, 0, 0, 0],\n",
      "       [0, 0, 0, 1, 0, 0, 0, 0, 0, 0],\n",
      "       [1, 0, 0, 0, 0, 0, 0, 0, 0, 0],\n",
      "       [1, 0, 0, 0, 0, 0, 0, 0, 0, 0],\n",
      "       [1, 0, 0, 0, 0, 0, 0, 0, 0, 0],\n",
      "       [1, 0, 0, 0, 0, 0, 0, 0, 0, 0],\n",
      "       [1, 0, 0, 0, 0, 0, 0, 0, 0, 0],\n",
      "       [1, 0, 0, 0, 0, 0, 0, 0, 0, 0]], dtype=int64), 'f1_score': 0.2, 'recall': 0.2, 'precision': 0.2}, 6: {'accuracy': 0.25, 'confusion_matrix': array([[0, 0, 0, 0, 0],\n",
      "       [1, 0, 0, 0, 0],\n",
      "       [1, 0, 0, 0, 0],\n",
      "       [1, 0, 0, 0, 0],\n",
      "       [0, 0, 0, 0, 1]], dtype=int64), 'f1_score': 0.2, 'recall': 0.2, 'precision': 0.2}}\n",
      "Bias Metrics for Gender Subgroups in Model On Hundred Percent Cold Data:\n",
      "{1: {'accuracy': 0.13385826771653545, 'confusion_matrix': array([[0, 0, 0, ..., 0, 0, 0],\n",
      "       [0, 1, 0, ..., 0, 0, 0],\n",
      "       [1, 0, 0, ..., 0, 0, 0],\n",
      "       ...,\n",
      "       [1, 0, 0, ..., 0, 0, 0],\n",
      "       [1, 0, 0, ..., 0, 0, 0],\n",
      "       [1, 0, 0, ..., 0, 0, 0]], dtype=int64), 'f1_score': 0.13385826771653545, 'recall': 0.13385826771653545, 'precision': 0.13385826771653545}, 2: {'accuracy': 0.1897810218978102, 'confusion_matrix': array([[0, 0, 0, ..., 0, 0, 0],\n",
      "       [0, 1, 0, ..., 0, 0, 0],\n",
      "       [1, 0, 0, ..., 0, 0, 0],\n",
      "       ...,\n",
      "       [0, 0, 0, ..., 1, 0, 0],\n",
      "       [1, 0, 0, ..., 0, 0, 0],\n",
      "       [1, 0, 0, ..., 0, 0, 0]], dtype=int64), 'f1_score': 0.19012345679012344, 'recall': 0.18888888888888888, 'precision': 0.1925925925925926}}\n"
     ]
    },
    {
     "name": "stderr",
     "output_type": "stream",
     "text": [
      "\n",
      "C:\\Users\\HP\\miniconda3\\envs\\mlpr\\lib\\site-packages\\sklearn\\metrics\\_classification.py:1344: UndefinedMetricWarning: Recall is ill-defined and being set to 0.0 in labels with no true samples. Use `zero_division` parameter to control this behavior.\n",
      "  _warn_prf(average, modifier, msg_start, len(result))\n",
      "C:\\Users\\HP\\miniconda3\\envs\\mlpr\\lib\\site-packages\\sklearn\\metrics\\_classification.py:1344: UndefinedMetricWarning: Precision is ill-defined and being set to 0.0 in labels with no predicted samples. Use `zero_division` parameter to control this behavior.\n",
      "  _warn_prf(average, modifier, msg_start, len(result))\n",
      "C:\\Users\\HP\\miniconda3\\envs\\mlpr\\lib\\site-packages\\sklearn\\metrics\\_classification.py:1344: UndefinedMetricWarning: Recall is ill-defined and being set to 0.0 in labels with no true samples. Use `zero_division` parameter to control this behavior.\n",
      "  _warn_prf(average, modifier, msg_start, len(result))\n",
      "C:\\Users\\HP\\miniconda3\\envs\\mlpr\\lib\\site-packages\\sklearn\\metrics\\_classification.py:1344: UndefinedMetricWarning: Precision is ill-defined and being set to 0.0 in labels with no predicted samples. Use `zero_division` parameter to control this behavior.\n",
      "  _warn_prf(average, modifier, msg_start, len(result))\n",
      "C:\\Users\\HP\\miniconda3\\envs\\mlpr\\lib\\site-packages\\sklearn\\metrics\\_classification.py:1344: UndefinedMetricWarning: Recall is ill-defined and being set to 0.0 in labels with no true samples. Use `zero_division` parameter to control this behavior.\n",
      "  _warn_prf(average, modifier, msg_start, len(result))\n",
      "C:\\Users\\HP\\miniconda3\\envs\\mlpr\\lib\\site-packages\\sklearn\\metrics\\_classification.py:1344: UndefinedMetricWarning: Precision is ill-defined and being set to 0.0 in labels with no predicted samples. Use `zero_division` parameter to control this behavior.\n",
      "  _warn_prf(average, modifier, msg_start, len(result))\n",
      "C:\\Users\\HP\\miniconda3\\envs\\mlpr\\lib\\site-packages\\sklearn\\metrics\\_classification.py:1344: UndefinedMetricWarning: Recall is ill-defined and being set to 0.0 in labels with no true samples. Use `zero_division` parameter to control this behavior.\n",
      "  _warn_prf(average, modifier, msg_start, len(result))\n",
      "C:\\Users\\HP\\miniconda3\\envs\\mlpr\\lib\\site-packages\\sklearn\\metrics\\_classification.py:1344: UndefinedMetricWarning: Precision is ill-defined and being set to 0.0 in labels with no predicted samples. Use `zero_division` parameter to control this behavior.\n",
      "  _warn_prf(average, modifier, msg_start, len(result))\n",
      "C:\\Users\\HP\\miniconda3\\envs\\mlpr\\lib\\site-packages\\sklearn\\metrics\\_classification.py:1344: UndefinedMetricWarning: Recall is ill-defined and being set to 0.0 in labels with no true samples. Use `zero_division` parameter to control this behavior.\n",
      "  _warn_prf(average, modifier, msg_start, len(result))\n",
      "C:\\Users\\HP\\miniconda3\\envs\\mlpr\\lib\\site-packages\\sklearn\\metrics\\_classification.py:1344: UndefinedMetricWarning: Precision is ill-defined and being set to 0.0 in labels with no predicted samples. Use `zero_division` parameter to control this behavior.\n",
      "  _warn_prf(average, modifier, msg_start, len(result))\n",
      "C:\\Users\\HP\\miniconda3\\envs\\mlpr\\lib\\site-packages\\sklearn\\metrics\\_classification.py:1344: UndefinedMetricWarning: Recall is ill-defined and being set to 0.0 in labels with no true samples. Use `zero_division` parameter to control this behavior.\n",
      "  _warn_prf(average, modifier, msg_start, len(result))\n",
      "C:\\Users\\HP\\miniconda3\\envs\\mlpr\\lib\\site-packages\\sklearn\\metrics\\_classification.py:1344: UndefinedMetricWarning: Precision is ill-defined and being set to 0.0 in labels with no predicted samples. Use `zero_division` parameter to control this behavior.\n",
      "  _warn_prf(average, modifier, msg_start, len(result))\n",
      "C:\\Users\\HP\\miniconda3\\envs\\mlpr\\lib\\site-packages\\sklearn\\metrics\\_classification.py:1344: UndefinedMetricWarning: Recall is ill-defined and being set to 0.0 in labels with no true samples. Use `zero_division` parameter to control this behavior.\n",
      "  _warn_prf(average, modifier, msg_start, len(result))\n",
      "C:\\Users\\HP\\miniconda3\\envs\\mlpr\\lib\\site-packages\\sklearn\\metrics\\_classification.py:1344: UndefinedMetricWarning: Precision is ill-defined and being set to 0.0 in labels with no predicted samples. Use `zero_division` parameter to control this behavior.\n",
      "  _warn_prf(average, modifier, msg_start, len(result))\n",
      "C:\\Users\\HP\\miniconda3\\envs\\mlpr\\lib\\site-packages\\sklearn\\metrics\\_classification.py:1344: UndefinedMetricWarning: Recall is ill-defined and being set to 0.0 in labels with no true samples. Use `zero_division` parameter to control this behavior.\n",
      "  _warn_prf(average, modifier, msg_start, len(result))\n",
      "C:\\Users\\HP\\miniconda3\\envs\\mlpr\\lib\\site-packages\\sklearn\\metrics\\_classification.py:1344: UndefinedMetricWarning: Precision is ill-defined and being set to 0.0 in labels with no predicted samples. Use `zero_division` parameter to control this behavior.\n",
      "  _warn_prf(average, modifier, msg_start, len(result))\n",
      "C:\\Users\\HP\\miniconda3\\envs\\mlpr\\lib\\site-packages\\sklearn\\metrics\\_classification.py:1344: UndefinedMetricWarning: Recall is ill-defined and being set to 0.0 in labels with no true samples. Use `zero_division` parameter to control this behavior.\n",
      "  _warn_prf(average, modifier, msg_start, len(result))\n",
      "C:\\Users\\HP\\miniconda3\\envs\\mlpr\\lib\\site-packages\\sklearn\\metrics\\_classification.py:1344: UndefinedMetricWarning: Precision is ill-defined and being set to 0.0 in labels with no predicted samples. Use `zero_division` parameter to control this behavior.\n",
      "  _warn_prf(average, modifier, msg_start, len(result))\n"
     ]
    }
   ],
   "source": [
    "model_1_best.eval()\n",
    "with torch.no_grad():\n",
    "    all_predictions_model_1 = []  # Empty list to hold all predictions\n",
    "    for data in tqdm(test_dataloader_1):\n",
    "        data = [x.to('cpu') for x in data]\n",
    "        seqs, labels = data\n",
    "        test_predictions_model_1 = model_1_best.predict(seqs, labels)\n",
    "        all_predictions_model_1.append(test_predictions_model_1)\n",
    "\n",
    "# Concatenate all predictions into a single tensor\n",
    "all_predictions_model_1 = torch.cat(all_predictions_model_1, dim=0)\n",
    "    \n",
    "# Convert the predictions to class labels (assuming multi-class classification)\n",
    "all_test_predictions_labels_model_1 = torch.argmax(all_predictions_model_1, dim=1).numpy()\n",
    "\n",
    "# Calculate bias metrics for age and gender subgroups\n",
    "age_bias_metrics_model_1 = calculate_bias_metrics(all_test_predictions_labels_model_1, y_test_for_bias_later[3], x_test_for_bias_later[3]['age'])\n",
    "gender_bias_metrics_model_1 = calculate_bias_metrics(all_test_predictions_labels_model_1, y_test_for_bias_later[3], x_test_for_bias_later[3]['gender'])\n",
    "\n",
    "print(\"Bias Metrics for Age Subgroups in Model On Hundred Percent Cold Data:\")\n",
    "print(age_bias_metrics_model_1)\n",
    "\n",
    "print(\"Bias Metrics for Gender Subgroups in Model On Hundred Percent Cold Data:\")\n",
    "print(gender_bias_metrics_model_1)"
   ]
  },
  {
   "cell_type": "code",
   "execution_count": 50,
   "metadata": {},
   "outputs": [
    {
     "name": "stdout",
     "output_type": "stream",
     "text": [
      "Ratios for Age Subgroups in Model On Hundred Percent Cold Data:\n",
      "{0: {'subgroup_odds_ratio': 0.0, 'overall_odds_ratio': nan, 'subgroup_log_odds_ratio': -inf, 'overall_log_odds_ratio': nan}, 1: {'subgroup_odds_ratio': 0.0, 'overall_odds_ratio': nan, 'subgroup_log_odds_ratio': -inf, 'overall_log_odds_ratio': nan}, 2: {'subgroup_odds_ratio': 0.0, 'overall_odds_ratio': nan, 'subgroup_log_odds_ratio': -inf, 'overall_log_odds_ratio': nan}, 3: {'subgroup_odds_ratio': 0.0, 'overall_odds_ratio': nan, 'subgroup_log_odds_ratio': -inf, 'overall_log_odds_ratio': nan}, 4: {'subgroup_odds_ratio': 0.0, 'overall_odds_ratio': nan, 'subgroup_log_odds_ratio': -inf, 'overall_log_odds_ratio': nan}, 5: {'subgroup_odds_ratio': 7.0, 'overall_odds_ratio': nan, 'subgroup_log_odds_ratio': 1.9459101490553132, 'overall_log_odds_ratio': nan}, 6: {'subgroup_odds_ratio': 0.0, 'overall_odds_ratio': nan, 'subgroup_log_odds_ratio': -inf, 'overall_log_odds_ratio': nan}}\n",
      "Ratios for Gender Subgroups in Model On Hundred Percent Cold Data:\n",
      "{1: {'subgroup_odds_ratio': 1.0, 'overall_odds_ratio': nan, 'subgroup_log_odds_ratio': 0.0, 'overall_log_odds_ratio': nan}, 2: {'subgroup_odds_ratio': 1.0, 'overall_odds_ratio': nan, 'subgroup_log_odds_ratio': 0.0, 'overall_log_odds_ratio': nan}}\n"
     ]
    },
    {
     "name": "stderr",
     "output_type": "stream",
     "text": [
      "C:\\Users\\HP\\AppData\\Local\\Temp\\ipykernel_6852\\3935102233.py:4: RuntimeWarning: invalid value encountered in longlong_scalars\n",
      "  return (positive_predictions[0] * total_predictions[1]) / (positive_predictions[1] * total_predictions[0])\n",
      "C:\\Users\\HP\\AppData\\Local\\Temp\\ipykernel_6852\\3935102233.py:8: RuntimeWarning: divide by zero encountered in log\n",
      "  log_odds_ratio = np.log(odds_ratio)\n"
     ]
    }
   ],
   "source": [
    "# Measure bias using odds ratios\n",
    "age_ratios_1 = measure_bias_with_odds_and_log_odds_ratios(age_bias_metrics_model_1)\n",
    "gender_ratios_1 = measure_bias_with_odds_and_log_odds_ratios(gender_bias_metrics_model_1)\n",
    "\n",
    "print(\"Ratios for Age Subgroups in Model On Hundred Percent Cold Data:\")\n",
    "print(age_ratios_1)\n",
    "\n",
    "print(\"Ratios for Gender Subgroups in Model On Hundred Percent Cold Data:\")\n",
    "print(gender_ratios_1)"
   ]
  },
  {
   "cell_type": "code",
   "execution_count": 85,
   "metadata": {},
   "outputs": [],
   "source": [
    "torch.save(model_0_best, 'model_0_best.h5')\n",
    "torch.save(model_30_best, 'model_30_best.h5')\n",
    "torch.save(model_70_best, 'model_70_best.h5')\n",
    "torch.save(model_1_best, 'model_1_best.h5')"
   ]
  },
  {
   "cell_type": "code",
   "execution_count": 88,
   "metadata": {},
   "outputs": [],
   "source": [
    "y_test_for_bias_later[0].to_csv('TestDataModel_0.csv')\n",
    "y_test_for_bias_later[1].to_csv('TestDataModel_30.csv')\n",
    "y_test_for_bias_later[2].to_csv('TestDataModel_70.csv')\n",
    "y_test_for_bias_later[3].to_csv('TestDataModel_1.csv')"
   ]
  },
  {
   "cell_type": "code",
   "execution_count": 86,
   "metadata": {},
   "outputs": [
    {
     "data": {
      "text/plain": [
       "BERT_ColdstartModel(\n",
       "  (bert): BERT(\n",
       "    (embedding): BERTEmbedding(\n",
       "      (token): TokenEmbedding(1189326, 128, padding_idx=0)\n",
       "      (position): PositionalEmbedding(\n",
       "        (pe): Embedding(20, 128)\n",
       "      )\n",
       "      (dropout): Dropout(p=0.3, inplace=False)\n",
       "    )\n",
       "    (transformer_blocks): ModuleList(\n",
       "      (0-1): 2 x TransformerBlock(\n",
       "        (attention): MultiHeadedAttention(\n",
       "          (linear_layers): ModuleList(\n",
       "            (0-2): 3 x Linear(in_features=128, out_features=128, bias=True)\n",
       "          )\n",
       "          (output_linear): Linear(in_features=128, out_features=128, bias=True)\n",
       "          (attention): Attention()\n",
       "          (dropout): Dropout(p=0.3, inplace=False)\n",
       "        )\n",
       "        (feed_forward): PositionwiseFeedForward(\n",
       "          (w_1): Linear(in_features=128, out_features=512, bias=True)\n",
       "          (w_2): Linear(in_features=512, out_features=128, bias=True)\n",
       "          (dropout): Dropout(p=0.3, inplace=False)\n",
       "          (activation): GELU()\n",
       "        )\n",
       "        (input_sublayer): SublayerConnection(\n",
       "          (norm): LayerNorm((128,), eps=1e-05, elementwise_affine=True)\n",
       "          (dropout): Dropout(p=0.3, inplace=False)\n",
       "        )\n",
       "        (output_sublayer): SublayerConnection(\n",
       "          (norm): LayerNorm((128,), eps=1e-05, elementwise_affine=True)\n",
       "          (dropout): Dropout(p=0.3, inplace=False)\n",
       "        )\n",
       "        (dropout): Dropout(p=0.3, inplace=False)\n",
       "      )\n",
       "    )\n",
       "  )\n",
       "  (out): Linear(in_features=128, out_features=3139, bias=True)\n",
       ")"
      ]
     },
     "execution_count": 86,
     "metadata": {},
     "output_type": "execute_result"
    }
   ],
   "source": [
    "model = torch.load('model_0_best.h5')\n",
    "model.eval()"
   ]
  },
  {
   "cell_type": "code",
   "execution_count": null,
   "metadata": {},
   "outputs": [],
   "source": []
  }
 ],
 "metadata": {
  "colab": {
   "provenance": []
  },
  "kernelspec": {
   "display_name": "Python 3 (ipykernel)",
   "language": "python",
   "name": "python3"
  },
  "language_info": {
   "codemirror_mode": {
    "name": "ipython",
    "version": 3
   },
   "file_extension": ".py",
   "mimetype": "text/x-python",
   "name": "python",
   "nbconvert_exporter": "python",
   "pygments_lexer": "ipython3",
   "version": "3.10.9"
  }
 },
 "nbformat": 4,
 "nbformat_minor": 1
}
