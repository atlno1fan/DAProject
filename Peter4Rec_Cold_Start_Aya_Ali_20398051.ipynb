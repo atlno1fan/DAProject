{
 "cells": [
  {
   "attachments": {},
   "cell_type": "markdown",
   "id": "b91054b4",
   "metadata": {
    "id": "b91054b4"
   },
   "source": [
    "# Our problem that we want to solve is \"Cold Start Recommendation \" problem"
   ]
  },
  {
   "attachments": {},
   "cell_type": "markdown",
   "id": "f5e945a4",
   "metadata": {
    "id": "f5e945a4"
   },
   "source": [
    "The cold start recommendation problem is a recommender system needs to provide recommendations to a new user or for a new item, but has little or no information about the user's preferences or the item's characteristics (user's history), it arises when there is new users or items that have not been previously rated or evaluated."
   ]
  },
  {
   "attachments": {},
   "cell_type": "markdown",
   "id": "65bd672a",
   "metadata": {
    "id": "65bd672a"
   },
   "source": [
    "Usage of 2 datasets:\n",
    "\n",
    "* 'sbr.csv' which is the source dataset (ex:it will be the train data)\n",
    "* 'cold start 70' which is the target dataset (ex: it will be the testing data)\n",
    "\n",
    "Dataset of cold start with the 70%, to train on the large number of the cold start, also there is a percent of another recommendation system(none cold start)"
   ]
  },
  {
   "cell_type": "code",
   "execution_count": 1,
   "id": "3ec8b4b3",
   "metadata": {
    "id": "3ec8b4b3"
   },
   "outputs": [],
   "source": [
    " # import libiraries\n",
    "import pandas as pd\n",
    "import numpy as np\n",
    "import matplotlib.pyplot as plt\n",
    "import seaborn as sns\n",
    "from matplotlib import pyplot\n",
    "from sklearn.preprocessing import StandardScaler\n",
    "from sklearn.model_selection import train_test_split\n",
    "from tqdm import tqdm\n",
    "\n",
    "import torch.utils.data as data_utils\n",
    "from torch.utils.data.distributed import DistributedSampler\n",
    "import torch.nn as nn\n",
    "import time\n",
    "from copy import deepcopy\n",
    "from torch.utils.tensorboard import SummaryWriter\n",
    "import torch.nn.functional as F\n",
    "import math\n",
    "from sklearn.preprocessing import LabelEncoder"
   ]
  },
  {
   "cell_type": "code",
   "execution_count": 2,
   "id": "9d9bba5b",
   "metadata": {
    "id": "9d9bba5b",
    "outputId": "ed8a2e27-7f4a-48ff-c9bf-29f37c0a4f1e",
    "scrolled": true
   },
   "outputs": [
    {
     "data": {
      "text/html": [
       "<div>\n",
       "<style scoped>\n",
       "    .dataframe tbody tr th:only-of-type {\n",
       "        vertical-align: middle;\n",
       "    }\n",
       "\n",
       "    .dataframe tbody tr th {\n",
       "        vertical-align: top;\n",
       "    }\n",
       "\n",
       "    .dataframe thead th {\n",
       "        text-align: right;\n",
       "    }\n",
       "</style>\n",
       "<table border=\"1\" class=\"dataframe\">\n",
       "  <thead>\n",
       "    <tr style=\"text-align: right;\">\n",
       "      <th></th>\n",
       "      <th>user_id</th>\n",
       "      <th>item_id</th>\n",
       "      <th>click</th>\n",
       "      <th>gender</th>\n",
       "      <th>age</th>\n",
       "      <th>click_count</th>\n",
       "      <th>like_count</th>\n",
       "      <th>comment_count</th>\n",
       "      <th>read_percentage</th>\n",
       "      <th>item_score1</th>\n",
       "      <th>item_score2</th>\n",
       "      <th>category_second</th>\n",
       "      <th>category_first</th>\n",
       "      <th>item_score3</th>\n",
       "      <th>read</th>\n",
       "      <th>read_time</th>\n",
       "      <th>share</th>\n",
       "      <th>like</th>\n",
       "      <th>follow</th>\n",
       "      <th>favorite</th>\n",
       "    </tr>\n",
       "  </thead>\n",
       "  <tbody>\n",
       "    <tr>\n",
       "      <th>0</th>\n",
       "      <td>393219</td>\n",
       "      <td>73342</td>\n",
       "      <td>1.0</td>\n",
       "      <td>2</td>\n",
       "      <td>2</td>\n",
       "      <td>73</td>\n",
       "      <td>1</td>\n",
       "      <td>0</td>\n",
       "      <td>25.0</td>\n",
       "      <td>3</td>\n",
       "      <td>3.0</td>\n",
       "      <td>12000</td>\n",
       "      <td>120</td>\n",
       "      <td>1.0</td>\n",
       "      <td>True</td>\n",
       "      <td>4.0</td>\n",
       "      <td>False</td>\n",
       "      <td>False</td>\n",
       "      <td>False</td>\n",
       "      <td>False</td>\n",
       "    </tr>\n",
       "    <tr>\n",
       "      <th>1</th>\n",
       "      <td>393219</td>\n",
       "      <td>17695</td>\n",
       "      <td>1.0</td>\n",
       "      <td>2</td>\n",
       "      <td>2</td>\n",
       "      <td>29552</td>\n",
       "      <td>209</td>\n",
       "      <td>84</td>\n",
       "      <td>43.0</td>\n",
       "      <td>3</td>\n",
       "      <td>3.0</td>\n",
       "      <td>11204</td>\n",
       "      <td>112</td>\n",
       "      <td>2.0</td>\n",
       "      <td>True</td>\n",
       "      <td>19.0</td>\n",
       "      <td>False</td>\n",
       "      <td>False</td>\n",
       "      <td>False</td>\n",
       "      <td>False</td>\n",
       "    </tr>\n",
       "    <tr>\n",
       "      <th>2</th>\n",
       "      <td>393219</td>\n",
       "      <td>40457</td>\n",
       "      <td>1.0</td>\n",
       "      <td>2</td>\n",
       "      <td>2</td>\n",
       "      <td>20285</td>\n",
       "      <td>242</td>\n",
       "      <td>90</td>\n",
       "      <td>43.0</td>\n",
       "      <td>4</td>\n",
       "      <td>7.0</td>\n",
       "      <td>10203</td>\n",
       "      <td>102</td>\n",
       "      <td>6.0</td>\n",
       "      <td>True</td>\n",
       "      <td>104.0</td>\n",
       "      <td>False</td>\n",
       "      <td>False</td>\n",
       "      <td>False</td>\n",
       "      <td>False</td>\n",
       "    </tr>\n",
       "    <tr>\n",
       "      <th>3</th>\n",
       "      <td>917512</td>\n",
       "      <td>60594</td>\n",
       "      <td>1.0</td>\n",
       "      <td>1</td>\n",
       "      <td>4</td>\n",
       "      <td>485</td>\n",
       "      <td>1</td>\n",
       "      <td>0</td>\n",
       "      <td>45.0</td>\n",
       "      <td>2</td>\n",
       "      <td>3.0</td>\n",
       "      <td>12103</td>\n",
       "      <td>121</td>\n",
       "      <td>6.0</td>\n",
       "      <td>True</td>\n",
       "      <td>15.0</td>\n",
       "      <td>False</td>\n",
       "      <td>False</td>\n",
       "      <td>False</td>\n",
       "      <td>False</td>\n",
       "    </tr>\n",
       "    <tr>\n",
       "      <th>4</th>\n",
       "      <td>917512</td>\n",
       "      <td>8575</td>\n",
       "      <td>1.0</td>\n",
       "      <td>1</td>\n",
       "      <td>4</td>\n",
       "      <td>9850</td>\n",
       "      <td>11</td>\n",
       "      <td>14</td>\n",
       "      <td>42.0</td>\n",
       "      <td>2</td>\n",
       "      <td>3.0</td>\n",
       "      <td>12108</td>\n",
       "      <td>121</td>\n",
       "      <td>6.0</td>\n",
       "      <td>True</td>\n",
       "      <td>37.0</td>\n",
       "      <td>False</td>\n",
       "      <td>False</td>\n",
       "      <td>False</td>\n",
       "      <td>False</td>\n",
       "    </tr>\n",
       "    <tr>\n",
       "      <th>5</th>\n",
       "      <td>917512</td>\n",
       "      <td>23209</td>\n",
       "      <td>1.0</td>\n",
       "      <td>1</td>\n",
       "      <td>4</td>\n",
       "      <td>59767</td>\n",
       "      <td>112</td>\n",
       "      <td>47</td>\n",
       "      <td>70.0</td>\n",
       "      <td>2</td>\n",
       "      <td>3.0</td>\n",
       "      <td>12100</td>\n",
       "      <td>121</td>\n",
       "      <td>5.0</td>\n",
       "      <td>True</td>\n",
       "      <td>55.0</td>\n",
       "      <td>False</td>\n",
       "      <td>False</td>\n",
       "      <td>False</td>\n",
       "      <td>False</td>\n",
       "    </tr>\n",
       "    <tr>\n",
       "      <th>6</th>\n",
       "      <td>917512</td>\n",
       "      <td>81155</td>\n",
       "      <td>1.0</td>\n",
       "      <td>1</td>\n",
       "      <td>4</td>\n",
       "      <td>5912</td>\n",
       "      <td>25</td>\n",
       "      <td>8</td>\n",
       "      <td>126.0</td>\n",
       "      <td>4</td>\n",
       "      <td>5.0</td>\n",
       "      <td>12412</td>\n",
       "      <td>124</td>\n",
       "      <td>7.0</td>\n",
       "      <td>True</td>\n",
       "      <td>311.0</td>\n",
       "      <td>False</td>\n",
       "      <td>False</td>\n",
       "      <td>False</td>\n",
       "      <td>False</td>\n",
       "    </tr>\n",
       "  </tbody>\n",
       "</table>\n",
       "</div>"
      ],
      "text/plain": [
       "   user_id  item_id  click  gender  age  click_count  like_count  \\\n",
       "0   393219    73342    1.0       2    2           73           1   \n",
       "1   393219    17695    1.0       2    2        29552         209   \n",
       "2   393219    40457    1.0       2    2        20285         242   \n",
       "3   917512    60594    1.0       1    4          485           1   \n",
       "4   917512     8575    1.0       1    4         9850          11   \n",
       "5   917512    23209    1.0       1    4        59767         112   \n",
       "6   917512    81155    1.0       1    4         5912          25   \n",
       "\n",
       "   comment_count  read_percentage  item_score1  item_score2  category_second  \\\n",
       "0              0             25.0            3          3.0            12000   \n",
       "1             84             43.0            3          3.0            11204   \n",
       "2             90             43.0            4          7.0            10203   \n",
       "3              0             45.0            2          3.0            12103   \n",
       "4             14             42.0            2          3.0            12108   \n",
       "5             47             70.0            2          3.0            12100   \n",
       "6              8            126.0            4          5.0            12412   \n",
       "\n",
       "   category_first  item_score3  read  read_time  share   like  follow  \\\n",
       "0             120          1.0  True        4.0  False  False   False   \n",
       "1             112          2.0  True       19.0  False  False   False   \n",
       "2             102          6.0  True      104.0  False  False   False   \n",
       "3             121          6.0  True       15.0  False  False   False   \n",
       "4             121          6.0  True       37.0  False  False   False   \n",
       "5             121          5.0  True       55.0  False  False   False   \n",
       "6             124          7.0  True      311.0  False  False   False   \n",
       "\n",
       "   favorite  \n",
       "0     False  \n",
       "1     False  \n",
       "2     False  \n",
       "3     False  \n",
       "4     False  \n",
       "5     False  \n",
       "6     False  "
      ]
     },
     "execution_count": 2,
     "metadata": {},
     "output_type": "execute_result"
    }
   ],
   "source": [
    "all_data_70 =pd.read_csv('cold_data_0.7.csv')#read the data\n",
    "all_data_70.head(7)#get the first 7 rows"
   ]
  },
  {
   "cell_type": "code",
   "execution_count": 3,
   "id": "f53278ca-7e9a-45fa-ab69-3717d050619f",
   "metadata": {
    "id": "f53278ca-7e9a-45fa-ab69-3717d050619f",
    "outputId": "448fc609-03b3-4aa4-dea9-669049e37f49"
   },
   "outputs": [
    {
     "name": "stderr",
     "output_type": "stream",
     "text": [
      "C:\\Users\\hp\\AppData\\Local\\Temp\\ipykernel_13276\\695837345.py:1: DtypeWarning: Columns (6) have mixed types. Specify dtype option on import or set low_memory=False.\n",
      "  all_data =pd.read_csv('sbr_data_1M.csv')# read the data\n"
     ]
    },
    {
     "data": {
      "text/html": [
       "<div>\n",
       "<style scoped>\n",
       "    .dataframe tbody tr th:only-of-type {\n",
       "        vertical-align: middle;\n",
       "    }\n",
       "\n",
       "    .dataframe tbody tr th {\n",
       "        vertical-align: top;\n",
       "    }\n",
       "\n",
       "    .dataframe thead th {\n",
       "        text-align: right;\n",
       "    }\n",
       "</style>\n",
       "<table border=\"1\" class=\"dataframe\">\n",
       "  <thead>\n",
       "    <tr style=\"text-align: right;\">\n",
       "      <th></th>\n",
       "      <th>user_id</th>\n",
       "      <th>item_id</th>\n",
       "      <th>click</th>\n",
       "      <th>follow</th>\n",
       "      <th>like</th>\n",
       "      <th>share</th>\n",
       "      <th>video_category</th>\n",
       "      <th>watching_times</th>\n",
       "      <th>gender</th>\n",
       "      <th>age</th>\n",
       "    </tr>\n",
       "  </thead>\n",
       "  <tbody>\n",
       "    <tr>\n",
       "      <th>0</th>\n",
       "      <td>1</td>\n",
       "      <td>1</td>\n",
       "      <td>1</td>\n",
       "      <td>0</td>\n",
       "      <td>0</td>\n",
       "      <td>0</td>\n",
       "      <td>1</td>\n",
       "      <td>1</td>\n",
       "      <td>1</td>\n",
       "      <td>4</td>\n",
       "    </tr>\n",
       "    <tr>\n",
       "      <th>1</th>\n",
       "      <td>1</td>\n",
       "      <td>2</td>\n",
       "      <td>1</td>\n",
       "      <td>0</td>\n",
       "      <td>0</td>\n",
       "      <td>0</td>\n",
       "      <td>1</td>\n",
       "      <td>1</td>\n",
       "      <td>1</td>\n",
       "      <td>4</td>\n",
       "    </tr>\n",
       "    <tr>\n",
       "      <th>2</th>\n",
       "      <td>1</td>\n",
       "      <td>3</td>\n",
       "      <td>1</td>\n",
       "      <td>0</td>\n",
       "      <td>0</td>\n",
       "      <td>0</td>\n",
       "      <td>0</td>\n",
       "      <td>1</td>\n",
       "      <td>1</td>\n",
       "      <td>4</td>\n",
       "    </tr>\n",
       "    <tr>\n",
       "      <th>3</th>\n",
       "      <td>1</td>\n",
       "      <td>80936</td>\n",
       "      <td>1</td>\n",
       "      <td>0</td>\n",
       "      <td>0</td>\n",
       "      <td>0</td>\n",
       "      <td>1</td>\n",
       "      <td>1</td>\n",
       "      <td>1</td>\n",
       "      <td>4</td>\n",
       "    </tr>\n",
       "    <tr>\n",
       "      <th>4</th>\n",
       "      <td>1</td>\n",
       "      <td>781</td>\n",
       "      <td>1</td>\n",
       "      <td>0</td>\n",
       "      <td>0</td>\n",
       "      <td>0</td>\n",
       "      <td>1</td>\n",
       "      <td>1</td>\n",
       "      <td>1</td>\n",
       "      <td>4</td>\n",
       "    </tr>\n",
       "    <tr>\n",
       "      <th>5</th>\n",
       "      <td>1</td>\n",
       "      <td>111774</td>\n",
       "      <td>1</td>\n",
       "      <td>0</td>\n",
       "      <td>0</td>\n",
       "      <td>0</td>\n",
       "      <td>1</td>\n",
       "      <td>1</td>\n",
       "      <td>1</td>\n",
       "      <td>4</td>\n",
       "    </tr>\n",
       "    <tr>\n",
       "      <th>6</th>\n",
       "      <td>1</td>\n",
       "      <td>1230</td>\n",
       "      <td>1</td>\n",
       "      <td>0</td>\n",
       "      <td>0</td>\n",
       "      <td>0</td>\n",
       "      <td>1</td>\n",
       "      <td>1</td>\n",
       "      <td>1</td>\n",
       "      <td>4</td>\n",
       "    </tr>\n",
       "  </tbody>\n",
       "</table>\n",
       "</div>"
      ],
      "text/plain": [
       "   user_id  item_id  click  follow  like  share video_category  \\\n",
       "0        1        1      1       0     0      0              1   \n",
       "1        1        2      1       0     0      0              1   \n",
       "2        1        3      1       0     0      0              0   \n",
       "3        1    80936      1       0     0      0              1   \n",
       "4        1      781      1       0     0      0              1   \n",
       "5        1   111774      1       0     0      0              1   \n",
       "6        1     1230      1       0     0      0              1   \n",
       "\n",
       "   watching_times  gender  age  \n",
       "0               1       1    4  \n",
       "1               1       1    4  \n",
       "2               1       1    4  \n",
       "3               1       1    4  \n",
       "4               1       1    4  \n",
       "5               1       1    4  \n",
       "6               1       1    4  "
      ]
     },
     "execution_count": 3,
     "metadata": {},
     "output_type": "execute_result"
    }
   ],
   "source": [
    "all_data =pd.read_csv('sbr_data_1M.csv')# read the data\n",
    "all_data.head(7)#get the first 7 rows"
   ]
  },
  {
   "attachments": {},
   "cell_type": "markdown",
   "id": "e2d474a2",
   "metadata": {
    "id": "e2d474a2"
   },
   "source": [
    "For each dataset we will:\n",
    "\n",
    "1. Show the shape  \n",
    "2. Check for the dublicates\n",
    "3. Remove the dublicates\n",
    "4. Check for the nulls\n",
    "5. Show inforamtion\n",
    "6. Describe the data(min, max, mean,....)"
   ]
  },
  {
   "cell_type": "code",
   "execution_count": 4,
   "id": "36f4fe1f",
   "metadata": {
    "id": "36f4fe1f",
    "outputId": "9ab8b9e5-72ee-4cc6-a787-66ad8af706f1"
   },
   "outputs": [
    {
     "data": {
      "text/plain": [
       "(1263750, 20)"
      ]
     },
     "execution_count": 4,
     "metadata": {},
     "output_type": "execute_result"
    }
   ],
   "source": [
    "all_data_70.shape #shape"
   ]
  },
  {
   "cell_type": "code",
   "execution_count": 5,
   "id": "5719f1a5-e282-4ea4-8422-aa1f314311b9",
   "metadata": {
    "id": "5719f1a5-e282-4ea4-8422-aa1f314311b9",
    "outputId": "eb2256a8-997c-4ae1-a560-27fdac7dadab"
   },
   "outputs": [
    {
     "data": {
      "text/plain": [
       "(38300254, 10)"
      ]
     },
     "execution_count": 5,
     "metadata": {},
     "output_type": "execute_result"
    }
   ],
   "source": [
    "all_data.shape #shape"
   ]
  },
  {
   "cell_type": "code",
   "execution_count": 6,
   "id": "c838896e",
   "metadata": {
    "id": "c838896e",
    "outputId": "77af10e1-6ffc-40ca-fb45-8c8d5c70e80a"
   },
   "outputs": [
    {
     "data": {
      "text/plain": [
       "49128"
      ]
     },
     "execution_count": 6,
     "metadata": {},
     "output_type": "execute_result"
    }
   ],
   "source": [
    "all_data_70.duplicated().sum() #check for the dublicates"
   ]
  },
  {
   "cell_type": "code",
   "execution_count": 7,
   "id": "1b55458c-b730-4c87-8586-df921de26d0d",
   "metadata": {
    "id": "1b55458c-b730-4c87-8586-df921de26d0d",
    "outputId": "82dafa35-0c82-49b3-bce6-ba9a89969d38"
   },
   "outputs": [
    {
     "data": {
      "text/plain": [
       "26455"
      ]
     },
     "execution_count": 7,
     "metadata": {},
     "output_type": "execute_result"
    }
   ],
   "source": [
    "all_data.duplicated().sum() #check for the dublicates"
   ]
  },
  {
   "cell_type": "code",
   "execution_count": 8,
   "id": "b690b603",
   "metadata": {
    "id": "b690b603",
    "outputId": "3db300f7-0c66-47b5-8404-792650c29bbf"
   },
   "outputs": [
    {
     "data": {
      "text/plain": [
       "0"
      ]
     },
     "execution_count": 8,
     "metadata": {},
     "output_type": "execute_result"
    }
   ],
   "source": [
    "all_data_70 = all_data_70.drop_duplicates() #drop the duplicates\n",
    "all_data_70.duplicated().sum()"
   ]
  },
  {
   "cell_type": "code",
   "execution_count": 9,
   "id": "5494eab7-596e-45fb-a20b-9458e22a9502",
   "metadata": {
    "id": "5494eab7-596e-45fb-a20b-9458e22a9502",
    "outputId": "c0ed6aeb-a24d-4adb-e3d5-bda8076c77b7"
   },
   "outputs": [
    {
     "data": {
      "text/plain": [
       "0"
      ]
     },
     "execution_count": 9,
     "metadata": {},
     "output_type": "execute_result"
    }
   ],
   "source": [
    "all_data = all_data.drop_duplicates() #drop the duplicates\n",
    "all_data.duplicated().sum()"
   ]
  },
  {
   "cell_type": "code",
   "execution_count": 10,
   "id": "9d1c2b7e",
   "metadata": {
    "id": "9d1c2b7e",
    "outputId": "e945ab8c-f8e1-4c64-9960-c4c82178b49e"
   },
   "outputs": [
    {
     "data": {
      "text/plain": [
       "user_id            0\n",
       "item_id            0\n",
       "click              0\n",
       "gender             0\n",
       "age                0\n",
       "click_count        0\n",
       "like_count         0\n",
       "comment_count      0\n",
       "read_percentage    0\n",
       "item_score1        0\n",
       "item_score2        0\n",
       "category_second    0\n",
       "category_first     0\n",
       "item_score3        0\n",
       "read               0\n",
       "read_time          0\n",
       "share              0\n",
       "like               0\n",
       "follow             0\n",
       "favorite           0\n",
       "dtype: int64"
      ]
     },
     "execution_count": 10,
     "metadata": {},
     "output_type": "execute_result"
    }
   ],
   "source": [
    "all_data_70.isna().sum() # check for the nulls"
   ]
  },
  {
   "cell_type": "code",
   "execution_count": 11,
   "id": "726d65e7-ad64-4306-b7b9-b88e94a53838",
   "metadata": {
    "id": "726d65e7-ad64-4306-b7b9-b88e94a53838",
    "outputId": "c63bb782-20a9-4662-d7ef-f12fefc1e7e6"
   },
   "outputs": [
    {
     "data": {
      "text/plain": [
       "user_id           0\n",
       "item_id           0\n",
       "click             0\n",
       "follow            0\n",
       "like              0\n",
       "share             0\n",
       "video_category    0\n",
       "watching_times    0\n",
       "gender            0\n",
       "age               0\n",
       "dtype: int64"
      ]
     },
     "execution_count": 11,
     "metadata": {},
     "output_type": "execute_result"
    }
   ],
   "source": [
    "all_data.isna().sum() # check for the nulls"
   ]
  },
  {
   "cell_type": "code",
   "execution_count": 12,
   "id": "df05e8fd",
   "metadata": {
    "id": "df05e8fd",
    "outputId": "272eac45-841b-46aa-feda-8d43fc4b7e93"
   },
   "outputs": [
    {
     "name": "stdout",
     "output_type": "stream",
     "text": [
      "<class 'pandas.core.frame.DataFrame'>\n",
      "Int64Index: 1214622 entries, 0 to 1263749\n",
      "Data columns (total 20 columns):\n",
      " #   Column           Non-Null Count    Dtype  \n",
      "---  ------           --------------    -----  \n",
      " 0   user_id          1214622 non-null  int64  \n",
      " 1   item_id          1214622 non-null  int64  \n",
      " 2   click            1214622 non-null  float64\n",
      " 3   gender           1214622 non-null  int64  \n",
      " 4   age              1214622 non-null  int64  \n",
      " 5   click_count      1214622 non-null  int64  \n",
      " 6   like_count       1214622 non-null  int64  \n",
      " 7   comment_count    1214622 non-null  int64  \n",
      " 8   read_percentage  1214622 non-null  float64\n",
      " 9   item_score1      1214622 non-null  int64  \n",
      " 10  item_score2      1214622 non-null  float64\n",
      " 11  category_second  1214622 non-null  int64  \n",
      " 12  category_first   1214622 non-null  int64  \n",
      " 13  item_score3      1214622 non-null  float64\n",
      " 14  read             1214622 non-null  bool   \n",
      " 15  read_time        1214622 non-null  float64\n",
      " 16  share            1214622 non-null  bool   \n",
      " 17  like             1214622 non-null  bool   \n",
      " 18  follow           1214622 non-null  bool   \n",
      " 19  favorite         1214622 non-null  bool   \n",
      "dtypes: bool(5), float64(5), int64(10)\n",
      "memory usage: 154.1 MB\n"
     ]
    }
   ],
   "source": [
    "all_data_70.info() #information"
   ]
  },
  {
   "cell_type": "code",
   "execution_count": 13,
   "id": "a8ef6849-7d2f-4357-a465-53a82c55b6ed",
   "metadata": {
    "id": "a8ef6849-7d2f-4357-a465-53a82c55b6ed",
    "outputId": "0c9e6ef1-970d-4581-e874-94c141adf011"
   },
   "outputs": [
    {
     "name": "stdout",
     "output_type": "stream",
     "text": [
      "<class 'pandas.core.frame.DataFrame'>\n",
      "Int64Index: 38273799 entries, 0 to 38300253\n",
      "Data columns (total 10 columns):\n",
      " #   Column          Dtype \n",
      "---  ------          ----- \n",
      " 0   user_id         int64 \n",
      " 1   item_id         int64 \n",
      " 2   click           int64 \n",
      " 3   follow          int64 \n",
      " 4   like            int64 \n",
      " 5   share           int64 \n",
      " 6   video_category  object\n",
      " 7   watching_times  int64 \n",
      " 8   gender          int64 \n",
      " 9   age             int64 \n",
      "dtypes: int64(9), object(1)\n",
      "memory usage: 3.1+ GB\n"
     ]
    }
   ],
   "source": [
    "all_data.info() #information"
   ]
  },
  {
   "cell_type": "code",
   "execution_count": 14,
   "id": "6f4f375f",
   "metadata": {
    "id": "6f4f375f",
    "outputId": "59ba01db-c673-498d-c978-a04bb7cc5333"
   },
   "outputs": [
    {
     "data": {
      "text/html": [
       "<div>\n",
       "<style scoped>\n",
       "    .dataframe tbody tr th:only-of-type {\n",
       "        vertical-align: middle;\n",
       "    }\n",
       "\n",
       "    .dataframe tbody tr th {\n",
       "        vertical-align: top;\n",
       "    }\n",
       "\n",
       "    .dataframe thead th {\n",
       "        text-align: right;\n",
       "    }\n",
       "</style>\n",
       "<table border=\"1\" class=\"dataframe\">\n",
       "  <thead>\n",
       "    <tr style=\"text-align: right;\">\n",
       "      <th></th>\n",
       "      <th>user_id</th>\n",
       "      <th>item_id</th>\n",
       "      <th>click</th>\n",
       "      <th>gender</th>\n",
       "      <th>age</th>\n",
       "      <th>click_count</th>\n",
       "      <th>like_count</th>\n",
       "      <th>comment_count</th>\n",
       "      <th>read_percentage</th>\n",
       "      <th>item_score1</th>\n",
       "      <th>item_score2</th>\n",
       "      <th>category_second</th>\n",
       "      <th>category_first</th>\n",
       "      <th>item_score3</th>\n",
       "      <th>read</th>\n",
       "      <th>read_time</th>\n",
       "      <th>share</th>\n",
       "      <th>like</th>\n",
       "      <th>follow</th>\n",
       "      <th>favorite</th>\n",
       "    </tr>\n",
       "  </thead>\n",
       "  <tbody>\n",
       "    <tr>\n",
       "      <th>count</th>\n",
       "      <td>1.214622e+06</td>\n",
       "      <td>1.214622e+06</td>\n",
       "      <td>1214622.0</td>\n",
       "      <td>1.214622e+06</td>\n",
       "      <td>1.214622e+06</td>\n",
       "      <td>1.214622e+06</td>\n",
       "      <td>1.214622e+06</td>\n",
       "      <td>1.214622e+06</td>\n",
       "      <td>1.214622e+06</td>\n",
       "      <td>1.214622e+06</td>\n",
       "      <td>1.214622e+06</td>\n",
       "      <td>1.214622e+06</td>\n",
       "      <td>1.214622e+06</td>\n",
       "      <td>1.214622e+06</td>\n",
       "      <td>1214622</td>\n",
       "      <td>1.214622e+06</td>\n",
       "      <td>1214622</td>\n",
       "      <td>1214622</td>\n",
       "      <td>1214622</td>\n",
       "      <td>1214622</td>\n",
       "    </tr>\n",
       "    <tr>\n",
       "      <th>unique</th>\n",
       "      <td>NaN</td>\n",
       "      <td>NaN</td>\n",
       "      <td>NaN</td>\n",
       "      <td>NaN</td>\n",
       "      <td>NaN</td>\n",
       "      <td>NaN</td>\n",
       "      <td>NaN</td>\n",
       "      <td>NaN</td>\n",
       "      <td>NaN</td>\n",
       "      <td>NaN</td>\n",
       "      <td>NaN</td>\n",
       "      <td>NaN</td>\n",
       "      <td>NaN</td>\n",
       "      <td>NaN</td>\n",
       "      <td>2</td>\n",
       "      <td>NaN</td>\n",
       "      <td>2</td>\n",
       "      <td>2</td>\n",
       "      <td>2</td>\n",
       "      <td>2</td>\n",
       "    </tr>\n",
       "    <tr>\n",
       "      <th>top</th>\n",
       "      <td>NaN</td>\n",
       "      <td>NaN</td>\n",
       "      <td>NaN</td>\n",
       "      <td>NaN</td>\n",
       "      <td>NaN</td>\n",
       "      <td>NaN</td>\n",
       "      <td>NaN</td>\n",
       "      <td>NaN</td>\n",
       "      <td>NaN</td>\n",
       "      <td>NaN</td>\n",
       "      <td>NaN</td>\n",
       "      <td>NaN</td>\n",
       "      <td>NaN</td>\n",
       "      <td>NaN</td>\n",
       "      <td>True</td>\n",
       "      <td>NaN</td>\n",
       "      <td>False</td>\n",
       "      <td>False</td>\n",
       "      <td>False</td>\n",
       "      <td>False</td>\n",
       "    </tr>\n",
       "    <tr>\n",
       "      <th>freq</th>\n",
       "      <td>NaN</td>\n",
       "      <td>NaN</td>\n",
       "      <td>NaN</td>\n",
       "      <td>NaN</td>\n",
       "      <td>NaN</td>\n",
       "      <td>NaN</td>\n",
       "      <td>NaN</td>\n",
       "      <td>NaN</td>\n",
       "      <td>NaN</td>\n",
       "      <td>NaN</td>\n",
       "      <td>NaN</td>\n",
       "      <td>NaN</td>\n",
       "      <td>NaN</td>\n",
       "      <td>NaN</td>\n",
       "      <td>1173993</td>\n",
       "      <td>NaN</td>\n",
       "      <td>1200537</td>\n",
       "      <td>1197878</td>\n",
       "      <td>1213570</td>\n",
       "      <td>1207596</td>\n",
       "    </tr>\n",
       "    <tr>\n",
       "      <th>mean</th>\n",
       "      <td>6.006034e+05</td>\n",
       "      <td>1.113305e+05</td>\n",
       "      <td>1.0</td>\n",
       "      <td>1.312379e+00</td>\n",
       "      <td>2.659836e+00</td>\n",
       "      <td>1.385008e+05</td>\n",
       "      <td>1.844415e+03</td>\n",
       "      <td>7.819126e+02</td>\n",
       "      <td>5.035153e+01</td>\n",
       "      <td>3.028539e+00</td>\n",
       "      <td>3.085788e+00</td>\n",
       "      <td>1.141439e+04</td>\n",
       "      <td>1.144051e+02</td>\n",
       "      <td>4.575986e+00</td>\n",
       "      <td>NaN</td>\n",
       "      <td>5.457993e+01</td>\n",
       "      <td>NaN</td>\n",
       "      <td>NaN</td>\n",
       "      <td>NaN</td>\n",
       "      <td>NaN</td>\n",
       "    </tr>\n",
       "    <tr>\n",
       "      <th>std</th>\n",
       "      <td>3.151841e+05</td>\n",
       "      <td>7.002787e+04</td>\n",
       "      <td>0.0</td>\n",
       "      <td>4.691315e-01</td>\n",
       "      <td>1.246628e+00</td>\n",
       "      <td>3.262731e+05</td>\n",
       "      <td>5.854209e+03</td>\n",
       "      <td>1.625526e+03</td>\n",
       "      <td>2.885661e+01</td>\n",
       "      <td>7.473533e-01</td>\n",
       "      <td>6.358638e-01</td>\n",
       "      <td>1.383343e+03</td>\n",
       "      <td>1.284034e+01</td>\n",
       "      <td>4.207978e+00</td>\n",
       "      <td>NaN</td>\n",
       "      <td>7.784686e+01</td>\n",
       "      <td>NaN</td>\n",
       "      <td>NaN</td>\n",
       "      <td>NaN</td>\n",
       "      <td>NaN</td>\n",
       "    </tr>\n",
       "    <tr>\n",
       "      <th>min</th>\n",
       "      <td>1.100000e+01</td>\n",
       "      <td>1.480000e+02</td>\n",
       "      <td>1.0</td>\n",
       "      <td>0.000000e+00</td>\n",
       "      <td>0.000000e+00</td>\n",
       "      <td>0.000000e+00</td>\n",
       "      <td>0.000000e+00</td>\n",
       "      <td>0.000000e+00</td>\n",
       "      <td>0.000000e+00</td>\n",
       "      <td>0.000000e+00</td>\n",
       "      <td>0.000000e+00</td>\n",
       "      <td>0.000000e+00</td>\n",
       "      <td>0.000000e+00</td>\n",
       "      <td>0.000000e+00</td>\n",
       "      <td>NaN</td>\n",
       "      <td>0.000000e+00</td>\n",
       "      <td>NaN</td>\n",
       "      <td>NaN</td>\n",
       "      <td>NaN</td>\n",
       "      <td>NaN</td>\n",
       "    </tr>\n",
       "    <tr>\n",
       "      <th>25%</th>\n",
       "      <td>3.132040e+05</td>\n",
       "      <td>2.816000e+04</td>\n",
       "      <td>1.0</td>\n",
       "      <td>1.000000e+00</td>\n",
       "      <td>2.000000e+00</td>\n",
       "      <td>1.345825e+04</td>\n",
       "      <td>7.300000e+01</td>\n",
       "      <td>5.900000e+01</td>\n",
       "      <td>2.900000e+01</td>\n",
       "      <td>3.000000e+00</td>\n",
       "      <td>3.000000e+00</td>\n",
       "      <td>1.080200e+04</td>\n",
       "      <td>1.080000e+02</td>\n",
       "      <td>3.000000e+00</td>\n",
       "      <td>NaN</td>\n",
       "      <td>7.000000e+00</td>\n",
       "      <td>NaN</td>\n",
       "      <td>NaN</td>\n",
       "      <td>NaN</td>\n",
       "      <td>NaN</td>\n",
       "    </tr>\n",
       "    <tr>\n",
       "      <th>50%</th>\n",
       "      <td>6.770930e+05</td>\n",
       "      <td>1.385340e+05</td>\n",
       "      <td>1.0</td>\n",
       "      <td>1.000000e+00</td>\n",
       "      <td>2.000000e+00</td>\n",
       "      <td>4.707500e+04</td>\n",
       "      <td>2.930000e+02</td>\n",
       "      <td>2.620000e+02</td>\n",
       "      <td>4.700000e+01</td>\n",
       "      <td>3.000000e+00</td>\n",
       "      <td>3.000000e+00</td>\n",
       "      <td>1.120100e+04</td>\n",
       "      <td>1.120000e+02</td>\n",
       "      <td>5.000000e+00</td>\n",
       "      <td>NaN</td>\n",
       "      <td>2.740491e+01</td>\n",
       "      <td>NaN</td>\n",
       "      <td>NaN</td>\n",
       "      <td>NaN</td>\n",
       "      <td>NaN</td>\n",
       "    </tr>\n",
       "    <tr>\n",
       "      <th>75%</th>\n",
       "      <td>8.863370e+05</td>\n",
       "      <td>1.666640e+05</td>\n",
       "      <td>1.0</td>\n",
       "      <td>2.000000e+00</td>\n",
       "      <td>3.000000e+00</td>\n",
       "      <td>1.346530e+05</td>\n",
       "      <td>1.019000e+03</td>\n",
       "      <td>8.410000e+02</td>\n",
       "      <td>6.700000e+01</td>\n",
       "      <td>4.000000e+00</td>\n",
       "      <td>3.000000e+00</td>\n",
       "      <td>1.210300e+04</td>\n",
       "      <td>1.210000e+02</td>\n",
       "      <td>6.000000e+00</td>\n",
       "      <td>NaN</td>\n",
       "      <td>7.236723e+01</td>\n",
       "      <td>NaN</td>\n",
       "      <td>NaN</td>\n",
       "      <td>NaN</td>\n",
       "      <td>NaN</td>\n",
       "    </tr>\n",
       "    <tr>\n",
       "      <th>max</th>\n",
       "      <td>1.000015e+06</td>\n",
       "      <td>2.273480e+05</td>\n",
       "      <td>1.0</td>\n",
       "      <td>2.000000e+00</td>\n",
       "      <td>7.000000e+00</td>\n",
       "      <td>6.824316e+06</td>\n",
       "      <td>1.516560e+05</td>\n",
       "      <td>4.567700e+04</td>\n",
       "      <td>6.000000e+02</td>\n",
       "      <td>5.000000e+00</td>\n",
       "      <td>9.000000e+00</td>\n",
       "      <td>1.410200e+04</td>\n",
       "      <td>1.410000e+02</td>\n",
       "      <td>2.550000e+02</td>\n",
       "      <td>NaN</td>\n",
       "      <td>4.446000e+03</td>\n",
       "      <td>NaN</td>\n",
       "      <td>NaN</td>\n",
       "      <td>NaN</td>\n",
       "      <td>NaN</td>\n",
       "    </tr>\n",
       "  </tbody>\n",
       "</table>\n",
       "</div>"
      ],
      "text/plain": [
       "             user_id       item_id      click        gender           age  \\\n",
       "count   1.214622e+06  1.214622e+06  1214622.0  1.214622e+06  1.214622e+06   \n",
       "unique           NaN           NaN        NaN           NaN           NaN   \n",
       "top              NaN           NaN        NaN           NaN           NaN   \n",
       "freq             NaN           NaN        NaN           NaN           NaN   \n",
       "mean    6.006034e+05  1.113305e+05        1.0  1.312379e+00  2.659836e+00   \n",
       "std     3.151841e+05  7.002787e+04        0.0  4.691315e-01  1.246628e+00   \n",
       "min     1.100000e+01  1.480000e+02        1.0  0.000000e+00  0.000000e+00   \n",
       "25%     3.132040e+05  2.816000e+04        1.0  1.000000e+00  2.000000e+00   \n",
       "50%     6.770930e+05  1.385340e+05        1.0  1.000000e+00  2.000000e+00   \n",
       "75%     8.863370e+05  1.666640e+05        1.0  2.000000e+00  3.000000e+00   \n",
       "max     1.000015e+06  2.273480e+05        1.0  2.000000e+00  7.000000e+00   \n",
       "\n",
       "         click_count    like_count  comment_count  read_percentage  \\\n",
       "count   1.214622e+06  1.214622e+06   1.214622e+06     1.214622e+06   \n",
       "unique           NaN           NaN            NaN              NaN   \n",
       "top              NaN           NaN            NaN              NaN   \n",
       "freq             NaN           NaN            NaN              NaN   \n",
       "mean    1.385008e+05  1.844415e+03   7.819126e+02     5.035153e+01   \n",
       "std     3.262731e+05  5.854209e+03   1.625526e+03     2.885661e+01   \n",
       "min     0.000000e+00  0.000000e+00   0.000000e+00     0.000000e+00   \n",
       "25%     1.345825e+04  7.300000e+01   5.900000e+01     2.900000e+01   \n",
       "50%     4.707500e+04  2.930000e+02   2.620000e+02     4.700000e+01   \n",
       "75%     1.346530e+05  1.019000e+03   8.410000e+02     6.700000e+01   \n",
       "max     6.824316e+06  1.516560e+05   4.567700e+04     6.000000e+02   \n",
       "\n",
       "         item_score1   item_score2  category_second  category_first  \\\n",
       "count   1.214622e+06  1.214622e+06     1.214622e+06    1.214622e+06   \n",
       "unique           NaN           NaN              NaN             NaN   \n",
       "top              NaN           NaN              NaN             NaN   \n",
       "freq             NaN           NaN              NaN             NaN   \n",
       "mean    3.028539e+00  3.085788e+00     1.141439e+04    1.144051e+02   \n",
       "std     7.473533e-01  6.358638e-01     1.383343e+03    1.284034e+01   \n",
       "min     0.000000e+00  0.000000e+00     0.000000e+00    0.000000e+00   \n",
       "25%     3.000000e+00  3.000000e+00     1.080200e+04    1.080000e+02   \n",
       "50%     3.000000e+00  3.000000e+00     1.120100e+04    1.120000e+02   \n",
       "75%     4.000000e+00  3.000000e+00     1.210300e+04    1.210000e+02   \n",
       "max     5.000000e+00  9.000000e+00     1.410200e+04    1.410000e+02   \n",
       "\n",
       "         item_score3     read     read_time    share     like   follow  \\\n",
       "count   1.214622e+06  1214622  1.214622e+06  1214622  1214622  1214622   \n",
       "unique           NaN        2           NaN        2        2        2   \n",
       "top              NaN     True           NaN    False    False    False   \n",
       "freq             NaN  1173993           NaN  1200537  1197878  1213570   \n",
       "mean    4.575986e+00      NaN  5.457993e+01      NaN      NaN      NaN   \n",
       "std     4.207978e+00      NaN  7.784686e+01      NaN      NaN      NaN   \n",
       "min     0.000000e+00      NaN  0.000000e+00      NaN      NaN      NaN   \n",
       "25%     3.000000e+00      NaN  7.000000e+00      NaN      NaN      NaN   \n",
       "50%     5.000000e+00      NaN  2.740491e+01      NaN      NaN      NaN   \n",
       "75%     6.000000e+00      NaN  7.236723e+01      NaN      NaN      NaN   \n",
       "max     2.550000e+02      NaN  4.446000e+03      NaN      NaN      NaN   \n",
       "\n",
       "       favorite  \n",
       "count   1214622  \n",
       "unique        2  \n",
       "top       False  \n",
       "freq    1207596  \n",
       "mean        NaN  \n",
       "std         NaN  \n",
       "min         NaN  \n",
       "25%         NaN  \n",
       "50%         NaN  \n",
       "75%         NaN  \n",
       "max         NaN  "
      ]
     },
     "execution_count": 14,
     "metadata": {},
     "output_type": "execute_result"
    }
   ],
   "source": [
    "all_data_70.describe(include=\"all\")#describtion of the data"
   ]
  },
  {
   "cell_type": "code",
   "execution_count": 15,
   "id": "031c0da0-7667-4669-852a-34cc2be21fbe",
   "metadata": {
    "id": "031c0da0-7667-4669-852a-34cc2be21fbe",
    "outputId": "523556c6-cffd-49c2-c005-cec4350bbc11"
   },
   "outputs": [
    {
     "data": {
      "text/html": [
       "<div>\n",
       "<style scoped>\n",
       "    .dataframe tbody tr th:only-of-type {\n",
       "        vertical-align: middle;\n",
       "    }\n",
       "\n",
       "    .dataframe tbody tr th {\n",
       "        vertical-align: top;\n",
       "    }\n",
       "\n",
       "    .dataframe thead th {\n",
       "        text-align: right;\n",
       "    }\n",
       "</style>\n",
       "<table border=\"1\" class=\"dataframe\">\n",
       "  <thead>\n",
       "    <tr style=\"text-align: right;\">\n",
       "      <th></th>\n",
       "      <th>user_id</th>\n",
       "      <th>item_id</th>\n",
       "      <th>click</th>\n",
       "      <th>follow</th>\n",
       "      <th>like</th>\n",
       "      <th>share</th>\n",
       "      <th>video_category</th>\n",
       "      <th>watching_times</th>\n",
       "      <th>gender</th>\n",
       "      <th>age</th>\n",
       "    </tr>\n",
       "  </thead>\n",
       "  <tbody>\n",
       "    <tr>\n",
       "      <th>count</th>\n",
       "      <td>3.827380e+07</td>\n",
       "      <td>3.827380e+07</td>\n",
       "      <td>38273799.0</td>\n",
       "      <td>3.827380e+07</td>\n",
       "      <td>3.827380e+07</td>\n",
       "      <td>3.827380e+07</td>\n",
       "      <td>38273799</td>\n",
       "      <td>3.827380e+07</td>\n",
       "      <td>3.827380e+07</td>\n",
       "      <td>3.827380e+07</td>\n",
       "    </tr>\n",
       "    <tr>\n",
       "      <th>unique</th>\n",
       "      <td>NaN</td>\n",
       "      <td>NaN</td>\n",
       "      <td>NaN</td>\n",
       "      <td>NaN</td>\n",
       "      <td>NaN</td>\n",
       "      <td>NaN</td>\n",
       "      <td>5</td>\n",
       "      <td>NaN</td>\n",
       "      <td>NaN</td>\n",
       "      <td>NaN</td>\n",
       "    </tr>\n",
       "    <tr>\n",
       "      <th>top</th>\n",
       "      <td>NaN</td>\n",
       "      <td>NaN</td>\n",
       "      <td>NaN</td>\n",
       "      <td>NaN</td>\n",
       "      <td>NaN</td>\n",
       "      <td>NaN</td>\n",
       "      <td>0</td>\n",
       "      <td>NaN</td>\n",
       "      <td>NaN</td>\n",
       "      <td>NaN</td>\n",
       "    </tr>\n",
       "    <tr>\n",
       "      <th>freq</th>\n",
       "      <td>NaN</td>\n",
       "      <td>NaN</td>\n",
       "      <td>NaN</td>\n",
       "      <td>NaN</td>\n",
       "      <td>NaN</td>\n",
       "      <td>NaN</td>\n",
       "      <td>20123789</td>\n",
       "      <td>NaN</td>\n",
       "      <td>NaN</td>\n",
       "      <td>NaN</td>\n",
       "    </tr>\n",
       "    <tr>\n",
       "      <th>mean</th>\n",
       "      <td>4.555042e+05</td>\n",
       "      <td>5.188481e+05</td>\n",
       "      <td>1.0</td>\n",
       "      <td>3.486354e-03</td>\n",
       "      <td>3.985303e-02</td>\n",
       "      <td>4.028056e-03</td>\n",
       "      <td>NaN</td>\n",
       "      <td>1.490815e+00</td>\n",
       "      <td>1.024654e+00</td>\n",
       "      <td>2.041362e+00</td>\n",
       "    </tr>\n",
       "    <tr>\n",
       "      <th>std</th>\n",
       "      <td>2.810566e+05</td>\n",
       "      <td>7.546025e+05</td>\n",
       "      <td>0.0</td>\n",
       "      <td>5.894234e-02</td>\n",
       "      <td>1.956138e-01</td>\n",
       "      <td>6.333901e-02</td>\n",
       "      <td>NaN</td>\n",
       "      <td>2.067165e+00</td>\n",
       "      <td>6.404795e-01</td>\n",
       "      <td>1.245017e+00</td>\n",
       "    </tr>\n",
       "    <tr>\n",
       "      <th>min</th>\n",
       "      <td>1.000000e+00</td>\n",
       "      <td>1.000000e+00</td>\n",
       "      <td>1.0</td>\n",
       "      <td>0.000000e+00</td>\n",
       "      <td>0.000000e+00</td>\n",
       "      <td>0.000000e+00</td>\n",
       "      <td>NaN</td>\n",
       "      <td>1.000000e+00</td>\n",
       "      <td>0.000000e+00</td>\n",
       "      <td>0.000000e+00</td>\n",
       "    </tr>\n",
       "    <tr>\n",
       "      <th>25%</th>\n",
       "      <td>2.126830e+05</td>\n",
       "      <td>7.845000e+03</td>\n",
       "      <td>1.0</td>\n",
       "      <td>0.000000e+00</td>\n",
       "      <td>0.000000e+00</td>\n",
       "      <td>0.000000e+00</td>\n",
       "      <td>NaN</td>\n",
       "      <td>1.000000e+00</td>\n",
       "      <td>1.000000e+00</td>\n",
       "      <td>2.000000e+00</td>\n",
       "    </tr>\n",
       "    <tr>\n",
       "      <th>50%</th>\n",
       "      <td>4.382660e+05</td>\n",
       "      <td>5.662500e+04</td>\n",
       "      <td>1.0</td>\n",
       "      <td>0.000000e+00</td>\n",
       "      <td>0.000000e+00</td>\n",
       "      <td>0.000000e+00</td>\n",
       "      <td>NaN</td>\n",
       "      <td>1.000000e+00</td>\n",
       "      <td>1.000000e+00</td>\n",
       "      <td>2.000000e+00</td>\n",
       "    </tr>\n",
       "    <tr>\n",
       "      <th>75%</th>\n",
       "      <td>6.848840e+05</td>\n",
       "      <td>1.353829e+06</td>\n",
       "      <td>1.0</td>\n",
       "      <td>0.000000e+00</td>\n",
       "      <td>0.000000e+00</td>\n",
       "      <td>0.000000e+00</td>\n",
       "      <td>NaN</td>\n",
       "      <td>2.000000e+00</td>\n",
       "      <td>1.000000e+00</td>\n",
       "      <td>3.000000e+00</td>\n",
       "    </tr>\n",
       "    <tr>\n",
       "      <th>max</th>\n",
       "      <td>1.000016e+06</td>\n",
       "      <td>3.864722e+06</td>\n",
       "      <td>1.0</td>\n",
       "      <td>1.000000e+00</td>\n",
       "      <td>1.000000e+00</td>\n",
       "      <td>1.000000e+00</td>\n",
       "      <td>NaN</td>\n",
       "      <td>1.975000e+03</td>\n",
       "      <td>2.000000e+00</td>\n",
       "      <td>7.000000e+00</td>\n",
       "    </tr>\n",
       "  </tbody>\n",
       "</table>\n",
       "</div>"
      ],
      "text/plain": [
       "             user_id       item_id       click        follow          like  \\\n",
       "count   3.827380e+07  3.827380e+07  38273799.0  3.827380e+07  3.827380e+07   \n",
       "unique           NaN           NaN         NaN           NaN           NaN   \n",
       "top              NaN           NaN         NaN           NaN           NaN   \n",
       "freq             NaN           NaN         NaN           NaN           NaN   \n",
       "mean    4.555042e+05  5.188481e+05         1.0  3.486354e-03  3.985303e-02   \n",
       "std     2.810566e+05  7.546025e+05         0.0  5.894234e-02  1.956138e-01   \n",
       "min     1.000000e+00  1.000000e+00         1.0  0.000000e+00  0.000000e+00   \n",
       "25%     2.126830e+05  7.845000e+03         1.0  0.000000e+00  0.000000e+00   \n",
       "50%     4.382660e+05  5.662500e+04         1.0  0.000000e+00  0.000000e+00   \n",
       "75%     6.848840e+05  1.353829e+06         1.0  0.000000e+00  0.000000e+00   \n",
       "max     1.000016e+06  3.864722e+06         1.0  1.000000e+00  1.000000e+00   \n",
       "\n",
       "               share video_category  watching_times        gender  \\\n",
       "count   3.827380e+07       38273799    3.827380e+07  3.827380e+07   \n",
       "unique           NaN              5             NaN           NaN   \n",
       "top              NaN              0             NaN           NaN   \n",
       "freq             NaN       20123789             NaN           NaN   \n",
       "mean    4.028056e-03            NaN    1.490815e+00  1.024654e+00   \n",
       "std     6.333901e-02            NaN    2.067165e+00  6.404795e-01   \n",
       "min     0.000000e+00            NaN    1.000000e+00  0.000000e+00   \n",
       "25%     0.000000e+00            NaN    1.000000e+00  1.000000e+00   \n",
       "50%     0.000000e+00            NaN    1.000000e+00  1.000000e+00   \n",
       "75%     0.000000e+00            NaN    2.000000e+00  1.000000e+00   \n",
       "max     1.000000e+00            NaN    1.975000e+03  2.000000e+00   \n",
       "\n",
       "                 age  \n",
       "count   3.827380e+07  \n",
       "unique           NaN  \n",
       "top              NaN  \n",
       "freq             NaN  \n",
       "mean    2.041362e+00  \n",
       "std     1.245017e+00  \n",
       "min     0.000000e+00  \n",
       "25%     2.000000e+00  \n",
       "50%     2.000000e+00  \n",
       "75%     3.000000e+00  \n",
       "max     7.000000e+00  "
      ]
     },
     "execution_count": 15,
     "metadata": {},
     "output_type": "execute_result"
    }
   ],
   "source": [
    "all_data.describe(include=\"all\")#describtion of the data"
   ]
  },
  {
   "attachments": {},
   "cell_type": "markdown",
   "id": "bcf37639",
   "metadata": {
    "id": "bcf37639"
   },
   "source": [
    "# Here, we just want to see the correlation between the columns and each other"
   ]
  },
  {
   "cell_type": "code",
   "execution_count": 16,
   "id": "0232e5b4",
   "metadata": {
    "id": "0232e5b4",
    "outputId": "e4d7ef45-4377-4bf5-ceaa-98d45ccac53c"
   },
   "outputs": [
    {
     "data": {
      "image/png": "[encoded data removed]",
      "text/plain": [
       "<Figure size 2000x1000 with 2 Axes>"
      ]
     },
     "metadata": {},
     "output_type": "display_data"
    }
   ],
   "source": [
    "#plotting the heatmap for correlation\n",
    "ax = pyplot.subplots(figsize=(20, 10))\n",
    "ax = sns.heatmap(all_data_70.corr(), annot=True)"
   ]
  },
  {
   "cell_type": "code",
   "execution_count": 17,
   "id": "acbfd949-f496-4a02-9b69-b34b49c78d05",
   "metadata": {
    "id": "acbfd949-f496-4a02-9b69-b34b49c78d05",
    "outputId": "4c3b6450-9032-42b4-dc3b-d2026770f1b9"
   },
   "outputs": [
    {
     "data": {
      "image/png": "[encoded data removed]",
      "text/plain": [
       "<Figure size 2000x1000 with 2 Axes>"
      ]
     },
     "metadata": {},
     "output_type": "display_data"
    }
   ],
   "source": [
    "#plotting the heatmap for correlation\n",
    "ax = pyplot.subplots(figsize=(20, 10))\n",
    "ax = sns.heatmap(all_data.select_dtypes(include=np.number).corr(), annot=True)"
   ]
  },
  {
   "attachments": {},
   "cell_type": "markdown",
   "id": "c1b8b36d",
   "metadata": {
    "id": "c1b8b36d"
   },
   "source": [
    "We found that the highest correlation is between the first category and the second category in the dataset for the cold start with 70%"
   ]
  },
  {
   "attachments": {},
   "cell_type": "markdown",
   "id": "b3ec01d5",
   "metadata": {
    "id": "b3ec01d5"
   },
   "source": [
    "While in the sbr dataset , the highest correlation is between gender and age"
   ]
  },
  {
   "attachments": {},
   "cell_type": "markdown",
   "id": "b9e95f13",
   "metadata": {
    "id": "b9e95f13"
   },
   "source": [
    "# We will see the data that has unlogical labels"
   ]
  },
  {
   "attachments": {},
   "cell_type": "markdown",
   "id": "060cdadd",
   "metadata": {
    "id": "060cdadd"
   },
   "source": [
    "We removed the \"0\" from the age and the gender as we assumed that they were:\n",
    "\n",
    "No age or gender with values equal to \"0\""
   ]
  },
  {
   "attachments": {},
   "cell_type": "markdown",
   "id": "44827f55",
   "metadata": {
    "id": "44827f55"
   },
   "source": [
    "That's for the gender"
   ]
  },
  {
   "cell_type": "code",
   "execution_count": 18,
   "id": "5d045723",
   "metadata": {
    "id": "5d045723",
    "outputId": "9b8f8d31-3a17-48fd-f53f-00fb7ca68fae"
   },
   "outputs": [
    {
     "data": {
      "image/png": "[encoded data removed]",
      "text/plain": [
       "<Figure size 1600x800 with 1 Axes>"
      ]
     },
     "metadata": {},
     "output_type": "display_data"
    }
   ],
   "source": [
    "# Create a list of consecutive integers\n",
    "s=all_data_70['gender']\n",
    "i = range(len(s))\n",
    "\n",
    "plt.figure(figsize=(16, 8))\n",
    "\n",
    "# Plot a scatterplot\n",
    "plt.scatter(i,s, c='red', alpha=0.5)\n",
    "plt.show()"
   ]
  },
  {
   "cell_type": "code",
   "execution_count": 19,
   "id": "892b7f03",
   "metadata": {
    "id": "892b7f03",
    "outputId": "01452a06-0c73-4898-b902-b0b8b2b22e3d"
   },
   "outputs": [
    {
     "data": {
      "image/png": "[encoded data removed]",
      "text/plain": [
       "<Figure size 1600x800 with 1 Axes>"
      ]
     },
     "metadata": {},
     "output_type": "display_data"
    }
   ],
   "source": [
    "## removing the outliers from the target column\n",
    "\n",
    "all_data_70 = all_data_70[all_data_70['gender'] >= 1]\n",
    "\n",
    "## plotting the outlier against the constinous distn. in a scatter plot again to check\n",
    "# Create a list of consecutive integers\n",
    "s=all_data_70['gender']\n",
    "i = range(len(s))\n",
    "\n",
    "plt.figure(figsize=(16, 8))\n",
    "\n",
    "# Plot a scatterplot\n",
    "plt.scatter(i,s, c='red', alpha=0.5)\n",
    "plt.show()"
   ]
  },
  {
   "cell_type": "code",
   "execution_count": 20,
   "id": "c12716be-6492-417f-8a9c-5556b9718eab",
   "metadata": {
    "id": "c12716be-6492-417f-8a9c-5556b9718eab",
    "outputId": "35188116-1de7-4f3b-c1a4-d883126182de"
   },
   "outputs": [
    {
     "data": {
      "image/png": "[encoded data removed]",
      "text/plain": [
       "<Figure size 1600x800 with 1 Axes>"
      ]
     },
     "metadata": {},
     "output_type": "display_data"
    }
   ],
   "source": [
    "# Create a list of consecutive integers\n",
    "s=all_data['gender']\n",
    "i = range(len(s))\n",
    "\n",
    "plt.figure(figsize=(16, 8))\n",
    "\n",
    "# Plot a scatterplot\n",
    "plt.scatter(i,s, c='red', alpha=0.5)\n",
    "plt.show()"
   ]
  },
  {
   "cell_type": "code",
   "execution_count": 21,
   "id": "1831e22b-49cb-444b-a027-2465b5298e7c",
   "metadata": {
    "id": "1831e22b-49cb-444b-a027-2465b5298e7c",
    "outputId": "feb587ff-6e23-4851-e44e-ff7f4c92a6f1"
   },
   "outputs": [
    {
     "data": {
      "image/png": "[encoded data removed]",
      "text/plain": [
       "<Figure size 1600x800 with 1 Axes>"
      ]
     },
     "metadata": {},
     "output_type": "display_data"
    }
   ],
   "source": [
    "## removing the outliers from the target column\n",
    "\n",
    "all_data = all_data[all_data['gender'] >= 1]\n",
    "\n",
    "## plotting the outlier against the constinous distn. in a scatter plot again to check\n",
    "# Create a list of consecutive integers\n",
    "s=all_data['gender']\n",
    "i = range(len(s))\n",
    "\n",
    "plt.figure(figsize=(16, 8))\n",
    "\n",
    "# Plot a scatterplot\n",
    "plt.scatter(i,s, c='red', alpha=0.5)\n",
    "plt.show()"
   ]
  },
  {
   "cell_type": "code",
   "execution_count": 22,
   "id": "f331ce22",
   "metadata": {
    "id": "f331ce22",
    "outputId": "26e3a8b1-bcf6-4dcf-a25f-48b5ca42beab"
   },
   "outputs": [
    {
     "data": {
      "text/plain": [
       "array([2, 1], dtype=int64)"
      ]
     },
     "execution_count": 22,
     "metadata": {},
     "output_type": "execute_result"
    }
   ],
   "source": [
    "# Here, we just want to make sure that ther are 2 categories only (male, female from our assumption)\n",
    "all_data_70['gender'].unique()"
   ]
  },
  {
   "cell_type": "code",
   "execution_count": 23,
   "id": "cf350a59-64d9-43c1-bdd9-ed82894144c3",
   "metadata": {
    "id": "cf350a59-64d9-43c1-bdd9-ed82894144c3",
    "outputId": "5810bc3a-cea9-4edf-8bf3-1dbbbe29eb9d"
   },
   "outputs": [
    {
     "data": {
      "text/plain": [
       "array([1, 2], dtype=int64)"
      ]
     },
     "execution_count": 23,
     "metadata": {},
     "output_type": "execute_result"
    }
   ],
   "source": [
    "# Here, we just want to make sure that ther are 2 categories only (male, female from our assumption)\n",
    "all_data['gender'].unique()"
   ]
  },
  {
   "attachments": {},
   "cell_type": "markdown",
   "id": "689b57b4",
   "metadata": {
    "id": "689b57b4"
   },
   "source": [
    "That's for the age"
   ]
  },
  {
   "cell_type": "code",
   "execution_count": 24,
   "id": "18785da4",
   "metadata": {
    "id": "18785da4",
    "outputId": "5cdcbb0a-977e-4888-ed9d-4cc717508f50"
   },
   "outputs": [
    {
     "data": {
      "image/png": "[encoded data removed]",
      "text/plain": [
       "<Figure size 1600x800 with 1 Axes>"
      ]
     },
     "metadata": {},
     "output_type": "display_data"
    }
   ],
   "source": [
    "# Create a list of consecutive integers\n",
    "s=all_data_70['age']\n",
    "i = range(len(s))\n",
    "\n",
    "plt.figure(figsize=(16, 8))\n",
    "\n",
    "# Plot a scatterplot\n",
    "plt.scatter(i,s, c='red', alpha=0.5)\n",
    "plt.show()"
   ]
  },
  {
   "cell_type": "code",
   "execution_count": 25,
   "id": "9535cbcd",
   "metadata": {
    "id": "9535cbcd",
    "outputId": "604f5d6c-2ba1-4425-a770-499e03e081af"
   },
   "outputs": [
    {
     "data": {
      "image/png": "[encoded data removed]",
      "text/plain": [
       "<Figure size 1600x800 with 1 Axes>"
      ]
     },
     "metadata": {},
     "output_type": "display_data"
    }
   ],
   "source": [
    "## removing the outliers from the target column\n",
    "\n",
    "all_data_70 = all_data_70[all_data_70['age'] >= 1]\n",
    "\n",
    "## plotting the outlier against the constinous distn. in a scatter plot again to check\n",
    "# Create a list of consecutive integers\n",
    "s=all_data_70['age']\n",
    "i = range(len(s))\n",
    "\n",
    "plt.figure(figsize=(16, 8))\n",
    "\n",
    "# Plot a scatterplot\n",
    "plt.scatter(i,s, c='red', alpha=0.5)\n",
    "plt.show()"
   ]
  },
  {
   "cell_type": "code",
   "execution_count": 26,
   "id": "474f8c0c",
   "metadata": {
    "id": "474f8c0c",
    "outputId": "12033373-cfd4-4eca-b516-70004449df98"
   },
   "outputs": [
    {
     "data": {
      "text/plain": [
       "array([2, 4, 3, 6, 5, 1, 7], dtype=int64)"
      ]
     },
     "execution_count": 26,
     "metadata": {},
     "output_type": "execute_result"
    }
   ],
   "source": [
    "# Here, we just want to make sure that ther are 7 categories only (1->7 from our assumption)\n",
    "all_data_70['age'].unique()"
   ]
  },
  {
   "cell_type": "code",
   "execution_count": 27,
   "id": "3475b66e-7cee-42f0-a888-979c7d000f36",
   "metadata": {
    "id": "3475b66e-7cee-42f0-a888-979c7d000f36",
    "outputId": "92715e72-8ea0-46eb-c765-f98f4aa0d6cf"
   },
   "outputs": [
    {
     "data": {
      "image/png": "[encoded data removed]",
      "text/plain": [
       "<Figure size 1600x800 with 1 Axes>"
      ]
     },
     "metadata": {},
     "output_type": "display_data"
    }
   ],
   "source": [
    "# Create a list of consecutive integers\n",
    "s=all_data['age']\n",
    "i = range(len(s))\n",
    "\n",
    "plt.figure(figsize=(16, 8))\n",
    "\n",
    "# Plot a scatterplot\n",
    "plt.scatter(i,s, c='red', alpha=0.5)\n",
    "plt.show()"
   ]
  },
  {
   "cell_type": "code",
   "execution_count": 28,
   "id": "b7f99db5-3e18-4272-aa70-475bdd43074c",
   "metadata": {
    "id": "b7f99db5-3e18-4272-aa70-475bdd43074c",
    "outputId": "3abac0f4-bb94-453f-8633-70347e3b370f"
   },
   "outputs": [
    {
     "data": {
      "image/png": "[encoded data removed]",
      "text/plain": [
       "<Figure size 1600x800 with 1 Axes>"
      ]
     },
     "metadata": {},
     "output_type": "display_data"
    }
   ],
   "source": [
    "## removing the outliers from the target column\n",
    "\n",
    "all_data = all_data[all_data['age'] >= 1]\n",
    "\n",
    "## plotting the outlier against the constinous distn. in a scatter plot again to check\n",
    "# Create a list of consecutive integers\n",
    "s=all_data['age']\n",
    "i = range(len(s))\n",
    "\n",
    "plt.figure(figsize=(16, 8))\n",
    "\n",
    "# Plot a scatterplot\n",
    "plt.scatter(i,s, c='red', alpha=0.5)\n",
    "plt.show()"
   ]
  },
  {
   "cell_type": "code",
   "execution_count": 29,
   "id": "64f093e6-a850-4a1e-8c0c-cc1e0de40ed5",
   "metadata": {
    "id": "64f093e6-a850-4a1e-8c0c-cc1e0de40ed5",
    "outputId": "2116ea1d-a51a-484d-e908-584a8d54e393"
   },
   "outputs": [
    {
     "data": {
      "text/plain": [
       "array([4, 2, 5, 3, 6, 7, 1], dtype=int64)"
      ]
     },
     "execution_count": 29,
     "metadata": {},
     "output_type": "execute_result"
    }
   ],
   "source": [
    "# Here, we just want to make sure that ther are 7 categories only (1->7 from our assumption)\n",
    "all_data['age'].unique()"
   ]
  },
  {
   "attachments": {},
   "cell_type": "markdown",
   "id": "ebe8bb81",
   "metadata": {
    "id": "ebe8bb81"
   },
   "source": [
    "# We will make some aggregations on the data"
   ]
  },
  {
   "attachments": {},
   "cell_type": "markdown",
   "id": "7e0e9f07",
   "metadata": {
    "id": "7e0e9f07"
   },
   "source": [
    "As we want our data in separated way (as it did not contain only cold-start )\n",
    "\n",
    "So , we can not make aggregation and use it in the following steps and the model\n",
    "\n",
    "So, we will make sum aggregations on the data to analysis it only"
   ]
  },
  {
   "cell_type": "code",
   "execution_count": 30,
   "id": "f0a105ad",
   "metadata": {
    "id": "f0a105ad",
    "outputId": "720cba85-8d94-4214-a76d-a7873467a3e5"
   },
   "outputs": [
    {
     "data": {
      "text/html": [
       "<div>\n",
       "<style scoped>\n",
       "    .dataframe tbody tr th:only-of-type {\n",
       "        vertical-align: middle;\n",
       "    }\n",
       "\n",
       "    .dataframe tbody tr th {\n",
       "        vertical-align: top;\n",
       "    }\n",
       "\n",
       "    .dataframe thead th {\n",
       "        text-align: right;\n",
       "    }\n",
       "</style>\n",
       "<table border=\"1\" class=\"dataframe\">\n",
       "  <thead>\n",
       "    <tr style=\"text-align: right;\">\n",
       "      <th></th>\n",
       "      <th>user_id</th>\n",
       "      <th>click_count</th>\n",
       "      <th>read_percentage</th>\n",
       "      <th>read_time</th>\n",
       "    </tr>\n",
       "  </thead>\n",
       "  <tbody>\n",
       "    <tr>\n",
       "      <th>0</th>\n",
       "      <td>11</td>\n",
       "      <td>3348472</td>\n",
       "      <td>50.928571</td>\n",
       "      <td>631.000000</td>\n",
       "    </tr>\n",
       "    <tr>\n",
       "      <th>1</th>\n",
       "      <td>24</td>\n",
       "      <td>299349</td>\n",
       "      <td>71.000000</td>\n",
       "      <td>17.000000</td>\n",
       "    </tr>\n",
       "    <tr>\n",
       "      <th>2</th>\n",
       "      <td>33</td>\n",
       "      <td>493135</td>\n",
       "      <td>16.200000</td>\n",
       "      <td>124.000000</td>\n",
       "    </tr>\n",
       "    <tr>\n",
       "      <th>3</th>\n",
       "      <td>44</td>\n",
       "      <td>54415</td>\n",
       "      <td>37.000000</td>\n",
       "      <td>109.000000</td>\n",
       "    </tr>\n",
       "    <tr>\n",
       "      <th>4</th>\n",
       "      <td>71</td>\n",
       "      <td>1437583</td>\n",
       "      <td>65.500000</td>\n",
       "      <td>773.000000</td>\n",
       "    </tr>\n",
       "    <tr>\n",
       "      <th>...</th>\n",
       "      <td>...</td>\n",
       "      <td>...</td>\n",
       "      <td>...</td>\n",
       "      <td>...</td>\n",
       "    </tr>\n",
       "    <tr>\n",
       "      <th>68430</th>\n",
       "      <td>1000005</td>\n",
       "      <td>24162</td>\n",
       "      <td>24.000000</td>\n",
       "      <td>9.000000</td>\n",
       "    </tr>\n",
       "    <tr>\n",
       "      <th>68431</th>\n",
       "      <td>1000010</td>\n",
       "      <td>4610</td>\n",
       "      <td>67.000000</td>\n",
       "      <td>12.000000</td>\n",
       "    </tr>\n",
       "    <tr>\n",
       "      <th>68432</th>\n",
       "      <td>1000011</td>\n",
       "      <td>66235</td>\n",
       "      <td>15.000000</td>\n",
       "      <td>20.946036</td>\n",
       "    </tr>\n",
       "    <tr>\n",
       "      <th>68433</th>\n",
       "      <td>1000013</td>\n",
       "      <td>40978</td>\n",
       "      <td>43.500000</td>\n",
       "      <td>133.000000</td>\n",
       "    </tr>\n",
       "    <tr>\n",
       "      <th>68434</th>\n",
       "      <td>1000015</td>\n",
       "      <td>1500786</td>\n",
       "      <td>25.200000</td>\n",
       "      <td>119.000000</td>\n",
       "    </tr>\n",
       "  </tbody>\n",
       "</table>\n",
       "<p>68435 rows × 4 columns</p>\n",
       "</div>"
      ],
      "text/plain": [
       "       user_id  click_count  read_percentage   read_time\n",
       "0           11      3348472        50.928571  631.000000\n",
       "1           24       299349        71.000000   17.000000\n",
       "2           33       493135        16.200000  124.000000\n",
       "3           44        54415        37.000000  109.000000\n",
       "4           71      1437583        65.500000  773.000000\n",
       "...        ...          ...              ...         ...\n",
       "68430  1000005        24162        24.000000    9.000000\n",
       "68431  1000010         4610        67.000000   12.000000\n",
       "68432  1000011        66235        15.000000   20.946036\n",
       "68433  1000013        40978        43.500000  133.000000\n",
       "68434  1000015      1500786        25.200000  119.000000\n",
       "\n",
       "[68435 rows x 4 columns]"
      ]
     },
     "execution_count": 30,
     "metadata": {},
     "output_type": "execute_result"
    }
   ],
   "source": [
    "all_data_70_agg = all_data_70.groupby('user_id').agg({'click_count': 'sum','read_percentage':'mean','read_time':'sum'}).reset_index()\n",
    "all_data_70_agg"
   ]
  },
  {
   "cell_type": "code",
   "execution_count": 31,
   "id": "7a25249d",
   "metadata": {
    "id": "7a25249d",
    "outputId": "b86eebb6-56d3-405f-8f7e-cc2926fa9b5e"
   },
   "outputs": [
    {
     "data": {
      "text/html": [
       "<div>\n",
       "<style scoped>\n",
       "    .dataframe tbody tr th:only-of-type {\n",
       "        vertical-align: middle;\n",
       "    }\n",
       "\n",
       "    .dataframe tbody tr th {\n",
       "        vertical-align: top;\n",
       "    }\n",
       "\n",
       "    .dataframe thead th {\n",
       "        text-align: right;\n",
       "    }\n",
       "</style>\n",
       "<table border=\"1\" class=\"dataframe\">\n",
       "  <thead>\n",
       "    <tr style=\"text-align: right;\">\n",
       "      <th></th>\n",
       "      <th>user_id</th>\n",
       "      <th>item_id</th>\n",
       "    </tr>\n",
       "  </thead>\n",
       "  <tbody>\n",
       "    <tr>\n",
       "      <th>0</th>\n",
       "      <td>11</td>\n",
       "      <td>14</td>\n",
       "    </tr>\n",
       "    <tr>\n",
       "      <th>1</th>\n",
       "      <td>24</td>\n",
       "      <td>2</td>\n",
       "    </tr>\n",
       "    <tr>\n",
       "      <th>2</th>\n",
       "      <td>33</td>\n",
       "      <td>5</td>\n",
       "    </tr>\n",
       "    <tr>\n",
       "      <th>3</th>\n",
       "      <td>44</td>\n",
       "      <td>1</td>\n",
       "    </tr>\n",
       "    <tr>\n",
       "      <th>4</th>\n",
       "      <td>71</td>\n",
       "      <td>18</td>\n",
       "    </tr>\n",
       "    <tr>\n",
       "      <th>...</th>\n",
       "      <td>...</td>\n",
       "      <td>...</td>\n",
       "    </tr>\n",
       "    <tr>\n",
       "      <th>68430</th>\n",
       "      <td>1000005</td>\n",
       "      <td>1</td>\n",
       "    </tr>\n",
       "    <tr>\n",
       "      <th>68431</th>\n",
       "      <td>1000010</td>\n",
       "      <td>1</td>\n",
       "    </tr>\n",
       "    <tr>\n",
       "      <th>68432</th>\n",
       "      <td>1000011</td>\n",
       "      <td>2</td>\n",
       "    </tr>\n",
       "    <tr>\n",
       "      <th>68433</th>\n",
       "      <td>1000013</td>\n",
       "      <td>4</td>\n",
       "    </tr>\n",
       "    <tr>\n",
       "      <th>68434</th>\n",
       "      <td>1000015</td>\n",
       "      <td>5</td>\n",
       "    </tr>\n",
       "  </tbody>\n",
       "</table>\n",
       "<p>68435 rows × 2 columns</p>\n",
       "</div>"
      ],
      "text/plain": [
       "       user_id  item_id\n",
       "0           11       14\n",
       "1           24        2\n",
       "2           33        5\n",
       "3           44        1\n",
       "4           71       18\n",
       "...        ...      ...\n",
       "68430  1000005        1\n",
       "68431  1000010        1\n",
       "68432  1000011        2\n",
       "68433  1000013        4\n",
       "68434  1000015        5\n",
       "\n",
       "[68435 rows x 2 columns]"
      ]
     },
     "execution_count": 31,
     "metadata": {},
     "output_type": "execute_result"
    }
   ],
   "source": [
    "all_data_70_useritem=all_data_70.groupby('user_id').agg({'item_id': 'count'}).reset_index()\n",
    "all_data_70_useritem"
   ]
  },
  {
   "cell_type": "code",
   "execution_count": 32,
   "id": "839e149a-897a-44a7-847c-1dc683234cf4",
   "metadata": {
    "id": "839e149a-897a-44a7-847c-1dc683234cf4",
    "outputId": "b9762461-a1d2-414e-d6a1-6185aae62735"
   },
   "outputs": [
    {
     "data": {
      "text/html": [
       "<div>\n",
       "<style scoped>\n",
       "    .dataframe tbody tr th:only-of-type {\n",
       "        vertical-align: middle;\n",
       "    }\n",
       "\n",
       "    .dataframe tbody tr th {\n",
       "        vertical-align: top;\n",
       "    }\n",
       "\n",
       "    .dataframe thead th {\n",
       "        text-align: right;\n",
       "    }\n",
       "</style>\n",
       "<table border=\"1\" class=\"dataframe\">\n",
       "  <thead>\n",
       "    <tr style=\"text-align: right;\">\n",
       "      <th></th>\n",
       "      <th>user_id</th>\n",
       "      <th>watching_times</th>\n",
       "    </tr>\n",
       "  </thead>\n",
       "  <tbody>\n",
       "    <tr>\n",
       "      <th>0</th>\n",
       "      <td>1</td>\n",
       "      <td>71</td>\n",
       "    </tr>\n",
       "    <tr>\n",
       "      <th>1</th>\n",
       "      <td>2</td>\n",
       "      <td>23</td>\n",
       "    </tr>\n",
       "    <tr>\n",
       "      <th>2</th>\n",
       "      <td>3</td>\n",
       "      <td>63</td>\n",
       "    </tr>\n",
       "    <tr>\n",
       "      <th>3</th>\n",
       "      <td>4</td>\n",
       "      <td>34</td>\n",
       "    </tr>\n",
       "    <tr>\n",
       "      <th>4</th>\n",
       "      <td>5</td>\n",
       "      <td>100</td>\n",
       "    </tr>\n",
       "    <tr>\n",
       "      <th>...</th>\n",
       "      <td>...</td>\n",
       "      <td>...</td>\n",
       "    </tr>\n",
       "    <tr>\n",
       "      <th>808258</th>\n",
       "      <td>1000010</td>\n",
       "      <td>56</td>\n",
       "    </tr>\n",
       "    <tr>\n",
       "      <th>808259</th>\n",
       "      <td>1000011</td>\n",
       "      <td>32</td>\n",
       "    </tr>\n",
       "    <tr>\n",
       "      <th>808260</th>\n",
       "      <td>1000013</td>\n",
       "      <td>40</td>\n",
       "    </tr>\n",
       "    <tr>\n",
       "      <th>808261</th>\n",
       "      <td>1000014</td>\n",
       "      <td>17</td>\n",
       "    </tr>\n",
       "    <tr>\n",
       "      <th>808262</th>\n",
       "      <td>1000015</td>\n",
       "      <td>23</td>\n",
       "    </tr>\n",
       "  </tbody>\n",
       "</table>\n",
       "<p>808263 rows × 2 columns</p>\n",
       "</div>"
      ],
      "text/plain": [
       "        user_id  watching_times\n",
       "0             1              71\n",
       "1             2              23\n",
       "2             3              63\n",
       "3             4              34\n",
       "4             5             100\n",
       "...         ...             ...\n",
       "808258  1000010              56\n",
       "808259  1000011              32\n",
       "808260  1000013              40\n",
       "808261  1000014              17\n",
       "808262  1000015              23\n",
       "\n",
       "[808263 rows x 2 columns]"
      ]
     },
     "execution_count": 32,
     "metadata": {},
     "output_type": "execute_result"
    }
   ],
   "source": [
    "all_data_agg = all_data.groupby('user_id').agg({'watching_times': 'sum'}).reset_index()\n",
    "all_data_agg"
   ]
  },
  {
   "cell_type": "code",
   "execution_count": 33,
   "id": "18bda746-e1e1-4b55-b953-d76dc778e280",
   "metadata": {
    "id": "18bda746-e1e1-4b55-b953-d76dc778e280",
    "outputId": "e47ba8e4-0bcb-43c5-e22d-450341596768"
   },
   "outputs": [
    {
     "data": {
      "text/html": [
       "<div>\n",
       "<style scoped>\n",
       "    .dataframe tbody tr th:only-of-type {\n",
       "        vertical-align: middle;\n",
       "    }\n",
       "\n",
       "    .dataframe tbody tr th {\n",
       "        vertical-align: top;\n",
       "    }\n",
       "\n",
       "    .dataframe thead th {\n",
       "        text-align: right;\n",
       "    }\n",
       "</style>\n",
       "<table border=\"1\" class=\"dataframe\">\n",
       "  <thead>\n",
       "    <tr style=\"text-align: right;\">\n",
       "      <th></th>\n",
       "      <th>user_id</th>\n",
       "      <th>item_id</th>\n",
       "    </tr>\n",
       "  </thead>\n",
       "  <tbody>\n",
       "    <tr>\n",
       "      <th>0</th>\n",
       "      <td>1</td>\n",
       "      <td>71</td>\n",
       "    </tr>\n",
       "    <tr>\n",
       "      <th>1</th>\n",
       "      <td>2</td>\n",
       "      <td>15</td>\n",
       "    </tr>\n",
       "    <tr>\n",
       "      <th>2</th>\n",
       "      <td>3</td>\n",
       "      <td>37</td>\n",
       "    </tr>\n",
       "    <tr>\n",
       "      <th>3</th>\n",
       "      <td>4</td>\n",
       "      <td>27</td>\n",
       "    </tr>\n",
       "    <tr>\n",
       "      <th>4</th>\n",
       "      <td>5</td>\n",
       "      <td>53</td>\n",
       "    </tr>\n",
       "    <tr>\n",
       "      <th>...</th>\n",
       "      <td>...</td>\n",
       "      <td>...</td>\n",
       "    </tr>\n",
       "    <tr>\n",
       "      <th>808258</th>\n",
       "      <td>1000010</td>\n",
       "      <td>53</td>\n",
       "    </tr>\n",
       "    <tr>\n",
       "      <th>808259</th>\n",
       "      <td>1000011</td>\n",
       "      <td>24</td>\n",
       "    </tr>\n",
       "    <tr>\n",
       "      <th>808260</th>\n",
       "      <td>1000013</td>\n",
       "      <td>36</td>\n",
       "    </tr>\n",
       "    <tr>\n",
       "      <th>808261</th>\n",
       "      <td>1000014</td>\n",
       "      <td>10</td>\n",
       "    </tr>\n",
       "    <tr>\n",
       "      <th>808262</th>\n",
       "      <td>1000015</td>\n",
       "      <td>18</td>\n",
       "    </tr>\n",
       "  </tbody>\n",
       "</table>\n",
       "<p>808263 rows × 2 columns</p>\n",
       "</div>"
      ],
      "text/plain": [
       "        user_id  item_id\n",
       "0             1       71\n",
       "1             2       15\n",
       "2             3       37\n",
       "3             4       27\n",
       "4             5       53\n",
       "...         ...      ...\n",
       "808258  1000010       53\n",
       "808259  1000011       24\n",
       "808260  1000013       36\n",
       "808261  1000014       10\n",
       "808262  1000015       18\n",
       "\n",
       "[808263 rows x 2 columns]"
      ]
     },
     "execution_count": 33,
     "metadata": {},
     "output_type": "execute_result"
    }
   ],
   "source": [
    "all_data_useritem=all_data.groupby('user_id').agg({'item_id': 'count'}).reset_index()\n",
    "all_data_useritem"
   ]
  },
  {
   "attachments": {},
   "cell_type": "markdown",
   "id": "52d4ace9",
   "metadata": {
    "id": "52d4ace9"
   },
   "source": [
    "**For the 70%**\n",
    "\n",
    "Here, we got :\n",
    "1. the sum of the click_counts -> as we want to see the total number of clicks\n",
    "2. the average of the read_percentage\n",
    "3. the total number of each read_time\n",
    "4. the count of the item id"
   ]
  },
  {
   "attachments": {},
   "cell_type": "markdown",
   "id": "dtYqJ-bqUVj7",
   "metadata": {
    "id": "dtYqJ-bqUVj7"
   },
   "source": [
    "**For the sbr dataset**\n",
    "\n",
    "Here, we got :\n",
    "1. the count of item_id\n",
    "2. the sum of watching_times'"
   ]
  },
  {
   "attachments": {},
   "cell_type": "markdown",
   "id": "d1b75eb7",
   "metadata": {
    "id": "d1b75eb7"
   },
   "source": [
    "In this dataset, we did not need the test of hypothesis or any feature engineering or feature extraction"
   ]
  },
  {
   "attachments": {},
   "cell_type": "markdown",
   "id": "0655d8cb",
   "metadata": {
    "id": "0655d8cb"
   },
   "source": [
    "# We need to do some sort of preparing the data to be able to standarizied and modelled"
   ]
  },
  {
   "cell_type": "code",
   "execution_count": 34,
   "id": "79386452",
   "metadata": {
    "id": "79386452",
    "outputId": "b60dd05b-cd1e-487e-9267-173d74822382"
   },
   "outputs": [
    {
     "name": "stdout",
     "output_type": "stream",
     "text": [
      "<class 'pandas.core.frame.DataFrame'>\n",
      "Int64Index: 1209286 entries, 0 to 1263749\n",
      "Data columns (total 20 columns):\n",
      " #   Column           Non-Null Count    Dtype  \n",
      "---  ------           --------------    -----  \n",
      " 0   user_id          1209286 non-null  int64  \n",
      " 1   item_id          1209286 non-null  int64  \n",
      " 2   click            1209286 non-null  float64\n",
      " 3   gender           1209286 non-null  int64  \n",
      " 4   age              1209286 non-null  int64  \n",
      " 5   click_count      1209286 non-null  int64  \n",
      " 6   like_count       1209286 non-null  int64  \n",
      " 7   comment_count    1209286 non-null  int64  \n",
      " 8   read_percentage  1209286 non-null  float64\n",
      " 9   item_score1      1209286 non-null  int64  \n",
      " 10  item_score2      1209286 non-null  float64\n",
      " 11  category_second  1209286 non-null  int64  \n",
      " 12  category_first   1209286 non-null  int64  \n",
      " 13  item_score3      1209286 non-null  float64\n",
      " 14  read             1209286 non-null  bool   \n",
      " 15  read_time        1209286 non-null  float64\n",
      " 16  share            1209286 non-null  bool   \n",
      " 17  like             1209286 non-null  bool   \n",
      " 18  follow           1209286 non-null  bool   \n",
      " 19  favorite         1209286 non-null  bool   \n",
      "dtypes: bool(5), float64(5), int64(10)\n",
      "memory usage: 153.4 MB\n"
     ]
    }
   ],
   "source": [
    "all_data_70.info()"
   ]
  },
  {
   "cell_type": "code",
   "execution_count": 35,
   "id": "dbb3847a-f981-4f3c-ba76-153282809569",
   "metadata": {
    "id": "dbb3847a-f981-4f3c-ba76-153282809569",
    "outputId": "369800c1-b389-4095-c398-0929874b88d5"
   },
   "outputs": [
    {
     "name": "stdout",
     "output_type": "stream",
     "text": [
      "<class 'pandas.core.frame.DataFrame'>\n",
      "Int64Index: 30856954 entries, 0 to 38300243\n",
      "Data columns (total 10 columns):\n",
      " #   Column          Dtype \n",
      "---  ------          ----- \n",
      " 0   user_id         int64 \n",
      " 1   item_id         int64 \n",
      " 2   click           int64 \n",
      " 3   follow          int64 \n",
      " 4   like            int64 \n",
      " 5   share           int64 \n",
      " 6   video_category  object\n",
      " 7   watching_times  int64 \n",
      " 8   gender          int64 \n",
      " 9   age             int64 \n",
      "dtypes: int64(9), object(1)\n",
      "memory usage: 2.5+ GB\n"
     ]
    }
   ],
   "source": [
    "all_data.info()"
   ]
  },
  {
   "attachments": {},
   "cell_type": "markdown",
   "id": "797b81a8",
   "metadata": {
    "id": "797b81a8"
   },
   "source": [
    "We will not apply the satndarization on the categorical or the ids (as it can not be in specific range )"
   ]
  },
  {
   "attachments": {},
   "cell_type": "markdown",
   "id": "088d44ca",
   "metadata": {
    "id": "088d44ca"
   },
   "source": [
    "We will remove the categorical, user_id and item_id columns to give it to the standarized function\n"
   ]
  },
  {
   "cell_type": "code",
   "execution_count": 36,
   "id": "e29f5ca9",
   "metadata": {
    "id": "e29f5ca9"
   },
   "outputs": [],
   "source": [
    "all_data_70_drop_category=all_data_70.drop(['gender','age','click','user_id','item_id','read','share','like','follow','favorite'],axis=1)#70%"
   ]
  },
  {
   "cell_type": "code",
   "execution_count": 37,
   "id": "b45a5368",
   "metadata": {
    "id": "b45a5368"
   },
   "outputs": [],
   "source": [
    "all_data_drop_category=all_data.drop(['gender','age','follow','like','share','click','user_id','item_id','video_category'],axis=1)#sbr"
   ]
  },
  {
   "attachments": {},
   "cell_type": "markdown",
   "id": "aa574e44",
   "metadata": {
    "id": "aa574e44"
   },
   "source": [
    "Store the categorical columns in varibles to use it later in the model (concate it with the standarized data)"
   ]
  },
  {
   "cell_type": "code",
   "execution_count": 38,
   "id": "50d49dfa",
   "metadata": {
    "id": "50d49dfa"
   },
   "outputs": [],
   "source": [
    "all_data_70_category=all_data_70.drop(['click_count','like_count','comment_count','read_percentage','item_score1','item_score2','category_second','category_first','item_score3','read_time'],axis=1)"
   ]
  },
  {
   "cell_type": "code",
   "execution_count": 39,
   "id": "368863da",
   "metadata": {
    "id": "368863da"
   },
   "outputs": [],
   "source": [
    "all_data_category=all_data.drop(['watching_times'],axis=1)"
   ]
  },
  {
   "attachments": {},
   "cell_type": "markdown",
   "id": "8f60c5d3",
   "metadata": {
    "id": "8f60c5d3"
   },
   "source": [
    "# We will standarize the data"
   ]
  },
  {
   "attachments": {},
   "cell_type": "markdown",
   "id": "a6d66dac",
   "metadata": {
    "id": "a6d66dac"
   },
   "source": [
    "now, we will standardize the data to be in specific range and not to make the model baised to a certain numbers"
   ]
  },
  {
   "cell_type": "code",
   "execution_count": 40,
   "id": "d07dc843",
   "metadata": {
    "id": "d07dc843",
    "outputId": "cc47e803-f49b-4989-9fee-6eb5c9d3ad22"
   },
   "outputs": [
    {
     "name": "stdout",
     "output_type": "stream",
     "text": [
      "[[-0.42443443 -0.31493717 -0.48115491 ...  0.43662703 -0.84958219\n",
      "  -0.64966686]\n",
      " [-0.33420524 -0.27939701 -0.42953768 ... -0.18676406 -0.61198318\n",
      "  -0.45704095]\n",
      " [-0.36256963 -0.27375842 -0.42585073 ... -0.96600291  0.33841284\n",
      "   0.63450587]\n",
      " ...\n",
      " [-0.29005326 -0.27820094 -0.40250008 ... -1.12185069 -0.84958219\n",
      "   0.81429005]\n",
      " [-0.40719603 -0.28845291 -0.4682506  ... -0.42053572 -0.84958219\n",
      "   0.04378641]\n",
      " [-0.40836526 -0.31271591 -0.43936953 ...  0.43662703 -0.84958219\n",
      "   0.15936196]]\n"
     ]
    }
   ],
   "source": [
    "# For the 705 cold start\n",
    "scaler = StandardScaler()\n",
    "standardized_data_07 = scaler.fit_transform(all_data_70_drop_category)\n",
    "print(standardized_data_07)"
   ]
  },
  {
   "cell_type": "code",
   "execution_count": 41,
   "id": "9e607509-3418-4885-9218-173e5589adb6",
   "metadata": {
    "id": "9e607509-3418-4885-9218-173e5589adb6",
    "outputId": "6f6c1579-0d49-4155-b556-d1747ceba6e3"
   },
   "outputs": [
    {
     "name": "stdout",
     "output_type": "stream",
     "text": [
      "[[-0.23979369]\n",
      " [-0.23979369]\n",
      " [-0.23979369]\n",
      " ...\n",
      " [-0.23979369]\n",
      " [-0.23979369]\n",
      " [-0.23979369]]\n"
     ]
    }
   ],
   "source": [
    "# For the sbr dataset\n",
    "scaler = StandardScaler()\n",
    "standardized_data = scaler.fit_transform(all_data_drop_category)\n",
    "print(standardized_data)"
   ]
  },
  {
   "cell_type": "code",
   "execution_count": 42,
   "id": "c63a1770",
   "metadata": {
    "id": "c63a1770",
    "outputId": "4c5937af-2fab-4c6a-8b0b-937b7df30ec6"
   },
   "outputs": [
    {
     "data": {
      "text/plain": [
       "<bound method DataFrame.select_dtypes of           watching_times\n",
       "0                      1\n",
       "1                      1\n",
       "2                      1\n",
       "3                      1\n",
       "4                      1\n",
       "...                  ...\n",
       "38300239               2\n",
       "38300240               2\n",
       "38300241               1\n",
       "38300242               1\n",
       "38300243               1\n",
       "\n",
       "[30856954 rows x 1 columns]>"
      ]
     },
     "execution_count": 42,
     "metadata": {},
     "output_type": "execute_result"
    }
   ],
   "source": [
    "all_data_drop_category.select_dtypes"
   ]
  },
  {
   "cell_type": "code",
   "execution_count": 43,
   "id": "5ad6847f",
   "metadata": {
    "id": "5ad6847f",
    "outputId": "e00af27b-c924-4b47-f1a2-46dfdea63ff2"
   },
   "outputs": [
    {
     "data": {
      "text/html": [
       "<div>\n",
       "<style scoped>\n",
       "    .dataframe tbody tr th:only-of-type {\n",
       "        vertical-align: middle;\n",
       "    }\n",
       "\n",
       "    .dataframe tbody tr th {\n",
       "        vertical-align: top;\n",
       "    }\n",
       "\n",
       "    .dataframe thead th {\n",
       "        text-align: right;\n",
       "    }\n",
       "</style>\n",
       "<table border=\"1\" class=\"dataframe\">\n",
       "  <thead>\n",
       "    <tr style=\"text-align: right;\">\n",
       "      <th></th>\n",
       "      <th>click_count</th>\n",
       "      <th>like_count</th>\n",
       "      <th>comment_count</th>\n",
       "      <th>read_percentage</th>\n",
       "      <th>item_score1</th>\n",
       "      <th>item_score2</th>\n",
       "      <th>category_second</th>\n",
       "      <th>category_first</th>\n",
       "      <th>item_score3</th>\n",
       "      <th>read_time</th>\n",
       "    </tr>\n",
       "  </thead>\n",
       "  <tbody>\n",
       "    <tr>\n",
       "      <th>0</th>\n",
       "      <td>-0.424434</td>\n",
       "      <td>-0.314937</td>\n",
       "      <td>-0.481155</td>\n",
       "      <td>-0.879409</td>\n",
       "      <td>-0.037363</td>\n",
       "      <td>-0.135008</td>\n",
       "      <td>0.424193</td>\n",
       "      <td>0.436627</td>\n",
       "      <td>-0.849582</td>\n",
       "      <td>-0.649667</td>\n",
       "    </tr>\n",
       "    <tr>\n",
       "      <th>1</th>\n",
       "      <td>-0.334205</td>\n",
       "      <td>-0.279397</td>\n",
       "      <td>-0.429538</td>\n",
       "      <td>-0.255359</td>\n",
       "      <td>-0.037363</td>\n",
       "      <td>-0.135008</td>\n",
       "      <td>-0.151725</td>\n",
       "      <td>-0.186764</td>\n",
       "      <td>-0.611983</td>\n",
       "      <td>-0.457041</td>\n",
       "    </tr>\n",
       "    <tr>\n",
       "      <th>2</th>\n",
       "      <td>-0.362570</td>\n",
       "      <td>-0.273758</td>\n",
       "      <td>-0.425851</td>\n",
       "      <td>-0.255359</td>\n",
       "      <td>1.300024</td>\n",
       "      <td>6.154945</td>\n",
       "      <td>-0.875962</td>\n",
       "      <td>-0.966003</td>\n",
       "      <td>0.338413</td>\n",
       "      <td>0.634506</td>\n",
       "    </tr>\n",
       "    <tr>\n",
       "      <th>3</th>\n",
       "      <td>-0.423173</td>\n",
       "      <td>-0.314937</td>\n",
       "      <td>-0.481155</td>\n",
       "      <td>-0.186020</td>\n",
       "      <td>-1.374750</td>\n",
       "      <td>-0.135008</td>\n",
       "      <td>0.498715</td>\n",
       "      <td>0.514551</td>\n",
       "      <td>0.338413</td>\n",
       "      <td>-0.508408</td>\n",
       "    </tr>\n",
       "    <tr>\n",
       "      <th>4</th>\n",
       "      <td>-0.394509</td>\n",
       "      <td>-0.313229</td>\n",
       "      <td>-0.472552</td>\n",
       "      <td>-0.290028</td>\n",
       "      <td>-1.374750</td>\n",
       "      <td>-0.135008</td>\n",
       "      <td>0.502332</td>\n",
       "      <td>0.514551</td>\n",
       "      <td>0.338413</td>\n",
       "      <td>-0.225890</td>\n",
       "    </tr>\n",
       "    <tr>\n",
       "      <th>...</th>\n",
       "      <td>...</td>\n",
       "      <td>...</td>\n",
       "      <td>...</td>\n",
       "      <td>...</td>\n",
       "      <td>...</td>\n",
       "      <td>...</td>\n",
       "      <td>...</td>\n",
       "      <td>...</td>\n",
       "      <td>...</td>\n",
       "      <td>...</td>\n",
       "    </tr>\n",
       "    <tr>\n",
       "      <th>1209281</th>\n",
       "      <td>0.264024</td>\n",
       "      <td>-0.023269</td>\n",
       "      <td>0.682691</td>\n",
       "      <td>0.576708</td>\n",
       "      <td>-0.037363</td>\n",
       "      <td>-0.135008</td>\n",
       "      <td>-0.153172</td>\n",
       "      <td>-0.186764</td>\n",
       "      <td>-0.136785</td>\n",
       "      <td>-0.367149</td>\n",
       "    </tr>\n",
       "    <tr>\n",
       "      <th>1209282</th>\n",
       "      <td>-0.203926</td>\n",
       "      <td>-0.249495</td>\n",
       "      <td>-0.301109</td>\n",
       "      <td>0.230014</td>\n",
       "      <td>1.300024</td>\n",
       "      <td>-0.135008</td>\n",
       "      <td>0.066777</td>\n",
       "      <td>0.047008</td>\n",
       "      <td>0.338413</td>\n",
       "      <td>-0.418516</td>\n",
       "    </tr>\n",
       "    <tr>\n",
       "      <th>1209283</th>\n",
       "      <td>-0.290053</td>\n",
       "      <td>-0.278201</td>\n",
       "      <td>-0.402500</td>\n",
       "      <td>-0.047342</td>\n",
       "      <td>-1.374750</td>\n",
       "      <td>-0.135008</td>\n",
       "      <td>-1.021389</td>\n",
       "      <td>-1.121851</td>\n",
       "      <td>-0.849582</td>\n",
       "      <td>0.814290</td>\n",
       "    </tr>\n",
       "    <tr>\n",
       "      <th>1209284</th>\n",
       "      <td>-0.407196</td>\n",
       "      <td>-0.288453</td>\n",
       "      <td>-0.468251</td>\n",
       "      <td>0.611378</td>\n",
       "      <td>-0.037363</td>\n",
       "      <td>-0.135008</td>\n",
       "      <td>-0.370949</td>\n",
       "      <td>-0.420536</td>\n",
       "      <td>-0.849582</td>\n",
       "      <td>0.043786</td>\n",
       "    </tr>\n",
       "    <tr>\n",
       "      <th>1209285</th>\n",
       "      <td>-0.408365</td>\n",
       "      <td>-0.312716</td>\n",
       "      <td>-0.439370</td>\n",
       "      <td>-0.151350</td>\n",
       "      <td>-1.374750</td>\n",
       "      <td>-0.135008</td>\n",
       "      <td>0.427810</td>\n",
       "      <td>0.436627</td>\n",
       "      <td>-0.849582</td>\n",
       "      <td>0.159362</td>\n",
       "    </tr>\n",
       "  </tbody>\n",
       "</table>\n",
       "<p>1209286 rows × 10 columns</p>\n",
       "</div>"
      ],
      "text/plain": [
       "         click_count  like_count  comment_count  read_percentage  item_score1  \\\n",
       "0          -0.424434   -0.314937      -0.481155        -0.879409    -0.037363   \n",
       "1          -0.334205   -0.279397      -0.429538        -0.255359    -0.037363   \n",
       "2          -0.362570   -0.273758      -0.425851        -0.255359     1.300024   \n",
       "3          -0.423173   -0.314937      -0.481155        -0.186020    -1.374750   \n",
       "4          -0.394509   -0.313229      -0.472552        -0.290028    -1.374750   \n",
       "...              ...         ...            ...              ...          ...   \n",
       "1209281     0.264024   -0.023269       0.682691         0.576708    -0.037363   \n",
       "1209282    -0.203926   -0.249495      -0.301109         0.230014     1.300024   \n",
       "1209283    -0.290053   -0.278201      -0.402500        -0.047342    -1.374750   \n",
       "1209284    -0.407196   -0.288453      -0.468251         0.611378    -0.037363   \n",
       "1209285    -0.408365   -0.312716      -0.439370        -0.151350    -1.374750   \n",
       "\n",
       "         item_score2  category_second  category_first  item_score3  read_time  \n",
       "0          -0.135008         0.424193        0.436627    -0.849582  -0.649667  \n",
       "1          -0.135008        -0.151725       -0.186764    -0.611983  -0.457041  \n",
       "2           6.154945        -0.875962       -0.966003     0.338413   0.634506  \n",
       "3          -0.135008         0.498715        0.514551     0.338413  -0.508408  \n",
       "4          -0.135008         0.502332        0.514551     0.338413  -0.225890  \n",
       "...              ...              ...             ...          ...        ...  \n",
       "1209281    -0.135008        -0.153172       -0.186764    -0.136785  -0.367149  \n",
       "1209282    -0.135008         0.066777        0.047008     0.338413  -0.418516  \n",
       "1209283    -0.135008        -1.021389       -1.121851    -0.849582   0.814290  \n",
       "1209284    -0.135008        -0.370949       -0.420536    -0.849582   0.043786  \n",
       "1209285    -0.135008         0.427810        0.436627    -0.849582   0.159362  \n",
       "\n",
       "[1209286 rows x 10 columns]"
      ]
     },
     "execution_count": 43,
     "metadata": {},
     "output_type": "execute_result"
    }
   ],
   "source": [
    "standardized_data_07 = pd.DataFrame(standardized_data_07, columns=all_data_70_drop_category.columns)\n",
    "standardized_data_07"
   ]
  },
  {
   "cell_type": "code",
   "execution_count": 44,
   "id": "a2e545d1-828c-4670-a5ca-170ab326f260",
   "metadata": {
    "id": "a2e545d1-828c-4670-a5ca-170ab326f260",
    "outputId": "d0c6ef66-e5b7-4b3d-bbce-65ee3554b7df"
   },
   "outputs": [
    {
     "data": {
      "text/html": [
       "<div>\n",
       "<style scoped>\n",
       "    .dataframe tbody tr th:only-of-type {\n",
       "        vertical-align: middle;\n",
       "    }\n",
       "\n",
       "    .dataframe tbody tr th {\n",
       "        vertical-align: top;\n",
       "    }\n",
       "\n",
       "    .dataframe thead th {\n",
       "        text-align: right;\n",
       "    }\n",
       "</style>\n",
       "<table border=\"1\" class=\"dataframe\">\n",
       "  <thead>\n",
       "    <tr style=\"text-align: right;\">\n",
       "      <th></th>\n",
       "      <th>watching_times</th>\n",
       "    </tr>\n",
       "  </thead>\n",
       "  <tbody>\n",
       "    <tr>\n",
       "      <th>0</th>\n",
       "      <td>-0.239794</td>\n",
       "    </tr>\n",
       "    <tr>\n",
       "      <th>1</th>\n",
       "      <td>-0.239794</td>\n",
       "    </tr>\n",
       "    <tr>\n",
       "      <th>2</th>\n",
       "      <td>-0.239794</td>\n",
       "    </tr>\n",
       "    <tr>\n",
       "      <th>3</th>\n",
       "      <td>-0.239794</td>\n",
       "    </tr>\n",
       "    <tr>\n",
       "      <th>4</th>\n",
       "      <td>-0.239794</td>\n",
       "    </tr>\n",
       "    <tr>\n",
       "      <th>...</th>\n",
       "      <td>...</td>\n",
       "    </tr>\n",
       "    <tr>\n",
       "      <th>30856949</th>\n",
       "      <td>0.243892</td>\n",
       "    </tr>\n",
       "    <tr>\n",
       "      <th>30856950</th>\n",
       "      <td>0.243892</td>\n",
       "    </tr>\n",
       "    <tr>\n",
       "      <th>30856951</th>\n",
       "      <td>-0.239794</td>\n",
       "    </tr>\n",
       "    <tr>\n",
       "      <th>30856952</th>\n",
       "      <td>-0.239794</td>\n",
       "    </tr>\n",
       "    <tr>\n",
       "      <th>30856953</th>\n",
       "      <td>-0.239794</td>\n",
       "    </tr>\n",
       "  </tbody>\n",
       "</table>\n",
       "<p>30856954 rows × 1 columns</p>\n",
       "</div>"
      ],
      "text/plain": [
       "          watching_times\n",
       "0              -0.239794\n",
       "1              -0.239794\n",
       "2              -0.239794\n",
       "3              -0.239794\n",
       "4              -0.239794\n",
       "...                  ...\n",
       "30856949        0.243892\n",
       "30856950        0.243892\n",
       "30856951       -0.239794\n",
       "30856952       -0.239794\n",
       "30856953       -0.239794\n",
       "\n",
       "[30856954 rows x 1 columns]"
      ]
     },
     "execution_count": 44,
     "metadata": {},
     "output_type": "execute_result"
    }
   ],
   "source": [
    "standardized_data = pd.DataFrame(standardized_data, columns=all_data_drop_category.columns)\n",
    "standardized_data"
   ]
  },
  {
   "attachments": {},
   "cell_type": "markdown",
   "id": "90b8f5d5",
   "metadata": {
    "id": "90b8f5d5"
   },
   "source": [
    "We will concatnate the categorical columns with the standarized data to apply the model on it"
   ]
  },
  {
   "cell_type": "code",
   "execution_count": 45,
   "id": "b0e96972",
   "metadata": {
    "id": "b0e96972"
   },
   "outputs": [],
   "source": [
    "all_data_70_final_data=pd.concat([standardized_data_07,all_data_70_category],axis=1)"
   ]
  },
  {
   "cell_type": "code",
   "execution_count": 46,
   "id": "bfc11d8a",
   "metadata": {
    "id": "bfc11d8a"
   },
   "outputs": [],
   "source": [
    "all_data_final_data=pd.concat([standardized_data,all_data_category],axis=1)"
   ]
  },
  {
   "attachments": {},
   "cell_type": "markdown",
   "id": "5f4be035",
   "metadata": {
    "id": "5f4be035"
   },
   "source": [
    "Summary for all the followind steps:\n",
    "* We applied some preprocessing on the data\n",
    "1. Removed the duplicates\n",
    "2. Made some preprocessing on the data to standarize it\n",
    "3. Standarized rthe data\n",
    "4. The data did not need tests of hypothesis or feature enginnering (in my point of view)\n",
    "\n",
    "Now, we will split the data and apply the model on it"
   ]
  },
  {
   "attachments": {},
   "cell_type": "markdown",
   "id": "55a5779b",
   "metadata": {
    "id": "55a5779b"
   },
   "source": [
    "# Now, we will split the data to train and test on the standarized data and apply the model"
   ]
  },
  {
   "attachments": {},
   "cell_type": "markdown",
   "id": "6bd5ce79",
   "metadata": {
    "id": "6bd5ce79"
   },
   "source": [
    "We have used this site as a\n",
    "Reference:\n",
    "    [1]Fajie Yuan et al. Parameter-efficient transfer from sequential behaviors for user modeling and recommendation. In SIGIR, pages 1469–1478, 2020."
   ]
  },
  {
   "cell_type": "code",
   "execution_count": 47,
   "id": "c29b0633",
   "metadata": {
    "id": "c29b0633"
   },
   "outputs": [],
   "source": [
    "from sklearn.metrics import mean_absolute_error, mean_squared_error, precision_score, recall_score"
   ]
  },
  {
   "cell_type": "code",
   "execution_count": 48,
   "id": "363206cb",
   "metadata": {
    "id": "363206cb"
   },
   "outputs": [],
   "source": [
    "#utils.py\n",
    "def get_train_loader(dataset, is_parallel = False):\n",
    "    \"\"\"\n",
    "    This cell defines the functions to create data loaders for your training, validation, and testing datasets.\n",
    "    Data loaders are PyTorch's way to handle large datasets that can't fit into memory.\n",
    "    They allow you to load data in small batches, rather than all at once.\n",
    "    \"\"\"\n",
    "    if is_parallel:\n",
    "        # Create a distributed data loader using PyTorch's DistributedSampler class\n",
    "        dataloader = data_utils.DataLoader(dataset, batch_size=1024, sampler=DistributedSampler(dataset))\n",
    "    else:\n",
    "        # Create a regular data loader with a batch size of 1024 and shuffle the data\n",
    "        dataloader = data_utils.DataLoader(dataset, batch_size=1024, shuffle=True, pin_memory=True)\n",
    "    return dataloader\n",
    "\n",
    "def get_val_loader(dataset, is_parallel = False):\n",
    "    \"\"\"\n",
    "    This function creates a data loader for the validation dataset.\n",
    "\n",
    "    Args:\n",
    "        dataset: PyTorch dataset object containing the validation data.\n",
    "        is_parallel: Boolean flag indicating whether to use distributed data loading.\n",
    "                     Defaults to False.\n",
    "\n",
    "    Returns:\n",
    "        A PyTorch DataLoader object for the validation dataset.\n",
    "    \"\"\"\n",
    "    if is_parallel:\n",
    "         # Create a distributed data loader using PyTorch's DistributedSampler class\n",
    "        dataloader = data_utils.DataLoader(dataset, batch_size=1024, sampler=DistributedSampler(dataset))\n",
    "    else:\n",
    "         # Create a regular data loader with a batch size of 1024 and do not shuffle the data\n",
    "        dataloader = data_utils.DataLoader(dataset, batch_size=1024, shuffle=False, pin_memory=True)\n",
    "    return dataloader\n",
    "\n",
    "def get_test_loader(dataset, is_parallel = False):\n",
    "    \"\"\"\n",
    "    This function creates a data loader for the test dataset.\n",
    "\n",
    "    Args:\n",
    "        dataset: PyTorch dataset object containing the test data.\n",
    "        is_parallel: Boolean flag indicating whether to use distributed data loading.\n",
    "                     Defaults to False.\n",
    "\n",
    "    Returns:\n",
    "        A PyTorch DataLoader object for the test dataset.\n",
    "    \"\"\"\n",
    "    if is_parallel:\n",
    "        # Create a distributed data loader using PyTorch's DistributedSampler class\n",
    "        dataloader = data_utils.DataLoader(dataset, batch_size=1024, sampler=DistributedSampler(dataset))\n",
    "    else:\n",
    "        # Create a regular data loader with a batch size of 1024 and do not shuffle the data\n",
    "        dataloader = data_utils.DataLoader(dataset, batch_size=1024, shuffle=False, pin_memory=True)\n",
    "    return dataloader"
   ]
  },
  {
   "cell_type": "code",
   "execution_count": 63,
   "id": "3e6e2d97-5321-4bcb-a971-f1158786e4f7",
   "metadata": {
    "id": "3e6e2d97-5321-4bcb-a971-f1158786e4f7"
   },
   "outputs": [],
   "source": [
    "class ColdResetDF:\n",
    "    def __init__(self):\n",
    "        self.item_enc1 = LabelEncoder()\n",
    "        self.item_enc2 = LabelEncoder()\n",
    "        self.user_enc = LabelEncoder()\n",
    "\n",
    "    def fit_transform(self, df1, df2):\n",
    "        df = pd.concat([df1['user_id'], df2['user_id']], ignore_index=True)\n",
    "        df = self.user_enc.fit_transform(df) + 1\n",
    "        df1['item_id'] = self.item_enc1.fit_transform(df1['item_id']) + 1\n",
    "        df1['user_id'] = df[:len(df1)]\n",
    "        df2['item_id'] = self.item_enc2.fit_transform(df2['item_id']) + 1\n",
    "        df2['user_id'] = df[len(df1):]\n",
    "        return df1, df2\n",
    "\n",
    "    def inverse_transform(self, df):\n",
    "        df['item_id'] = self.item_enc1.inverse_transform(df['item_id'] - 1)\n",
    "        df['user_id'] = self.user_enc.inverse_transform(df['user_id'] - 1)\n",
    "        return df\n"
   ]
  },
  {
   "cell_type": "code",
   "execution_count": 64,
   "id": "034724ff-2619-4321-b383-1754c62eeaca",
   "metadata": {
    "id": "034724ff-2619-4321-b383-1754c62eeaca"
   },
   "outputs": [],
   "source": [
    "class ItemResetDF:\n",
    "    def __init__(self):\n",
    "        self.item_enc = LabelEncoder()\n",
    "\n",
    "    def fit_transform(self, df):\n",
    "        df['item_id'] = self.item_enc.fit_transform(df['item_id']) + 1\n",
    "        return df\n",
    "\n",
    "    def inverse_transform(self, df):\n",
    "        df['item_id'] = self.item_enc.inverse_transform(df['item_id'] - 1)\n",
    "        return df"
   ]
  },
  {
   "cell_type": "code",
   "execution_count": 65,
   "id": "310b0917-c4a3-49c0-a4f0-d1b8f78c647c",
   "metadata": {
    "id": "310b0917-c4a3-49c0-a4f0-d1b8f78c647c"
   },
   "outputs": [],
   "source": [
    "def construct_data(task, item_min):\n",
    "    if task != 2:\n",
    "        df1 = all_data_70_final_data[['user_id', 'item_id', 'age', 'gender', 'click']]\n",
    "#         df1 = pd.read_csv(path1, usecols=['user_id', 'item_id', 'click'])\n",
    "        df1 = df1[df1.click == 1]\n",
    "    else:\n",
    "        df1 = all_data_70_final_data[['user_id', 'item_id', 'age', 'gender', 'like']]\n",
    "        df1 = df1[df1.like == 1]\n",
    "\n",
    "    df2 = all_data_final_data[['user_id', 'item_id', 'age', 'gender', 'click']]\n",
    "    df2 = df2[df2.click == 1]\n",
    "\n",
    "    user_counts = df2.groupby('user_id').size()\n",
    "    user_subset = np.in1d(df2.user_id, user_counts[user_counts >= item_min].index)\n",
    "    df2 = df2[user_subset].reset_index(drop=True)\n",
    "\n",
    "    assert (df2.groupby('user_id').size() < item_min).sum() == 0\n",
    "    s_item_count = len(set(df2['item_id']))\n",
    "\n",
    "    reset_ob = ColdResetDF()\n",
    "    df2, df1 = reset_ob.fit_transform(df2, df1)\n",
    "\n",
    "    user1 = set(df1.user_id.values.tolist())\n",
    "    user2 = set(df2.user_id.values.tolist())\n",
    "    user = user1 & user2\n",
    "    df1 = df1[df1.user_id.isin(list(user))]\n",
    "    df2 = df2[df2.user_id.isin(list(user))]\n",
    "\n",
    "    new_data1 = []\n",
    "    new_data2 = []\n",
    "    for u in tqdm(user):\n",
    "        tmp_data2 = df2[df2.user_id == u][:-3].values.tolist()\n",
    "        tmp_data1 = df1[df1.user_id == u].values.tolist()\n",
    "        new_data1.extend(tmp_data1)\n",
    "        new_data2.extend(tmp_data2)\n",
    "    new_data1 = pd.DataFrame(new_data1, columns=df1.columns)\n",
    "    new_data2 = pd.DataFrame(new_data2, columns=df2.columns)\n",
    "    user_count = len(set(new_data1.user_id.values.tolist()))\n",
    "\n",
    "    reset_item = ItemResetDF()\n",
    "    new_data1 = reset_item.fit_transform(new_data1)\n",
    "\n",
    "    t_item_count = len(set(new_data1['item_id']))\n",
    "    print(new_data1.columns)\n",
    "    return new_data1, new_data2, user_count, t_item_count, s_item_count"
   ]
  },
  {
   "cell_type": "code",
   "execution_count": 66,
   "id": "a0eac8ca-d8c5-4da5-ae10-d40b099a604f",
   "metadata": {
    "id": "a0eac8ca-d8c5-4da5-ae10-d40b099a604f"
   },
   "outputs": [],
   "source": [
    "#utils.py\n",
    "def colddataset(item_min, task):\n",
    "    \"\"\"This function constructs a cold start recommendation dataset from the data returned by the `construct_data` function.\n",
    "    It creates a dictionary of user histories from the source dataset and a dictionary of target items from the target dataset.\n",
    "    It then iterates over the target items and appends each one to its corresponding user's history,\n",
    "    along with a special padding value of 0.\n",
    "    It creates a new Pandas dataframe with the resulting source and target sequences and returns\n",
    "    it along with some summary statistics.\n",
    "\n",
    "    Args:\n",
    "        item_min (int): The minimum number of items a user must have clicked on in the second dataset.\n",
    "        task (int): The task to perform. If task is not 2, the function selects the 'click' column from the 'cold_data_0.3.csv' dataset. Otherwise, it selects the 'like' column from the same dataset.\n",
    "\n",
    "    Returns:\n",
    "        A tuple containing four elements:\n",
    "        - A Pandas dataframe containing the source and target sequences for each example in the cold start recommendation dataset.\n",
    "        - The number of selected users in the dataset.\n",
    "        - The number of items in the original 'sbr_data_1M.csv' dataset.\n",
    "        - The number of items in the resulting dataset for cold start recommendation.\n",
    "    \"\"\"\n",
    "    target_data, source_data, user_count, t_item_count, s_item_count = construct_data(task, item_min)\n",
    "    \n",
    "    print(\"+++user_history+++\")\n",
    "    user_history = source_data.groupby('user_id').item_id.apply(list).to_dict()\n",
    "    target = target_data.groupby('user_id').item_id.apply(list).to_dict()\n",
    "    \n",
    "    # Modified part to include age and gender\n",
    "    age_gender_mapping = target_data.groupby('user_id').agg({'age': 'first', 'gender': 'first'}).to_dict()\n",
    "    \n",
    "    examples = []\n",
    "    for u, t_list in tqdm(target.items()):\n",
    "        for t in t_list:\n",
    "            # Modified part to include age and gender in examples\n",
    "            age_val = age_gender_mapping['age'][u]\n",
    "            gender_val = age_gender_mapping['gender'][u]\n",
    "            e_list = [user_history[u] + [0], t, age_val, gender_val]  # Add age and gender to the example list\n",
    "            examples.append(e_list)\n",
    "    examples = pd.DataFrame(examples, columns=['source', 'target', 'age', 'gender'])\n",
    "    return examples, user_count, s_item_count, t_item_count"
   ]
  },
  {
   "cell_type": "code",
   "execution_count": 67,
   "id": "4c79a4e9-f8d4-45cb-a29a-50a791c0bbbe",
   "metadata": {
    "id": "4c79a4e9-f8d4-45cb-a29a-50a791c0bbbe"
   },
   "outputs": [],
   "source": [
    "#utils.py\n",
    "class ColdDataset(data_utils.Dataset):\n",
    "    \"\"\"This class defines a PyTorch dataset for the cold start recommendation task. It takes as input two sequences of item IDs, `x` and `y`,\n",
    "    a maximum sequence length `max_len`, and a mask token `mask_token`.\n",
    "    It implements the `__len__` and `__getitem__` methods required by the PyTorch dataset API to enable iteration over the dataset.\n",
    "\n",
    "\n",
    "    Args:\n",
    "        x (list): A list of sequences of item IDs.\n",
    "        y (list): A list of target item IDs.\n",
    "        max_len (int): The maximum sequence length.\n",
    "        mask_token (int): The mask token ID.\n",
    "\n",
    "    Returns:\n",
    "        A tuple containing two PyTorch tensors:\n",
    "        - A tensor of shape (max_len,) containing the input sequence with padding if necessary.\n",
    "        - A tensor of shape (1,) containing the target item ID.\n",
    "    \"\"\"\n",
    "    def __init__(self, x, y, max_len, mask_token):\n",
    "        self.seqs = x\n",
    "        self.targets = y\n",
    "        self.max_len = max_len\n",
    "        self.mask_token = mask_token\n",
    "\n",
    "    def __len__(self):\n",
    "        return len(self.seqs)\n",
    "\n",
    "    def __getitem__(self, index):\n",
    "        seq = self.seqs[index]\n",
    "        target = self.targets[index]\n",
    "        seq = seq[-self.max_len:]\n",
    "        seq_len = len(seq)\n",
    "        seq_mask_len = self.max_len - seq_len\n",
    "        seq = [0] * seq_mask_len + seq\n",
    "        return torch.LongTensor(seq), torch.LongTensor([target])\n"
   ]
  },
  {
   "cell_type": "code",
   "execution_count": 68,
   "id": "d6b45d12-46b4-48eb-b338-c2253c6258b5",
   "metadata": {
    "id": "d6b45d12-46b4-48eb-b338-c2253c6258b5"
   },
   "outputs": [],
   "source": [
    "#utils.py\n",
    "class ColdEvalDataset(data_utils.Dataset):\n",
    "    \"\"\"This class defines a PyTorch dataset for evaluating the cold start recommendation task. It takes as input two sequences of item IDs, `x` and `y`, a maximum sequence length `max_len`, a mask token `mask_token`, and the number of items in the dataset `num_item`. It implements the `__len__` and `__getitem__` methods required by the PyTorch dataset API to enable iteration over the dataset.\n",
    "\n",
    "    Args:\n",
    "        x (list): A list of sequences of item IDs.\n",
    "        y (list): A list of target item IDs.\n",
    "        max_len (int): The maximum sequence length.\n",
    "        mask_token (int): The mask token ID.\n",
    "        num_item (int): The number of items in the dataset.\n",
    "\n",
    "    Returns:\n",
    "        A tuple containing two PyTorch tensors:\n",
    "        - A tensor of shape (max_len,) containing the input sequence with padding if necessary.\n",
    "        - A tensor of shape (num_item+1,) containing the one-hot encoded labels for the target item.\n",
    "    \"\"\"\n",
    "    def __init__(self, x, y, max_len, mask_token, num_item):\n",
    "        self.seqs = x\n",
    "        self.targets = y\n",
    "        self.max_len = max_len\n",
    "        self.mask_token = mask_token\n",
    "        self.num_item = num_item + 1\n",
    "\n",
    "    def __len__(self):\n",
    "        return len(self.seqs)\n",
    "\n",
    "    def __getitem__(self, index):\n",
    "        seq = self.seqs[index]\n",
    "        target = self.targets[index]\n",
    "        labels = [0] * self.num_item\n",
    "        labels[target] = 1\n",
    "        seq = seq[-self.max_len:]\n",
    "        seq_len = len(seq)\n",
    "        seq_mask_len = self.max_len - seq_len\n",
    "        seq = [self.mask_token] * seq_mask_len + seq\n",
    "        return torch.LongTensor(seq), torch.LongTensor(labels)"
   ]
  },
  {
   "cell_type": "code",
   "execution_count": null,
   "id": "5509ed42",
   "metadata": {},
   "outputs": [],
   "source": [
    "x_test_for_bias_later = []\n",
    "y_test_for_bias_later = []"
   ]
  },
  {
   "cell_type": "code",
   "execution_count": 90,
   "id": "246d2686-3b60-4061-904f-94193f65ce84",
   "metadata": {
    "id": "246d2686-3b60-4061-904f-94193f65ce84"
   },
   "outputs": [],
   "source": [
    "from torch.utils.data import DistributedSampler, DataLoader\n",
    "#main.py\n",
    "def get_data(max_len = 20, item_min = 10, task = 2, pad_token = 0):\n",
    "    \"\"\"\n",
    "    This function retrieves the data for the COLD model.\n",
    "\n",
    "    Args:\n",
    "        max_len: Maximum length of input sequences. Defaults to 20.\n",
    "        item_min: Minimum number of times an item must appear in the dataset. Defaults to 10.\n",
    "        task: Task number for the COLD dataset. Defaults to 2.\n",
    "        pad_token: Token used for padding shorter sequences. Defaults to 0.\n",
    "\n",
    "    Returns:\n",
    "        train_dataloader: PyTorch DataLoader object for the training dataset.\n",
    "        valid_dataloader: PyTorch DataLoader object for the validation dataset.\n",
    "        test_dataloader: PyTorch DataLoader object for the test dataset.\n",
    "        num_users: Number of users in the dataset.\n",
    "        num_items: Number of items in the dataset.\n",
    "        num_embeddings: Size of the vocabulary.\n",
    "    \"\"\"\n",
    "\n",
    "    data, user_count, vocab_size, item_count = colddataset(item_min, task)\n",
    "\n",
    "    # Split data into train, validation, and test sets\n",
    "    x_train, x_test, y_train, y_test = train_test_split(data[['source', 'age', 'gender']],\n",
    "                                                        data['target'],\n",
    "                                                        test_size=0.2,\n",
    "                                                        random_state=512)\n",
    "    x_val, x_test, y_val, y_test = train_test_split(x_test,\n",
    "                                                    y_test,\n",
    "                                                    test_size=0.5,\n",
    "                                                    random_state=512)\n",
    "\n",
    "    x_test_for_bias_later.append(x_test)\n",
    "    y_test_for_bias_later.append(y_test)\n",
    "\n",
    "    # Convert the dataframes to arrays and then lists\n",
    "    x_train = {'seq_column': x_train['source'].values.tolist(),\n",
    "               'age_column': x_train['age'].values.tolist(),\n",
    "               'gender_column': x_train['gender'].values.tolist()}\n",
    "    y_train = y_train.values.tolist()\n",
    "\n",
    "    x_val = {'seq_column': x_val['source'].values.tolist(),\n",
    "             'age_column': x_val['age'].values.tolist(),\n",
    "             'gender_column': x_val['gender'].values.tolist()}\n",
    "    y_val = y_val.values.tolist()\n",
    "\n",
    "    x_test = {'seq_column': x_test['source'].values.tolist(),\n",
    "              'age_column': x_test['age'].values.tolist(),\n",
    "              'gender_column': x_test['gender'].values.tolist()}\n",
    "    y_test = y_test.values.tolist()\n",
    "\n",
    "    train_dataset = ColdDataset(x_train['seq_column'], y_train, max_len, pad_token)\n",
    "    valid_dataset = ColdEvalDataset(x_val['seq_column'], y_val, max_len, pad_token, item_count)\n",
    "    test_dataset = ColdEvalDataset(x_test['seq_column'], y_test, max_len, pad_token, item_count)\n",
    "\n",
    "    num_users = user_count\n",
    "    num_items = item_count\n",
    "    num_embeddings = vocab_size\n",
    "\n",
    "    train_dataloader = DataLoader(train_dataset, batch_size=1024, shuffle=True)\n",
    "    valid_dataloader = DataLoader(valid_dataset, batch_size=1024, shuffle=False)\n",
    "    test_dataloader = DataLoader(test_dataset, batch_size=1024, shuffle=False)\n",
    "\n",
    "    return train_dataloader, valid_dataloader, test_dataloader, num_users, num_items, num_embeddings"
   ]
  },
  {
   "cell_type": "code",
   "execution_count": 92,
   "id": "2f7efeda-0a51-4e41-b01b-f35b510a2d0a",
   "metadata": {
    "id": "2f7efeda-0a51-4e41-b01b-f35b510a2d0a"
   },
   "outputs": [],
   "source": [
    "#trainer.py\n",
    "def recalls_and_ndcgs_for_ks(scores, labels, ks):\n",
    "    \"\"\"\n",
    "    This function computes recall and NDCG scores for a given set of predictions and labels.\n",
    "\n",
    "    Args:\n",
    "        scores: Tensor containing the predicted scores for each item.\n",
    "        labels: Tensor containing the true labels for each item.\n",
    "        ks: List of integers representing the cutoffs for recall and NDCG.\n",
    "\n",
    "    Returns:\n",
    "        metrics: Dictionary containing the recall and NDCG scores for each cutoff k.\n",
    "    \"\"\"\n",
    "    metrics = {}\n",
    "    # Compute the number of correct answers for each user and the total number of answers\n",
    "    answer_count = labels.sum(1)\n",
    "    answer_count_float = answer_count.float()\n",
    "    labels_float = labels.float()\n",
    "     # Sort the predicted scores and get the indices of the top k items for each user\n",
    "    rank = (-scores).argsort(dim=1)\n",
    "    cut = rank\n",
    "     # Compute recall and NDCG scores for each cutoff k\n",
    "    for k in sorted(ks, reverse=True):\n",
    "       cut = cut[:, :k]\n",
    "       hits = labels_float.gather(1, cut)\n",
    "       metrics['Recall@%d' % k] = (hits.sum(1) / answer_count_float).mean().item()\n",
    "\n",
    "       position = torch.arange(2, 2+k)\n",
    "       weights = 1 / torch.log2(position.float()).to('cpu')\n",
    "       dcg = (hits * weights).sum(1)\n",
    "       idcg = torch.Tensor([weights[:min(n, k)].sum() for n in answer_count]).to('cpu')\n",
    "       ndcg = (dcg / idcg).mean()\n",
    "       metrics['NDCG@%d' % k] = ndcg\n",
    "\n",
    "    return metrics"
   ]
  },
  {
   "cell_type": "code",
   "execution_count": 93,
   "id": "6df157aa-b104-446a-844f-54552962c5ac",
   "metadata": {
    "id": "6df157aa-b104-446a-844f-54552962c5ac"
   },
   "outputs": [],
   "source": [
    "#trainer.py\n",
    "def Sequence_full_Validate(epoch, model, dataloader, writer, test=False):\n",
    "    \"\"\"\n",
    "    This function performs a full validation pass on the given data using the given model.\n",
    "\n",
    "    Args:\n",
    "        epoch: Current epoch number.\n",
    "        model: PyTorch model to use for validation.\n",
    "        dataloader: PyTorch DataLoader object for the validation data.\n",
    "        writer: SummaryWriter object for logging.\n",
    "        test: Whether to perform testing instead of validation. Defaults to False.\n",
    "\n",
    "    Returns:\n",
    "        avg_metrics: Dictionary containing the average recall and NDCG scores for the validation data.\n",
    "    \"\"\"\n",
    "    print(\"+\" * 20, \"Valid Epoch {}\".format(epoch + 1), \"+\" * 20)\n",
    "     # Set the model to evaluation mode\n",
    "    model.eval()\n",
    "    # Initialize a dictionary for storing the average recall and NDCG scores\n",
    "    avg_metrics = {}\n",
    "    # Initialize a counter for the number of batches processed\n",
    "    i = 0\n",
    "    # Iterate over the validation data\n",
    "    with torch.no_grad():\n",
    "        tqdm_dataloader = dataloader\n",
    "        # Move the data to the CPU\n",
    "        for data in tqdm_dataloader:\n",
    "            data = [x.to('cpu') for x in data]\n",
    "            seqs, labels = data\n",
    "            # Forward pass through the model to get predicted scores\n",
    "            if test:\n",
    "                scores = model.predict(seqs)\n",
    "            else:\n",
    "                scores = model(seqs)\n",
    "            scores = scores.mean(1)\n",
    "            # Compute recall and NDCG scores for the predicted scores and true labels\n",
    "            metrics = recalls_and_ndcgs_for_ks(scores, labels, [5, 20])\n",
    "            # Update the average metrics dictionary and the batch counter\n",
    "            i += 1\n",
    "            for key, value in metrics.items():\n",
    "                if key not in avg_metrics:\n",
    "                    avg_metrics[key] = value\n",
    "                else:\n",
    "                    avg_metrics[key] += value\n",
    "     # Compute the average recall and NDCG score\n",
    "    for key, value in avg_metrics.items():\n",
    "        avg_metrics[key] = value / i\n",
    "         # Log the NDCG scores to TensorBoard\n",
    "    print(avg_metrics)\n",
    "    for k in sorted([5, 20], reverse=True):\n",
    "        writer.add_scalar('Train/NDCG@{}'.format(k), avg_metrics['NDCG@%d' % k], epoch)\n",
    "#          Return the average recall and NDCG scores\n",
    "    return avg_metrics\n"
   ]
  },
  {
   "cell_type": "code",
   "execution_count": 94,
   "id": "ff65fad0-5f79-4e73-a182-63639008e02f",
   "metadata": {
    "id": "ff65fad0-5f79-4e73-a182-63639008e02f"
   },
   "outputs": [],
   "source": [
    "#trainer.py\n",
    "def SequenceTrainer(epoch, model, dataloader, optimizer, writer): #schedular,\n",
    "    \"\"\"\n",
    "    This function trains the given model on the given data using the given optimizer.\n",
    "\n",
    "    Args:\n",
    "        epoch: Current epoch number.\n",
    "        model: PyTorch model to train.\n",
    "        dataloader: PyTorch DataLoader object for the training data.\n",
    "        optimizer: PyTorch optimizer to use for training.\n",
    "        writer: SummaryWriter object for logging.\n",
    "\n",
    "    Returns:\n",
    "        optimizer: PyTorch optimizer after training.\n",
    "    \"\"\"\n",
    "    print(\"+\" * 20, \"Train Epoch {}\".format(epoch + 1), \"+\" * 20)\n",
    "    # Set the model to training mode\n",
    "    model.train()\n",
    "    # Initialize a variable for storing the running loss\n",
    "    running_loss = 0\n",
    "    # Use cross-entropy loss as the loss function\n",
    "    loss_fn = nn.CrossEntropyLoss(ignore_index=0)\n",
    "    # Iterate over the training data\n",
    "    for data in dataloader:\n",
    "        # Zero out the gradients\n",
    "        optimizer.zero_grad()\n",
    "        data = [x.to('cpu') for x in data]\n",
    "        seqs, labels = data\n",
    "         # Forward pass through the model to get logits and compute the loss\n",
    "        logits = model(seqs) # B x T x V\n",
    "        logits = logits.mean(1)\n",
    "        labels = labels.view(-1)\n",
    "         # Backward pass and optimization step\n",
    "        loss = loss_fn(logits, labels)\n",
    "        loss.backward()\n",
    "        optimizer.step()\n",
    "        running_loss += loss.detach().cpu().item()\n",
    "        # Log the average loss to TensorBoard and print it to the console\n",
    "    writer.add_scalar('Train/loss', running_loss / len(dataloader), epoch)\n",
    "    print(\"Training CE Loss: {:.5f}\".format(running_loss / len(dataloader)))\n",
    "    # Return the optimizer after training\n",
    "    return optimizer"
   ]
  },
  {
   "cell_type": "code",
   "execution_count": 95,
   "id": "159b64e1-5560-4246-b5bc-92825bac7dbe",
   "metadata": {
    "id": "159b64e1-5560-4246-b5bc-92825bac7dbe"
   },
   "outputs": [],
   "source": [
    "#trainer.py\n",
    "def SeqTrain(epochs, model, train_loader, val_loader, writer, is_parallel, is_pretrain, lr, weight_decay, local_rank):\n",
    "    \"\"\"\n",
    "    This function trains the given model on the given training data and validates it on the given validation data.\n",
    "\n",
    "    Args:\n",
    "        epochs: Number of training epochs.\n",
    "        model: PyTorch model to train.\n",
    "        train_loader: PyTorch DataLoader object for the training data.\n",
    "        val_loader: PyTorch DataLoader object for the validation data.\n",
    "        writer: SummaryWriter object for logging.\n",
    "        is_parallel: Whether to use data parallelism for training. Defaults to False.\n",
    "        is_pretrain: Whether to use pre-trained model. Defaults to 0.\n",
    "        lr: Learning rate for optimizer.\n",
    "        weight_decay: Weight decay for optimizer.\n",
    "        local_rank: Local rank for distributed training.\n",
    "\n",
    "    Returns:\n",
    "        best_model: PyTorch model with the best performance on the validation data.\n",
    "    \"\"\"\n",
    "    # Initialize the optimizer\n",
    "    if is_pretrain == 0:\n",
    "        optimizer = torch.optim.Adam(filter(lambda p: p.requires_grad, model.parameters()),\n",
    "                                     lr=lr, weight_decay=weight_decay)\n",
    "    else:\n",
    "        optimizer = torch.optim.Adam(model.parameters(), lr=lr, weight_decay=weight_decay)\n",
    "\n",
    "    model = model.to('cpu')\n",
    "    if is_parallel:\n",
    "        model = torch.nn.parallel.DistributedDataParallel(model,  find_unused_parameters=True,device_ids=[local_rank], output_device=local_rank)\n",
    "    best_metric = 0\n",
    "    all_time = 0\n",
    "    val_all_time = 0\n",
    "    for epoch in range(epochs):\n",
    "        since = time.time()\n",
    "        optimizer = SequenceTrainer(epoch, model, train_loader, optimizer, writer)\n",
    "        tmp = time.time() - since\n",
    "        print('one epoch train:', tmp)\n",
    "        all_time += tmp\n",
    "        val_since = time.time()\n",
    "        metrics = Sequence_full_Validate(epoch, model, val_loader, writer)\n",
    "        # Validate the model and measure the time\n",
    "        val_tmp = time.time() - val_since\n",
    "        print('one epoch val:', val_tmp)\n",
    "        val_all_time += val_tmp\n",
    "        # Update the best model if necessary\n",
    "        i = 1\n",
    "        current_metric = metrics['NDCG@5']\n",
    "        if best_metric <= current_metric:\n",
    "            best_metric = current_metric\n",
    "            best_model = deepcopy(model)\n",
    "            state_dict = model.state_dict()\n",
    "        else:\n",
    "            i += 1\n",
    "            if i == 10:\n",
    "                print('early stop!')\n",
    "                break\n",
    "    # Print the total training and validation times and return the best model\n",
    "    print('train_time:', all_time)\n",
    "    print('val_time:', val_all_time)\n",
    "    return best_model\n"
   ]
  },
  {
   "cell_type": "code",
   "execution_count": 96,
   "id": "d4819032-7fe0-4fb6-8f1c-47e3f9d9eb30",
   "metadata": {
    "id": "d4819032-7fe0-4fb6-8f1c-47e3f9d9eb30"
   },
   "outputs": [],
   "source": [
    "# -*- coding: utf-8 -*-\n",
    "'''\n",
    "Reference:\n",
    "    [1]Fajie Yuan et al. Parameter-efficient transfer from sequential behaviors for user modeling and recommendation. In SIGIR, pages 1469–1478, 2020.\n",
    "'''\n",
    "import numpy as np\n",
    "import torch\n",
    "from torch import nn\n",
    "from torch.nn import functional as F\n",
    "from torch.nn.init import uniform_, xavier_normal_, constant_, normal_\n",
    "\n",
    "class Peter4Coldstart(nn.Module):\n",
    "\n",
    "    def __init__(self, embedding_size, block_num, dilations, kernel_size, num_items, num_embedding, is_mp, pad_token):\n",
    "        super(Peter4Coldstart, self).__init__()\n",
    "\n",
    "        # load parameters info\n",
    "        self.embedding_size = embedding_size\n",
    "        self.residual_channels = embedding_size\n",
    "        self.block_num = block_num\n",
    "        self.dilations = dilations * self.block_num\n",
    "        self.kernel_size = kernel_size\n",
    "        self.output_dim = num_items\n",
    "        self.vocab_size = num_embedding\n",
    "        self.is_mp = is_mp\n",
    "\n",
    "        self.pad_token = pad_token\n",
    "\n",
    "        # define layers and loss\n",
    "        self.item_embedding = nn.Embedding(self.vocab_size+1, self.embedding_size, padding_idx=self.pad_token)\n",
    "\n",
    "        # residual blocks\n",
    "        rb = [\n",
    "            ResidualBlock_b_2mp_parallel(\n",
    "                self.residual_channels, self.residual_channels, kernel_size=self.kernel_size, dilation=dilation, is_mp=self.is_mp\n",
    "            ) for dilation in self.dilations\n",
    "        ]\n",
    "        self.residual_blocks = nn.Sequential(*rb)\n",
    "\n",
    "        # fully-connected layer\n",
    "        self.final_layer = nn.Linear(self.residual_channels, self.output_dim+1)\n",
    "\n",
    "        # parameters initialization\n",
    "        # self.apply(self._init_weights)\n",
    "\n",
    "    def _init_weights(self, module):\n",
    "        if isinstance(module, nn.Embedding):\n",
    "            stdv = np.sqrt(1. / (self.output_dim+1))\n",
    "            uniform_(module.weight.data, -stdv, stdv)\n",
    "        elif isinstance(module, nn.Linear):\n",
    "            # xavier_normal_(module.weight.data)\n",
    "            normal_(module.weight.data, 0.0, 0.1)\n",
    "            if module.bias is not None:\n",
    "                constant_(module.bias.data, 0.1)\n",
    "\n",
    "    def forward(self, item_seq):#, pos, neg\n",
    "        item_seq_emb = self.item_embedding(item_seq)  # [batch_size, seq_len, embed_size]\n",
    "        # Residual locks\n",
    "        dilate_outputs = self.residual_blocks(item_seq_emb)\n",
    "        seq_output = self.final_layer(dilate_outputs)  # [batch_size, embedding_size]hidden\n",
    "\n",
    "        return seq_output\n",
    "\n",
    "    def predict(self, item_seq, item):\n",
    "        item_seq_emb = self.item_embedding(item_seq)  # [batch_size, seq_len, embed_size]\n",
    "        dilate_outputs = self.residual_blocks(item_seq_emb)\n",
    "        item_embs = self.item_embedding(item)\n",
    "        logits = dilate_outputs.matmul(item_embs.transpose(1, 2))\n",
    "        logits = logits.mean(1)\n",
    "        return logits\n",
    "\n",
    "\n",
    "class mp(nn.Module):\n",
    "#      it implements a simple max pooling operation on the output of a 1D CNN.\n",
    "    def __init__(self, channel):\n",
    "        super(mp, self).__init__()\n",
    "        self.hidden_size = int(channel / 4)\n",
    "        self.conv1 = nn.Conv1d(channel, self.hidden_size, 1)\n",
    "        self.conv2 = nn.Conv1d(self.hidden_size, channel, 1)\n",
    "\n",
    "    def forward(self, x):\n",
    "        x = x.permute(0, 2, 1)\n",
    "        x = self.conv1(x)\n",
    "        x = F.leaky_relu(x)\n",
    "        x = self.conv2(x)\n",
    "        x = x.permute(0, 2, 1)\n",
    "        return x\n",
    "\n",
    "class ResidualBlock_a(nn.Module):\n",
    "    r\"\"\"\n",
    "    Residual block (a) in the paper\n",
    "    \"\"\"\n",
    "\n",
    "    def __init__(self, in_channel, out_channel, kernel_size=3, dilation=None):\n",
    "        super(ResidualBlock_a, self).__init__()\n",
    "\n",
    "        half_channel = out_channel // 2\n",
    "        self.ln1 = nn.LayerNorm(out_channel, eps=1e-8)\n",
    "        self.conv1 = nn.Conv2d(in_channel, half_channel, kernel_size=(1, 1), padding=0)\n",
    "\n",
    "        self.ln2 = nn.LayerNorm(half_channel, eps=1e-8)\n",
    "        self.conv2 = nn.Conv2d(half_channel, half_channel, kernel_size=(1, kernel_size), padding=0, dilation=dilation)\n",
    "\n",
    "        self.ln3 = nn.LayerNorm(half_channel, eps=1e-8)\n",
    "        self.conv3 = nn.Conv2d(half_channel, out_channel, kernel_size=(1, 1), padding=0)\n",
    "\n",
    "        self.dilation = dilation\n",
    "        self.kernel_size = kernel_size\n",
    "\n",
    "    def forward(self, x):  # x: [batch_size, seq_len, embed_size], move forward\n",
    "\n",
    "        out = F.relu(self.ln1(x))\n",
    "        out = out.permute(0, 2, 1).unsqueeze(2)\n",
    "        out = self.conv1(out).squeeze(2).permute(0, 2, 1)\n",
    "\n",
    "        out2 = F.relu(self.ln2(out))\n",
    "        out2 = self.conv_pad(out2, self.dilation)\n",
    "        out2 = self.conv2(out2).squeeze(2).permute(0, 2, 1)\n",
    "\n",
    "        out3 = F.relu(self.ln3(out2))\n",
    "        out3 = out3.permute(0, 2, 1).unsqueeze(2)\n",
    "        out3 = self.conv3(out3).squeeze(2).permute(0, 2, 1)\n",
    "        return out3 + x\n",
    "\n",
    "    def conv_pad(self, x, dilation):  # x: [batch_size, seq_len, embed_size]\n",
    "        r\"\"\" Dropout-mask: To avoid the future information leakage problem, this paper proposed a masking-based dropout\n",
    "        trick for the 1D dilated convolution to prevent the network from seeing the future items.\n",
    "        Also the One-dimensional transformation is completed in this function.\n",
    "        \"\"\"\n",
    "        inputs_pad = x.permute(0, 2, 1)  # [batch_size, embed_size, seq_len]\n",
    "        inputs_pad = inputs_pad.unsqueeze(2)  # [batch_size, embed_size, 1, seq_len]\n",
    "        pad = nn.ZeroPad2d(((self.kernel_size - 1) * dilation, 0, 0, 0))\n",
    "        # padding operation  args：(left,right,top,bottom)\n",
    "        inputs_pad = pad(inputs_pad)  # [batch_size, embed_size, 1, seq_len+(self.kernel_size-1)*dilations]\n",
    "        return inputs_pad\n",
    "\n",
    "\n",
    "class ResidualBlock_b_2mp_parallel(nn.Module):\n",
    "    r\"\"\"\n",
    "    Residual block (b) in the paper\n",
    "    \"\"\"\n",
    "\n",
    "    def __init__(self, in_channel, out_channel, kernel_size=3, dilation=None, is_mp=False):\n",
    "        super(ResidualBlock_b_2mp_parallel, self).__init__()\n",
    "\n",
    "        self.conv1 = nn.Conv2d(in_channel, out_channel, kernel_size=(1, kernel_size), padding=0, dilation=dilation)\n",
    "        self.ln1 = nn.LayerNorm(out_channel, eps=1e-8)\n",
    "        self.conv2 = nn.Conv2d(out_channel, out_channel, kernel_size=(1, kernel_size), padding=0, dilation=dilation * 2)\n",
    "        self.ln2 = nn.LayerNorm(out_channel, eps=1e-8)\n",
    "\n",
    "        self.dilation = dilation\n",
    "        self.kernel_size = kernel_size\n",
    "        self.is_mp = is_mp\n",
    "        self.rez = nn.Parameter(torch.FloatTensor([1]))\n",
    "        if self.is_mp:\n",
    "            self.mp1 = mp(in_channel)\n",
    "            self.mp2 = mp(in_channel)\n",
    "\n",
    "    def forward(self, x):  # x: [batch_size, seq_len, embed_size]\n",
    "        x_pad = self.conv_pad(x, self.dilation)  # [batch_size, embed_size, 1, seq_len+(self.kernel_size-1)*dilations]\n",
    "        out = self.conv1(x_pad).squeeze(2).permute(0, 2, 1)\n",
    "        # [batch_size, seq_len+(self.kernel_size-1)*dilations-kernel_size+1, embed_size]\n",
    "        if self.is_mp:\n",
    "            mp_out = self.mp1(x)\n",
    "            out = mp_out + out\n",
    "        out = F.relu(self.ln1(out))\n",
    "        out_pad = self.conv_pad(out, self.dilation * 2)\n",
    "        out2 = self.conv2(out_pad).squeeze(2).permute(0, 2, 1)\n",
    "        if self.is_mp:\n",
    "            mp_out2 = self.mp2(out)\n",
    "            out2 = mp_out2 + out2\n",
    "        out2 = F.relu(self.ln2(out2))\n",
    "        return out2 * self.rez + x\n",
    "\n",
    "    def conv_pad(self, x, dilation):\n",
    "        r\"\"\" Dropout-mask: To avoid the future information leakage problem, this paper proposed a masking-based dropout\n",
    "        trick for the 1D dilated convolution to prevent the network from seeing the future items.\n",
    "        Also the One-dimensional transformation is completed in this function.\n",
    "        \"\"\"\n",
    "        inputs_pad = x.permute(0, 2, 1)\n",
    "        inputs_pad = inputs_pad.unsqueeze(2)\n",
    "        pad = nn.ZeroPad2d(((self.kernel_size - 1) * dilation, 0, 0, 0))\n",
    "        inputs_pad = pad(inputs_pad)\n",
    "        return inputs_pad\n",
    "\n",
    "\n",
    "class ResidualBlock_b_2mp_serial(nn.Module):\n",
    "    r\"\"\"\n",
    "    Residual block (b) in the paper\n",
    "\n",
    "    in the residual block, the convolutional layer applies a set of filters to the input sequence to capture local dependencies\n",
    "    between adjacent items.\n",
    "    The dilations parameter controls the spacing between the elements of the filter,\n",
    "    so that the filter can capture dependencies over longer distances in the sequence.\n",
    "    By setting different dilation values, the model can capture dependencies at different scales.\n",
    "    is_mp parameter controls whether or not max pooling is applied after the convolutional layer\n",
    "    \"\"\"\n",
    "\n",
    "    def __init__(self, in_channel, out_channel, kernel_size=3, dilation=None, is_mp=False):\n",
    "        super(ResidualBlock_b_2mp_serial, self).__init__()\n",
    "\n",
    "        self.conv1 = nn.Conv2d(in_channel, out_channel, kernel_size=(1, kernel_size), padding=0, dilation=dilation)\n",
    "        self.ln1 = nn.LayerNorm(out_channel, eps=1e-8)\n",
    "        self.conv2 = nn.Conv2d(out_channel, out_channel, kernel_size=(1, kernel_size), padding=0, dilation=dilation * 2)\n",
    "        self.ln2 = nn.LayerNorm(out_channel, eps=1e-8)\n",
    "        # self.mp = mp(in_channel)\n",
    "        self.dilation = dilation\n",
    "        self.kernel_size = kernel_size\n",
    "        self.is_mp = is_mp\n",
    "        if self.is_mp:\n",
    "            self.mp1 = mp(in_channel)\n",
    "            self.mp2 = mp(in_channel)\n",
    "\n",
    "    def forward(self, x):  # x: [batch_size, seq_len, embed_size]\n",
    "        x_pad = self.conv_pad(x, self.dilation)  # [batch_size, embed_size, 1, seq_len+(self.kernel_size-1)*dilations]\n",
    "        out = self.conv1(x_pad).squeeze(2).permute(0, 2, 1)\n",
    "        # [batch_size, seq_len+(self.kernel_size-1)*dilations-kernel_size+1, embed_size]\n",
    "        if self.is_mp:\n",
    "            mp_out = self.mp1(x)\n",
    "            out = mp_out\n",
    "        out = F.relu(self.ln1(out))\n",
    "        out_pad = self.conv_pad(out, self.dilation * 2)\n",
    "        out2 = self.conv2(out_pad).squeeze(2).permute(0, 2, 1)\n",
    "        if self.is_mp:\n",
    "            mp_out2 = self.mp2(out)\n",
    "            out2 = mp_out2\n",
    "        out2 = F.relu(self.ln2(out2))\n",
    "        return out2 + x\n",
    "\n",
    "    def conv_pad(self, x, dilation):\n",
    "        r\"\"\" Dropout-mask: To avoid the future information leakage problem, this paper proposed a masking-based dropout\n",
    "        trick for the 1D dilated convolution to prevent the network from seeing the future items.\n",
    "        Also the One-dimensional transformation is completed in this function.\n",
    "        \"\"\"\n",
    "        inputs_pad = x.permute(0, 2, 1)\n",
    "        inputs_pad = inputs_pad.unsqueeze(2)\n",
    "        pad = nn.ZeroPad2d(((self.kernel_size - 1) * dilation, 0, 0, 0))\n",
    "        inputs_pad = pad(inputs_pad)\n",
    "        return inputs_pad\n",
    "\n",
    "class ResidualBlock_b_mp_serial(nn.Module):\n",
    "    r\"\"\"\n",
    "    Residual block (b) in the paper\n",
    "    \"\"\"\n",
    "\n",
    "    def __init__(self, in_channel, out_channel, kernel_size=3, dilation=None, is_mp=False):\n",
    "        super(ResidualBlock_b_mp_serial, self).__init__()\n",
    "\n",
    "        self.conv1 = nn.Conv2d(in_channel, out_channel, kernel_size=(1, kernel_size), padding=0, dilation=dilation)\n",
    "        self.ln1 = nn.LayerNorm(out_channel, eps=1e-8)\n",
    "        self.conv2 = nn.Conv2d(out_channel, out_channel, kernel_size=(1, kernel_size), padding=0, dilation=dilation * 2)\n",
    "        self.ln2 = nn.LayerNorm(out_channel, eps=1e-8)\n",
    "        self.dilation = dilation\n",
    "        self.kernel_size = kernel_size\n",
    "        self.is_mp = is_mp\n",
    "        if self.is_mp:\n",
    "            self.mp = mp(in_channel)\n",
    "\n",
    "    def forward(self, x):  # x: [batch_size, seq_len, embed_size]\n",
    "        x_pad = self.conv_pad(x, self.dilation)  # [batch_size, embed_size, 1, seq_len+(self.kernel_size-1)*dilations]\n",
    "        out = self.conv1(x_pad).squeeze(2).permute(0, 2, 1)\n",
    "        # [batch_size, seq_len+(self.kernel_size-1)*dilations-kernel_size+1, embed_size]\n",
    "        out = F.relu(self.ln1(out))\n",
    "        out_pad = self.conv_pad(out, self.dilation * 2)\n",
    "        out2 = self.conv2(out_pad).squeeze(2).permute(0, 2, 1)\n",
    "        out2 = F.relu(self.ln2(out2))\n",
    "        if self.is_mp:\n",
    "            mp_out2 = self.mp(out)\n",
    "            out2 = mp_out2\n",
    "        return out2 + x\n",
    "\n",
    "    def conv_pad(self, x, dilation):\n",
    "        r\"\"\" Dropout-mask: To avoid the future information leakage problem, this paper proposed a masking-based dropout\n",
    "        trick for the 1D dilated convolution to prevent the network from seeing the future items.\n",
    "        Also the One-dimensional transformation is completed in this function.\n",
    "        \"\"\"\n",
    "        inputs_pad = x.permute(0, 2, 1)\n",
    "        inputs_pad = inputs_pad.unsqueeze(2)\n",
    "        pad = nn.ZeroPad2d(((self.kernel_size - 1) * dilation, 0, 0, 0))\n",
    "        inputs_pad = pad(inputs_pad)\n",
    "        return inputs_pad"
   ]
  },
  {
   "attachments": {},
   "cell_type": "markdown",
   "id": "23565b8b",
   "metadata": {
    "id": "23565b8b"
   },
   "source": [
    "Now, we will try differen trials with diferent hyperparameters"
   ]
  },
  {
   "attachments": {},
   "cell_type": "markdown",
   "id": "76e06fe4-28e0-4f41-8d88-f9637e55f1ed",
   "metadata": {
    "id": "76e06fe4-28e0-4f41-8d88-f9637e55f1ed"
   },
   "source": [
    "Activate this one if you want it to use the date you made but the results have been better using the original data. Also if you want to apply the standardization you need to adjust it to not be done on the categorical columns and do not remove the click column in this data as it is needed to filter in the code used here."
   ]
  },
  {
   "attachments": {},
   "cell_type": "markdown",
   "id": "7cadfc17",
   "metadata": {
    "id": "7cadfc17"
   },
   "source": [
    "*Our metrics are recalls and ndcgs*"
   ]
  },
  {
   "attachments": {},
   "cell_type": "markdown",
   "id": "4822797f-3460-460c-ab33-6a0337603409",
   "metadata": {
    "id": "4822797f-3460-460c-ab33-6a0337603409"
   },
   "source": [
    "Make this hyperparameters:\n",
    "* Kernel Size changed to 4\n",
    "* max_len changed to 40\n",
    "* is_mp changed to False\n",
    "* num_heads changed to 4\n",
    "* pad_token changed to 0\n",
    "* hidden_size changed to 128\n",
    "* embedding_size changed to 128\n",
    "* dilations cahnged to [1,4]\n",
    "* weight decay = 0.01"
   ]
  },
  {
   "cell_type": "code",
   "execution_count": 119,
   "id": "3cb4a7ad-c208-40e4-9e32-0381c0f5f7ac",
   "metadata": {
    "id": "3cb4a7ad-c208-40e4-9e32-0381c0f5f7ac",
    "outputId": "f5469104-2beb-4d00-dfcc-98550dc7805d"
   },
   "outputs": [
    {
     "name": "stderr",
     "output_type": "stream",
     "text": [
      "100%|█████████████████████████████████████████████████████████████████████████████| 3295/3295 [00:05<00:00, 597.61it/s]\n"
     ]
    },
    {
     "name": "stdout",
     "output_type": "stream",
     "text": [
      "Index(['user_id', 'item_id', 'age', 'gender', 'like'], dtype='object')\n",
      "+++user_history+++\n"
     ]
    },
    {
     "name": "stderr",
     "output_type": "stream",
     "text": [
      "100%|███████████████████████████████████████████████████████████████████████████| 3295/3295 [00:00<00:00, 42036.81it/s]\n"
     ]
    },
    {
     "name": "stdout",
     "output_type": "stream",
     "text": [
      "++++++++++++++++++++ Train Epoch 1 ++++++++++++++++++++\n",
      "Training CE Loss: 9.42962\n",
      "one epoch train: 61.53581476211548\n",
      "++++++++++++++++++++ Valid Epoch 1 ++++++++++++++++++++\n",
      "{'Recall@20': 0.01888412982225418, 'NDCG@20': tensor(0.0062), 'Recall@5': 0.002957141026854515, 'NDCG@5': tensor(0.0019)}\n",
      "one epoch val: 5.908575773239136\n",
      "++++++++++++++++++++ Train Epoch 2 ++++++++++++++++++++\n",
      "Training CE Loss: 8.83326\n",
      "one epoch train: 61.878111839294434\n",
      "++++++++++++++++++++ Valid Epoch 2 ++++++++++++++++++++\n",
      "{'Recall@20': 0.02037642803043127, 'NDCG@20': tensor(0.0078), 'Recall@5': 0.007949767634272575, 'NDCG@5': tensor(0.0045)}\n",
      "one epoch val: 6.039501905441284\n",
      "++++++++++++++++++++ Train Epoch 3 ++++++++++++++++++++\n",
      "Training CE Loss: 8.71346\n",
      "one epoch train: 59.36562776565552\n",
      "++++++++++++++++++++ Valid Epoch 3 ++++++++++++++++++++\n",
      "{'Recall@20': 0.02485331892967224, 'NDCG@20': tensor(0.0094), 'Recall@5': 0.006430016830563545, 'NDCG@5': tensor(0.0045)}\n",
      "one epoch val: 5.992170095443726\n",
      "++++++++++++++++++++ Train Epoch 4 ++++++++++++++++++++\n",
      "Training CE Loss: 8.65374\n",
      "one epoch train: 62.23625826835632\n",
      "++++++++++++++++++++ Valid Epoch 4 ++++++++++++++++++++\n",
      "{'Recall@20': 0.0223844600841403, 'NDCG@20': tensor(0.0086), 'Recall@5': 0.005941735580563545, 'NDCG@5': tensor(0.0041)}\n",
      "one epoch val: 6.607359886169434\n",
      "++++++++++++++++++++ Train Epoch 5 ++++++++++++++++++++\n",
      "Training CE Loss: 8.59120\n",
      "one epoch train: 60.2810480594635\n",
      "++++++++++++++++++++ Valid Epoch 5 ++++++++++++++++++++\n",
      "{'Recall@20': 0.020321520045399666, 'NDCG@20': tensor(0.0075), 'Recall@5': 0.00694575160741806, 'NDCG@5': tensor(0.0039)}\n",
      "one epoch val: 6.109187602996826\n",
      "++++++++++++++++++++ Train Epoch 6 ++++++++++++++++++++\n",
      "Training CE Loss: 8.49086\n",
      "one epoch train: 61.18494629859924\n",
      "++++++++++++++++++++ Valid Epoch 6 ++++++++++++++++++++\n",
      "{'Recall@20': 0.021298082545399666, 'NDCG@20': tensor(0.0088), 'Recall@5': 0.005941735580563545, 'NDCG@5': tensor(0.0047)}\n",
      "one epoch val: 5.973128795623779\n",
      "++++++++++++++++++++ Train Epoch 7 ++++++++++++++++++++\n",
      "Training CE Loss: 8.33841\n",
      "one epoch train: 60.50260305404663\n",
      "++++++++++++++++++++ Valid Epoch 7 ++++++++++++++++++++\n",
      "{'Recall@20': 0.020809801295399666, 'NDCG@20': tensor(0.0081), 'Recall@5': 0.00689084455370903, 'NDCG@5': tensor(0.0045)}\n",
      "one epoch val: 6.373792886734009\n",
      "++++++++++++++++++++ Train Epoch 8 ++++++++++++++++++++\n",
      "Training CE Loss: 8.11235\n",
      "one epoch train: 61.311896562576294\n",
      "++++++++++++++++++++ Valid Epoch 8 ++++++++++++++++++++\n",
      "{'Recall@20': 0.01432487741112709, 'NDCG@20': tensor(0.0052), 'Recall@5': 0.00444943830370903, 'NDCG@5': tensor(0.0026)}\n",
      "one epoch val: 6.435377597808838\n",
      "++++++++++++++++++++ Train Epoch 9 ++++++++++++++++++++\n",
      "Training CE Loss: 7.80991\n",
      "one epoch train: 61.1794912815094\n",
      "++++++++++++++++++++ Valid Epoch 9 ++++++++++++++++++++\n",
      "{'Recall@20': 0.01389150321483612, 'NDCG@20': tensor(0.0047), 'Recall@5': 0.00244140625, 'NDCG@5': tensor(0.0015)}\n",
      "one epoch val: 6.127498149871826\n",
      "++++++++++++++++++++ Train Epoch 10 ++++++++++++++++++++\n",
      "Training CE Loss: 7.47476\n",
      "one epoch train: 61.30954027175903\n",
      "++++++++++++++++++++ Valid Epoch 10 ++++++++++++++++++++\n",
      "{'Recall@20': 0.013864050153642893, 'NDCG@20': tensor(0.0055), 'Recall@5': 0.00444943830370903, 'NDCG@5': tensor(0.0028)}\n",
      "one epoch val: 7.4057087898254395\n",
      "train_time: 610.7853381633759\n",
      "val_time: 62.9723014831543\n"
     ]
    }
   ],
   "source": [
    "train_dataloader, valid_dataloader, test_dataloader, num_users, num_items, num_embeddings = get_data()\n",
    "num_items, max_len, block_num, num_heads, num_embedding, hidden_size, is_mp, dropout, embedding_size, dilations, kernel_size, pad_token = num_items, 40, 2, 4, num_embeddings, 128, False, 0.3, 128, [1,4], 4, 0\n",
    "model = Peter4Coldstart(embedding_size, block_num, dilations, kernel_size, num_items, num_embedding, is_mp, pad_token)\n",
    "writer = SummaryWriter()\n",
    "Model_1 = SeqTrain(10, model, train_dataloader, valid_dataloader, writer,is_pretrain = 1 ,is_parallel=False, lr = 0.001, weight_decay=0.001, local_rank=1)"
   ]
  },
  {
   "attachments": {},
   "cell_type": "markdown",
   "id": "0d9912c1-7fb3-4deb-8496-8018743bcb0c",
   "metadata": {
    "id": "0d9912c1-7fb3-4deb-8496-8018743bcb0c"
   },
   "source": [
    "large learning rate allows the model to learn faster\n",
    "\n",
    "learning rate changed to 0.01"
   ]
  },
  {
   "cell_type": "code",
   "execution_count": 120,
   "id": "53090d8d-94c7-4f16-b9b1-4eca1aec7f42",
   "metadata": {
    "id": "53090d8d-94c7-4f16-b9b1-4eca1aec7f42",
    "outputId": "a41d99ed-6ce5-4e10-8d9e-5bee07305525"
   },
   "outputs": [
    {
     "name": "stderr",
     "output_type": "stream",
     "text": [
      "100%|█████████████████████████████████████████████████████████████████████████████| 3295/3295 [00:04<00:00, 772.89it/s]\n"
     ]
    },
    {
     "name": "stdout",
     "output_type": "stream",
     "text": [
      "Index(['user_id', 'item_id', 'age', 'gender', 'like'], dtype='object')\n",
      "+++user_history+++\n"
     ]
    },
    {
     "name": "stderr",
     "output_type": "stream",
     "text": [
      "100%|██████████████████████████████████████████████████████████████████████████| 3295/3295 [00:00<00:00, 105064.06it/s]\n"
     ]
    },
    {
     "name": "stdout",
     "output_type": "stream",
     "text": [
      "++++++++++++++++++++ Train Epoch 1 ++++++++++++++++++++\n",
      "Training CE Loss: 9.55398\n",
      "one epoch train: 61.062339782714844\n",
      "++++++++++++++++++++ Valid Epoch 1 ++++++++++++++++++++\n",
      "{'Recall@20': 0.01736437901854515, 'NDCG@20': tensor(0.0066), 'Recall@5': 0.005453454330563545, 'NDCG@5': tensor(0.0033)}\n",
      "one epoch val: 5.94267463684082\n",
      "++++++++++++++++++++ Train Epoch 2 ++++++++++++++++++++\n",
      "Training CE Loss: 9.01438\n",
      "one epoch train: 62.60995078086853\n",
      "++++++++++++++++++++ Valid Epoch 2 ++++++++++++++++++++\n",
      "{'Recall@20': 0.01834094151854515, 'NDCG@20': tensor(0.0064), 'Recall@5': 0.003445422276854515, 'NDCG@5': tensor(0.0023)}\n",
      "one epoch val: 5.901132345199585\n",
      "++++++++++++++++++++ Train Epoch 3 ++++++++++++++++++++\n",
      "Training CE Loss: 8.92776\n",
      "one epoch train: 63.87931299209595\n",
      "++++++++++++++++++++ Valid Epoch 3 ++++++++++++++++++++\n",
      "{'Recall@20': 0.023821850307285786, 'NDCG@20': tensor(0.0087), 'Recall@5': 0.005941735580563545, 'NDCG@5': tensor(0.0039)}\n",
      "one epoch val: 5.957135915756226\n",
      "++++++++++++++++++++ Train Epoch 4 ++++++++++++++++++++\n",
      "Training CE Loss: 8.93396\n",
      "one epoch train: 60.212759017944336\n",
      "++++++++++++++++++++ Valid Epoch 4 ++++++++++++++++++++\n",
      "{'Recall@20': 0.02029406651854515, 'NDCG@20': tensor(0.0077), 'Recall@5': 0.008926330134272575, 'NDCG@5': tensor(0.0048)}\n",
      "one epoch val: 5.977912902832031\n",
      "++++++++++++++++++++ Train Epoch 5 ++++++++++++++++++++\n",
      "Training CE Loss: 8.91266\n",
      "one epoch train: 62.64979100227356\n",
      "++++++++++++++++++++ Valid Epoch 5 ++++++++++++++++++++\n",
      "{'Recall@20': 0.01931750401854515, 'NDCG@20': tensor(0.0074), 'Recall@5': 0.004965173080563545, 'NDCG@5': tensor(0.0035)}\n",
      "one epoch val: 5.75991153717041\n",
      "++++++++++++++++++++ Train Epoch 6 ++++++++++++++++++++\n",
      "Training CE Loss: 8.89434\n",
      "one epoch train: 63.02705788612366\n",
      "++++++++++++++++++++ Valid Epoch 6 ++++++++++++++++++++\n",
      "{'Recall@20': 0.021786363795399666, 'NDCG@20': tensor(0.0082), 'Recall@5': 0.00542600080370903, 'NDCG@5': tensor(0.0037)}\n",
      "one epoch val: 6.129048824310303\n",
      "++++++++++++++++++++ Train Epoch 7 ++++++++++++++++++++\n",
      "Training CE Loss: 8.88113\n",
      "one epoch train: 63.65907335281372\n",
      "++++++++++++++++++++ Valid Epoch 7 ++++++++++++++++++++\n",
      "{'Recall@20': 0.0218961788341403, 'NDCG@20': tensor(0.0082), 'Recall@5': 0.00542600080370903, 'NDCG@5': tensor(0.0037)}\n",
      "one epoch val: 5.995232343673706\n",
      "++++++++++++++++++++ Train Epoch 8 ++++++++++++++++++++\n",
      "Training CE Loss: 8.86848\n",
      "one epoch train: 61.872164726257324\n",
      "++++++++++++++++++++ Valid Epoch 8 ++++++++++++++++++++\n",
      "{'Recall@20': 0.025857334956526756, 'NDCG@20': tensor(0.0100), 'Recall@5': 0.007949767634272575, 'NDCG@5': tensor(0.0051)}\n",
      "one epoch val: 5.909451484680176\n",
      "++++++++++++++++++++ Train Epoch 9 ++++++++++++++++++++\n",
      "Training CE Loss: 8.85475\n",
      "one epoch train: 53.72014546394348\n",
      "++++++++++++++++++++ Valid Epoch 9 ++++++++++++++++++++\n",
      "{'Recall@20': 0.020321520045399666, 'NDCG@20': tensor(0.0073), 'Recall@5': 0.005941735580563545, 'NDCG@5': tensor(0.0034)}\n",
      "one epoch val: 1.8180925846099854\n",
      "++++++++++++++++++++ Train Epoch 10 ++++++++++++++++++++\n",
      "Training CE Loss: 8.86352\n",
      "one epoch train: 57.677289962768555\n",
      "++++++++++++++++++++ Valid Epoch 10 ++++++++++++++++++++\n",
      "{'Recall@20': 0.023333569057285786, 'NDCG@20': tensor(0.0092), 'Recall@5': 0.008926330134272575, 'NDCG@5': tensor(0.0052)}\n",
      "one epoch val: 5.814523696899414\n",
      "train_time: 610.369884967804\n",
      "val_time: 55.205116271972656\n"
     ]
    }
   ],
   "source": [
    "train_dataloader, valid_dataloader, test_dataloader, num_users, num_items, num_embeddings = get_data()\n",
    "num_items, max_len, block_num, num_heads, num_embedding, hidden_size, is_mp, dropout, embedding_size, dilations, kernel_size, pad_token = num_items, 40, 2, 4, num_embeddings, 128, False, 0.3, 128, [1,4], 4, 0\n",
    "model = Peter4Coldstart(embedding_size, block_num, dilations, kernel_size, num_items, num_embedding, is_mp, pad_token)\n",
    "writer = SummaryWriter()\n",
    "Model_2 = SeqTrain(10, model, train_dataloader, valid_dataloader, writer,is_pretrain = 1 ,is_parallel=False, lr = 0.01, weight_decay=0.01, local_rank=1)"
   ]
  },
  {
   "attachments": {},
   "cell_type": "markdown",
   "id": "ddbb5e39",
   "metadata": {
    "id": "ddbb5e39"
   },
   "source": [
    "block_num controls the number of residual blocks in the model, so we will increase it and see the results\n",
    "\n",
    "block_num changed to 3"
   ]
  },
  {
   "cell_type": "code",
   "execution_count": 121,
   "id": "e6168ca2-f445-4b3c-8e19-730556b6bc6a",
   "metadata": {
    "id": "e6168ca2-f445-4b3c-8e19-730556b6bc6a",
    "outputId": "95523ca5-0d1b-48fb-f2b7-a922e15b67f0"
   },
   "outputs": [
    {
     "name": "stderr",
     "output_type": "stream",
     "text": [
      "100%|█████████████████████████████████████████████████████████████████████████████| 3295/3295 [00:03<00:00, 858.73it/s]\n"
     ]
    },
    {
     "name": "stdout",
     "output_type": "stream",
     "text": [
      "Index(['user_id', 'item_id', 'age', 'gender', 'like'], dtype='object')\n",
      "+++user_history+++\n"
     ]
    },
    {
     "name": "stderr",
     "output_type": "stream",
     "text": [
      "100%|████████████████████████████████████████████████████████████████████████████| 3295/3295 [00:00<00:00, 8636.78it/s]\n"
     ]
    },
    {
     "name": "stdout",
     "output_type": "stream",
     "text": [
      "++++++++++++++++++++ Train Epoch 1 ++++++++++++++++++++\n",
      "Training CE Loss: 9.60481\n",
      "one epoch train: 68.95925450325012\n",
      "++++++++++++++++++++ Valid Epoch 1 ++++++++++++++++++++\n",
      "{'Recall@20': 0.020809801295399666, 'NDCG@20': tensor(0.0076), 'Recall@5': 0.00542600080370903, 'NDCG@5': tensor(0.0033)}\n",
      "one epoch val: 6.159334659576416\n",
      "++++++++++++++++++++ Train Epoch 2 ++++++++++++++++++++\n",
      "Training CE Loss: 8.89476\n",
      "one epoch train: 69.71763348579407\n",
      "++++++++++++++++++++ Valid Epoch 2 ++++++++++++++++++++\n",
      "{'Recall@20': 0.018856676295399666, 'NDCG@20': tensor(0.0079), 'Recall@5': 0.007461486384272575, 'NDCG@5': tensor(0.0048)}\n",
      "one epoch val: 5.947126150131226\n",
      "++++++++++++++++++++ Train Epoch 3 ++++++++++++++++++++\n",
      "Training CE Loss: 8.78987\n",
      "one epoch train: 69.864337682724\n",
      "++++++++++++++++++++ Valid Epoch 3 ++++++++++++++++++++\n",
      "{'Recall@20': 0.023821850307285786, 'NDCG@20': tensor(0.0097), 'Recall@5': 0.005453454330563545, 'NDCG@5': tensor(0.0043)}\n",
      "one epoch val: 6.369205713272095\n",
      "++++++++++++++++++++ Train Epoch 4 ++++++++++++++++++++\n",
      "Training CE Loss: 8.75087\n",
      "one epoch train: 68.7800669670105\n",
      "++++++++++++++++++++ Valid Epoch 4 ++++++++++++++++++++\n",
      "{'Recall@20': 0.02637306973338127, 'NDCG@20': tensor(0.0097), 'Recall@5': 0.00694575160741806, 'NDCG@5': tensor(0.0044)}\n",
      "one epoch val: 6.655313014984131\n",
      "++++++++++++++++++++ Train Epoch 5 ++++++++++++++++++++\n",
      "Training CE Loss: 8.71002\n",
      "one epoch train: 68.87751722335815\n",
      "++++++++++++++++++++ Valid Epoch 5 ++++++++++++++++++++\n",
      "{'Recall@20': 0.02034897357225418, 'NDCG@20': tensor(0.0084), 'Recall@5': 0.00694575160741806, 'NDCG@5': tensor(0.0048)}\n",
      "one epoch val: 6.010085821151733\n",
      "++++++++++++++++++++ Train Epoch 6 ++++++++++++++++++++\n",
      "Training CE Loss: 8.65380\n",
      "one epoch train: 67.93314456939697\n",
      "++++++++++++++++++++ Valid Epoch 6 ++++++++++++++++++++\n",
      "{'Recall@20': 0.01988814678043127, 'NDCG@20': tensor(0.0075), 'Recall@5': 0.005453454330563545, 'NDCG@5': tensor(0.0037)}\n",
      "one epoch val: 6.44171404838562\n",
      "++++++++++++++++++++ Train Epoch 7 ++++++++++++++++++++\n",
      "Training CE Loss: 8.54166\n",
      "one epoch train: 72.3342707157135\n",
      "++++++++++++++++++++ Valid Epoch 7 ++++++++++++++++++++\n",
      "{'Recall@20': 0.02387675642967224, 'NDCG@20': tensor(0.0083), 'Recall@5': 0.00444943830370903, 'NDCG@5': tensor(0.0030)}\n",
      "one epoch val: 4.14631724357605\n",
      "++++++++++++++++++++ Train Epoch 8 ++++++++++++++++++++\n",
      "Training CE Loss: 8.33876\n",
      "one epoch train: 68.45896911621094\n",
      "++++++++++++++++++++ Valid Epoch 8 ++++++++++++++++++++\n",
      "{'Recall@20': 0.01888412982225418, 'NDCG@20': tensor(0.0081), 'Recall@5': 0.008981237653642893, 'NDCG@5': tensor(0.0055)}\n",
      "one epoch val: 6.5598602294921875\n",
      "++++++++++++++++++++ Train Epoch 9 ++++++++++++++++++++\n",
      "Training CE Loss: 8.07053\n",
      "one epoch train: 69.86404752731323\n",
      "++++++++++++++++++++ Valid Epoch 9 ++++++++++++++++++++\n",
      "{'Recall@20': 0.01842330303043127, 'NDCG@20': tensor(0.0094), 'Recall@5': 0.00797722116112709, 'NDCG@5': tensor(0.0064)}\n",
      "one epoch val: 6.285661458969116\n",
      "++++++++++++++++++++ Train Epoch 10 ++++++++++++++++++++\n",
      "Training CE Loss: 7.74127\n",
      "one epoch train: 70.22672915458679\n",
      "++++++++++++++++++++ Valid Epoch 10 ++++++++++++++++++++\n",
      "{'Recall@20': 0.01736437901854515, 'NDCG@20': tensor(0.0080), 'Recall@5': 0.00743403285741806, 'NDCG@5': tensor(0.0052)}\n",
      "one epoch val: 6.405535936355591\n",
      "train_time: 695.0159709453583\n",
      "val_time: 60.980154275894165\n"
     ]
    }
   ],
   "source": [
    "train_dataloader, valid_dataloader, test_dataloader, num_users, num_items, num_embeddings = get_data()\n",
    "num_items, max_len, block_num, num_heads, num_embedding, hidden_size, is_mp, dropout, embedding_size, dilations, kernel_size, pad_token = num_items, 40, 3, 4, num_embeddings, 128, False, 0.3, 128, [1,4], 4, 0\n",
    "model = Peter4Coldstart(embedding_size, block_num, dilations, kernel_size, num_items, num_embedding, is_mp, pad_token)\n",
    "writer = SummaryWriter()\n",
    "Model_3 = SeqTrain(10, model, train_dataloader, valid_dataloader, writer,is_pretrain = 1 ,is_parallel=False, lr = 0.001, weight_decay=0.01, local_rank=1)"
   ]
  },
  {
   "attachments": {},
   "cell_type": "markdown",
   "id": "8690b36b",
   "metadata": {
    "id": "8690b36b"
   },
   "source": [
    "As our dataset is large, so an increased dropout rate improved the model accuracy\n",
    "\n",
    "dropout changed to 0.4"
   ]
  },
  {
   "cell_type": "code",
   "execution_count": 122,
   "id": "39ccab6e",
   "metadata": {
    "id": "39ccab6e",
    "outputId": "42aaa814-bf98-4575-b5b6-5be9a237903f"
   },
   "outputs": [
    {
     "name": "stderr",
     "output_type": "stream",
     "text": [
      "100%|█████████████████████████████████████████████████████████████████████████████| 3295/3295 [00:05<00:00, 621.31it/s]\n"
     ]
    },
    {
     "name": "stdout",
     "output_type": "stream",
     "text": [
      "Index(['user_id', 'item_id', 'age', 'gender', 'like'], dtype='object')\n",
      "+++user_history+++\n"
     ]
    },
    {
     "name": "stderr",
     "output_type": "stream",
     "text": [
      "100%|███████████████████████████████████████████████████████████████████████████| 3295/3295 [00:00<00:00, 72754.53it/s]\n",
      "100%|█████████████████████████████████████████████████████████████████████████████| 3295/3295 [00:04<00:00, 773.49it/s]\n"
     ]
    },
    {
     "name": "stdout",
     "output_type": "stream",
     "text": [
      "Index(['user_id', 'item_id', 'age', 'gender', 'like'], dtype='object')\n",
      "+++user_history+++\n"
     ]
    },
    {
     "name": "stderr",
     "output_type": "stream",
     "text": [
      "100%|███████████████████████████████████████████████████████████████████████████| 3295/3295 [00:00<00:00, 99759.14it/s]\n"
     ]
    },
    {
     "name": "stdout",
     "output_type": "stream",
     "text": [
      "++++++++++++++++++++ Train Epoch 1 ++++++++++++++++++++\n",
      "Training CE Loss: 9.60254\n",
      "one epoch train: 73.67381644248962\n",
      "++++++++++++++++++++ Valid Epoch 1 ++++++++++++++++++++\n",
      "{'Recall@20': 0.017336925491690636, 'NDCG@20': tensor(0.0065), 'Recall@5': 0.00548090785741806, 'NDCG@5': tensor(0.0031)}\n",
      "one epoch val: 6.780508041381836\n",
      "++++++++++++++++++++ Train Epoch 2 ++++++++++++++++++++\n",
      "Training CE Loss: 8.89918\n",
      "one epoch train: 71.92739915847778\n",
      "++++++++++++++++++++ Valid Epoch 2 ++++++++++++++++++++\n",
      "{'Recall@20': 0.02232955303043127, 'NDCG@20': tensor(0.0086), 'Recall@5': 0.008383141830563545, 'NDCG@5': tensor(0.0049)}\n",
      "one epoch val: 5.00810432434082\n",
      "++++++++++++++++++++ Train Epoch 3 ++++++++++++++++++++\n",
      "Training CE Loss: 8.79620\n",
      "one epoch train: 59.983744382858276\n",
      "++++++++++++++++++++ Valid Epoch 3 ++++++++++++++++++++\n",
      "{'Recall@20': 0.020321520045399666, 'NDCG@20': tensor(0.0065), 'Recall@5': 0.00341796875, 'NDCG@5': tensor(0.0018)}\n",
      "one epoch val: 4.828795909881592\n",
      "++++++++++++++++++++ Train Epoch 4 ++++++++++++++++++++\n",
      "Training CE Loss: 8.75750\n",
      "one epoch train: 60.163668632507324\n",
      "++++++++++++++++++++ Valid Epoch 4 ++++++++++++++++++++\n",
      "{'Recall@20': 0.01986069232225418, 'NDCG@20': tensor(0.0075), 'Recall@5': 0.00548090785741806, 'NDCG@5': tensor(0.0035)}\n",
      "one epoch val: 4.835740566253662\n",
      "++++++++++++++++++++ Train Epoch 5 ++++++++++++++++++++\n",
      "Training CE Loss: 8.71814\n",
      "one epoch train: 58.63361597061157\n",
      "++++++++++++++++++++ Valid Epoch 5 ++++++++++++++++++++\n",
      "{'Recall@20': 0.018856676295399666, 'NDCG@20': tensor(0.0078), 'Recall@5': 0.00645747035741806, 'NDCG@5': tensor(0.0045)}\n",
      "one epoch val: 4.870305299758911\n",
      "++++++++++++++++++++ Train Epoch 6 ++++++++++++++++++++\n",
      "Training CE Loss: 8.66161\n",
      "one epoch train: 58.1891303062439\n",
      "++++++++++++++++++++ Valid Epoch 6 ++++++++++++++++++++\n",
      "{'Recall@20': 0.019290050491690636, 'NDCG@20': tensor(0.0070), 'Recall@5': 0.00493771955370903, 'NDCG@5': tensor(0.0030)}\n",
      "one epoch val: 5.248653173446655\n",
      "++++++++++++++++++++ Train Epoch 7 ++++++++++++++++++++\n",
      "Training CE Loss: 8.55775\n",
      "one epoch train: 62.454185962677\n",
      "++++++++++++++++++++ Valid Epoch 7 ++++++++++++++++++++\n",
      "{'Recall@20': 0.01741928607225418, 'NDCG@20': tensor(0.0056), 'Recall@5': 0.00249631330370903, 'NDCG@5': tensor(0.0016)}\n",
      "one epoch val: 5.119356632232666\n",
      "++++++++++++++++++++ Train Epoch 8 ++++++++++++++++++++\n",
      "Training CE Loss: 8.35749\n",
      "one epoch train: 66.63553977012634\n",
      "++++++++++++++++++++ Valid Epoch 8 ++++++++++++++++++++\n",
      "{'Recall@20': 0.013375768903642893, 'NDCG@20': tensor(0.0044), 'Recall@5': 0.002468859776854515, 'NDCG@5': tensor(0.0013)}\n",
      "one epoch val: 5.398271083831787\n",
      "++++++++++++++++++++ Train Epoch 9 ++++++++++++++++++++\n",
      "Training CE Loss: 8.06952\n",
      "one epoch train: 66.07359194755554\n",
      "++++++++++++++++++++ Valid Epoch 9 ++++++++++++++++++++\n",
      "{'Recall@20': 0.01486806571483612, 'NDCG@20': tensor(0.0050), 'Recall@5': 0.00444943830370903, 'NDCG@5': tensor(0.0021)}\n",
      "one epoch val: 5.493103504180908\n",
      "++++++++++++++++++++ Train Epoch 10 ++++++++++++++++++++\n",
      "Training CE Loss: 7.72136\n",
      "one epoch train: 63.57796764373779\n",
      "++++++++++++++++++++ Valid Epoch 10 ++++++++++++++++++++\n",
      "{'Recall@20': 0.018801769241690636, 'NDCG@20': tensor(0.0056), 'Recall@5': 0.002468859776854515, 'NDCG@5': tensor(0.0014)}\n",
      "one epoch val: 5.217726469039917\n",
      "train_time: 641.3126602172852\n",
      "val_time: 52.800565004348755\n"
     ]
    }
   ],
   "source": [
    "train_dataloader, valid_dataloader, test_dataloader, num_users, num_items, num_embeddings = get_data()\n",
    "model = Peter4Coldstart(embedding_size, block_num, dilations, kernel_size, num_items, num_embedding, is_mp, pad_token)\n",
    "writer = SummaryWriter()\n",
    "Model_4 = SeqTrain(10, model, train_dataloader, valid_dataloader, writer,is_pretrain = 1 ,is_parallel=False, lr = 0.001, weight_decay=0.01, local_rank=1)"
   ]
  },
  {
   "attachments": {},
   "cell_type": "markdown",
   "id": "de9a9285",
   "metadata": {
    "id": "de9a9285"
   },
   "source": [
    "The parameters of Peter4Coldstart:\n",
    "\n",
    "* embedding_size -> the size of the embedding,\n",
    "\n",
    "* block_num -> controls the number of residual blocks in the model, so we will increase it and see the results,\n",
    "\n",
    "* dilations ->  controls the spacing between the elements of the filter,\n",
    "\n",
    "* kernel_size ->  the width x height of the filter mask,\n",
    "\n",
    "* num_items -> number of items,\n",
    "\n",
    "* num_embedding -> number of embedding,\n",
    "\n",
    "* is_mp -> controls whether or not max pooling is applied after the convolutional layer,\n",
    "\n",
    "* pad_token ->  A special token used to make arrays of tokens the same size for batching purposes.\n",
    "    \n"
   ]
  },
  {
   "attachments": {},
   "cell_type": "markdown",
   "id": "d17208cc",
   "metadata": {
    "id": "d17208cc"
   },
   "source": [
    "This is the architecture for the Peter4Coldstart class:\n",
    "\n",
    "* Residual blocks (which is an important part) are a type of building block used in deep neural networks that allow information to be passed forward through the network more easily.\n",
    "\n",
    "* There are sequence of residual blocks , each residual block has the convolutional layer applies a set of filters to the input sequence.\n",
    "\n",
    "* A fully-connected layer is defined with input size and output size.\n",
    "\n",
    "* A forward method takes in an input sequence , passes it through the embedding layer, and then through the sequence of residual blocks.\n",
    "\n",
    "* The output of the residual blocks is passed through the fully-connected layer to produce the final output sequence.\n",
    "\n",
    "* A predict method takes in an input sequence and an item to predict. It first passes item_seq through the residual blocks to obtain a sequence of embeddings.\n"
   ]
  },
  {
   "attachments": {},
   "cell_type": "markdown",
   "id": "G9IXFGikUj3X",
   "metadata": {
    "id": "G9IXFGikUj3X"
   },
   "source": [
    "Recall@20 -> It measures the fraction of relevant items that are included in the top 20 recommendations\n",
    "\n",
    "Recall@5 -> It measures the fraction of relevant items that are included in the top 5 recommendations\n",
    "\n",
    "NDCG@20 -> It measures the discounted cumulative gain of the top 20 recommendations\n",
    "\n",
    "NDCG@5 -> It measures the discounted cumulative gain of the top 5\n",
    "recommendations\n"
   ]
  },
  {
   "attachments": {},
   "cell_type": "markdown",
   "id": "2FYZz0I7Ujs8",
   "metadata": {
    "id": "2FYZz0I7Ujs8"
   },
   "source": [
    "The best value for the recall & ndcg is when the learning rate = 0.01 & ndcg = 0.0084\n",
    "\n",
    "which means that when the learning rate increases , the Recall and NDCG\n",
    "\n",
    "also, when we increases the number of the epochs , it will affect on the performance of the model and the metrics (but we have limited resources , and that do not hel us alot)"
   ]
  },
  {
   "cell_type": "code",
   "execution_count": 123,
   "id": "e4585121",
   "metadata": {
    "id": "e4585121"
   },
   "outputs": [],
   "source": [
    "import numpy as np\n",
    "from sklearn.metrics import accuracy_score, confusion_matrix, f1_score, recall_score, precision_score\n",
    "\n",
    "def calculate_accuracy(predictions, targets):\n",
    "    return accuracy_score(targets, predictions)\n",
    "\n",
    "def calculate_confusion_matrix(predictions, targets):\n",
    "    return confusion_matrix(targets, predictions)\n",
    "\n",
    "def calculate_f1_score(predictions, targets):\n",
    "    return f1_score(targets, predictions, average='macro')\n",
    "\n",
    "def calculate_recall(predictions, targets):\n",
    "    return recall_score(targets, predictions, average='macro')\n",
    "\n",
    "def calculate_precision(predictions, targets):\n",
    "    return precision_score(targets, predictions, average='macro')\n",
    "\n",
    "def calculate_bias_metrics(predictions, targets, subgroup_attribute):\n",
    "    metrics = {}\n",
    "\n",
    "    unique_subgroups = np.unique(subgroup_attribute)\n",
    "    for subgroup in unique_subgroups:\n",
    "        mask = (subgroup_attribute == subgroup)\n",
    "        subgroup_predictions = predictions[mask]\n",
    "        subgroup_targets = targets[mask]\n",
    "\n",
    "        # Calculate metrics for the subgroup\n",
    "        subgroup_accuracy = calculate_accuracy(subgroup_predictions, subgroup_targets)\n",
    "        subgroup_confusion_matrix = calculate_confusion_matrix(subgroup_predictions, subgroup_targets)\n",
    "        subgroup_f1_score = calculate_f1_score(subgroup_predictions, subgroup_targets)\n",
    "        subgroup_recall = calculate_recall(subgroup_predictions, subgroup_targets)\n",
    "        subgroup_precision = calculate_precision(subgroup_predictions, subgroup_targets)\n",
    "\n",
    "        # Store the metrics in the dictionary\n",
    "        metrics[subgroup] = {\n",
    "            'accuracy': subgroup_accuracy,\n",
    "            'confusion_matrix': subgroup_confusion_matrix,\n",
    "            'f1_score': subgroup_f1_score,\n",
    "            'recall': subgroup_recall,\n",
    "            'precision': subgroup_precision,\n",
    "        }\n",
    "\n",
    "    return metrics"
   ]
  },
  {
   "cell_type": "code",
   "execution_count": 124,
   "id": "48404933",
   "metadata": {},
   "outputs": [],
   "source": [
    "import numpy as np\n",
    "\n",
    "def calculate_odds_ratio(positive_predictions, total_predictions):\n",
    "    return (positive_predictions[0] * total_predictions[1]) / (positive_predictions[1] * total_predictions[0])\n",
    "\n",
    "def calculate_log_odds_ratio(positive_predictions, total_predictions):\n",
    "    odds_ratio = calculate_odds_ratio(positive_predictions, total_predictions)\n",
    "    log_odds_ratio = np.log(odds_ratio)\n",
    "    return log_odds_ratio\n",
    "\n",
    "def measure_bias_with_odds_and_log_odds_ratios(bias_metrics):\n",
    "    odds_and_log_odds_ratios = {}\n",
    "    total_positives = sum(m['confusion_matrix'][1][1] for m in bias_metrics.values() if len(m['confusion_matrix']) > 1 and len(m['confusion_matrix'][0]) > 1)\n",
    "    total_negatives = sum(m['confusion_matrix'][0][0] for m in bias_metrics.values() if len(m['confusion_matrix']) > 0 and len(m['confusion_matrix'][0]) > 0)\n",
    "    total_total_positives = sum(sum(m['confusion_matrix'][1]) for m in bias_metrics.values() if len(m['confusion_matrix']) > 1)\n",
    "    total_total_negatives = sum(sum(m['confusion_matrix'][0]) for m in bias_metrics.values() if len(m['confusion_matrix']) > 0)\n",
    "\n",
    "    for subgroup, metrics in bias_metrics.items():\n",
    "        confusion_matrix = metrics['confusion_matrix']\n",
    "        if len(confusion_matrix) == 1 and len(confusion_matrix[0]) == 1:\n",
    "            # Handle the case when the confusion matrix is [[1]]\n",
    "            subgroup_positives = confusion_matrix[0][0]\n",
    "            subgroup_negatives = 0\n",
    "            subgroup_total_positives = subgroup_positives\n",
    "            subgroup_total_negatives = 0\n",
    "        else:\n",
    "            subgroup_positives = confusion_matrix[1][1] if len(confusion_matrix) > 1 and len(confusion_matrix[0]) > 1 else 0\n",
    "            subgroup_negatives = confusion_matrix[0][0] if len(confusion_matrix) > 0 and len(confusion_matrix[0]) > 0 else 0\n",
    "            subgroup_total_positives = sum(confusion_matrix[1]) if len(confusion_matrix) > 1 else subgroup_positives\n",
    "            subgroup_total_negatives = sum(confusion_matrix[0]) if len(confusion_matrix) > 0 else subgroup_negatives\n",
    "\n",
    "\n",
    "        positive_odds = (subgroup_positives, total_positives)\n",
    "        negative_odds = (subgroup_negatives, total_negatives)\n",
    "        total_positive_odds = (subgroup_total_positives, total_total_positives)\n",
    "        total_negative_odds = (subgroup_total_negatives, total_total_negatives)\n",
    "\n",
    "        subgroup_odds_ratio = calculate_odds_ratio(positive_odds, total_positive_odds)\n",
    "        overall_odds_ratio = calculate_odds_ratio(negative_odds, total_negative_odds)\n",
    "        \n",
    "        positive_odds = (subgroup_positives, total_positives)\n",
    "        negative_odds = (subgroup_negatives, total_negatives)\n",
    "        total_positive_odds = (subgroup_total_positives, total_total_positives)\n",
    "        total_negative_odds = (subgroup_total_negatives, total_total_negatives)\n",
    "\n",
    "        subgroup_log_odds_ratio = calculate_log_odds_ratio(positive_odds, total_positive_odds)\n",
    "        overall_log_odds_ratio = calculate_log_odds_ratio(negative_odds, total_negative_odds)\n",
    "\n",
    "\n",
    "        odds_ratio = calculate_odds_ratio(positive_odds, total_positive_odds)\n",
    "        log_odds_ratio = calculate_log_odds_ratio(positive_odds, total_positive_odds)\n",
    "\n",
    "        odds_and_log_odds_ratios[subgroup] = {\n",
    "            'subgroup_odds_ratio': subgroup_odds_ratio,\n",
    "            'overall_odds_ratio': overall_odds_ratio,\n",
    "            'subgroup_log_odds_ratio': subgroup_log_odds_ratio,\n",
    "            'overall_log_odds_ratio': overall_log_odds_ratio,\n",
    "        }\n",
    "\n",
    "    return odds_and_log_odds_ratios"
   ]
  },
  {
   "cell_type": "code",
   "execution_count": 125,
   "id": "6dcbfec4",
   "metadata": {},
   "outputs": [
    {
     "name": "stderr",
     "output_type": "stream",
     "text": [
      "100%|████████████████████████████████████████████████████████████████████████████████████| 2/2 [00:05<00:00,  2.63s/it]\n",
      "C:\\Users\\hp\\miniconda3\\envs\\mlpr\\Lib\\site-packages\\sklearn\\metrics\\_classification.py:1344: UndefinedMetricWarning: Recall is ill-defined and being set to 0.0 in labels with no true samples. Use `zero_division` parameter to control this behavior.\n",
      "  _warn_prf(average, modifier, msg_start, len(result))\n",
      "C:\\Users\\hp\\miniconda3\\envs\\mlpr\\Lib\\site-packages\\sklearn\\metrics\\_classification.py:1344: UndefinedMetricWarning: Precision is ill-defined and being set to 0.0 in labels with no predicted samples. Use `zero_division` parameter to control this behavior.\n",
      "  _warn_prf(average, modifier, msg_start, len(result))\n",
      "C:\\Users\\hp\\miniconda3\\envs\\mlpr\\Lib\\site-packages\\sklearn\\metrics\\_classification.py:1344: UndefinedMetricWarning: Recall is ill-defined and being set to 0.0 in labels with no true samples. Use `zero_division` parameter to control this behavior.\n",
      "  _warn_prf(average, modifier, msg_start, len(result))\n",
      "C:\\Users\\hp\\miniconda3\\envs\\mlpr\\Lib\\site-packages\\sklearn\\metrics\\_classification.py:1344: UndefinedMetricWarning: Precision is ill-defined and being set to 0.0 in labels with no predicted samples. Use `zero_division` parameter to control this behavior.\n",
      "  _warn_prf(average, modifier, msg_start, len(result))\n",
      "C:\\Users\\hp\\miniconda3\\envs\\mlpr\\Lib\\site-packages\\sklearn\\metrics\\_classification.py:1344: UndefinedMetricWarning: Recall is ill-defined and being set to 0.0 in labels with no true samples. Use `zero_division` parameter to control this behavior.\n",
      "  _warn_prf(average, modifier, msg_start, len(result))\n",
      "C:\\Users\\hp\\miniconda3\\envs\\mlpr\\Lib\\site-packages\\sklearn\\metrics\\_classification.py:1344: UndefinedMetricWarning: Precision is ill-defined and being set to 0.0 in labels with no predicted samples. Use `zero_division` parameter to control this behavior.\n",
      "  _warn_prf(average, modifier, msg_start, len(result))\n",
      "C:\\Users\\hp\\miniconda3\\envs\\mlpr\\Lib\\site-packages\\sklearn\\metrics\\_classification.py:1344: UndefinedMetricWarning: Recall is ill-defined and being set to 0.0 in labels with no true samples. Use `zero_division` parameter to control this behavior.\n",
      "  _warn_prf(average, modifier, msg_start, len(result))\n",
      "C:\\Users\\hp\\miniconda3\\envs\\mlpr\\Lib\\site-packages\\sklearn\\metrics\\_classification.py:1344: UndefinedMetricWarning: Precision is ill-defined and being set to 0.0 in labels with no predicted samples. Use `zero_division` parameter to control this behavior.\n",
      "  _warn_prf(average, modifier, msg_start, len(result))\n",
      "C:\\Users\\hp\\miniconda3\\envs\\mlpr\\Lib\\site-packages\\sklearn\\metrics\\_classification.py:1344: UndefinedMetricWarning: Recall is ill-defined and being set to 0.0 in labels with no true samples. Use `zero_division` parameter to control this behavior.\n",
      "  _warn_prf(average, modifier, msg_start, len(result))\n",
      "C:\\Users\\hp\\miniconda3\\envs\\mlpr\\Lib\\site-packages\\sklearn\\metrics\\_classification.py:1344: UndefinedMetricWarning: Precision is ill-defined and being set to 0.0 in labels with no predicted samples. Use `zero_division` parameter to control this behavior.\n",
      "  _warn_prf(average, modifier, msg_start, len(result))\n",
      "C:\\Users\\hp\\miniconda3\\envs\\mlpr\\Lib\\site-packages\\sklearn\\metrics\\_classification.py:1344: UndefinedMetricWarning: Recall is ill-defined and being set to 0.0 in labels with no true samples. Use `zero_division` parameter to control this behavior.\n",
      "  _warn_prf(average, modifier, msg_start, len(result))\n",
      "C:\\Users\\hp\\miniconda3\\envs\\mlpr\\Lib\\site-packages\\sklearn\\metrics\\_classification.py:1344: UndefinedMetricWarning: Precision is ill-defined and being set to 0.0 in labels with no predicted samples. Use `zero_division` parameter to control this behavior.\n",
      "  _warn_prf(average, modifier, msg_start, len(result))\n",
      "C:\\Users\\hp\\miniconda3\\envs\\mlpr\\Lib\\site-packages\\sklearn\\metrics\\_classification.py:1344: UndefinedMetricWarning: Recall is ill-defined and being set to 0.0 in labels with no true samples. Use `zero_division` parameter to control this behavior.\n",
      "  _warn_prf(average, modifier, msg_start, len(result))\n",
      "C:\\Users\\hp\\miniconda3\\envs\\mlpr\\Lib\\site-packages\\sklearn\\metrics\\_classification.py:1344: UndefinedMetricWarning: Precision is ill-defined and being set to 0.0 in labels with no predicted samples. Use `zero_division` parameter to control this behavior.\n",
      "  _warn_prf(average, modifier, msg_start, len(result))\n",
      "C:\\Users\\hp\\miniconda3\\envs\\mlpr\\Lib\\site-packages\\sklearn\\metrics\\_classification.py:1344: UndefinedMetricWarning: Recall is ill-defined and being set to 0.0 in labels with no true samples. Use `zero_division` parameter to control this behavior.\n",
      "  _warn_prf(average, modifier, msg_start, len(result))\n",
      "C:\\Users\\hp\\miniconda3\\envs\\mlpr\\Lib\\site-packages\\sklearn\\metrics\\_classification.py:1344: UndefinedMetricWarning: Precision is ill-defined and being set to 0.0 in labels with no predicted samples. Use `zero_division` parameter to control this behavior.\n",
      "  _warn_prf(average, modifier, msg_start, len(result))\n",
      "C:\\Users\\hp\\miniconda3\\envs\\mlpr\\Lib\\site-packages\\sklearn\\metrics\\_classification.py:1344: UndefinedMetricWarning: Recall is ill-defined and being set to 0.0 in labels with no true samples. Use `zero_division` parameter to control this behavior.\n",
      "  _warn_prf(average, modifier, msg_start, len(result))\n",
      "C:\\Users\\hp\\miniconda3\\envs\\mlpr\\Lib\\site-packages\\sklearn\\metrics\\_classification.py:1344: UndefinedMetricWarning: Precision is ill-defined and being set to 0.0 in labels with no predicted samples. Use `zero_division` parameter to control this behavior.\n",
      "  _warn_prf(average, modifier, msg_start, len(result))\n"
     ]
    },
    {
     "name": "stdout",
     "output_type": "stream",
     "text": [
      "Bias Metrics for Age Subgroups in Model :\n",
      "{1.0: {'accuracy': 0.0, 'confusion_matrix': array([[0, 0, 0, ..., 0, 0, 0],\n",
      "       [1, 0, 0, ..., 0, 0, 0],\n",
      "       [1, 0, 0, ..., 0, 0, 0],\n",
      "       ...,\n",
      "       [1, 0, 0, ..., 0, 0, 0],\n",
      "       [1, 0, 0, ..., 0, 0, 0],\n",
      "       [1, 0, 0, ..., 0, 0, 0]], dtype=int64), 'f1_score': 0.0, 'recall': 0.0, 'precision': 0.0}, 2.0: {'accuracy': 0.0, 'confusion_matrix': array([[0, 0, 0, ..., 0, 0, 0],\n",
      "       [2, 0, 0, ..., 0, 0, 0],\n",
      "       [1, 0, 0, ..., 0, 0, 0],\n",
      "       ...,\n",
      "       [1, 0, 0, ..., 0, 0, 0],\n",
      "       [1, 0, 0, ..., 0, 0, 0],\n",
      "       [1, 0, 0, ..., 0, 0, 0]], dtype=int64), 'f1_score': 0.0, 'recall': 0.0, 'precision': 0.0}, 3.0: {'accuracy': 0.0, 'confusion_matrix': array([[0, 0, 0, ..., 0, 0, 0],\n",
      "       [1, 0, 0, ..., 0, 0, 0],\n",
      "       [1, 0, 0, ..., 0, 0, 0],\n",
      "       ...,\n",
      "       [1, 0, 0, ..., 0, 0, 0],\n",
      "       [1, 0, 0, ..., 0, 0, 0],\n",
      "       [1, 0, 0, ..., 0, 0, 0]], dtype=int64), 'f1_score': 0.0, 'recall': 0.0, 'precision': 0.0}, 4.0: {'accuracy': 0.0, 'confusion_matrix': array([[0, 0, 0, ..., 0, 0, 0],\n",
      "       [1, 0, 0, ..., 0, 0, 0],\n",
      "       [1, 0, 0, ..., 0, 0, 0],\n",
      "       ...,\n",
      "       [1, 0, 0, ..., 0, 0, 0],\n",
      "       [1, 0, 0, ..., 0, 0, 0],\n",
      "       [1, 0, 0, ..., 0, 0, 0]], dtype=int64), 'f1_score': 0.0, 'recall': 0.0, 'precision': 0.0}, 5.0: {'accuracy': 0.0, 'confusion_matrix': array([[0, 0, 0, ..., 0, 0, 0],\n",
      "       [1, 0, 0, ..., 0, 0, 0],\n",
      "       [1, 0, 0, ..., 0, 0, 0],\n",
      "       ...,\n",
      "       [1, 0, 0, ..., 0, 0, 0],\n",
      "       [1, 0, 0, ..., 0, 0, 0],\n",
      "       [1, 0, 0, ..., 0, 0, 0]], dtype=int64), 'f1_score': 0.0, 'recall': 0.0, 'precision': 0.0}, 6.0: {'accuracy': 0.0, 'confusion_matrix': array([[0, 0, 0, 0, 0, 0, 0, 0, 0, 0, 0, 0, 0, 0],\n",
      "       [1, 0, 0, 0, 0, 0, 0, 0, 0, 0, 0, 0, 0, 0],\n",
      "       [1, 0, 0, 0, 0, 0, 0, 0, 0, 0, 0, 0, 0, 0],\n",
      "       [1, 0, 0, 0, 0, 0, 0, 0, 0, 0, 0, 0, 0, 0],\n",
      "       [1, 0, 0, 0, 0, 0, 0, 0, 0, 0, 0, 0, 0, 0],\n",
      "       [1, 0, 0, 0, 0, 0, 0, 0, 0, 0, 0, 0, 0, 0],\n",
      "       [1, 0, 0, 0, 0, 0, 0, 0, 0, 0, 0, 0, 0, 0],\n",
      "       [1, 0, 0, 0, 0, 0, 0, 0, 0, 0, 0, 0, 0, 0],\n",
      "       [1, 0, 0, 0, 0, 0, 0, 0, 0, 0, 0, 0, 0, 0],\n",
      "       [1, 0, 0, 0, 0, 0, 0, 0, 0, 0, 0, 0, 0, 0],\n",
      "       [1, 0, 0, 0, 0, 0, 0, 0, 0, 0, 0, 0, 0, 0],\n",
      "       [1, 0, 0, 0, 0, 0, 0, 0, 0, 0, 0, 0, 0, 0],\n",
      "       [1, 0, 0, 0, 0, 0, 0, 0, 0, 0, 0, 0, 0, 0],\n",
      "       [1, 0, 0, 0, 0, 0, 0, 0, 0, 0, 0, 0, 0, 0]], dtype=int64), 'f1_score': 0.0, 'recall': 0.0, 'precision': 0.0}, 7.0: {'accuracy': 0.0, 'confusion_matrix': array([[0, 0, 0],\n",
      "       [1, 0, 0],\n",
      "       [1, 0, 0]], dtype=int64), 'f1_score': 0.0, 'recall': 0.0, 'precision': 0.0}}\n",
      "Bias Metrics for Gender Subgroups in Model:\n",
      "{1.0: {'accuracy': 0.0, 'confusion_matrix': array([[0, 0, 0, ..., 0, 0, 0],\n",
      "       [2, 0, 0, ..., 0, 0, 0],\n",
      "       [1, 0, 0, ..., 0, 0, 0],\n",
      "       ...,\n",
      "       [1, 0, 0, ..., 0, 0, 0],\n",
      "       [1, 0, 0, ..., 0, 0, 0],\n",
      "       [1, 0, 0, ..., 0, 0, 0]], dtype=int64), 'f1_score': 0.0, 'recall': 0.0, 'precision': 0.0}, 2.0: {'accuracy': 0.0, 'confusion_matrix': array([[0, 0, 0, ..., 0, 0, 0],\n",
      "       [1, 0, 0, ..., 0, 0, 0],\n",
      "       [1, 0, 0, ..., 0, 0, 0],\n",
      "       ...,\n",
      "       [1, 0, 0, ..., 0, 0, 0],\n",
      "       [1, 0, 0, ..., 0, 0, 0],\n",
      "       [1, 0, 0, ..., 0, 0, 0]], dtype=int64), 'f1_score': 0.0, 'recall': 0.0, 'precision': 0.0}}\n"
     ]
    }
   ],
   "source": [
    "# Evaluate the models on the test dataset to get the predictions, the test data for each model will be similar to the one used\n",
    "# during the evaluation above, so it will be each models target data. The only reason is so that we have access to the predicted\n",
    "# labels.\n",
    "Model_1.eval()\n",
    "\n",
    "with torch.no_grad():\n",
    "    all_predictions_model_1 = []  # Empty list to hold all predictions\n",
    "    for data in tqdm(test_dataloader):\n",
    "        data = [x.to('cpu') for x in data]\n",
    "        seqs, labels = data\n",
    "        test_predictions_model_1 = Model_1.predict(seqs, labels)\n",
    "        all_predictions_model_1.append(test_predictions_model_1)\n",
    "\n",
    "# Concatenate all predictions into a single tensor\n",
    "all_predictions_model_1 = torch.cat(all_predictions_model_1, dim=0)\n",
    "    \n",
    "# Convert the predictions to class labels (assuming multi-class classification)\n",
    "all_test_predictions_labels_model_1 = torch.argmax(all_predictions_model_1, dim=1).numpy()\n",
    "\n",
    "# Calculate bias metrics for age and gender subgroups\n",
    "age_bias_metrics_model_1 = calculate_bias_metrics(all_test_predictions_labels_model_1, y_test_for_bias_later[4], x_test_for_bias_later[0]['age'])\n",
    "gender_bias_metrics_model_1 = calculate_bias_metrics(all_test_predictions_labels_model_1, y_test_for_bias_later[4], x_test_for_bias_later[0]['gender'])\n",
    "\n",
    "print(\"Bias Metrics for Age Subgroups in Model :\")\n",
    "print(age_bias_metrics_model_1)\n",
    "\n",
    "print(\"Bias Metrics for Gender Subgroups in Model:\")\n",
    "print(gender_bias_metrics_model_1)"
   ]
  },
  {
   "cell_type": "code",
   "execution_count": 126,
   "id": "44f52cad",
   "metadata": {},
   "outputs": [
    {
     "name": "stdout",
     "output_type": "stream",
     "text": [
      "Ratios for Age Subgroups in Model :\n",
      "{1.0: {'subgroup_odds_ratio': nan, 'overall_odds_ratio': nan, 'subgroup_log_odds_ratio': nan, 'overall_log_odds_ratio': nan}, 2.0: {'subgroup_odds_ratio': nan, 'overall_odds_ratio': nan, 'subgroup_log_odds_ratio': nan, 'overall_log_odds_ratio': nan}, 3.0: {'subgroup_odds_ratio': nan, 'overall_odds_ratio': nan, 'subgroup_log_odds_ratio': nan, 'overall_log_odds_ratio': nan}, 4.0: {'subgroup_odds_ratio': nan, 'overall_odds_ratio': nan, 'subgroup_log_odds_ratio': nan, 'overall_log_odds_ratio': nan}, 5.0: {'subgroup_odds_ratio': nan, 'overall_odds_ratio': nan, 'subgroup_log_odds_ratio': nan, 'overall_log_odds_ratio': nan}, 6.0: {'subgroup_odds_ratio': nan, 'overall_odds_ratio': nan, 'subgroup_log_odds_ratio': nan, 'overall_log_odds_ratio': nan}, 7.0: {'subgroup_odds_ratio': nan, 'overall_odds_ratio': nan, 'subgroup_log_odds_ratio': nan, 'overall_log_odds_ratio': nan}}\n",
      "Ratios for Gender Subgroups in Model :\n",
      "{1.0: {'subgroup_odds_ratio': nan, 'overall_odds_ratio': nan, 'subgroup_log_odds_ratio': nan, 'overall_log_odds_ratio': nan}, 2.0: {'subgroup_odds_ratio': nan, 'overall_odds_ratio': nan, 'subgroup_log_odds_ratio': nan, 'overall_log_odds_ratio': nan}}\n"
     ]
    },
    {
     "name": "stderr",
     "output_type": "stream",
     "text": [
      "C:\\Users\\hp\\AppData\\Local\\Temp\\ipykernel_13276\\3935102233.py:4: RuntimeWarning: invalid value encountered in scalar divide\n",
      "  return (positive_predictions[0] * total_predictions[1]) / (positive_predictions[1] * total_predictions[0])\n"
     ]
    }
   ],
   "source": [
    "# Measure bias using log odds ratios\n",
    "age_ratios_1 = measure_bias_with_odds_and_log_odds_ratios(age_bias_metrics_model_1)\n",
    "gender_ratios_1 = measure_bias_with_odds_and_log_odds_ratios(gender_bias_metrics_model_1)\n",
    "\n",
    "print(\"Ratios for Age Subgroups in Model :\")\n",
    "print(age_ratios_1)\n",
    "\n",
    "print(\"Ratios for Gender Subgroups in Model :\")\n",
    "print(gender_ratios_1)"
   ]
  },
  {
   "cell_type": "code",
   "execution_count": 135,
   "id": "55c02986",
   "metadata": {},
   "outputs": [
    {
     "name": "stderr",
     "output_type": "stream",
     "text": [
      "100%|████████████████████████████████████████████████████████████████████████████████████| 2/2 [00:04<00:00,  2.40s/it]"
     ]
    },
    {
     "name": "stdout",
     "output_type": "stream",
     "text": [
      "Bias Metrics for Age Subgroups in Model :\n",
      "{1.0: {'accuracy': 1.0, 'confusion_matrix': array([[1, 0, 0, ..., 0, 0, 0],\n",
      "       [0, 1, 0, ..., 0, 0, 0],\n",
      "       [0, 0, 1, ..., 0, 0, 0],\n",
      "       ...,\n",
      "       [0, 0, 0, ..., 1, 0, 0],\n",
      "       [0, 0, 0, ..., 0, 1, 0],\n",
      "       [0, 0, 0, ..., 0, 0, 1]], dtype=int64), 'f1_score': 1.0, 'recall': 1.0, 'precision': 1.0}, 2.0: {'accuracy': 0.9960629921259843, 'confusion_matrix': array([[0, 0, 0, ..., 0, 0, 0],\n",
      "       [0, 2, 0, ..., 0, 0, 0],\n",
      "       [0, 0, 1, ..., 0, 0, 0],\n",
      "       ...,\n",
      "       [0, 0, 0, ..., 1, 0, 0],\n",
      "       [0, 0, 0, ..., 0, 1, 0],\n",
      "       [0, 0, 0, ..., 0, 0, 1]], dtype=int64), 'f1_score': 0.9943661971830986, 'recall': 0.9943661971830986, 'precision': 0.9943661971830986}, 3.0: {'accuracy': 0.9911504424778761, 'confusion_matrix': array([[0, 0, 0, ..., 0, 0, 0],\n",
      "       [0, 1, 0, ..., 0, 0, 0],\n",
      "       [0, 0, 1, ..., 0, 0, 0],\n",
      "       ...,\n",
      "       [0, 0, 0, ..., 1, 0, 0],\n",
      "       [0, 0, 0, ..., 0, 1, 0],\n",
      "       [0, 0, 0, ..., 0, 0, 1]], dtype=int64), 'f1_score': 0.9818181818181818, 'recall': 0.9818181818181818, 'precision': 0.9818181818181818}, 4.0: {'accuracy': 1.0, 'confusion_matrix': array([[1, 0, 0, ..., 0, 0, 0],\n",
      "       [0, 1, 0, ..., 0, 0, 0],\n",
      "       [0, 0, 1, ..., 0, 0, 0],\n",
      "       ...,\n",
      "       [0, 0, 0, ..., 1, 0, 0],\n",
      "       [0, 0, 0, ..., 0, 1, 0],\n",
      "       [0, 0, 0, ..., 0, 0, 1]], dtype=int64), 'f1_score': 1.0, 'recall': 1.0, 'precision': 1.0}, 5.0: {'accuracy': 1.0, 'confusion_matrix': array([[1, 0, 0, ..., 0, 0, 0],\n",
      "       [0, 1, 0, ..., 0, 0, 0],\n",
      "       [0, 0, 1, ..., 0, 0, 0],\n",
      "       ...,\n",
      "       [0, 0, 0, ..., 1, 0, 0],\n",
      "       [0, 0, 0, ..., 0, 1, 0],\n",
      "       [0, 0, 0, ..., 0, 0, 1]], dtype=int64), 'f1_score': 1.0, 'recall': 1.0, 'precision': 1.0}, 6.0: {'accuracy': 1.0, 'confusion_matrix': array([[1, 0, 0, 0, 0, 0, 0, 0, 0, 0, 0, 0, 0],\n",
      "       [0, 1, 0, 0, 0, 0, 0, 0, 0, 0, 0, 0, 0],\n",
      "       [0, 0, 1, 0, 0, 0, 0, 0, 0, 0, 0, 0, 0],\n",
      "       [0, 0, 0, 1, 0, 0, 0, 0, 0, 0, 0, 0, 0],\n",
      "       [0, 0, 0, 0, 1, 0, 0, 0, 0, 0, 0, 0, 0],\n",
      "       [0, 0, 0, 0, 0, 1, 0, 0, 0, 0, 0, 0, 0],\n",
      "       [0, 0, 0, 0, 0, 0, 1, 0, 0, 0, 0, 0, 0],\n",
      "       [0, 0, 0, 0, 0, 0, 0, 1, 0, 0, 0, 0, 0],\n",
      "       [0, 0, 0, 0, 0, 0, 0, 0, 1, 0, 0, 0, 0],\n",
      "       [0, 0, 0, 0, 0, 0, 0, 0, 0, 1, 0, 0, 0],\n",
      "       [0, 0, 0, 0, 0, 0, 0, 0, 0, 0, 1, 0, 0],\n",
      "       [0, 0, 0, 0, 0, 0, 0, 0, 0, 0, 0, 1, 0],\n",
      "       [0, 0, 0, 0, 0, 0, 0, 0, 0, 0, 0, 0, 1]], dtype=int64), 'f1_score': 1.0, 'recall': 1.0, 'precision': 1.0}, 7.0: {'accuracy': 1.0, 'confusion_matrix': array([[1, 0],\n",
      "       [0, 1]], dtype=int64), 'f1_score': 1.0, 'recall': 1.0, 'precision': 1.0}}\n",
      "Bias Metrics for Gender Subgroups in Model :\n",
      "{1.0: {'accuracy': 0.9985250737463127, 'confusion_matrix': array([[0, 0, 0, ..., 0, 0, 0],\n",
      "       [0, 2, 0, ..., 0, 0, 0],\n",
      "       [0, 0, 1, ..., 0, 0, 0],\n",
      "       ...,\n",
      "       [0, 0, 0, ..., 1, 0, 0],\n",
      "       [0, 0, 0, ..., 0, 1, 0],\n",
      "       [0, 0, 0, ..., 0, 0, 1]], dtype=int64), 'f1_score': 0.9969135802469136, 'recall': 0.9969135802469136, 'precision': 0.9969135802469136}, 2.0: {'accuracy': 0.9964454976303317, 'confusion_matrix': array([[0, 0, 0, ..., 0, 0, 0],\n",
      "       [0, 1, 0, ..., 0, 0, 0],\n",
      "       [0, 0, 1, ..., 0, 0, 0],\n",
      "       ...,\n",
      "       [0, 0, 0, ..., 1, 0, 0],\n",
      "       [0, 0, 0, ..., 0, 1, 0],\n",
      "       [0, 0, 0, ..., 0, 0, 1]], dtype=int64), 'f1_score': 0.9947712418300654, 'recall': 0.9947712418300654, 'precision': 0.9947712418300654}}\n"
     ]
    },
    {
     "name": "stderr",
     "output_type": "stream",
     "text": [
      "\n",
      "C:\\Users\\hp\\miniconda3\\envs\\mlpr\\Lib\\site-packages\\sklearn\\metrics\\_classification.py:1344: UndefinedMetricWarning: Recall is ill-defined and being set to 0.0 in labels with no true samples. Use `zero_division` parameter to control this behavior.\n",
      "  _warn_prf(average, modifier, msg_start, len(result))\n",
      "C:\\Users\\hp\\miniconda3\\envs\\mlpr\\Lib\\site-packages\\sklearn\\metrics\\_classification.py:1344: UndefinedMetricWarning: Precision is ill-defined and being set to 0.0 in labels with no predicted samples. Use `zero_division` parameter to control this behavior.\n",
      "  _warn_prf(average, modifier, msg_start, len(result))\n",
      "C:\\Users\\hp\\miniconda3\\envs\\mlpr\\Lib\\site-packages\\sklearn\\metrics\\_classification.py:1344: UndefinedMetricWarning: Recall is ill-defined and being set to 0.0 in labels with no true samples. Use `zero_division` parameter to control this behavior.\n",
      "  _warn_prf(average, modifier, msg_start, len(result))\n",
      "C:\\Users\\hp\\miniconda3\\envs\\mlpr\\Lib\\site-packages\\sklearn\\metrics\\_classification.py:1344: UndefinedMetricWarning: Precision is ill-defined and being set to 0.0 in labels with no predicted samples. Use `zero_division` parameter to control this behavior.\n",
      "  _warn_prf(average, modifier, msg_start, len(result))\n",
      "C:\\Users\\hp\\miniconda3\\envs\\mlpr\\Lib\\site-packages\\sklearn\\metrics\\_classification.py:1344: UndefinedMetricWarning: Recall is ill-defined and being set to 0.0 in labels with no true samples. Use `zero_division` parameter to control this behavior.\n",
      "  _warn_prf(average, modifier, msg_start, len(result))\n",
      "C:\\Users\\hp\\miniconda3\\envs\\mlpr\\Lib\\site-packages\\sklearn\\metrics\\_classification.py:1344: UndefinedMetricWarning: Precision is ill-defined and being set to 0.0 in labels with no predicted samples. Use `zero_division` parameter to control this behavior.\n",
      "  _warn_prf(average, modifier, msg_start, len(result))\n",
      "C:\\Users\\hp\\miniconda3\\envs\\mlpr\\Lib\\site-packages\\sklearn\\metrics\\_classification.py:1344: UndefinedMetricWarning: Recall is ill-defined and being set to 0.0 in labels with no true samples. Use `zero_division` parameter to control this behavior.\n",
      "  _warn_prf(average, modifier, msg_start, len(result))\n",
      "C:\\Users\\hp\\miniconda3\\envs\\mlpr\\Lib\\site-packages\\sklearn\\metrics\\_classification.py:1344: UndefinedMetricWarning: Precision is ill-defined and being set to 0.0 in labels with no predicted samples. Use `zero_division` parameter to control this behavior.\n",
      "  _warn_prf(average, modifier, msg_start, len(result))\n"
     ]
    }
   ],
   "source": [
    "Model_2.eval()\n",
    "with torch.no_grad():\n",
    "    all_predictions_model_2 = []  # Empty list to hold all predictions\n",
    "    for data in tqdm(test_dataloader):\n",
    "        data = [x.to('cpu') for x in data]\n",
    "        seqs, labels = data\n",
    "        test_predictions_model_2 = Model_2.predict(seqs, labels)\n",
    "        all_predictions_model_2.append(test_predictions_model_2)\n",
    "\n",
    "# Concatenate all predictions into a single tensor\n",
    "all_predictions_model_2 = torch.cat(all_predictions_model_2, dim=0)\n",
    "    \n",
    "# Convert the predictions to class labels (assuming multi-class classification)\n",
    "all_test_predictions_labels_model_2 = torch.argmax(all_predictions_model_2, dim=1).numpy()\n",
    "\n",
    "# Calculate bias metrics for age and gender subgroups\n",
    "age_bias_metrics_model_2 = calculate_bias_metrics(all_test_predictions_labels_model_2, y_test_for_bias_later[5], x_test_for_bias_later[1]['age'])\n",
    "gender_bias_metrics_model_2 = calculate_bias_metrics(all_test_predictions_labels_model_2, y_test_for_bias_later[5], x_test_for_bias_later[1]['gender'])\n",
    "\n",
    "print(\"Bias Metrics for Age Subgroups in Model :\")\n",
    "print(age_bias_metrics_model_2)\n",
    "\n",
    "print(\"Bias Metrics for Gender Subgroups in Model :\")\n",
    "print(gender_bias_metrics_model_2)"
   ]
  },
  {
   "cell_type": "code",
   "execution_count": 136,
   "id": "26f042e3",
   "metadata": {},
   "outputs": [
    {
     "name": "stdout",
     "output_type": "stream",
     "text": [
      "Ratios for Age Subgroups in Model :\n",
      "{1.0: {'subgroup_odds_ratio': 1.0, 'overall_odds_ratio': 1.0, 'subgroup_log_odds_ratio': 0.0, 'overall_log_odds_ratio': 0.0}, 2.0: {'subgroup_odds_ratio': 1.0, 'overall_odds_ratio': nan, 'subgroup_log_odds_ratio': 0.0, 'overall_log_odds_ratio': nan}, 3.0: {'subgroup_odds_ratio': 1.0, 'overall_odds_ratio': nan, 'subgroup_log_odds_ratio': 0.0, 'overall_log_odds_ratio': nan}, 4.0: {'subgroup_odds_ratio': 1.0, 'overall_odds_ratio': 1.0, 'subgroup_log_odds_ratio': 0.0, 'overall_log_odds_ratio': 0.0}, 5.0: {'subgroup_odds_ratio': 1.0, 'overall_odds_ratio': 1.0, 'subgroup_log_odds_ratio': 0.0, 'overall_log_odds_ratio': 0.0}, 6.0: {'subgroup_odds_ratio': 1.0, 'overall_odds_ratio': 1.0, 'subgroup_log_odds_ratio': 0.0, 'overall_log_odds_ratio': 0.0}, 7.0: {'subgroup_odds_ratio': 1.0, 'overall_odds_ratio': 1.0, 'subgroup_log_odds_ratio': 0.0, 'overall_log_odds_ratio': 0.0}}\n",
      "Ratios for Gender Subgroups in Model :\n",
      "{1.0: {'subgroup_odds_ratio': 1.0, 'overall_odds_ratio': nan, 'subgroup_log_odds_ratio': 0.0, 'overall_log_odds_ratio': nan}, 2.0: {'subgroup_odds_ratio': 1.0, 'overall_odds_ratio': nan, 'subgroup_log_odds_ratio': 0.0, 'overall_log_odds_ratio': nan}}\n"
     ]
    },
    {
     "name": "stderr",
     "output_type": "stream",
     "text": [
      "C:\\Users\\hp\\AppData\\Local\\Temp\\ipykernel_13276\\3935102233.py:4: RuntimeWarning: invalid value encountered in scalar divide\n",
      "  return (positive_predictions[0] * total_predictions[1]) / (positive_predictions[1] * total_predictions[0])\n"
     ]
    }
   ],
   "source": [
    "# Measure bias using log odds ratios\n",
    "age_ratios_2 = measure_bias_with_odds_and_log_odds_ratios(age_bias_metrics_model_2)\n",
    "gender_ratios_2 = measure_bias_with_odds_and_log_odds_ratios(gender_bias_metrics_model_2)\n",
    "\n",
    "print(\"Ratios for Age Subgroups in Model :\")\n",
    "print(age_ratios_2)\n",
    "\n",
    "print(\"Ratios for Gender Subgroups in Model :\")\n",
    "print(gender_ratios_2)"
   ]
  },
  {
   "cell_type": "code",
   "execution_count": 137,
   "id": "be747d21",
   "metadata": {},
   "outputs": [
    {
     "name": "stderr",
     "output_type": "stream",
     "text": [
      "100%|████████████████████████████████████████████████████████████████████████████████████| 2/2 [00:04<00:00,  2.39s/it]"
     ]
    },
    {
     "name": "stdout",
     "output_type": "stream",
     "text": [
      "Bias Metrics for Age Subgroups in Model On Seventy Percent Cold Data:\n",
      "{1.0: {'accuracy': 0.12218045112781954, 'confusion_matrix': array([[0, 0, 0, ..., 0, 0, 0],\n",
      "       [1, 0, 0, ..., 0, 0, 0],\n",
      "       [1, 0, 0, ..., 0, 0, 0],\n",
      "       ...,\n",
      "       [1, 0, 0, ..., 0, 0, 0],\n",
      "       [1, 0, 0, ..., 0, 0, 0],\n",
      "       [1, 0, 0, ..., 0, 0, 0]], dtype=int64), 'f1_score': 0.1254158349966733, 'recall': 0.12341982701264137, 'precision': 0.12974051896207583}, 2.0: {'accuracy': 0.21916010498687663, 'confusion_matrix': array([[0, 0, 0, ..., 0, 0, 0],\n",
      "       [2, 0, 0, ..., 0, 0, 0],\n",
      "       [1, 0, 0, ..., 0, 0, 0],\n",
      "       ...,\n",
      "       [1, 0, 0, ..., 0, 0, 0],\n",
      "       [1, 0, 0, ..., 0, 0, 0],\n",
      "       [1, 0, 0, ..., 0, 0, 0]], dtype=int64), 'f1_score': 0.22300469483568078, 'recall': 0.21901408450704227, 'precision': 0.23098591549295774}, 3.0: {'accuracy': 0.1415929203539823, 'confusion_matrix': array([[0, 0, 0, ..., 0, 0, 0],\n",
      "       [1, 0, 0, ..., 0, 0, 0],\n",
      "       [1, 0, 0, ..., 0, 0, 0],\n",
      "       ...,\n",
      "       [0, 0, 0, ..., 1, 0, 0],\n",
      "       [1, 0, 0, ..., 0, 0, 0],\n",
      "       [1, 0, 0, ..., 0, 0, 0]], dtype=int64), 'f1_score': 0.14545454545454545, 'recall': 0.14545454545454545, 'precision': 0.14545454545454545}, 4.0: {'accuracy': 0.07352941176470588, 'confusion_matrix': array([[0, 0, 0, ..., 0, 0, 0],\n",
      "       [1, 0, 0, ..., 0, 0, 0],\n",
      "       [1, 0, 0, ..., 0, 0, 0],\n",
      "       ...,\n",
      "       [1, 0, 0, ..., 0, 0, 0],\n",
      "       [1, 0, 0, ..., 0, 0, 0],\n",
      "       [1, 0, 0, ..., 0, 0, 0]], dtype=int64), 'f1_score': 0.07246376811594203, 'recall': 0.07246376811594203, 'precision': 0.07246376811594203}, 5.0: {'accuracy': 0.125, 'confusion_matrix': array([[0, 0, 0, ..., 0, 0, 0],\n",
      "       [1, 0, 0, ..., 0, 0, 0],\n",
      "       [1, 0, 0, ..., 0, 0, 0],\n",
      "       ...,\n",
      "       [1, 0, 0, ..., 0, 0, 0],\n",
      "       [1, 0, 0, ..., 0, 0, 0],\n",
      "       [1, 0, 0, ..., 0, 0, 0]], dtype=int64), 'f1_score': 0.12121212121212122, 'recall': 0.12121212121212122, 'precision': 0.12121212121212122}, 6.0: {'accuracy': 0.15384615384615385, 'confusion_matrix': array([[0, 0, 0, 0, 0, 0, 0, 0, 0, 0, 0, 0, 0, 0],\n",
      "       [1, 0, 0, 0, 0, 0, 0, 0, 0, 0, 0, 0, 0, 0],\n",
      "       [0, 0, 1, 0, 0, 0, 0, 0, 0, 0, 0, 0, 0, 0],\n",
      "       [1, 0, 0, 0, 0, 0, 0, 0, 0, 0, 0, 0, 0, 0],\n",
      "       [1, 0, 0, 0, 0, 0, 0, 0, 0, 0, 0, 0, 0, 0],\n",
      "       [1, 0, 0, 0, 0, 0, 0, 0, 0, 0, 0, 0, 0, 0],\n",
      "       [1, 0, 0, 0, 0, 0, 0, 0, 0, 0, 0, 0, 0, 0],\n",
      "       [1, 0, 0, 0, 0, 0, 0, 0, 0, 0, 0, 0, 0, 0],\n",
      "       [1, 0, 0, 0, 0, 0, 0, 0, 0, 0, 0, 0, 0, 0],\n",
      "       [1, 0, 0, 0, 0, 0, 0, 0, 0, 0, 0, 0, 0, 0],\n",
      "       [1, 0, 0, 0, 0, 0, 0, 0, 0, 0, 0, 0, 0, 0],\n",
      "       [1, 0, 0, 0, 0, 0, 0, 0, 0, 0, 0, 0, 0, 0],\n",
      "       [1, 0, 0, 0, 0, 0, 0, 0, 0, 0, 0, 0, 0, 0],\n",
      "       [0, 0, 0, 0, 0, 0, 0, 0, 0, 0, 0, 0, 0, 1]], dtype=int64), 'f1_score': 0.14285714285714285, 'recall': 0.14285714285714285, 'precision': 0.14285714285714285}, 7.0: {'accuracy': 0.0, 'confusion_matrix': array([[0, 0, 0],\n",
      "       [1, 0, 0],\n",
      "       [1, 0, 0]], dtype=int64), 'f1_score': 0.0, 'recall': 0.0, 'precision': 0.0}}\n",
      "Bias Metrics for Gender Subgroups in Model On Seventy Percent Cold Data:\n",
      "{1.0: {'accuracy': 0.19469026548672566, 'confusion_matrix': array([[0, 0, 0, ..., 0, 0, 0],\n",
      "       [2, 0, 0, ..., 0, 0, 0],\n",
      "       [1, 0, 0, ..., 0, 0, 0],\n",
      "       ...,\n",
      "       [1, 0, 0, ..., 0, 0, 0],\n",
      "       [1, 0, 0, ..., 0, 0, 0],\n",
      "       [1, 0, 0, ..., 0, 0, 0]], dtype=int64), 'f1_score': 0.1957304526748971, 'recall': 0.1941872427983539, 'precision': 0.19907407407407407}, 2.0: {'accuracy': 0.1504739336492891, 'confusion_matrix': array([[0, 0, 0, ..., 0, 0, 0],\n",
      "       [1, 0, 0, ..., 0, 0, 0],\n",
      "       [1, 0, 0, ..., 0, 0, 0],\n",
      "       ...,\n",
      "       [1, 0, 0, ..., 0, 0, 0],\n",
      "       [1, 0, 0, ..., 0, 0, 0],\n",
      "       [1, 0, 0, ..., 0, 0, 0]], dtype=int64), 'f1_score': 0.1543355119825708, 'recall': 0.14978213507625274, 'precision': 0.16470588235294117}}\n"
     ]
    },
    {
     "name": "stderr",
     "output_type": "stream",
     "text": [
      "\n",
      "C:\\Users\\hp\\miniconda3\\envs\\mlpr\\Lib\\site-packages\\sklearn\\metrics\\_classification.py:1344: UndefinedMetricWarning: Recall is ill-defined and being set to 0.0 in labels with no true samples. Use `zero_division` parameter to control this behavior.\n",
      "  _warn_prf(average, modifier, msg_start, len(result))\n",
      "C:\\Users\\hp\\miniconda3\\envs\\mlpr\\Lib\\site-packages\\sklearn\\metrics\\_classification.py:1344: UndefinedMetricWarning: Precision is ill-defined and being set to 0.0 in labels with no predicted samples. Use `zero_division` parameter to control this behavior.\n",
      "  _warn_prf(average, modifier, msg_start, len(result))\n",
      "C:\\Users\\hp\\miniconda3\\envs\\mlpr\\Lib\\site-packages\\sklearn\\metrics\\_classification.py:1344: UndefinedMetricWarning: Recall is ill-defined and being set to 0.0 in labels with no true samples. Use `zero_division` parameter to control this behavior.\n",
      "  _warn_prf(average, modifier, msg_start, len(result))\n",
      "C:\\Users\\hp\\miniconda3\\envs\\mlpr\\Lib\\site-packages\\sklearn\\metrics\\_classification.py:1344: UndefinedMetricWarning: Precision is ill-defined and being set to 0.0 in labels with no predicted samples. Use `zero_division` parameter to control this behavior.\n",
      "  _warn_prf(average, modifier, msg_start, len(result))\n",
      "C:\\Users\\hp\\miniconda3\\envs\\mlpr\\Lib\\site-packages\\sklearn\\metrics\\_classification.py:1344: UndefinedMetricWarning: Recall is ill-defined and being set to 0.0 in labels with no true samples. Use `zero_division` parameter to control this behavior.\n",
      "  _warn_prf(average, modifier, msg_start, len(result))\n",
      "C:\\Users\\hp\\miniconda3\\envs\\mlpr\\Lib\\site-packages\\sklearn\\metrics\\_classification.py:1344: UndefinedMetricWarning: Precision is ill-defined and being set to 0.0 in labels with no predicted samples. Use `zero_division` parameter to control this behavior.\n",
      "  _warn_prf(average, modifier, msg_start, len(result))\n",
      "C:\\Users\\hp\\miniconda3\\envs\\mlpr\\Lib\\site-packages\\sklearn\\metrics\\_classification.py:1344: UndefinedMetricWarning: Recall is ill-defined and being set to 0.0 in labels with no true samples. Use `zero_division` parameter to control this behavior.\n",
      "  _warn_prf(average, modifier, msg_start, len(result))\n",
      "C:\\Users\\hp\\miniconda3\\envs\\mlpr\\Lib\\site-packages\\sklearn\\metrics\\_classification.py:1344: UndefinedMetricWarning: Precision is ill-defined and being set to 0.0 in labels with no predicted samples. Use `zero_division` parameter to control this behavior.\n",
      "  _warn_prf(average, modifier, msg_start, len(result))\n",
      "C:\\Users\\hp\\miniconda3\\envs\\mlpr\\Lib\\site-packages\\sklearn\\metrics\\_classification.py:1344: UndefinedMetricWarning: Recall is ill-defined and being set to 0.0 in labels with no true samples. Use `zero_division` parameter to control this behavior.\n",
      "  _warn_prf(average, modifier, msg_start, len(result))\n",
      "C:\\Users\\hp\\miniconda3\\envs\\mlpr\\Lib\\site-packages\\sklearn\\metrics\\_classification.py:1344: UndefinedMetricWarning: Precision is ill-defined and being set to 0.0 in labels with no predicted samples. Use `zero_division` parameter to control this behavior.\n",
      "  _warn_prf(average, modifier, msg_start, len(result))\n",
      "C:\\Users\\hp\\miniconda3\\envs\\mlpr\\Lib\\site-packages\\sklearn\\metrics\\_classification.py:1344: UndefinedMetricWarning: Recall is ill-defined and being set to 0.0 in labels with no true samples. Use `zero_division` parameter to control this behavior.\n",
      "  _warn_prf(average, modifier, msg_start, len(result))\n",
      "C:\\Users\\hp\\miniconda3\\envs\\mlpr\\Lib\\site-packages\\sklearn\\metrics\\_classification.py:1344: UndefinedMetricWarning: Precision is ill-defined and being set to 0.0 in labels with no predicted samples. Use `zero_division` parameter to control this behavior.\n",
      "  _warn_prf(average, modifier, msg_start, len(result))\n",
      "C:\\Users\\hp\\miniconda3\\envs\\mlpr\\Lib\\site-packages\\sklearn\\metrics\\_classification.py:1344: UndefinedMetricWarning: Recall is ill-defined and being set to 0.0 in labels with no true samples. Use `zero_division` parameter to control this behavior.\n",
      "  _warn_prf(average, modifier, msg_start, len(result))\n",
      "C:\\Users\\hp\\miniconda3\\envs\\mlpr\\Lib\\site-packages\\sklearn\\metrics\\_classification.py:1344: UndefinedMetricWarning: Precision is ill-defined and being set to 0.0 in labels with no predicted samples. Use `zero_division` parameter to control this behavior.\n",
      "  _warn_prf(average, modifier, msg_start, len(result))\n",
      "C:\\Users\\hp\\miniconda3\\envs\\mlpr\\Lib\\site-packages\\sklearn\\metrics\\_classification.py:1344: UndefinedMetricWarning: Recall is ill-defined and being set to 0.0 in labels with no true samples. Use `zero_division` parameter to control this behavior.\n",
      "  _warn_prf(average, modifier, msg_start, len(result))\n",
      "C:\\Users\\hp\\miniconda3\\envs\\mlpr\\Lib\\site-packages\\sklearn\\metrics\\_classification.py:1344: UndefinedMetricWarning: Precision is ill-defined and being set to 0.0 in labels with no predicted samples. Use `zero_division` parameter to control this behavior.\n",
      "  _warn_prf(average, modifier, msg_start, len(result))\n",
      "C:\\Users\\hp\\miniconda3\\envs\\mlpr\\Lib\\site-packages\\sklearn\\metrics\\_classification.py:1344: UndefinedMetricWarning: Recall is ill-defined and being set to 0.0 in labels with no true samples. Use `zero_division` parameter to control this behavior.\n",
      "  _warn_prf(average, modifier, msg_start, len(result))\n",
      "C:\\Users\\hp\\miniconda3\\envs\\mlpr\\Lib\\site-packages\\sklearn\\metrics\\_classification.py:1344: UndefinedMetricWarning: Precision is ill-defined and being set to 0.0 in labels with no predicted samples. Use `zero_division` parameter to control this behavior.\n",
      "  _warn_prf(average, modifier, msg_start, len(result))\n"
     ]
    }
   ],
   "source": [
    "Model_3.eval()\n",
    "\n",
    "with torch.no_grad():\n",
    "    all_predictions_model_3 = []  # Empty list to hold all predictions\n",
    "    for data in tqdm(test_dataloader):\n",
    "        data = [x.to('cpu') for x in data]\n",
    "        seqs, labels = data\n",
    "        test_predictions_model_3 = Model_3.predict(seqs, labels)\n",
    "        all_predictions_model_3.append(test_predictions_model_3)\n",
    "\n",
    "# Concatenate all predictions into a single tensor\n",
    "all_predictions_model_3 = torch.cat(all_predictions_model_3, dim=0)\n",
    "    \n",
    "# Convert the predictions to class labels (assuming multi-class classification)\n",
    "all_test_predictions_labels_model_3 = torch.argmax(all_predictions_model_3, dim=1).numpy()\n",
    "\n",
    "# Calculate bias metrics for age and gender subgroups\n",
    "age_bias_metrics_model_3 = calculate_bias_metrics(all_test_predictions_labels_model_3, y_test_for_bias_later[6], x_test_for_bias_later[2]['age'])\n",
    "gender_bias_metrics_model_3 = calculate_bias_metrics(all_test_predictions_labels_model_3, y_test_for_bias_later[6], x_test_for_bias_later[2]['gender'])\n",
    "\n",
    "print(\"Bias Metrics for Age Subgroups in Model On Seventy Percent Cold Data:\")\n",
    "print(age_bias_metrics_model_3)\n",
    "\n",
    "print(\"Bias Metrics for Gender Subgroups in Model On Seventy Percent Cold Data:\")\n",
    "print(gender_bias_metrics_model_3)"
   ]
  },
  {
   "cell_type": "code",
   "execution_count": 138,
   "id": "91d8a6f8",
   "metadata": {},
   "outputs": [
    {
     "name": "stdout",
     "output_type": "stream",
     "text": [
      "Ratios for Age Subgroups in Model On :\n",
      "{1.0: {'subgroup_odds_ratio': nan, 'overall_odds_ratio': nan, 'subgroup_log_odds_ratio': nan, 'overall_log_odds_ratio': nan}, 2.0: {'subgroup_odds_ratio': nan, 'overall_odds_ratio': nan, 'subgroup_log_odds_ratio': nan, 'overall_log_odds_ratio': nan}, 3.0: {'subgroup_odds_ratio': nan, 'overall_odds_ratio': nan, 'subgroup_log_odds_ratio': nan, 'overall_log_odds_ratio': nan}, 4.0: {'subgroup_odds_ratio': nan, 'overall_odds_ratio': nan, 'subgroup_log_odds_ratio': nan, 'overall_log_odds_ratio': nan}, 5.0: {'subgroup_odds_ratio': nan, 'overall_odds_ratio': nan, 'subgroup_log_odds_ratio': nan, 'overall_log_odds_ratio': nan}, 6.0: {'subgroup_odds_ratio': nan, 'overall_odds_ratio': nan, 'subgroup_log_odds_ratio': nan, 'overall_log_odds_ratio': nan}, 7.0: {'subgroup_odds_ratio': nan, 'overall_odds_ratio': nan, 'subgroup_log_odds_ratio': nan, 'overall_log_odds_ratio': nan}}\n",
      "Ratios for Gender Subgroups in Model :\n",
      "{1.0: {'subgroup_odds_ratio': nan, 'overall_odds_ratio': nan, 'subgroup_log_odds_ratio': nan, 'overall_log_odds_ratio': nan}, 2.0: {'subgroup_odds_ratio': nan, 'overall_odds_ratio': nan, 'subgroup_log_odds_ratio': nan, 'overall_log_odds_ratio': nan}}\n"
     ]
    },
    {
     "name": "stderr",
     "output_type": "stream",
     "text": [
      "C:\\Users\\hp\\AppData\\Local\\Temp\\ipykernel_13276\\3935102233.py:4: RuntimeWarning: invalid value encountered in scalar divide\n",
      "  return (positive_predictions[0] * total_predictions[1]) / (positive_predictions[1] * total_predictions[0])\n"
     ]
    }
   ],
   "source": [
    "# Measure bias using odds ratios\n",
    "age_ratios_3 = measure_bias_with_odds_and_log_odds_ratios(age_bias_metrics_model_3)\n",
    "gender_ratios_3 = measure_bias_with_odds_and_log_odds_ratios(gender_bias_metrics_model_3)\n",
    "\n",
    "print(\"Ratios for Age Subgroups in Model On :\")\n",
    "print(age_ratios_3)\n",
    "\n",
    "print(\"Ratios for Gender Subgroups in Model :\")\n",
    "print(gender_ratios_3)"
   ]
  },
  {
   "cell_type": "code",
   "execution_count": 139,
   "id": "3bc5caca",
   "metadata": {},
   "outputs": [
    {
     "name": "stderr",
     "output_type": "stream",
     "text": [
      "100%|████████████████████████████████████████████████████████████████████████████████████| 2/2 [00:05<00:00,  2.57s/it]"
     ]
    },
    {
     "name": "stdout",
     "output_type": "stream",
     "text": [
      "Bias Metrics for Age Subgroups in Model :\n",
      "{1.0: {'accuracy': 0.0, 'confusion_matrix': array([[0, 0, 0, ..., 0, 0, 0],\n",
      "       [1, 0, 0, ..., 0, 0, 0],\n",
      "       [1, 0, 0, ..., 0, 0, 0],\n",
      "       ...,\n",
      "       [1, 0, 0, ..., 0, 0, 0],\n",
      "       [1, 0, 0, ..., 0, 0, 0],\n",
      "       [1, 0, 0, ..., 0, 0, 0]], dtype=int64), 'f1_score': 0.0, 'recall': 0.0, 'precision': 0.0}, 2.0: {'accuracy': 0.0, 'confusion_matrix': array([[0, 0, 0, ..., 0, 0, 0],\n",
      "       [2, 0, 0, ..., 0, 0, 0],\n",
      "       [1, 0, 0, ..., 0, 0, 0],\n",
      "       ...,\n",
      "       [1, 0, 0, ..., 0, 0, 0],\n",
      "       [1, 0, 0, ..., 0, 0, 0],\n",
      "       [1, 0, 0, ..., 0, 0, 0]], dtype=int64), 'f1_score': 0.0, 'recall': 0.0, 'precision': 0.0}, 3.0: {'accuracy': 0.0, 'confusion_matrix': array([[0, 0, 0, ..., 0, 0, 0],\n",
      "       [1, 0, 0, ..., 0, 0, 0],\n",
      "       [1, 0, 0, ..., 0, 0, 0],\n",
      "       ...,\n",
      "       [1, 0, 0, ..., 0, 0, 0],\n",
      "       [1, 0, 0, ..., 0, 0, 0],\n",
      "       [1, 0, 0, ..., 0, 0, 0]], dtype=int64), 'f1_score': 0.0, 'recall': 0.0, 'precision': 0.0}, 4.0: {'accuracy': 0.0, 'confusion_matrix': array([[0, 0, 0, ..., 0, 0, 0],\n",
      "       [1, 0, 0, ..., 0, 0, 0],\n",
      "       [1, 0, 0, ..., 0, 0, 0],\n",
      "       ...,\n",
      "       [1, 0, 0, ..., 0, 0, 0],\n",
      "       [1, 0, 0, ..., 0, 0, 0],\n",
      "       [1, 0, 0, ..., 0, 0, 0]], dtype=int64), 'f1_score': 0.0, 'recall': 0.0, 'precision': 0.0}, 5.0: {'accuracy': 0.0, 'confusion_matrix': array([[0, 0, 0, ..., 0, 0, 0],\n",
      "       [1, 0, 0, ..., 0, 0, 0],\n",
      "       [1, 0, 0, ..., 0, 0, 0],\n",
      "       ...,\n",
      "       [1, 0, 0, ..., 0, 0, 0],\n",
      "       [1, 0, 0, ..., 0, 0, 0],\n",
      "       [1, 0, 0, ..., 0, 0, 0]], dtype=int64), 'f1_score': 0.0, 'recall': 0.0, 'precision': 0.0}, 6.0: {'accuracy': 0.0, 'confusion_matrix': array([[0, 0, 0, 0, 0, 0, 0, 0, 0, 0, 0, 0, 0, 0],\n",
      "       [1, 0, 0, 0, 0, 0, 0, 0, 0, 0, 0, 0, 0, 0],\n",
      "       [1, 0, 0, 0, 0, 0, 0, 0, 0, 0, 0, 0, 0, 0],\n",
      "       [1, 0, 0, 0, 0, 0, 0, 0, 0, 0, 0, 0, 0, 0],\n",
      "       [1, 0, 0, 0, 0, 0, 0, 0, 0, 0, 0, 0, 0, 0],\n",
      "       [1, 0, 0, 0, 0, 0, 0, 0, 0, 0, 0, 0, 0, 0],\n",
      "       [1, 0, 0, 0, 0, 0, 0, 0, 0, 0, 0, 0, 0, 0],\n",
      "       [1, 0, 0, 0, 0, 0, 0, 0, 0, 0, 0, 0, 0, 0],\n",
      "       [1, 0, 0, 0, 0, 0, 0, 0, 0, 0, 0, 0, 0, 0],\n",
      "       [1, 0, 0, 0, 0, 0, 0, 0, 0, 0, 0, 0, 0, 0],\n",
      "       [1, 0, 0, 0, 0, 0, 0, 0, 0, 0, 0, 0, 0, 0],\n",
      "       [1, 0, 0, 0, 0, 0, 0, 0, 0, 0, 0, 0, 0, 0],\n",
      "       [1, 0, 0, 0, 0, 0, 0, 0, 0, 0, 0, 0, 0, 0],\n",
      "       [1, 0, 0, 0, 0, 0, 0, 0, 0, 0, 0, 0, 0, 0]], dtype=int64), 'f1_score': 0.0, 'recall': 0.0, 'precision': 0.0}, 7.0: {'accuracy': 0.0, 'confusion_matrix': array([[0, 0, 0],\n",
      "       [1, 0, 0],\n",
      "       [1, 0, 0]], dtype=int64), 'f1_score': 0.0, 'recall': 0.0, 'precision': 0.0}}\n",
      "Bias Metrics for Gender Subgroups in Model :\n",
      "{1.0: {'accuracy': 0.0, 'confusion_matrix': array([[0, 0, 0, ..., 0, 0, 0],\n",
      "       [2, 0, 0, ..., 0, 0, 0],\n",
      "       [1, 0, 0, ..., 0, 0, 0],\n",
      "       ...,\n",
      "       [1, 0, 0, ..., 0, 0, 0],\n",
      "       [1, 0, 0, ..., 0, 0, 0],\n",
      "       [1, 0, 0, ..., 0, 0, 0]], dtype=int64), 'f1_score': 0.0, 'recall': 0.0, 'precision': 0.0}, 2.0: {'accuracy': 0.0, 'confusion_matrix': array([[0, 0, 0, ..., 0, 0, 0],\n",
      "       [1, 0, 0, ..., 0, 0, 0],\n",
      "       [1, 0, 0, ..., 0, 0, 0],\n",
      "       ...,\n",
      "       [1, 0, 0, ..., 0, 0, 0],\n",
      "       [1, 0, 0, ..., 0, 0, 0],\n",
      "       [1, 0, 0, ..., 0, 0, 0]], dtype=int64), 'f1_score': 0.0, 'recall': 0.0, 'precision': 0.0}}\n"
     ]
    },
    {
     "name": "stderr",
     "output_type": "stream",
     "text": [
      "\n",
      "C:\\Users\\hp\\miniconda3\\envs\\mlpr\\Lib\\site-packages\\sklearn\\metrics\\_classification.py:1344: UndefinedMetricWarning: Recall is ill-defined and being set to 0.0 in labels with no true samples. Use `zero_division` parameter to control this behavior.\n",
      "  _warn_prf(average, modifier, msg_start, len(result))\n",
      "C:\\Users\\hp\\miniconda3\\envs\\mlpr\\Lib\\site-packages\\sklearn\\metrics\\_classification.py:1344: UndefinedMetricWarning: Precision is ill-defined and being set to 0.0 in labels with no predicted samples. Use `zero_division` parameter to control this behavior.\n",
      "  _warn_prf(average, modifier, msg_start, len(result))\n",
      "C:\\Users\\hp\\miniconda3\\envs\\mlpr\\Lib\\site-packages\\sklearn\\metrics\\_classification.py:1344: UndefinedMetricWarning: Recall is ill-defined and being set to 0.0 in labels with no true samples. Use `zero_division` parameter to control this behavior.\n",
      "  _warn_prf(average, modifier, msg_start, len(result))\n",
      "C:\\Users\\hp\\miniconda3\\envs\\mlpr\\Lib\\site-packages\\sklearn\\metrics\\_classification.py:1344: UndefinedMetricWarning: Precision is ill-defined and being set to 0.0 in labels with no predicted samples. Use `zero_division` parameter to control this behavior.\n",
      "  _warn_prf(average, modifier, msg_start, len(result))\n",
      "C:\\Users\\hp\\miniconda3\\envs\\mlpr\\Lib\\site-packages\\sklearn\\metrics\\_classification.py:1344: UndefinedMetricWarning: Recall is ill-defined and being set to 0.0 in labels with no true samples. Use `zero_division` parameter to control this behavior.\n",
      "  _warn_prf(average, modifier, msg_start, len(result))\n",
      "C:\\Users\\hp\\miniconda3\\envs\\mlpr\\Lib\\site-packages\\sklearn\\metrics\\_classification.py:1344: UndefinedMetricWarning: Precision is ill-defined and being set to 0.0 in labels with no predicted samples. Use `zero_division` parameter to control this behavior.\n",
      "  _warn_prf(average, modifier, msg_start, len(result))\n",
      "C:\\Users\\hp\\miniconda3\\envs\\mlpr\\Lib\\site-packages\\sklearn\\metrics\\_classification.py:1344: UndefinedMetricWarning: Recall is ill-defined and being set to 0.0 in labels with no true samples. Use `zero_division` parameter to control this behavior.\n",
      "  _warn_prf(average, modifier, msg_start, len(result))\n",
      "C:\\Users\\hp\\miniconda3\\envs\\mlpr\\Lib\\site-packages\\sklearn\\metrics\\_classification.py:1344: UndefinedMetricWarning: Precision is ill-defined and being set to 0.0 in labels with no predicted samples. Use `zero_division` parameter to control this behavior.\n",
      "  _warn_prf(average, modifier, msg_start, len(result))\n",
      "C:\\Users\\hp\\miniconda3\\envs\\mlpr\\Lib\\site-packages\\sklearn\\metrics\\_classification.py:1344: UndefinedMetricWarning: Recall is ill-defined and being set to 0.0 in labels with no true samples. Use `zero_division` parameter to control this behavior.\n",
      "  _warn_prf(average, modifier, msg_start, len(result))\n",
      "C:\\Users\\hp\\miniconda3\\envs\\mlpr\\Lib\\site-packages\\sklearn\\metrics\\_classification.py:1344: UndefinedMetricWarning: Precision is ill-defined and being set to 0.0 in labels with no predicted samples. Use `zero_division` parameter to control this behavior.\n",
      "  _warn_prf(average, modifier, msg_start, len(result))\n",
      "C:\\Users\\hp\\miniconda3\\envs\\mlpr\\Lib\\site-packages\\sklearn\\metrics\\_classification.py:1344: UndefinedMetricWarning: Recall is ill-defined and being set to 0.0 in labels with no true samples. Use `zero_division` parameter to control this behavior.\n",
      "  _warn_prf(average, modifier, msg_start, len(result))\n",
      "C:\\Users\\hp\\miniconda3\\envs\\mlpr\\Lib\\site-packages\\sklearn\\metrics\\_classification.py:1344: UndefinedMetricWarning: Precision is ill-defined and being set to 0.0 in labels with no predicted samples. Use `zero_division` parameter to control this behavior.\n",
      "  _warn_prf(average, modifier, msg_start, len(result))\n",
      "C:\\Users\\hp\\miniconda3\\envs\\mlpr\\Lib\\site-packages\\sklearn\\metrics\\_classification.py:1344: UndefinedMetricWarning: Recall is ill-defined and being set to 0.0 in labels with no true samples. Use `zero_division` parameter to control this behavior.\n",
      "  _warn_prf(average, modifier, msg_start, len(result))\n",
      "C:\\Users\\hp\\miniconda3\\envs\\mlpr\\Lib\\site-packages\\sklearn\\metrics\\_classification.py:1344: UndefinedMetricWarning: Precision is ill-defined and being set to 0.0 in labels with no predicted samples. Use `zero_division` parameter to control this behavior.\n",
      "  _warn_prf(average, modifier, msg_start, len(result))\n",
      "C:\\Users\\hp\\miniconda3\\envs\\mlpr\\Lib\\site-packages\\sklearn\\metrics\\_classification.py:1344: UndefinedMetricWarning: Recall is ill-defined and being set to 0.0 in labels with no true samples. Use `zero_division` parameter to control this behavior.\n",
      "  _warn_prf(average, modifier, msg_start, len(result))\n",
      "C:\\Users\\hp\\miniconda3\\envs\\mlpr\\Lib\\site-packages\\sklearn\\metrics\\_classification.py:1344: UndefinedMetricWarning: Precision is ill-defined and being set to 0.0 in labels with no predicted samples. Use `zero_division` parameter to control this behavior.\n",
      "  _warn_prf(average, modifier, msg_start, len(result))\n",
      "C:\\Users\\hp\\miniconda3\\envs\\mlpr\\Lib\\site-packages\\sklearn\\metrics\\_classification.py:1344: UndefinedMetricWarning: Recall is ill-defined and being set to 0.0 in labels with no true samples. Use `zero_division` parameter to control this behavior.\n",
      "  _warn_prf(average, modifier, msg_start, len(result))\n",
      "C:\\Users\\hp\\miniconda3\\envs\\mlpr\\Lib\\site-packages\\sklearn\\metrics\\_classification.py:1344: UndefinedMetricWarning: Precision is ill-defined and being set to 0.0 in labels with no predicted samples. Use `zero_division` parameter to control this behavior.\n",
      "  _warn_prf(average, modifier, msg_start, len(result))\n"
     ]
    }
   ],
   "source": [
    "Model_4.eval()\n",
    "with torch.no_grad():\n",
    "    all_predictions_model_4 = []  # Empty list to hold all predictions\n",
    "    for data in tqdm(test_dataloader):\n",
    "        data = [x.to('cpu') for x in data]\n",
    "        seqs, labels = data\n",
    "        test_predictions_model_4 = Model_4.predict(seqs, labels)\n",
    "        all_predictions_model_4.append(test_predictions_model_4)\n",
    "\n",
    "# Concatenate all predictions into a single tensor\n",
    "all_predictions_model_4 = torch.cat(all_predictions_model_4, dim=0)\n",
    "    \n",
    "# Convert the predictions to class labels (assuming multi-class classification)\n",
    "all_test_predictions_labels_model_4 = torch.argmax(all_predictions_model_4, dim=1).numpy()\n",
    "\n",
    "# Calculate bias metrics for age and gender subgroups\n",
    "age_bias_metrics_model_4 = calculate_bias_metrics(all_test_predictions_labels_model_4, y_test_for_bias_later[7], x_test_for_bias_later[3]['age'])\n",
    "gender_bias_metrics_model_4 = calculate_bias_metrics(all_test_predictions_labels_model_4, y_test_for_bias_later[7], x_test_for_bias_later[3]['gender'])\n",
    "\n",
    "print(\"Bias Metrics for Age Subgroups in Model :\")\n",
    "print(age_bias_metrics_model_4)\n",
    "\n",
    "print(\"Bias Metrics for Gender Subgroups in Model :\")\n",
    "print(gender_bias_metrics_model_4)"
   ]
  },
  {
   "cell_type": "code",
   "execution_count": 140,
   "id": "fce9f112",
   "metadata": {},
   "outputs": [
    {
     "name": "stdout",
     "output_type": "stream",
     "text": [
      "Ratios for Age Subgroups in Model :\n",
      "{1.0: {'subgroup_odds_ratio': nan, 'overall_odds_ratio': nan, 'subgroup_log_odds_ratio': nan, 'overall_log_odds_ratio': nan}, 2.0: {'subgroup_odds_ratio': nan, 'overall_odds_ratio': nan, 'subgroup_log_odds_ratio': nan, 'overall_log_odds_ratio': nan}, 3.0: {'subgroup_odds_ratio': nan, 'overall_odds_ratio': nan, 'subgroup_log_odds_ratio': nan, 'overall_log_odds_ratio': nan}, 4.0: {'subgroup_odds_ratio': nan, 'overall_odds_ratio': nan, 'subgroup_log_odds_ratio': nan, 'overall_log_odds_ratio': nan}, 5.0: {'subgroup_odds_ratio': nan, 'overall_odds_ratio': nan, 'subgroup_log_odds_ratio': nan, 'overall_log_odds_ratio': nan}, 6.0: {'subgroup_odds_ratio': nan, 'overall_odds_ratio': nan, 'subgroup_log_odds_ratio': nan, 'overall_log_odds_ratio': nan}, 7.0: {'subgroup_odds_ratio': nan, 'overall_odds_ratio': nan, 'subgroup_log_odds_ratio': nan, 'overall_log_odds_ratio': nan}}\n",
      "Ratios for Gender Subgroups in Model :\n",
      "{1.0: {'subgroup_odds_ratio': nan, 'overall_odds_ratio': nan, 'subgroup_log_odds_ratio': nan, 'overall_log_odds_ratio': nan}, 2.0: {'subgroup_odds_ratio': nan, 'overall_odds_ratio': nan, 'subgroup_log_odds_ratio': nan, 'overall_log_odds_ratio': nan}}\n"
     ]
    },
    {
     "name": "stderr",
     "output_type": "stream",
     "text": [
      "C:\\Users\\hp\\AppData\\Local\\Temp\\ipykernel_13276\\3935102233.py:4: RuntimeWarning: invalid value encountered in scalar divide\n",
      "  return (positive_predictions[0] * total_predictions[1]) / (positive_predictions[1] * total_predictions[0])\n"
     ]
    }
   ],
   "source": [
    "# Measure bias using odds ratios\n",
    "age_ratios_4 = measure_bias_with_odds_and_log_odds_ratios(age_bias_metrics_model_4)\n",
    "gender_ratios_4 = measure_bias_with_odds_and_log_odds_ratios(gender_bias_metrics_model_4)\n",
    "\n",
    "print(\"Ratios for Age Subgroups in Model :\")\n",
    "print(age_ratios_4)\n",
    "\n",
    "print(\"Ratios for Gender Subgroups in Model :\")\n",
    "print(gender_ratios_4)"
   ]
  },
  {
   "cell_type": "code",
   "execution_count": null,
   "id": "16363cba",
   "metadata": {},
   "outputs": [],
   "source": []
  },
  {
   "cell_type": "code",
   "execution_count": null,
   "id": "b7e7e5bc",
   "metadata": {},
   "outputs": [],
   "source": []
  },
  {
   "cell_type": "code",
   "execution_count": null,
   "id": "1a47372d",
   "metadata": {},
   "outputs": [],
   "source": []
  }
 ],
 "metadata": {
  "colab": {
   "provenance": []
  },
  "kernelspec": {
   "display_name": "Python 3 (ipykernel)",
   "language": "python",
   "name": "python3"
  },
  "language_info": {
   "codemirror_mode": {
    "name": "ipython",
    "version": 3
   },
   "file_extension": ".py",
   "mimetype": "text/x-python",
   "name": "python",
   "nbconvert_exporter": "python",
   "pygments_lexer": "ipython3",
   "version": "3.10.9"
  }
 },
 "nbformat": 4,
 "nbformat_minor": 5
}
