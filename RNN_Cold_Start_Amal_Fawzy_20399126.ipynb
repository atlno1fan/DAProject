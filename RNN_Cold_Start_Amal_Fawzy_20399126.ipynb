{
  "cells": [
    {
      "cell_type": "markdown",
      "source": [
        "# **Problem Formulation:**"
      ],
      "metadata": {
        "id": "W8iHfRO8Qd6P"
      },
      "id": "W8iHfRO8Qd6P"
    },
    {
      "cell_type": "markdown",
      "source": [
        "## **The paper:**\n",
        "- the paper i built my work accorsing to it  is Latent Cross: Making Use of Context in Recurrent Recommender Systems\n",
        "\n",
        "- The problem addressed in the paper is to build an effective Recurrent Recommender System for making personalized item recommendations to users, taking into account user-item interactions and user context (e.g., age, gender) while also handling the cold start problem. The goal is to create user embeddings that capture user preferences based on their past interactions and contextual information to generate accurate and relevant item recommendations, even for users with limited information (cold start users).\n",
        "\n",
        "## **Cold Start Problem:**\n",
        "The cold start problem refers to the situation where new users with limited historical data (interactions) join the system, making it challenging to provide personalized recommendations.\n",
        "\n",
        "## **Solution**\n",
        " a solution to make recommendations for cold start users. The trained Latent Factor Model and Context Factor Model are utilized to generate user embeddings and context representations for cold start users. The Annoy index is then used to find similar items for cold start users based on their embeddings and context information."
      ],
      "metadata": {
        "id": "kRKadx8KMreC"
      },
      "id": "kRKadx8KMreC"
    },
    {
      "cell_type": "markdown",
      "source": [
        "## **Note that**\n",
        "I have changed the paper that I work with in the proposal that our TA asked us to do that so there is some changes in my work flow in the proposal and here."
      ],
      "metadata": {
        "id": "dntxwZqSRYUR"
      },
      "id": "dntxwZqSRYUR"
    },
    {
      "cell_type": "markdown",
      "source": [
        "# **Section 1: Import Libraries and Mount Google Drive**"
      ],
      "metadata": {
        "id": "CZbT6YD2YkzV"
      },
      "id": "CZbT6YD2YkzV"
    },
    {
      "cell_type": "code",
      "source": [
        "# Install the required libraries\n",
        "!pip install scikit-surprise\n",
        "!pip install annoy"
      ],
      "metadata": {
        "colab": {
          "base_uri": "https://localhost:8080/"
        },
        "id": "IKuqEEphYxLd",
        "outputId": "1745dcc0-36ee-4a94-b8cb-1159aa0480f0"
      },
      "id": "IKuqEEphYxLd",
      "execution_count": null,
      "outputs": [
        {
          "output_type": "stream",
          "name": "stdout",
          "text": [
            "Requirement already satisfied: scikit-surprise in /usr/local/lib/python3.10/dist-packages (1.1.3)\n",
            "Requirement already satisfied: joblib>=1.0.0 in /usr/local/lib/python3.10/dist-packages (from scikit-surprise) (1.3.1)\n",
            "Requirement already satisfied: numpy>=1.17.3 in /usr/local/lib/python3.10/dist-packages (from scikit-surprise) (1.22.4)\n",
            "Requirement already satisfied: scipy>=1.3.2 in /usr/local/lib/python3.10/dist-packages (from scikit-surprise) (1.10.1)\n",
            "Requirement already satisfied: annoy in /usr/local/lib/python3.10/dist-packages (1.17.3)\n"
          ]
        }
      ]
    },
    {
      "cell_type": "code",
      "execution_count": null,
      "id": "112a5532",
      "metadata": {
        "id": "112a5532",
        "colab": {
          "base_uri": "https://localhost:8080/"
        },
        "outputId": "040c018d-8b7e-4d11-b88b-f05ffb66dfe7"
      },
      "outputs": [
        {
          "output_type": "stream",
          "name": "stdout",
          "text": [
            "Drive already mounted at /content/drive; to attempt to forcibly remount, call drive.mount(\"/content/drive\", force_remount=True).\n"
          ]
        }
      ],
      "source": [
        "# Import necessary libraries\n",
        "import pandas as pd\n",
        "import numpy as np\n",
        "import matplotlib.pyplot as plt\n",
        "from google.colab import drive\n",
        "from sklearn.preprocessing import StandardScaler\n",
        "from sklearn.preprocessing import OneHotEncoder\n",
        "from sklearn.impute import SimpleImputer\n",
        "from sklearn.model_selection import train_test_split\n",
        "from keras.models import Sequential\n",
        "from keras.layers import LSTM, Dense\n",
        "from keras.optimizers import Adam\n",
        "from surprise import Dataset, Reader, SVD\n",
        "from surprise.model_selection import train_test_split as surprise_train_test_split\n",
        "from annoy import AnnoyIndex\n",
        "from scipy.sparse import csr_matrix\n",
        "from keras.models import load_model\n",
        "# Mount Google Drive to access the dataset\n",
        "drive.mount('/content/drive')\n",
        "\n"
      ]
    },
    {
      "cell_type": "markdown",
      "source": [
        "# **Section 2: Data Exploration and Preprocessing**"
      ],
      "metadata": {
        "id": "g_g8Q3p4ZDcj"
      },
      "id": "g_g8Q3p4ZDcj"
    },
    {
      "cell_type": "markdown",
      "source": [
        "In this section, the code loads the dataset, performs exploratory data analysis (EDA), checks for missing values and duplicates, and performs data cleaning and normalization."
      ],
      "metadata": {
        "id": "lCJM67qASUBM"
      },
      "id": "lCJM67qASUBM"
    },
    {
      "cell_type": "code",
      "execution_count": null,
      "id": "a0d7850e",
      "metadata": {
        "id": "a0d7850e"
      },
      "outputs": [],
      "source": [
        "# Load the dataset from Google Drive\n",
        "data = pd.read_csv('/content/drive/MyDrive/Datasets/cold_data_0.7.csv')"
      ]
    },
    {
      "cell_type": "code",
      "execution_count": null,
      "id": "c348a092",
      "metadata": {
        "id": "c348a092",
        "colab": {
          "base_uri": "https://localhost:8080/"
        },
        "outputId": "804f8ab0-fc46-4b44-ea8a-2610859a01fe"
      },
      "outputs": [
        {
          "output_type": "stream",
          "name": "stdout",
          "text": [
            "<class 'pandas.core.frame.DataFrame'>\n",
            "RangeIndex: 1263750 entries, 0 to 1263749\n",
            "Data columns (total 20 columns):\n",
            " #   Column           Non-Null Count    Dtype  \n",
            "---  ------           --------------    -----  \n",
            " 0   user_id          1263750 non-null  int64  \n",
            " 1   item_id          1263750 non-null  int64  \n",
            " 2   click            1263750 non-null  float64\n",
            " 3   gender           1263750 non-null  int64  \n",
            " 4   age              1263750 non-null  int64  \n",
            " 5   click_count      1263750 non-null  int64  \n",
            " 6   like_count       1263750 non-null  int64  \n",
            " 7   comment_count    1263750 non-null  int64  \n",
            " 8   read_percentage  1263750 non-null  float64\n",
            " 9   item_score1      1263750 non-null  int64  \n",
            " 10  item_score2      1263750 non-null  float64\n",
            " 11  category_second  1263750 non-null  int64  \n",
            " 12  category_first   1263750 non-null  int64  \n",
            " 13  item_score3      1263750 non-null  float64\n",
            " 14  read             1263750 non-null  bool   \n",
            " 15  read_time        1263750 non-null  float64\n",
            " 16  share            1263750 non-null  bool   \n",
            " 17  like             1263750 non-null  bool   \n",
            " 18  follow           1263750 non-null  bool   \n",
            " 19  favorite         1263750 non-null  bool   \n",
            "dtypes: bool(5), float64(5), int64(10)\n",
            "memory usage: 150.7 MB\n"
          ]
        }
      ],
      "source": [
        "# Display information about the dataset\n",
        "data.info()\n"
      ]
    },
    {
      "cell_type": "code",
      "execution_count": null,
      "id": "ee67856b",
      "metadata": {
        "id": "ee67856b",
        "colab": {
          "base_uri": "https://localhost:8080/",
          "height": 364
        },
        "outputId": "a3f9aca6-beb0-453c-bdbf-f7bfa4a61400"
      },
      "outputs": [
        {
          "output_type": "execute_result",
          "data": {
            "text/plain": [
              "            user_id       item_id      click        gender           age  \\\n",
              "count  1.263750e+06  1.263750e+06  1263750.0  1.263750e+06  1.263750e+06   \n",
              "mean   6.002166e+05  1.106124e+05        1.0  1.311634e+00  2.650007e+00   \n",
              "std    3.150576e+05  7.019941e+04        0.0  4.691314e-01  1.244736e+00   \n",
              "min    1.100000e+01  1.480000e+02        1.0  0.000000e+00  0.000000e+00   \n",
              "25%    3.129740e+05  2.716000e+04        1.0  1.000000e+00  2.000000e+00   \n",
              "50%    6.762620e+05  1.382080e+05        1.0  1.000000e+00  2.000000e+00   \n",
              "75%    8.860660e+05  1.662070e+05        1.0  2.000000e+00  3.000000e+00   \n",
              "max    1.000015e+06  2.273480e+05        1.0  2.000000e+00  7.000000e+00   \n",
              "\n",
              "        click_count    like_count  comment_count  read_percentage  \\\n",
              "count  1.263750e+06  1.263750e+06   1.263750e+06     1.263750e+06   \n",
              "mean   1.449153e+05  1.866968e+03   7.881806e+02     5.014158e+01   \n",
              "std    3.402342e+05  5.911025e+03   1.633911e+03     2.886783e+01   \n",
              "min    0.000000e+00  0.000000e+00   0.000000e+00     0.000000e+00   \n",
              "25%    1.381300e+04  7.400000e+01   5.900000e+01     2.800000e+01   \n",
              "50%    4.809500e+04  2.950000e+02   2.650000e+02     4.700000e+01   \n",
              "75%    1.375120e+05  1.036000e+03   8.520000e+02     6.700000e+01   \n",
              "max    6.824316e+06  1.516560e+05   4.567700e+04     6.000000e+02   \n",
              "\n",
              "        item_score1   item_score2  category_second  category_first  \\\n",
              "count  1.263750e+06  1.263750e+06     1.263750e+06    1.263750e+06   \n",
              "mean   3.020814e+00  3.076550e+00     1.138015e+04    1.140701e+02   \n",
              "std    7.637116e-01  6.564364e-01     1.517201e+03    1.425594e+01   \n",
              "min    0.000000e+00  0.000000e+00     0.000000e+00    0.000000e+00   \n",
              "25%    3.000000e+00  3.000000e+00     1.080200e+04    1.080000e+02   \n",
              "50%    3.000000e+00  3.000000e+00     1.120100e+04    1.120000e+02   \n",
              "75%    4.000000e+00  3.000000e+00     1.210300e+04    1.210000e+02   \n",
              "max    5.000000e+00  9.000000e+00     1.410200e+04    1.410000e+02   \n",
              "\n",
              "        item_score3     read_time  \n",
              "count  1.263750e+06  1.263750e+06  \n",
              "mean   4.559448e+00  5.412677e+01  \n",
              "std    4.151970e+00  7.737200e+01  \n",
              "min    0.000000e+00  0.000000e+00  \n",
              "25%    3.000000e+00  7.000000e+00  \n",
              "50%    5.000000e+00  2.700000e+01  \n",
              "75%    6.000000e+00  7.200000e+01  \n",
              "max    2.550000e+02  4.446000e+03  "
            ],
            "text/html": [
              "\n",
              "\n",
              "  <div id=\"df-b51d9598-ea43-470d-be30-fddfbbfffd10\">\n",
              "    <div class=\"colab-df-container\">\n",
              "      <div>\n",
              "<style scoped>\n",
              "    .dataframe tbody tr th:only-of-type {\n",
              "        vertical-align: middle;\n",
              "    }\n",
              "\n",
              "    .dataframe tbody tr th {\n",
              "        vertical-align: top;\n",
              "    }\n",
              "\n",
              "    .dataframe thead th {\n",
              "        text-align: right;\n",
              "    }\n",
              "</style>\n",
              "<table border=\"1\" class=\"dataframe\">\n",
              "  <thead>\n",
              "    <tr style=\"text-align: right;\">\n",
              "      <th></th>\n",
              "      <th>user_id</th>\n",
              "      <th>item_id</th>\n",
              "      <th>click</th>\n",
              "      <th>gender</th>\n",
              "      <th>age</th>\n",
              "      <th>click_count</th>\n",
              "      <th>like_count</th>\n",
              "      <th>comment_count</th>\n",
              "      <th>read_percentage</th>\n",
              "      <th>item_score1</th>\n",
              "      <th>item_score2</th>\n",
              "      <th>category_second</th>\n",
              "      <th>category_first</th>\n",
              "      <th>item_score3</th>\n",
              "      <th>read_time</th>\n",
              "    </tr>\n",
              "  </thead>\n",
              "  <tbody>\n",
              "    <tr>\n",
              "      <th>count</th>\n",
              "      <td>1.263750e+06</td>\n",
              "      <td>1.263750e+06</td>\n",
              "      <td>1263750.0</td>\n",
              "      <td>1.263750e+06</td>\n",
              "      <td>1.263750e+06</td>\n",
              "      <td>1.263750e+06</td>\n",
              "      <td>1.263750e+06</td>\n",
              "      <td>1.263750e+06</td>\n",
              "      <td>1.263750e+06</td>\n",
              "      <td>1.263750e+06</td>\n",
              "      <td>1.263750e+06</td>\n",
              "      <td>1.263750e+06</td>\n",
              "      <td>1.263750e+06</td>\n",
              "      <td>1.263750e+06</td>\n",
              "      <td>1.263750e+06</td>\n",
              "    </tr>\n",
              "    <tr>\n",
              "      <th>mean</th>\n",
              "      <td>6.002166e+05</td>\n",
              "      <td>1.106124e+05</td>\n",
              "      <td>1.0</td>\n",
              "      <td>1.311634e+00</td>\n",
              "      <td>2.650007e+00</td>\n",
              "      <td>1.449153e+05</td>\n",
              "      <td>1.866968e+03</td>\n",
              "      <td>7.881806e+02</td>\n",
              "      <td>5.014158e+01</td>\n",
              "      <td>3.020814e+00</td>\n",
              "      <td>3.076550e+00</td>\n",
              "      <td>1.138015e+04</td>\n",
              "      <td>1.140701e+02</td>\n",
              "      <td>4.559448e+00</td>\n",
              "      <td>5.412677e+01</td>\n",
              "    </tr>\n",
              "    <tr>\n",
              "      <th>std</th>\n",
              "      <td>3.150576e+05</td>\n",
              "      <td>7.019941e+04</td>\n",
              "      <td>0.0</td>\n",
              "      <td>4.691314e-01</td>\n",
              "      <td>1.244736e+00</td>\n",
              "      <td>3.402342e+05</td>\n",
              "      <td>5.911025e+03</td>\n",
              "      <td>1.633911e+03</td>\n",
              "      <td>2.886783e+01</td>\n",
              "      <td>7.637116e-01</td>\n",
              "      <td>6.564364e-01</td>\n",
              "      <td>1.517201e+03</td>\n",
              "      <td>1.425594e+01</td>\n",
              "      <td>4.151970e+00</td>\n",
              "      <td>7.737200e+01</td>\n",
              "    </tr>\n",
              "    <tr>\n",
              "      <th>min</th>\n",
              "      <td>1.100000e+01</td>\n",
              "      <td>1.480000e+02</td>\n",
              "      <td>1.0</td>\n",
              "      <td>0.000000e+00</td>\n",
              "      <td>0.000000e+00</td>\n",
              "      <td>0.000000e+00</td>\n",
              "      <td>0.000000e+00</td>\n",
              "      <td>0.000000e+00</td>\n",
              "      <td>0.000000e+00</td>\n",
              "      <td>0.000000e+00</td>\n",
              "      <td>0.000000e+00</td>\n",
              "      <td>0.000000e+00</td>\n",
              "      <td>0.000000e+00</td>\n",
              "      <td>0.000000e+00</td>\n",
              "      <td>0.000000e+00</td>\n",
              "    </tr>\n",
              "    <tr>\n",
              "      <th>25%</th>\n",
              "      <td>3.129740e+05</td>\n",
              "      <td>2.716000e+04</td>\n",
              "      <td>1.0</td>\n",
              "      <td>1.000000e+00</td>\n",
              "      <td>2.000000e+00</td>\n",
              "      <td>1.381300e+04</td>\n",
              "      <td>7.400000e+01</td>\n",
              "      <td>5.900000e+01</td>\n",
              "      <td>2.800000e+01</td>\n",
              "      <td>3.000000e+00</td>\n",
              "      <td>3.000000e+00</td>\n",
              "      <td>1.080200e+04</td>\n",
              "      <td>1.080000e+02</td>\n",
              "      <td>3.000000e+00</td>\n",
              "      <td>7.000000e+00</td>\n",
              "    </tr>\n",
              "    <tr>\n",
              "      <th>50%</th>\n",
              "      <td>6.762620e+05</td>\n",
              "      <td>1.382080e+05</td>\n",
              "      <td>1.0</td>\n",
              "      <td>1.000000e+00</td>\n",
              "      <td>2.000000e+00</td>\n",
              "      <td>4.809500e+04</td>\n",
              "      <td>2.950000e+02</td>\n",
              "      <td>2.650000e+02</td>\n",
              "      <td>4.700000e+01</td>\n",
              "      <td>3.000000e+00</td>\n",
              "      <td>3.000000e+00</td>\n",
              "      <td>1.120100e+04</td>\n",
              "      <td>1.120000e+02</td>\n",
              "      <td>5.000000e+00</td>\n",
              "      <td>2.700000e+01</td>\n",
              "    </tr>\n",
              "    <tr>\n",
              "      <th>75%</th>\n",
              "      <td>8.860660e+05</td>\n",
              "      <td>1.662070e+05</td>\n",
              "      <td>1.0</td>\n",
              "      <td>2.000000e+00</td>\n",
              "      <td>3.000000e+00</td>\n",
              "      <td>1.375120e+05</td>\n",
              "      <td>1.036000e+03</td>\n",
              "      <td>8.520000e+02</td>\n",
              "      <td>6.700000e+01</td>\n",
              "      <td>4.000000e+00</td>\n",
              "      <td>3.000000e+00</td>\n",
              "      <td>1.210300e+04</td>\n",
              "      <td>1.210000e+02</td>\n",
              "      <td>6.000000e+00</td>\n",
              "      <td>7.200000e+01</td>\n",
              "    </tr>\n",
              "    <tr>\n",
              "      <th>max</th>\n",
              "      <td>1.000015e+06</td>\n",
              "      <td>2.273480e+05</td>\n",
              "      <td>1.0</td>\n",
              "      <td>2.000000e+00</td>\n",
              "      <td>7.000000e+00</td>\n",
              "      <td>6.824316e+06</td>\n",
              "      <td>1.516560e+05</td>\n",
              "      <td>4.567700e+04</td>\n",
              "      <td>6.000000e+02</td>\n",
              "      <td>5.000000e+00</td>\n",
              "      <td>9.000000e+00</td>\n",
              "      <td>1.410200e+04</td>\n",
              "      <td>1.410000e+02</td>\n",
              "      <td>2.550000e+02</td>\n",
              "      <td>4.446000e+03</td>\n",
              "    </tr>\n",
              "  </tbody>\n",
              "</table>\n",
              "</div>\n",
              "      <button class=\"colab-df-convert\" onclick=\"convertToInteractive('df-b51d9598-ea43-470d-be30-fddfbbfffd10')\"\n",
              "              title=\"Convert this dataframe to an interactive table.\"\n",
              "              style=\"display:none;\">\n",
              "\n",
              "  <svg xmlns=\"http://www.w3.org/2000/svg\" height=\"24px\"viewBox=\"0 0 24 24\"\n",
              "       width=\"24px\">\n",
              "    <path d=\"M0 0h24v24H0V0z\" fill=\"none\"/>\n",
              "    <path d=\"M18.56 5.44l.94 2.06.94-2.06 2.06-.94-2.06-.94-.94-2.06-.94 2.06-2.06.94zm-11 1L8.5 8.5l.94-2.06 2.06-.94-2.06-.94L8.5 2.5l-.94 2.06-2.06.94zm10 10l.94 2.06.94-2.06 2.06-.94-2.06-.94-.94-2.06-.94 2.06-2.06.94z\"/><path d=\"M17.41 7.96l-1.37-1.37c-.4-.4-.92-.59-1.43-.59-.52 0-1.04.2-1.43.59L10.3 9.45l-7.72 7.72c-.78.78-.78 2.05 0 2.83L4 21.41c.39.39.9.59 1.41.59.51 0 1.02-.2 1.41-.59l7.78-7.78 2.81-2.81c.8-.78.8-2.07 0-2.86zM5.41 20L4 18.59l7.72-7.72 1.47 1.35L5.41 20z\"/>\n",
              "  </svg>\n",
              "      </button>\n",
              "\n",
              "\n",
              "\n",
              "    <div id=\"df-2f2cbc4e-60de-4b62-b240-25dc04b53387\">\n",
              "      <button class=\"colab-df-quickchart\" onclick=\"quickchart('df-2f2cbc4e-60de-4b62-b240-25dc04b53387')\"\n",
              "              title=\"Suggest charts.\"\n",
              "              style=\"display:none;\">\n",
              "\n",
              "<svg xmlns=\"http://www.w3.org/2000/svg\" height=\"24px\"viewBox=\"0 0 24 24\"\n",
              "     width=\"24px\">\n",
              "    <g>\n",
              "        <path d=\"M19 3H5c-1.1 0-2 .9-2 2v14c0 1.1.9 2 2 2h14c1.1 0 2-.9 2-2V5c0-1.1-.9-2-2-2zM9 17H7v-7h2v7zm4 0h-2V7h2v10zm4 0h-2v-4h2v4z\"/>\n",
              "    </g>\n",
              "</svg>\n",
              "      </button>\n",
              "    </div>\n",
              "\n",
              "<style>\n",
              "  .colab-df-quickchart {\n",
              "    background-color: #E8F0FE;\n",
              "    border: none;\n",
              "    border-radius: 50%;\n",
              "    cursor: pointer;\n",
              "    display: none;\n",
              "    fill: #1967D2;\n",
              "    height: 32px;\n",
              "    padding: 0 0 0 0;\n",
              "    width: 32px;\n",
              "  }\n",
              "\n",
              "  .colab-df-quickchart:hover {\n",
              "    background-color: #E2EBFA;\n",
              "    box-shadow: 0px 1px 2px rgba(60, 64, 67, 0.3), 0px 1px 3px 1px rgba(60, 64, 67, 0.15);\n",
              "    fill: #174EA6;\n",
              "  }\n",
              "\n",
              "  [theme=dark] .colab-df-quickchart {\n",
              "    background-color: #3B4455;\n",
              "    fill: #D2E3FC;\n",
              "  }\n",
              "\n",
              "  [theme=dark] .colab-df-quickchart:hover {\n",
              "    background-color: #434B5C;\n",
              "    box-shadow: 0px 1px 3px 1px rgba(0, 0, 0, 0.15);\n",
              "    filter: drop-shadow(0px 1px 2px rgba(0, 0, 0, 0.3));\n",
              "    fill: #FFFFFF;\n",
              "  }\n",
              "</style>\n",
              "\n",
              "    <script>\n",
              "      async function quickchart(key) {\n",
              "        const containerElement = document.querySelector('#' + key);\n",
              "        const charts = await google.colab.kernel.invokeFunction(\n",
              "            'suggestCharts', [key], {});\n",
              "      }\n",
              "    </script>\n",
              "\n",
              "      <script>\n",
              "\n",
              "function displayQuickchartButton(domScope) {\n",
              "  let quickchartButtonEl =\n",
              "    domScope.querySelector('#df-2f2cbc4e-60de-4b62-b240-25dc04b53387 button.colab-df-quickchart');\n",
              "  quickchartButtonEl.style.display =\n",
              "    google.colab.kernel.accessAllowed ? 'block' : 'none';\n",
              "}\n",
              "\n",
              "        displayQuickchartButton(document);\n",
              "      </script>\n",
              "      <style>\n",
              "    .colab-df-container {\n",
              "      display:flex;\n",
              "      flex-wrap:wrap;\n",
              "      gap: 12px;\n",
              "    }\n",
              "\n",
              "    .colab-df-convert {\n",
              "      background-color: #E8F0FE;\n",
              "      border: none;\n",
              "      border-radius: 50%;\n",
              "      cursor: pointer;\n",
              "      display: none;\n",
              "      fill: #1967D2;\n",
              "      height: 32px;\n",
              "      padding: 0 0 0 0;\n",
              "      width: 32px;\n",
              "    }\n",
              "\n",
              "    .colab-df-convert:hover {\n",
              "      background-color: #E2EBFA;\n",
              "      box-shadow: 0px 1px 2px rgba(60, 64, 67, 0.3), 0px 1px 3px 1px rgba(60, 64, 67, 0.15);\n",
              "      fill: #174EA6;\n",
              "    }\n",
              "\n",
              "    [theme=dark] .colab-df-convert {\n",
              "      background-color: #3B4455;\n",
              "      fill: #D2E3FC;\n",
              "    }\n",
              "\n",
              "    [theme=dark] .colab-df-convert:hover {\n",
              "      background-color: #434B5C;\n",
              "      box-shadow: 0px 1px 3px 1px rgba(0, 0, 0, 0.15);\n",
              "      filter: drop-shadow(0px 1px 2px rgba(0, 0, 0, 0.3));\n",
              "      fill: #FFFFFF;\n",
              "    }\n",
              "  </style>\n",
              "\n",
              "      <script>\n",
              "        const buttonEl =\n",
              "          document.querySelector('#df-b51d9598-ea43-470d-be30-fddfbbfffd10 button.colab-df-convert');\n",
              "        buttonEl.style.display =\n",
              "          google.colab.kernel.accessAllowed ? 'block' : 'none';\n",
              "\n",
              "        async function convertToInteractive(key) {\n",
              "          const element = document.querySelector('#df-b51d9598-ea43-470d-be30-fddfbbfffd10');\n",
              "          const dataTable =\n",
              "            await google.colab.kernel.invokeFunction('convertToInteractive',\n",
              "                                                     [key], {});\n",
              "          if (!dataTable) return;\n",
              "\n",
              "          const docLinkHtml = 'Like what you see? Visit the ' +\n",
              "            '<a target=\"_blank\" href=https://colab.research.google.com/notebooks/data_table.ipynb>data table notebook</a>'\n",
              "            + ' to learn more about interactive tables.';\n",
              "          element.innerHTML = '';\n",
              "          dataTable['output_type'] = 'display_data';\n",
              "          await google.colab.output.renderOutput(dataTable, element);\n",
              "          const docLink = document.createElement('div');\n",
              "          docLink.innerHTML = docLinkHtml;\n",
              "          element.appendChild(docLink);\n",
              "        }\n",
              "      </script>\n",
              "    </div>\n",
              "  </div>\n"
            ]
          },
          "metadata": {},
          "execution_count": 5
        }
      ],
      "source": [
        "# Perform exploratory data analysis, statistical tests, data cleaning, normalization, etc. as described in the flow\n",
        "data.head()\n",
        "data.describe()"
      ]
    },
    {
      "cell_type": "code",
      "execution_count": null,
      "id": "6795a8d0",
      "metadata": {
        "id": "6795a8d0",
        "colab": {
          "base_uri": "https://localhost:8080/"
        },
        "outputId": "2e322da8-7a7f-499d-a68b-9c3eb622645b"
      },
      "outputs": [
        {
          "output_type": "execute_result",
          "data": {
            "text/plain": [
              "user_id            0\n",
              "item_id            0\n",
              "click              0\n",
              "gender             0\n",
              "age                0\n",
              "click_count        0\n",
              "like_count         0\n",
              "comment_count      0\n",
              "read_percentage    0\n",
              "item_score1        0\n",
              "item_score2        0\n",
              "category_second    0\n",
              "category_first     0\n",
              "item_score3        0\n",
              "read               0\n",
              "read_time          0\n",
              "share              0\n",
              "like               0\n",
              "follow             0\n",
              "favorite           0\n",
              "dtype: int64"
            ]
          },
          "metadata": {},
          "execution_count": 6
        }
      ],
      "source": [
        "# Check for missing values\n",
        "data.isna().sum()\n"
      ]
    },
    {
      "cell_type": "code",
      "execution_count": null,
      "id": "6bf08618",
      "metadata": {
        "id": "6bf08618",
        "colab": {
          "base_uri": "https://localhost:8080/"
        },
        "outputId": "d8ba40c5-d0ab-469f-a337-88af7798791d"
      },
      "outputs": [
        {
          "output_type": "execute_result",
          "data": {
            "text/plain": [
              "49128"
            ]
          },
          "metadata": {},
          "execution_count": 7
        }
      ],
      "source": [
        "#check for duplicates\n",
        "data.duplicated().sum()"
      ]
    },
    {
      "cell_type": "code",
      "execution_count": null,
      "id": "2632dea0",
      "metadata": {
        "id": "2632dea0"
      },
      "outputs": [],
      "source": [
        "\n",
        "#remove them\n",
        "data=data.drop_duplicates()"
      ]
    },
    {
      "cell_type": "code",
      "execution_count": null,
      "id": "700b9ac3",
      "metadata": {
        "id": "700b9ac3",
        "colab": {
          "base_uri": "https://localhost:8080/",
          "height": 631
        },
        "outputId": "13fe9a00-9385-4f06-abd6-7b5b834576c3"
      },
      "outputs": [
        {
          "output_type": "display_data",
          "data": {
            "text/plain": [
              "<Figure size 2000x1000 with 16 Axes>"
            ],
            "image/png": "[encoded data removed]"
          },
          "metadata": {}
        }
      ],
      "source": [
        "# Visualize the distribution of each feature using histograms\n",
        "import matplotlib.pyplot as plt\n",
        "data.hist(figsize=(20, 10))\n",
        "plt.tight_layout()\n",
        "plt.show()"
      ]
    },
    {
      "cell_type": "markdown",
      "source": [
        "# **Section 3: Surprise Library - SVD Model Implementation  the Latent Factor Model (SVD)**"
      ],
      "metadata": {
        "id": "nZLjQjAWaN0I"
      },
      "id": "nZLjQjAWaN0I"
    },
    {
      "cell_type": "markdown",
      "source": [
        "## **Latent Factor Model (SVD):**\n",
        "The paper proposes the use of a Latent Factor Model, specifically Singular Value Decomposition (SVD), to generate user embeddings from the user-item interaction data. SVD is a collaborative filtering technique that decomposes the user-item interaction matrix into three matrices: user, item, and singular value matrices. These matrices represent the latent features of users and items. By using SVD, the model learns latent representations of users based on their interactions with items. The SVD model is implemented using the Surprise library, which facilitates the training and evaluation of the recommendation model."
      ],
      "metadata": {
        "id": "dAL3DNzFNzaK"
      },
      "id": "dAL3DNzFNzaK"
    },
    {
      "cell_type": "code",
      "execution_count": null,
      "id": "e7443658",
      "metadata": {
        "id": "e7443658"
      },
      "outputs": [],
      "source": [
        "# Load the dataset for Surprise and split into train and test sets\n",
        "reader = Reader(rating_scale=(0, 1))\n",
        "surprise_data = Dataset.load_from_df(data[['user_id', 'item_id', 'click']], reader)\n",
        "trainset, testset = surprise_train_test_split(surprise_data, test_size=0.2, random_state=42)\n",
        "\n",
        "# Initialize and train the SVD model\n",
        "svd_model = SVD(n_factors=64, random_state=42)\n",
        "svd_model.fit(trainset)\n",
        "\n",
        "# Obtain user embeddings for the training data using the Latent Factor Model (SVD)\n",
        "trainset = svd_model.trainset\n",
        "user_ids_train = [trainset.to_raw_uid(user_inner_id) for user_inner_id in range(trainset.n_users)]\n",
        "user_embeddings_train = np.array([svd_model.pu[trainset.to_inner_uid(user_id)] for user_id in user_ids_train])\n",
        "\n"
      ]
    },
    {
      "cell_type": "code",
      "execution_count": null,
      "id": "ed48fce0",
      "metadata": {
        "id": "ed48fce0"
      },
      "outputs": [],
      "source": [
        "# Filter users in X_train_context based on their availability in user_embeddings_train\n",
        "filtered_user_ids_train = [user_id for user_id in data['user_id'].values if user_id in user_ids_train]\n",
        "filtered_indices = [np.where(user_ids_train == user_id)[0][0] for user_id in filtered_user_ids_train]"
      ]
    },
    {
      "cell_type": "code",
      "execution_count": null,
      "id": "e01ad914",
      "metadata": {
        "id": "e01ad914"
      },
      "outputs": [],
      "source": [
        "# Save the filtered_user_ids_train and filtered_indices as numpy arrays\n",
        "np.save('filtered_user_ids_train.npy', np.array(filtered_user_ids_train))\n",
        "np.save('filtered_indices.npy', np.array(filtered_indices))"
      ]
    },
    {
      "cell_type": "code",
      "execution_count": null,
      "id": "1f607369",
      "metadata": {
        "id": "1f607369"
      },
      "outputs": [],
      "source": [
        "# Load the saved numpy arrays\n",
        "filtered_user_ids_train = np.load('/content/drive/MyDrive/Datasets/filtered_user_ids_train.npy')\n",
        "filtered_indices = np.load('/content/drive/MyDrive/Datasets/filtered_indices.npy')\n"
      ]
    },
    {
      "cell_type": "markdown",
      "source": [
        "#**Section 4: LSTM-based Context Factor Model**"
      ],
      "metadata": {
        "id": "siSgxaYea68h"
      },
      "id": "siSgxaYea68h"
    },
    {
      "cell_type": "markdown",
      "source": [
        "## **Context Factor Model (LSTM-based RNN):**\n",
        "To incorporate user context information into the recommendation process, the paper proposes a Context Factor Model. The model is based on Long Short-Term Memory (LSTM), which is a type of Recurrent Neural Network (RNN). The Context Factor Model takes user features (e.g., age, gender) as input and utilizes LSTM to capture sequential dependencies and user context. By considering sequential user features, the model can effectively learn user preferences based on different contextual factors. The LSTM-based RNN is implemented using the Keras library."
      ],
      "metadata": {
        "id": "cyNlW7T6N_P1"
      },
      "id": "cyNlW7T6N_P1"
    },
    {
      "cell_type": "code",
      "source": [
        "# Assuming train_data contains user features (gender, age, etc.)\n",
        "X_train_context = data[['gender', 'age', 'click_count', 'like_count', 'comment_count', 'read_percentage', 'item_score1', 'item_score2', 'category_second', 'category_first', 'item_score3']].values\n",
        "\n",
        "# Get filtered X_train_context and user_embeddings_train\n",
        "X_train_context_filtered = X_train_context[filtered_indices]\n",
        "user_embeddings_train_filtered = user_embeddings_train[filtered_indices]"
      ],
      "metadata": {
        "id": "OQiE7UG40TNC"
      },
      "id": "OQiE7UG40TNC",
      "execution_count": null,
      "outputs": []
    },
    {
      "cell_type": "code",
      "execution_count": null,
      "id": "9df5cb8d",
      "metadata": {
        "id": "9df5cb8d"
      },
      "outputs": [],
      "source": [
        "# Define the Context Factor Model as an LSTM-based RNN\n",
        "context_factor_model = Sequential()\n",
        "context_factor_model.add(LSTM(64, activation='relu', input_shape=(X_train_context_filtered.shape[1], 1)))  # Input shape for LSTM\n",
        "context_factor_model.add(Dense(64))  # Output layer with the same size as user embeddings\n",
        "\n",
        "# Compile the model\n",
        "context_factor_model.compile(loss='mse', optimizer=Adam(learning_rate=0.001))\n",
        "\n",
        "# Reshape the input data for LSTM (add a time step of 1)\n",
        "X_train_context_filtered = X_train_context_filtered.reshape(X_train_context_filtered.shape[0], X_train_context_filtered.shape[1], 1)\n",
        "\n",
        "# Train the model\n",
        "context_factor_model.fit(X_train_context_filtered, user_embeddings_train_filtered, epochs=10, batch_size=128)\n",
        "\n"
      ]
    },
    {
      "cell_type": "code",
      "execution_count": null,
      "id": "414dbe03",
      "metadata": {
        "id": "414dbe03"
      },
      "outputs": [],
      "source": [
        "# Save the trained LSTM-based Context Factor Model using Keras\n",
        "context_factor_model.save('context_factor_model.h5')\n"
      ]
    },
    {
      "cell_type": "code",
      "source": [
        "# Load the saved LSTM-based Context Factor Model\n",
        "context_factor_model = load_model('/content/drive/MyDrive/Datasets/context_factor_model.h5')"
      ],
      "metadata": {
        "id": "11Nlxqfr0C8H",
        "colab": {
          "base_uri": "https://localhost:8080/"
        },
        "outputId": "a5eeb415-54ba-4bcf-bcfa-370e454564aa"
      },
      "id": "11Nlxqfr0C8H",
      "execution_count": null,
      "outputs": [
        {
          "output_type": "stream",
          "name": "stderr",
          "text": [
            "WARNING:tensorflow:Layer lstm will not use cuDNN kernels since it doesn't meet the criteria. It will use a generic GPU kernel as fallback when running on GPU.\n"
          ]
        }
      ]
    },
    {
      "cell_type": "markdown",
      "source": [
        "# **Section 5: Annoy Index for Approximate Nearest Neighbor Searc**"
      ],
      "metadata": {
        "id": "OSm5H1JHbsNN"
      },
      "id": "OSm5H1JHbsNN"
    },
    {
      "cell_type": "markdown",
      "source": [
        "## **Annoy Index for Approximate Nearest Neighbor Search:**\n",
        "The paper uses the Annoy library to build an approximate nearest neighbor search index. The Annoy index is constructed based on the user embeddings and user features obtained from the Latent Factor Model and Context Factor Model. This index allows for efficient retrieval of similar items for a given item, enabling faster and scalable recommendation generation."
      ],
      "metadata": {
        "id": "EDLFy6G-OaaV"
      },
      "id": "EDLFy6G-OaaV"
    },
    {
      "cell_type": "code",
      "source": [
        "# Reshape X_train_context_filtered to remove the singleton dimension\n",
        "X_train_context_filtered = np.squeeze(X_train_context_filtered)\n",
        "\n",
        "# Concatenate them along axis=1\n",
        "latent_cross_embeddings_train = np.concatenate((user_embeddings_train_filtered, X_train_context_filtered), axis=1)\n",
        "\n",
        "# Convert latent_cross_embeddings_train to a sparse matrix to reduce memory consumption\n",
        "latent_cross_embeddings_sparse = csr_matrix(latent_cross_embeddings_train)\n",
        "\n",
        "# Initialize Annoy index for approximate nearest neighbor search\n",
        "num_trees = 100  # Number of trees in the Annoy index (you can tune this parameter)\n",
        "annoy_index = AnnoyIndex(latent_cross_embeddings_sparse.shape[1], 'angular')\n",
        "\n",
        "# Add items to the Annoy index\n",
        "for item_idx in range(latent_cross_embeddings_sparse.shape[0]):\n",
        "    item_embedding = latent_cross_embeddings_sparse.getrow(item_idx).toarray().flatten()\n",
        "    annoy_index.add_item(item_idx, item_embedding)\n",
        "\n",
        "# Build the index\n",
        "annoy_index.build(num_trees)\n",
        "\n",
        "# Number of similar items to retrieve\n",
        "N = 10\n",
        "\n",
        "# Find the N most similar items for a given item index (replace 'item_index' with the actual item index)\n",
        "item_index = 0  # Replace 'item_index' with the actual item index for which you want to find similar items\n",
        "similar_item_indices = annoy_index.get_nns_by_item(item_index, N)\n",
        "\n",
        "# Now, 'similar_item_indices' contains the indices of the N most similar items to the given item\n",
        "\n",
        "# Retrieve the actual item IDs from the filtered_user_ids_train list\n",
        "similar_item_ids = [filtered_user_ids_train[idx] for idx in similar_item_indices]\n"
      ],
      "metadata": {
        "id": "H3TgsUxHHEyD"
      },
      "id": "H3TgsUxHHEyD",
      "execution_count": null,
      "outputs": []
    },
    {
      "cell_type": "code",
      "source": [
        "similar_item_ids"
      ],
      "metadata": {
        "colab": {
          "base_uri": "https://localhost:8080/"
        },
        "id": "-OHKJFZnNsiX",
        "outputId": "b16ff659-c078-42ba-9bbe-eb1c53296a4f"
      },
      "id": "-OHKJFZnNsiX",
      "execution_count": null,
      "outputs": [
        {
          "output_type": "execute_result",
          "data": {
            "text/plain": [
              "[516694,\n",
              " 516694,\n",
              " 516694,\n",
              " 393219,\n",
              " 393219,\n",
              " 393219,\n",
              " 160943,\n",
              " 160943,\n",
              " 160943,\n",
              " 160943]"
            ]
          },
          "metadata": {},
          "execution_count": 15
        }
      ]
    },
    {
      "cell_type": "code",
      "source": [
        "import numpy as np\n",
        "from scipy.sparse import csr_matrix\n",
        "from annoy import AnnoyIndex\n",
        "\n",
        "# Assuming you have already run the code to get 'similar_item_indices' and have 'filtered_user_ids_train' list available.\n",
        "# Replace 'similar_item_indices' and 'filtered_user_ids_train' with the actual values you obtained.\n",
        "\n",
        "# Replace 'item_index' with the actual item index for which you retrieved similar items\n",
        "item_index = 0  # Replace 'item_index' with the actual item index\n",
        "\n",
        "# Find the N most similar items for the given item index\n",
        "similar_item_indices = annoy_index.get_nns_by_item(item_index, N)\n",
        "\n",
        "# Retrieve the actual item IDs from the filtered_user_ids_train list\n",
        "similar_item_ids = [filtered_user_ids_train[idx] for idx in similar_item_indices]\n",
        "\n",
        "# Assuming you have a ground truth list of similar item IDs for the given item\n",
        "ground_truth_similar_items = [...]  # Replace [...] with the ground truth list of similar item IDs\n",
        "\n",
        "# Evaluate the performance using the retrieved similar item IDs against the ground truth data\n",
        "# For example, you can calculate precision, recall, F1-score, etc. depending on the evaluation criteria you choose.\n",
        "\n",
        "# Example evaluation metric: Precision@N\n",
        "# Calculate the number of correctly retrieved items among the top N similar items\n",
        "num_correct = len(set(similar_item_ids) & set(ground_truth_similar_items))\n",
        "\n",
        "# Calculate precision@N\n",
        "precision_at_n = num_correct / N\n",
        "\n",
        "# Print the result\n",
        "print(f\"Precision@{N}: {precision_at_n}\")\n"
      ],
      "metadata": {
        "id": "-3vJE34CNdzY"
      },
      "id": "-3vJE34CNdzY",
      "execution_count": null,
      "outputs": []
    },
    {
      "cell_type": "markdown",
      "source": [
        "# **Section 6: Evaluation of Recommendations for Cold Start Users**"
      ],
      "metadata": {
        "id": "jbkMlgS-dNYV"
      },
      "id": "jbkMlgS-dNYV"
    },
    {
      "cell_type": "markdown",
      "source": [
        " **Step 1**: Convert the testset to a DataFrame and group the testset interactions by 'user_id', aggregating the 'item_id' into lists.\n",
        "\n",
        "**Step 2:** Find cold start users by comparing testset and training set user IDs. Cold start users are those present in the testset but not in the training set.\n",
        "\n",
        "**Step 3:** Filter the testset to include only the cold start users.\n",
        "\n",
        "**Step 4:** Convert the cold start testset to the Surprise Dataset.\n",
        "\n",
        "**Step 5:** Get predictions for the cold start users using the trained SVD model.\n",
        "\n",
        "**Step 6:** Sort the predictions by predicted ratings (est) in descending order.\n",
        "\n",
        "**Step 7:** Recommend the top-N items with the highest predicted ratings to each cold start user. The value of N can be set based on the desired number of recommended items.\n",
        "\n",
        "**Step 8:** Calculate the Normalized Discounted Cumulative Gain (NDCG) for each cold start user. NDCG is a metric that assesses the quality of the recommendations by considering the relevance and ranking of the recommended items for each user.\n",
        "\n",
        "**Step 9:** Calculate the average NDCG across all cold start users. This average NDCG value provides an overall measure of the model's performance in making recommendations for cold start users.\n",
        "\n"
      ],
      "metadata": {
        "id": "or7pZSFWPRet"
      },
      "id": "or7pZSFWPRet"
    },
    {
      "cell_type": "code",
      "source": [
        "import pandas as pd\n",
        "import numpy as np\n",
        "\n",
        "# Assuming you have a DataFrame named 'testset_df' containing the testset interactions\n",
        "# with columns 'user_id', 'item_id', and 'rating'\n",
        "\n",
        "# Convert the testset to a DataFrame\n",
        "testset_df = pd.DataFrame(testset, columns=['user_id', 'item_id', 'rating'])\n",
        "\n",
        "# Group the testset interactions by 'user_id' and aggregate the 'item_id' into lists\n",
        "ground_truth_data_df = testset_df.groupby('user_id')['item_id'].agg(list).reset_index()\n",
        "\n",
        "# Load the original testset as a DataFrame\n",
        "testset_df = pd.DataFrame(testset, columns=['user_id', 'item_id', 'true_rating'])\n",
        "\n",
        "# Get the list of unique user IDs in the testset\n",
        "testset_users = testset_df['user_id'].unique()\n",
        "\n",
        "# Get the list of unique user IDs in the training set (user_ids_train)\n",
        "trainset_users = np.array([trainset.to_raw_uid(user_inner_id) for user_inner_id in range(trainset.n_users)])\n",
        "\n",
        "# Find the user IDs that are only present in the testset (cold start users)\n",
        "cold_start_users = np.setdiff1d(testset_users, trainset_users)\n",
        "\n",
        "# Filter the testset to include only the cold start users\n",
        "cold_start_testset_df = testset_df[testset_df['user_id'].isin(cold_start_users)]\n",
        "\n",
        "# Convert the cold start testset to the Surprise Dataset\n",
        "cold_start_surprise_data = Dataset.load_from_df(cold_start_testset_df[['user_id', 'item_id', 'true_rating']], reader)\n",
        "\n",
        "# Get the predictions for the cold start users\n",
        "cold_start_predictions = svd_model.test(cold_start_surprise_data.build_full_trainset().build_testset())\n",
        "\n",
        "# Step 3: Sort the predictions by predicted ratings (est)\n",
        "cold_start_predictions.sort(key=lambda x: x.est, reverse=True)\n",
        "\n",
        "# Step 4: Recommend the top-N items with the highest predicted ratings\n",
        "N = 10  # Replace 'N' with the number of items you want to recommend\n",
        "top_N_item_ids = [int(prediction.iid) for prediction in cold_start_predictions[:N]]\n",
        "\n",
        "# Create a dictionary to store the ground truth data for cold start users\n",
        "ground_truth_data_cold_start = dict(zip(ground_truth_data_df['user_id'], ground_truth_data_df['item_id']))\n",
        "\n",
        "def evaluate_recommendations(recommended_items, ground_truth_data):\n",
        "    # Initialize variables\n",
        "    precision = []\n",
        "    recall = []\n",
        "    f1 = []\n",
        "    ndcg = []\n",
        "    num_users = len(ground_truth_data)\n",
        "\n",
        "    for user_id in range(num_users):\n",
        "        # Check if the user id exists in the ground truth data\n",
        "        if user_id not in ground_truth_data:\n",
        "            continue\n",
        "        # Get the actual items rated by the user in the test set\n",
        "        actual_items = ground_truth_data[user_id]\n",
        "        # Get the recommended items for the user\n",
        "        recommended = recommended_items\n",
        "        # Compute the number of recommended items that are relevant (i.e., in the ground truth data)\n",
        "        num_relevant = len(np.intersect1d(actual_items, recommended))\n",
        "        # Compute precision, recall, and F1 score\n",
        "        if len(recommended) > 0:\n",
        "            precision.append(num_relevant / len(recommended))\n",
        "        else:\n",
        "            precision.append(0)\n",
        "\n",
        "        if len(actual_items) > 0:\n",
        "            recall.append(num_relevant / len(actual_items))\n",
        "        else:\n",
        "            recall.append(0)\n",
        "\n",
        "        if precision[-1] + recall[-1] > 0:\n",
        "            f1.append(2 * precision[-1] * recall[-1] / (precision[-1] + recall[-1]))\n",
        "        else:\n",
        "            f1.append(0)\n",
        "\n",
        "        # Compute NDCG\n",
        "        idcg = np.sum(1 / np.log2(np.arange(2, len(actual_items) + 2)))\n",
        "        dcg = np.sum([(1 / np.log2(i + 2)) if item in actual_items else 0 for i, item in enumerate(recommended)])\n",
        "        if idcg > 0:\n",
        "            ndcg.append(dcg / idcg)\n",
        "        else:\n",
        "            ndcg.append(0)\n",
        "\n",
        "    # Compute the average precision, recall, F1 score, and NDCG across all users\n",
        "    precision_avg = np.mean(precision)\n",
        "    recall_avg = np.mean(recall)\n",
        "    f1_avg = np.mean(f1)\n",
        "    ndcg_avg = np.mean(ndcg)\n",
        "\n",
        "    return precision_avg, recall_avg, f1_avg, ndcg_avg\n"
      ],
      "metadata": {
        "id": "gg14_y4pilPU"
      },
      "id": "gg14_y4pilPU",
      "execution_count": null,
      "outputs": []
    },
    {
      "cell_type": "code",
      "source": [
        "precision_avg, recall_avg, f1_avg, ndcg_avg= evaluate_recommendations(top_N_item_ids, ground_truth_data_cold_start)"
      ],
      "metadata": {
        "id": "5jA67rNNGx2G"
      },
      "id": "5jA67rNNGx2G",
      "execution_count": null,
      "outputs": []
    },
    {
      "cell_type": "code",
      "source": [
        "print(\"Average Precision: {:.4f}\".format(precision_avg))\n",
        "print(\"Average Recall: {:.4f}\".format(recall_avg))\n",
        "print(\"Average F1 Score: {:.4f}\".format(f1_avg))\n",
        "print(\"Average NDCG@{}: {:.4f}\".format(N, ndcg_avg))"
      ],
      "metadata": {
        "colab": {
          "base_uri": "https://localhost:8080/"
        },
        "id": "AxXQ8p5GxB4c",
        "outputId": "b1239a32-ef31-451c-be42-b05c5b2d40f8"
      },
      "id": "AxXQ8p5GxB4c",
      "execution_count": null,
      "outputs": [
        {
          "output_type": "stream",
          "name": "stdout",
          "text": [
            "Average Precision: 0.0005\n",
            "Average Recall: 0.0007\n",
            "Average F1 Score: 0.0006\n",
            "Average NDCG@10: 0.0007\n"
          ]
        }
      ]
    },
    {
      "cell_type": "code",
      "source": [
        "# Convert 'testset' and 'data' to DataFrames\n",
        "testset_df = pd.DataFrame(testset, columns=['user_id', 'item_id', 'rating'])\n",
        "data_df = pd.DataFrame(data, columns=['user_id', 'item_id', 'click', 'gender', 'age'])  # Assuming 'click' is the same as 'rating'\n",
        "\n",
        "# Convert 'rating' to numeric\n",
        "testset_df['rating'] = pd.to_numeric(testset_df['rating'])\n",
        "\n",
        "# Convert 'rating' to binary\n",
        "testset_df['rating'] = testset_df['rating'].map({0: 1, 1: 5})\n",
        "\n",
        "# Merge 'testset_df' and 'data_df' DataFrames on 'user_id' and 'item_id'\n",
        "merged_df = testset_df.merge(data_df[['user_id', 'item_id', 'click', 'gender', 'age']], on=['user_id', 'item_id'], how='left')\n",
        "\n",
        "# Check if 'click', 'gender', and 'age' columns exist in 'data_df' DataFrame\n",
        "required_columns = ['click', 'gender', 'age']\n",
        "missing_columns = [col for col in required_columns if col not in data_df.columns]\n",
        "if missing_columns:\n",
        "    raise KeyError(f\"Required columns {missing_columns} not found in the 'data_df' DataFrame.\")\n",
        "\n",
        "\n",
        "# Function to calculate bias metrics for each age and gender group\n",
        "def calculate_bias_metrics(testset, typeData):\n",
        "    bias_metrics = {}\n",
        "    gender_groups = testset.groupby(typeData)\n",
        "    for gender in testset[typeData].unique():\n",
        "        data = gender_groups.get_group(gender)\n",
        "        # Group the testset interactions by 'user_id' and aggregate the 'item_id' into lists\n",
        "        ground_truth_data_df = data.groupby('user_id')['item_id'].agg(list).reset_index()\n",
        "\n",
        "        # Convert the cold start testset to the Surprise Dataset\n",
        "        cold_start_surprise_data = Dataset.load_from_df(data[['user_id', 'item_id', 'click']], reader)\n",
        "\n",
        "        # Get the predictions for the cold start users\n",
        "        cold_start_predictions = svd_model.test(cold_start_surprise_data.build_full_trainset().build_testset())\n",
        "\n",
        "        # Step 3: Sort the predictions by predicted ratings (est)\n",
        "        cold_start_predictions.sort(key=lambda x: x.est, reverse=True)\n",
        "\n",
        "        # Step 4: Recommend the top-N items with the highest predicted ratings\n",
        "        N = 10  # Replace 'N' with the number of items you want to recommend\n",
        "        top_N_item_ids = [int(prediction.iid) for prediction in cold_start_predictions[:N]]\n",
        "\n",
        "        # Create a dictionary to store the ground truth data for cold start users\n",
        "        ground_truth_data_cold_start = dict(zip(ground_truth_data_df['user_id'], ground_truth_data_df['item_id']))\n",
        "\n",
        "        # Get predictions for this gender using the trained SVD model\n",
        "        cold_start_predictions = svd_model.test(cold_start_surprise_data.build_full_trainset().build_testset())\n",
        "\n",
        "        precision_avg, recall_avg, f1_avg, ndcg_avg = evaluate_recommendations(top_N_item_ids, ground_truth_data_cold_start)\n",
        "\n",
        "        bias_metrics[('all', gender)] = {\n",
        "            'Precision': precision_avg,\n",
        "            'Recall': recall_avg,\n",
        "            'ndcg': ndcg_avg,\n",
        "            'F1 Score': f1_avg\n",
        "        }\n",
        "\n",
        "        print(typeData, gender,\n",
        "              '\\n Precision: ', precision_avg,\n",
        "              'Recall: ', recall_avg,\n",
        "              'ndcg:', ndcg_avg,\n",
        "              'F1 Score: ', f1_avg)\n",
        "\n",
        "    return bias_metrics\n",
        "\n",
        "# Calculate the bias metrics for the model\n",
        "bias_metrics_model_gender = calculate_bias_metrics(merged_df, 'gender')\n",
        "bias_metrics_model_age = calculate_bias_metrics(merged_df, 'age')\n"
      ],
      "metadata": {
        "colab": {
          "base_uri": "https://localhost:8080/"
        },
        "id": "iOpeEWdLZNjN",
        "outputId": "c3f1ffc3-8a49-4d28-bc1e-3ac4dd97c1ac"
      },
      "id": "iOpeEWdLZNjN",
      "execution_count": null,
      "outputs": [
        {
          "output_type": "stream",
          "name": "stdout",
          "text": [
            "gender 1 \n",
            " Precision:  0.00014245014245014247 Recall:  7.913896802785692e-05 ndcg: 6.256792234028681e-05 F1 Score:  0.00010175010175010175\n",
            "gender 2 \n",
            " Precision:  0.0 Recall:  0.0 ndcg: 0.0 F1 Score:  0.0\n",
            "gender 0 \n",
            " Precision:  nan Recall:  nan ndcg: nan F1 Score:  nan\n"
          ]
        },
        {
          "output_type": "stream",
          "name": "stderr",
          "text": [
            "/usr/local/lib/python3.10/dist-packages/numpy/core/fromnumeric.py:3474: RuntimeWarning: Mean of empty slice.\n",
            "  return _methods._mean(a, axis=axis, dtype=dtype,\n",
            "/usr/local/lib/python3.10/dist-packages/numpy/core/_methods.py:189: RuntimeWarning: invalid value encountered in double_scalars\n",
            "  ret = ret.dtype.type(ret / rcount)\n"
          ]
        },
        {
          "output_type": "stream",
          "name": "stdout",
          "text": [
            "age 6 \n",
            " Precision:  0.0 Recall:  0.0 ndcg: 0.0 F1 Score:  0.0\n",
            "age 2 \n",
            " Precision:  0.0 Recall:  0.0 ndcg: 0.0 F1 Score:  0.0\n",
            "age 7 \n",
            " Precision:  nan Recall:  nan ndcg: nan F1 Score:  nan\n"
          ]
        },
        {
          "output_type": "stream",
          "name": "stderr",
          "text": [
            "/usr/local/lib/python3.10/dist-packages/numpy/core/fromnumeric.py:3474: RuntimeWarning: Mean of empty slice.\n",
            "  return _methods._mean(a, axis=axis, dtype=dtype,\n",
            "/usr/local/lib/python3.10/dist-packages/numpy/core/_methods.py:189: RuntimeWarning: invalid value encountered in double_scalars\n",
            "  ret = ret.dtype.type(ret / rcount)\n"
          ]
        },
        {
          "output_type": "stream",
          "name": "stdout",
          "text": [
            "age 1 \n",
            " Precision:  0.0 Recall:  0.0 ndcg: 0.0 F1 Score:  0.0\n",
            "age 3 \n",
            " Precision:  0.0 Recall:  0.0 ndcg: 0.0 F1 Score:  0.0\n",
            "age 4 \n",
            " Precision:  0.0033333333333333335 Recall:  0.003908045977011495 ndcg: 0.00645380372340862 F1 Score:  0.003076923076923077\n",
            "age 5 \n",
            " Precision:  0.0 Recall:  0.0 ndcg: 0.0 F1 Score:  0.0\n",
            "age 0 \n",
            " Precision:  nan Recall:  nan ndcg: nan F1 Score:  nan\n"
          ]
        },
        {
          "output_type": "stream",
          "name": "stderr",
          "text": [
            "/usr/local/lib/python3.10/dist-packages/numpy/core/fromnumeric.py:3474: RuntimeWarning: Mean of empty slice.\n",
            "  return _methods._mean(a, axis=axis, dtype=dtype,\n",
            "/usr/local/lib/python3.10/dist-packages/numpy/core/_methods.py:189: RuntimeWarning: invalid value encountered in double_scalars\n",
            "  ret = ret.dtype.type(ret / rcount)\n"
          ]
        }
      ]
    },
    {
      "cell_type": "markdown",
      "source": [
        "**Note :**\n",
        "NDCG is used as the evaluation metric because it takes into account the position of relevant items in the recommendation list, giving higher scores to models that place more relevant items at the top. By evaluating the recommendations for cold start users, we can assess how well the model generalizes to users with limited or no interaction history in the training data"
      ],
      "metadata": {
        "id": "BkWepxy8PsHF"
      },
      "id": "BkWepxy8PsHF"
    },
    {
      "cell_type": "code",
      "source": [],
      "metadata": {
        "id": "ZANmeChqQqza"
      },
      "id": "ZANmeChqQqza",
      "execution_count": null,
      "outputs": []
    }
  ],
  "metadata": {
    "colab": {
      "provenance": [],
      "gpuType": "T4"
    },
    "kernelspec": {
      "display_name": "Python 3",
      "name": "python3"
    },
    "language_info": {
      "codemirror_mode": {
        "name": "ipython",
        "version": 3
      },
      "file_extension": ".py",
      "mimetype": "text/x-python",
      "name": "python",
      "nbconvert_exporter": "python",
      "pygments_lexer": "ipython3",
      "version": "3.9.16"
    },
    "accelerator": "GPU"
  },
  "nbformat": 4,
  "nbformat_minor": 5
}